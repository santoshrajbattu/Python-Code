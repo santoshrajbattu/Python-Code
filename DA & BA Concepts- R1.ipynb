{
 "cells": [
  {
   "cell_type": "markdown",
   "id": "3186a345-eee5-4d80-9fa2-46a651b4da35",
   "metadata": {},
   "source": [
    "# Python First Code\n",
    "- work with number"
   ]
  },
  {
   "cell_type": "raw",
   "id": "dacef63e-2da7-4c1b-9ff6-2bfec7c2d95f",
   "metadata": {},
   "source": [
    "we use Raw for notes"
   ]
  },
  {
   "cell_type": "code",
   "execution_count": 1,
   "id": "0e24784c-b4a0-4f86-b232-f7addbf7e4dd",
   "metadata": {},
   "outputs": [
    {
     "data": {
      "text/plain": [
       "15"
      ]
     },
     "execution_count": 1,
     "metadata": {},
     "output_type": "execute_result"
    }
   ],
   "source": [
    "10+5"
   ]
  },
  {
   "cell_type": "code",
   "execution_count": 3,
   "id": "9781a127-7cdf-4011-9ac0-b9acdcf0ca87",
   "metadata": {},
   "outputs": [
    {
     "data": {
      "text/plain": [
       "5"
      ]
     },
     "execution_count": 3,
     "metadata": {},
     "output_type": "execute_result"
    }
   ],
   "source": [
    "10-5"
   ]
  },
  {
   "cell_type": "code",
   "execution_count": 4,
   "id": "ad33e25c-bad5-4b00-8e66-cb2d9d492604",
   "metadata": {},
   "outputs": [
    {
     "data": {
      "text/plain": [
       "50"
      ]
     },
     "execution_count": 4,
     "metadata": {},
     "output_type": "execute_result"
    }
   ],
   "source": [
    "10 * 5"
   ]
  },
  {
   "cell_type": "code",
   "execution_count": 5,
   "id": "031304c9-431b-4c3c-8e36-b12767b2a78a",
   "metadata": {},
   "outputs": [
    {
     "data": {
      "text/plain": [
       "2.0"
      ]
     },
     "execution_count": 5,
     "metadata": {},
     "output_type": "execute_result"
    }
   ],
   "source": [
    "10 / 5"
   ]
  },
  {
   "cell_type": "code",
   "execution_count": 6,
   "id": "5ddbb5b3-0298-4c48-8ecc-5997463b291d",
   "metadata": {},
   "outputs": [
    {
     "data": {
      "text/plain": [
       "2"
      ]
     },
     "execution_count": 6,
     "metadata": {},
     "output_type": "execute_result"
    }
   ],
   "source": [
    "10 // 5"
   ]
  },
  {
   "cell_type": "code",
   "execution_count": 7,
   "id": "55c10ae9-3359-4540-a101-a43fbe6772a9",
   "metadata": {},
   "outputs": [
    {
     "data": {
      "text/plain": [
       "14"
      ]
     },
     "execution_count": 7,
     "metadata": {},
     "output_type": "execute_result"
    }
   ],
   "source": [
    "(10 + 5) - 7 + 6"
   ]
  },
  {
   "cell_type": "code",
   "execution_count": 8,
   "id": "02766ac8-f3f3-4d1b-9e6c-88fc670e7e25",
   "metadata": {},
   "outputs": [
    {
     "data": {
      "text/plain": [
       "30"
      ]
     },
     "execution_count": 8,
     "metadata": {},
     "output_type": "execute_result"
    }
   ],
   "source": [
    "5 + (5*5)"
   ]
  },
  {
   "cell_type": "code",
   "execution_count": 9,
   "id": "6dba2318-e022-431a-bb54-8577f99382f5",
   "metadata": {},
   "outputs": [
    {
     "data": {
      "text/plain": [
       "50"
      ]
     },
     "execution_count": 9,
     "metadata": {},
     "output_type": "execute_result"
    }
   ],
   "source": [
    "(5 + 5) * 5"
   ]
  },
  {
   "cell_type": "code",
   "execution_count": 10,
   "id": "0f4e0688-7899-4587-b02c-4647acbffa1d",
   "metadata": {},
   "outputs": [
    {
     "data": {
      "text/plain": [
       "'3.12.4 | packaged by Anaconda, Inc. | (main, Jun 18 2024, 15:03:56) [MSC v.1929 64 bit (AMD64)]'"
      ]
     },
     "execution_count": 10,
     "metadata": {},
     "output_type": "execute_result"
    }
   ],
   "source": [
    "import sys\n",
    "sys.version"
   ]
  },
  {
   "cell_type": "code",
   "execution_count": 11,
   "id": "bc54af96-04c4-4a93-baec-de516373fba7",
   "metadata": {},
   "outputs": [
    {
     "data": {
      "text/plain": [
       "4"
      ]
     },
     "execution_count": 11,
     "metadata": {},
     "output_type": "execute_result"
    }
   ],
   "source": [
    "1+1\n",
    "2+1\n",
    "3+1"
   ]
  },
  {
   "cell_type": "code",
   "execution_count": 12,
   "id": "1089a1af-385d-4e77-ba47-7313091fcb8d",
   "metadata": {},
   "outputs": [
    {
     "name": "stdout",
     "output_type": "stream",
     "text": [
      "2\n",
      "3\n",
      "4\n"
     ]
    }
   ],
   "source": [
    "print(1+1)\n",
    "print(2+1)\n",
    "print(3+1)"
   ]
  },
  {
   "cell_type": "code",
   "execution_count": 13,
   "id": "1f49f1a6-933f-4376-bf4d-744976043628",
   "metadata": {},
   "outputs": [
    {
     "name": "stdout",
     "output_type": "stream",
     "text": [
      "2\n",
      "3\n"
     ]
    },
    {
     "data": {
      "text/plain": [
       "4"
      ]
     },
     "execution_count": 13,
     "metadata": {},
     "output_type": "execute_result"
    }
   ],
   "source": [
    "print(1+1)\n",
    "print(2+1)\n",
    "3+1"
   ]
  },
  {
   "cell_type": "code",
   "execution_count": 14,
   "id": "baa10381-251a-4d32-a067-73ec217d0fe1",
   "metadata": {},
   "outputs": [
    {
     "name": "stdout",
     "output_type": "stream",
     "text": [
      "30\n"
     ]
    }
   ],
   "source": [
    "a = 10\n",
    "b = 20\n",
    "c = a + b\n",
    "print(c)"
   ]
  },
  {
   "cell_type": "code",
   "execution_count": 15,
   "id": "9f10e0c6-4f29-4ebb-9d06-c410216ca437",
   "metadata": {},
   "outputs": [
    {
     "name": "stdout",
     "output_type": "stream",
     "text": [
      "10\n",
      "20\n",
      "30\n"
     ]
    }
   ],
   "source": [
    "print(a)\n",
    "print(b)\n",
    "print(c)"
   ]
  },
  {
   "cell_type": "code",
   "execution_count": 16,
   "id": "24751c8e-e09c-44e0-b950-eb5fe933dda5",
   "metadata": {},
   "outputs": [
    {
     "ename": "SyntaxError",
     "evalue": "cannot assign to literal here. Maybe you meant '==' instead of '='? (3739323269.py, line 1)",
     "output_type": "error",
     "traceback": [
      "\u001b[1;36m  Cell \u001b[1;32mIn[16], line 1\u001b[1;36m\u001b[0m\n\u001b[1;33m    100 = a\u001b[0m\n\u001b[1;37m    ^\u001b[0m\n\u001b[1;31mSyntaxError\u001b[0m\u001b[1;31m:\u001b[0m cannot assign to literal here. Maybe you meant '==' instead of '='?\n"
     ]
    }
   ],
   "source": [
    "100 = a"
   ]
  },
  {
   "cell_type": "code",
   "execution_count": 17,
   "id": "40ada601-40a2-410f-9ba4-60418b058b1a",
   "metadata": {},
   "outputs": [
    {
     "name": "stdout",
     "output_type": "stream",
     "text": [
      "10\n",
      "10 20\n",
      "python\n",
      "10 20 python\n"
     ]
    }
   ],
   "source": [
    " print(10)\n",
    "print(10,20)\n",
    "print('python')\n",
    "print(10,20, 'python')"
   ]
  },
  {
   "cell_type": "code",
   "execution_count": 18,
   "id": "74db41df-2e58-4072-9984-70e385d3b299",
   "metadata": {},
   "outputs": [
    {
     "name": "stdout",
     "output_type": "stream",
     "text": [
      "30\n",
      "30 python\n"
     ]
    }
   ],
   "source": [
    "print(10+20)\n",
    "print(10+20, 'python')"
   ]
  },
  {
   "cell_type": "code",
   "execution_count": 19,
   "id": "b07ba970-bb3d-4f37-ac0e-b044d802e245",
   "metadata": {},
   "outputs": [
    {
     "name": "stdout",
     "output_type": "stream",
     "text": [
      "the add of 20 and 30 = 50\n"
     ]
    }
   ],
   "source": [
    "num1 = 20\n",
    "num2 = 30\n",
    "\n",
    "add = num1+num2\n",
    "\n",
    "print('the add of', num1, 'and', num2, '=', add)"
   ]
  },
  {
   "cell_type": "code",
   "execution_count": 20,
   "id": "4145ecc6-d69e-4fd1-ba29-a291da8e2a83",
   "metadata": {},
   "outputs": [
    {
     "name": "stdout",
     "output_type": "stream",
     "text": [
      "the addition of 20 and 30 is 50\n"
     ]
    }
   ],
   "source": [
    "print('the addition of', num1, 'and', num2, 'is', add)"
   ]
  },
  {
   "cell_type": "code",
   "execution_count": 21,
   "id": "3f5e79f6-1bc8-4bd3-9e91-87cf5e1ac09c",
   "metadata": {},
   "outputs": [
    {
     "name": "stdout",
     "output_type": "stream",
     "text": [
      "sum of 30 and 20 is 50\n"
     ]
    }
   ],
   "source": [
    "print('sum of', num2, 'and', num1, 'is', add)"
   ]
  },
  {
   "cell_type": "markdown",
   "id": "5c46a84e-54de-4ec9-a187-e9b1e81e875a",
   "metadata": {},
   "source": [
    "# Second Class\n",
    "-22nd Oct"
   ]
  },
  {
   "cell_type": "code",
   "execution_count": 23,
   "id": "eba7b98c-5364-4ca3-9778-0567e62a00e3",
   "metadata": {},
   "outputs": [
    {
     "data": {
      "text/plain": [
       "15"
      ]
     },
     "execution_count": 23,
     "metadata": {},
     "output_type": "execute_result"
    }
   ],
   "source": [
    "NIT = 15\n",
    "NIT"
   ]
  },
  {
   "cell_type": "code",
   "execution_count": 24,
   "id": "a5b723e1-dd43-43d0-b30c-18fca9b0a7be",
   "metadata": {},
   "outputs": [
    {
     "data": {
      "text/plain": [
       "20"
      ]
     },
     "execution_count": 24,
     "metadata": {},
     "output_type": "execute_result"
    }
   ],
   "source": [
    "NIT = 20\n",
    "NIT"
   ]
  },
  {
   "cell_type": "code",
   "execution_count": 25,
   "id": "29a1a214-9c33-4ed0-9716-9e142442394d",
   "metadata": {},
   "outputs": [
    {
     "data": {
      "text/plain": [
       "15"
      ]
     },
     "execution_count": 25,
     "metadata": {},
     "output_type": "execute_result"
    }
   ],
   "source": [
    "v = 15\n",
    "v"
   ]
  },
  {
   "cell_type": "code",
   "execution_count": 26,
   "id": "7980ac65-6750-41df-979f-a77729b42a37",
   "metadata": {},
   "outputs": [
    {
     "name": "stdout",
     "output_type": "stream",
     "text": [
      "15\n",
      "20\n"
     ]
    }
   ],
   "source": [
    "print(v)\n",
    "print(NIT)"
   ]
  },
  {
   "cell_type": "code",
   "execution_count": 27,
   "id": "bf684504-502b-4a7a-a4c5-ac4cb06a978a",
   "metadata": {},
   "outputs": [
    {
     "ename": "NameError",
     "evalue": "name 'Nit' is not defined",
     "output_type": "error",
     "traceback": [
      "\u001b[1;31m---------------------------------------------------------------------------\u001b[0m",
      "\u001b[1;31mNameError\u001b[0m                                 Traceback (most recent call last)",
      "Cell \u001b[1;32mIn[27], line 1\u001b[0m\n\u001b[1;32m----> 1\u001b[0m Nit\n",
      "\u001b[1;31mNameError\u001b[0m: name 'Nit' is not defined"
     ]
    }
   ],
   "source": [
    "Nit"
   ]
  },
  {
   "cell_type": "raw",
   "id": "a8f80f13-bd75-408f-8381-15b4d60a4b70",
   "metadata": {},
   "source": [
    "Variable is case sensitive"
   ]
  },
  {
   "cell_type": "code",
   "execution_count": null,
   "id": "dceb1703-8488-4347-a98a-c7c307686017",
   "metadata": {},
   "outputs": [],
   "source": [
    "1var = 20\n",
    "1var"
   ]
  },
  {
   "cell_type": "raw",
   "id": "77d596db-f492-4864-8fef-24cbe7fad48f",
   "metadata": {},
   "source": [
    "variables never start with digit"
   ]
  },
  {
   "cell_type": "code",
   "execution_count": null,
   "id": "c94cb631-6aca-4b17-9c71-21c851f3e801",
   "metadata": {},
   "outputs": [],
   "source": [
    "var1 = 20\n",
    "var1"
   ]
  },
  {
   "cell_type": "code",
   "execution_count": null,
   "id": "f7c33c80-b087-47da-9e6e-0e5af6bc0cba",
   "metadata": {},
   "outputs": [],
   "source": [
    "var$ = 56\n",
    "var$"
   ]
  },
  {
   "cell_type": "raw",
   "id": "39d4be3d-4f65-45c0-93f6-40681956ed43",
   "metadata": {},
   "source": [
    "variable never declared with special characters"
   ]
  },
  {
   "cell_type": "code",
   "execution_count": 28,
   "id": "217e54a8-e6ef-410e-a3b8-071afd20b616",
   "metadata": {},
   "outputs": [
    {
     "ename": "SyntaxError",
     "evalue": "invalid syntax (848609038.py, line 1)",
     "output_type": "error",
     "traceback": [
      "\u001b[1;36m  Cell \u001b[1;32mIn[28], line 1\u001b[1;36m\u001b[0m\n\u001b[1;33m    variable* = 45\u001b[0m\n\u001b[1;37m              ^\u001b[0m\n\u001b[1;31mSyntaxError\u001b[0m\u001b[1;31m:\u001b[0m invalid syntax\n"
     ]
    }
   ],
   "source": [
    "variable* = 45\n",
    "variable*"
   ]
  },
  {
   "cell_type": "code",
   "execution_count": 29,
   "id": "89b2c330-b881-4e90-8ceb-f9e840d37508",
   "metadata": {},
   "outputs": [
    {
     "data": {
      "text/plain": [
       "99"
      ]
     },
     "execution_count": 29,
     "metadata": {},
     "output_type": "execute_result"
    }
   ],
   "source": [
    "var_=99\n",
    "var_"
   ]
  },
  {
   "cell_type": "raw",
   "id": "9e908aaf-a287-4abb-90c5-4ffb305b67a1",
   "metadata": {},
   "source": [
    "variable can be declared with special characters"
   ]
  },
  {
   "cell_type": "code",
   "execution_count": 30,
   "id": "4484d6c1-1767-4491-a8c1-854704a64c1e",
   "metadata": {},
   "outputs": [
    {
     "name": "stdout",
     "output_type": "stream",
     "text": [
      "80\n",
      "20\n"
     ]
    }
   ],
   "source": [
    "x_train, x_test = 80, 20\n",
    "print(x_train)\n",
    "print(x_test)"
   ]
  },
  {
   "cell_type": "code",
   "execution_count": 31,
   "id": "e1cde2c7-9623-48d2-8391-73a0910ff5a8",
   "metadata": {},
   "outputs": [
    {
     "name": "stdout",
     "output_type": "stream",
     "text": [
      "10\n",
      "20\n",
      "30\n",
      "40\n"
     ]
    }
   ],
   "source": [
    "a, b, c, d = 10, 20, 30, 40\n",
    "print(a)\n",
    "print(b)\n",
    "print(c)\n",
    "print(d)"
   ]
  },
  {
   "cell_type": "code",
   "execution_count": 32,
   "id": "a97fa330-ffa0-436f-8669-94146a985c8a",
   "metadata": {},
   "outputs": [
    {
     "data": {
      "text/plain": [
       "75"
      ]
     },
     "execution_count": 32,
     "metadata": {},
     "output_type": "execute_result"
    }
   ],
   "source": [
    "aaaaaaaaaaaaaaaaaaaaaaaaaaaaaaaaaaaaaaaaaaaaaaaaa = 75\n",
    "aaaaaaaaaaaaaaaaaaaaaaaaaaaaaaaaaaaaaaaaaaaaaaaaa"
   ]
  },
  {
   "cell_type": "raw",
   "id": "8c833a99-3b45-4eda-b33e-a1644d199425",
   "metadata": {},
   "source": [
    "variable has no length limit"
   ]
  },
  {
   "cell_type": "code",
   "execution_count": 33,
   "id": "2c96bea8-76d4-4c4a-a168-5f04e69b21f0",
   "metadata": {},
   "outputs": [
    {
     "data": {
      "text/plain": [
       "10"
      ]
     },
     "execution_count": 33,
     "metadata": {},
     "output_type": "execute_result"
    }
   ],
   "source": [
    "_char = 10\n",
    "_char"
   ]
  },
  {
   "cell_type": "code",
   "execution_count": 34,
   "id": "1b2a01ec-4413-4ae7-ad8a-6eabbb7ecb2f",
   "metadata": {},
   "outputs": [
    {
     "data": {
      "text/plain": [
       "999"
      ]
     },
     "execution_count": 34,
     "metadata": {},
     "output_type": "execute_result"
    }
   ],
   "source": [
    "_san = 999\n",
    "_san"
   ]
  },
  {
   "cell_type": "markdown",
   "id": "a3fbbfa9-8a31-4219-b7b4-911341baccb4",
   "metadata": {},
   "source": [
    "# Python Data Types\n",
    "- Integer - value without decimal\n",
    "- Float - value with decimal\n",
    "- Bool (True/False)\n",
    "- String - single/double quotes ('nit' / ''nit'')\n",
    "- Complex - (a+bj)"
   ]
  },
  {
   "cell_type": "code",
   "execution_count": 36,
   "id": "5999bc37-ac37-49bd-93f4-70962302f841",
   "metadata": {},
   "outputs": [
    {
     "data": {
      "text/plain": [
       "25"
      ]
     },
     "execution_count": 36,
     "metadata": {},
     "output_type": "execute_result"
    }
   ],
   "source": [
    "i =25\n",
    "i"
   ]
  },
  {
   "cell_type": "code",
   "execution_count": 37,
   "id": "ea86b336-d602-4065-8fe0-a7c43abf0211",
   "metadata": {},
   "outputs": [
    {
     "data": {
      "text/plain": [
       "int"
      ]
     },
     "execution_count": 37,
     "metadata": {},
     "output_type": "execute_result"
    }
   ],
   "source": [
    "type(i)"
   ]
  },
  {
   "cell_type": "code",
   "execution_count": 38,
   "id": "a4c0c4b0-9695-468b-b3ae-a8eb9b162295",
   "metadata": {},
   "outputs": [
    {
     "name": "stdout",
     "output_type": "stream",
     "text": [
      "<class 'int'>\n"
     ]
    }
   ],
   "source": [
    "print(type(i))"
   ]
  },
  {
   "cell_type": "markdown",
   "id": "d62a2f5b-cf19-44ea-ae45-7d08778af69b",
   "metadata": {},
   "source": [
    "# Third Class"
   ]
  },
  {
   "cell_type": "code",
   "execution_count": 40,
   "id": "43df8409-871f-40ef-bef4-0ae7a1c980bc",
   "metadata": {},
   "outputs": [
    {
     "data": {
      "text/plain": [
       "30"
      ]
     },
     "execution_count": 40,
     "metadata": {},
     "output_type": "execute_result"
    }
   ],
   "source": [
    "i = 30\n",
    "i"
   ]
  },
  {
   "cell_type": "code",
   "execution_count": 41,
   "id": "c36e73df-c632-44d1-a726-22630a3cc382",
   "metadata": {},
   "outputs": [
    {
     "data": {
      "text/plain": [
       "int"
      ]
     },
     "execution_count": 41,
     "metadata": {},
     "output_type": "execute_result"
    }
   ],
   "source": [
    "type(i)"
   ]
  },
  {
   "cell_type": "code",
   "execution_count": 42,
   "id": "33a0b94f-cd75-482a-bfb9-ecfb817211d1",
   "metadata": {},
   "outputs": [
    {
     "name": "stdout",
     "output_type": "stream",
     "text": [
      "<class 'int'>\n"
     ]
    }
   ],
   "source": [
    "print(type(i))"
   ]
  },
  {
   "cell_type": "code",
   "execution_count": 43,
   "id": "500496e7-914e-4a78-bd82-3e63c6ff2bd1",
   "metadata": {},
   "outputs": [
    {
     "name": "stdout",
     "output_type": "stream",
     "text": [
      "10\n",
      "20\n",
      "30\n"
     ]
    }
   ],
   "source": [
    "a,b,c = 10, 20, 30\n",
    "print(a)\n",
    "print(b)\n",
    "print(c)"
   ]
  },
  {
   "cell_type": "code",
   "execution_count": 44,
   "id": "dcfde2b1-d6d9-4457-99f6-f962d45106a4",
   "metadata": {},
   "outputs": [],
   "source": [
    "i1, i2 = 20, 30"
   ]
  },
  {
   "cell_type": "code",
   "execution_count": 45,
   "id": "c161a124-c71e-4bf8-ad17-cc508034bb94",
   "metadata": {},
   "outputs": [
    {
     "data": {
      "text/plain": [
       "80"
      ]
     },
     "execution_count": 45,
     "metadata": {},
     "output_type": "execute_result"
    }
   ],
   "source": [
    "i + i1 + i2"
   ]
  },
  {
   "cell_type": "code",
   "execution_count": 46,
   "id": "a7659c95-b5a4-408a-87a5-1971ffe238d5",
   "metadata": {},
   "outputs": [
    {
     "data": {
      "text/plain": [
       "20"
      ]
     },
     "execution_count": 46,
     "metadata": {},
     "output_type": "execute_result"
    }
   ],
   "source": [
    "i - i2 + i1"
   ]
  },
  {
   "cell_type": "code",
   "execution_count": 47,
   "id": "8537a5a4-0c72-481d-976d-fb6554053482",
   "metadata": {},
   "outputs": [
    {
     "data": {
      "text/plain": [
       "-20"
      ]
     },
     "execution_count": 47,
     "metadata": {},
     "output_type": "execute_result"
    }
   ],
   "source": [
    "i-(i2+i1)"
   ]
  },
  {
   "cell_type": "code",
   "execution_count": 48,
   "id": "0eae193b-1ea1-473b-acbf-3f8df57e2ece",
   "metadata": {},
   "outputs": [
    {
     "data": {
      "text/plain": [
       "110.23"
      ]
     },
     "execution_count": 48,
     "metadata": {},
     "output_type": "execute_result"
    }
   ],
   "source": [
    "f = 110.23\n",
    "f"
   ]
  },
  {
   "cell_type": "code",
   "execution_count": 52,
   "id": "2a019460-502d-4464-8581-c3d06d9abeb7",
   "metadata": {},
   "outputs": [
    {
     "data": {
      "text/plain": [
       "float"
      ]
     },
     "execution_count": 52,
     "metadata": {},
     "output_type": "execute_result"
    }
   ],
   "source": [
    "type(f)"
   ]
  },
  {
   "cell_type": "code",
   "execution_count": 54,
   "id": "e5e49e8c-eb78-466a-a4ef-125bfaab0a40",
   "metadata": {},
   "outputs": [],
   "source": [
    "f1 , f2, f3 = 2.3, 3.4, 5.1"
   ]
  },
  {
   "cell_type": "code",
   "execution_count": 57,
   "id": "01dfaee2-5d8d-417e-8696-c4af94f9717a",
   "metadata": {},
   "outputs": [
    {
     "name": "stdout",
     "output_type": "stream",
     "text": [
      "110.23\n",
      "2.3\n",
      "3.4\n",
      "5.1\n"
     ]
    }
   ],
   "source": [
    "print(f)\n",
    "print(f1)\n",
    "print(f2)\n",
    "print(f3)"
   ]
  },
  {
   "cell_type": "code",
   "execution_count": 59,
   "id": "f263a32d-07e3-46a8-a8c3-40f16512c5e7",
   "metadata": {},
   "outputs": [
    {
     "data": {
      "text/plain": [
       "1.0"
      ]
     },
     "execution_count": 59,
     "metadata": {},
     "output_type": "execute_result"
    }
   ],
   "source": [
    "f1 = 1e0\n",
    "f1"
   ]
  },
  {
   "cell_type": "code",
   "execution_count": 63,
   "id": "ca2fa55f-52b0-4a8b-b8cd-59ad74778078",
   "metadata": {},
   "outputs": [
    {
     "data": {
      "text/plain": [
       "10.0"
      ]
     },
     "execution_count": 63,
     "metadata": {},
     "output_type": "execute_result"
    }
   ],
   "source": [
    "f2 = 1e1\n",
    "f2"
   ]
  },
  {
   "cell_type": "code",
   "execution_count": 64,
   "id": "e02fb185-5b48-4f50-a8aa-a8a3eda09565",
   "metadata": {},
   "outputs": [
    {
     "data": {
      "text/plain": [
       "100.0"
      ]
     },
     "execution_count": 64,
     "metadata": {},
     "output_type": "execute_result"
    }
   ],
   "source": [
    "f3 = 1e2\n",
    "f3"
   ]
  },
  {
   "cell_type": "code",
   "execution_count": 68,
   "id": "f5a01cf9-a0d0-4ca2-b10f-640b9e277e2b",
   "metadata": {},
   "outputs": [
    {
     "data": {
      "text/plain": [
       "1000.0"
      ]
     },
     "execution_count": 68,
     "metadata": {},
     "output_type": "execute_result"
    }
   ],
   "source": [
    "f4 = 1e3\n",
    "f4"
   ]
  },
  {
   "cell_type": "code",
   "execution_count": 70,
   "id": "a4592b57-b3f9-4c55-8456-6111abf12c2a",
   "metadata": {},
   "outputs": [
    {
     "data": {
      "text/plain": [
       "240.0"
      ]
     },
     "execution_count": 70,
     "metadata": {},
     "output_type": "execute_result"
    }
   ],
   "source": [
    "f5 = 2.4e2\n",
    "f5"
   ]
  },
  {
   "cell_type": "code",
   "execution_count": 73,
   "id": "86eef858-b63f-4224-bd5e-5e251f4422ea",
   "metadata": {},
   "outputs": [],
   "source": [
    "# Bool or Boolean"
   ]
  },
  {
   "cell_type": "code",
   "execution_count": 76,
   "id": "c597493f-91ef-40fa-abe3-e6691a3b259f",
   "metadata": {},
   "outputs": [
    {
     "data": {
      "text/plain": [
       "True"
      ]
     },
     "execution_count": 76,
     "metadata": {},
     "output_type": "execute_result"
    }
   ],
   "source": [
    "b = True\n",
    "b"
   ]
  },
  {
   "cell_type": "code",
   "execution_count": 79,
   "id": "29e1bbf7-b8a8-4b10-9101-d6f64e331576",
   "metadata": {},
   "outputs": [
    {
     "data": {
      "text/plain": [
       "False"
      ]
     },
     "execution_count": 79,
     "metadata": {},
     "output_type": "execute_result"
    }
   ],
   "source": [
    "b1 = False\n",
    "b1"
   ]
  },
  {
   "cell_type": "code",
   "execution_count": 83,
   "id": "3771e325-c841-4886-b282-b770534bdb91",
   "metadata": {},
   "outputs": [
    {
     "name": "stdout",
     "output_type": "stream",
     "text": [
      "True\n",
      "False\n"
     ]
    }
   ],
   "source": [
    "print(b)\n",
    "print(b1)"
   ]
  },
  {
   "cell_type": "code",
   "execution_count": 90,
   "id": "30c4fe35-7557-459f-b6db-ed29d28a2867",
   "metadata": {},
   "outputs": [
    {
     "data": {
      "text/plain": [
       "1"
      ]
     },
     "execution_count": 90,
     "metadata": {},
     "output_type": "execute_result"
    }
   ],
   "source": [
    "True + False "
   ]
  },
  {
   "cell_type": "code",
   "execution_count": 92,
   "id": "f9c0df3d-e159-4e86-a22e-37af43fb36be",
   "metadata": {},
   "outputs": [
    {
     "data": {
      "text/plain": [
       "1"
      ]
     },
     "execution_count": 92,
     "metadata": {},
     "output_type": "execute_result"
    }
   ],
   "source": [
    "True - False"
   ]
  },
  {
   "cell_type": "code",
   "execution_count": 97,
   "id": "44876e8b-5970-4588-bcd3-fa46479052b8",
   "metadata": {},
   "outputs": [
    {
     "data": {
      "text/plain": [
       "-1"
      ]
     },
     "execution_count": 97,
     "metadata": {},
     "output_type": "execute_result"
    }
   ],
   "source": [
    "False - True"
   ]
  },
  {
   "cell_type": "code",
   "execution_count": 101,
   "id": "875762de-2560-4bfc-bf60-8f5e09156997",
   "metadata": {},
   "outputs": [
    {
     "data": {
      "text/plain": [
       "2"
      ]
     },
     "execution_count": 101,
     "metadata": {},
     "output_type": "execute_result"
    }
   ],
   "source": [
    "True + True + True + False - True"
   ]
  },
  {
   "cell_type": "code",
   "execution_count": 102,
   "id": "93a7feb8-2b4f-4f32-96eb-419cf8de1239",
   "metadata": {},
   "outputs": [
    {
     "data": {
      "text/plain": [
       "0"
      ]
     },
     "execution_count": 102,
     "metadata": {},
     "output_type": "execute_result"
    }
   ],
   "source": [
    "False * True"
   ]
  },
  {
   "cell_type": "code",
   "execution_count": 108,
   "id": "4ab2bb42-a0a6-440f-97ea-f9d1b63f01c8",
   "metadata": {},
   "outputs": [
    {
     "data": {
      "text/plain": [
       "1"
      ]
     },
     "execution_count": 108,
     "metadata": {},
     "output_type": "execute_result"
    }
   ],
   "source": [
    "True * True"
   ]
  },
  {
   "cell_type": "code",
   "execution_count": 109,
   "id": "71df2861-931c-488c-83fc-56fb4288b3de",
   "metadata": {},
   "outputs": [
    {
     "data": {
      "text/plain": [
       "0.0"
      ]
     },
     "execution_count": 109,
     "metadata": {},
     "output_type": "execute_result"
    }
   ],
   "source": [
    "False / True"
   ]
  },
  {
   "cell_type": "code",
   "execution_count": 114,
   "id": "a792d08c-c12e-4521-9d41-20b6c2969881",
   "metadata": {},
   "outputs": [
    {
     "data": {
      "text/plain": [
       "0"
      ]
     },
     "execution_count": 114,
     "metadata": {},
     "output_type": "execute_result"
    }
   ],
   "source": [
    "False // True"
   ]
  },
  {
   "cell_type": "code",
   "execution_count": 115,
   "id": "ae34a60d-6fc9-4069-adcd-1ba2daa10b78",
   "metadata": {},
   "outputs": [
    {
     "ename": "ZeroDivisionError",
     "evalue": "division by zero",
     "output_type": "error",
     "traceback": [
      "\u001b[1;31m---------------------------------------------------------------------------\u001b[0m",
      "\u001b[1;31mZeroDivisionError\u001b[0m                         Traceback (most recent call last)",
      "Cell \u001b[1;32mIn[115], line 1\u001b[0m\n\u001b[1;32m----> 1\u001b[0m \u001b[38;5;28;01mTrue\u001b[39;00m \u001b[38;5;241m/\u001b[39m \u001b[38;5;28;01mFalse\u001b[39;00m\n",
      "\u001b[1;31mZeroDivisionError\u001b[0m: division by zero"
     ]
    }
   ],
   "source": [
    "True / False  \n",
    "# zero division error\n",
    "# Python does not unnderstand infinity"
   ]
  },
  {
   "cell_type": "code",
   "execution_count": 117,
   "id": "517fbdb5-d07e-497a-ad73-c870e3dde74a",
   "metadata": {},
   "outputs": [],
   "source": [
    "# Complex Data Types\n",
    "# a + bj"
   ]
  },
  {
   "cell_type": "code",
   "execution_count": 121,
   "id": "7ee6b669-7dbc-4b9a-8a45-d7f2416c50ee",
   "metadata": {},
   "outputs": [
    {
     "data": {
      "text/plain": [
       "(1+20j)"
      ]
     },
     "execution_count": 121,
     "metadata": {},
     "output_type": "execute_result"
    }
   ],
   "source": [
    "c = 1 + 20j\n",
    "c"
   ]
  },
  {
   "cell_type": "code",
   "execution_count": 122,
   "id": "a374a22a-6ef9-408d-95e8-f18944a5ee65",
   "metadata": {},
   "outputs": [
    {
     "data": {
      "text/plain": [
       "complex"
      ]
     },
     "execution_count": 122,
     "metadata": {},
     "output_type": "execute_result"
    }
   ],
   "source": [
    "type(c)"
   ]
  },
  {
   "cell_type": "code",
   "execution_count": 125,
   "id": "49a67263-2a2d-4bd3-822a-7463d6f83536",
   "metadata": {},
   "outputs": [
    {
     "name": "stdout",
     "output_type": "stream",
     "text": [
      "<class 'complex'>\n"
     ]
    }
   ],
   "source": [
    "print(type(c))"
   ]
  },
  {
   "cell_type": "code",
   "execution_count": 126,
   "id": "3c395ce6-ece9-4b4f-a53c-7ee9c6632d4d",
   "metadata": {},
   "outputs": [
    {
     "data": {
      "text/plain": [
       "['False',\n",
       " 'None',\n",
       " 'True',\n",
       " 'and',\n",
       " 'as',\n",
       " 'assert',\n",
       " 'async',\n",
       " 'await',\n",
       " 'break',\n",
       " 'class',\n",
       " 'continue',\n",
       " 'def',\n",
       " 'del',\n",
       " 'elif',\n",
       " 'else',\n",
       " 'except',\n",
       " 'finally',\n",
       " 'for',\n",
       " 'from',\n",
       " 'global',\n",
       " 'if',\n",
       " 'import',\n",
       " 'in',\n",
       " 'is',\n",
       " 'lambda',\n",
       " 'nonlocal',\n",
       " 'not',\n",
       " 'or',\n",
       " 'pass',\n",
       " 'raise',\n",
       " 'return',\n",
       " 'try',\n",
       " 'while',\n",
       " 'with',\n",
       " 'yield']"
      ]
     },
     "execution_count": 126,
     "metadata": {},
     "output_type": "execute_result"
    }
   ],
   "source": [
    "import keyword\n",
    "keyword.kwlist"
   ]
  },
  {
   "cell_type": "code",
   "execution_count": 128,
   "id": "cebb8613-ede1-4413-98f3-8ec5426aab91",
   "metadata": {},
   "outputs": [
    {
     "ename": "SyntaxError",
     "evalue": "invalid syntax (3687717064.py, line 1)",
     "output_type": "error",
     "traceback": [
      "\u001b[1;36m  Cell \u001b[1;32mIn[128], line 1\u001b[1;36m\u001b[0m\n\u001b[1;33m    if = 45\u001b[0m\n\u001b[1;37m       ^\u001b[0m\n\u001b[1;31mSyntaxError\u001b[0m\u001b[1;31m:\u001b[0m invalid syntax\n"
     ]
    }
   ],
   "source": [
    "if = 45\n",
    "if\n",
    "\n",
    "#keyword cannot be an identifier"
   ]
  },
  {
   "cell_type": "code",
   "execution_count": 130,
   "id": "12ec44a8-3737-4aa8-9c90-97db14d5fa18",
   "metadata": {},
   "outputs": [
    {
     "data": {
      "text/plain": [
       "20.0"
      ]
     },
     "execution_count": 130,
     "metadata": {},
     "output_type": "execute_result"
    }
   ],
   "source": [
    "c.imag"
   ]
  },
  {
   "cell_type": "code",
   "execution_count": 133,
   "id": "7604ee6c-49cc-4885-a4b1-0f06d0b9ea60",
   "metadata": {},
   "outputs": [
    {
     "data": {
      "text/plain": [
       "(40+60j)"
      ]
     },
     "execution_count": 133,
     "metadata": {},
     "output_type": "execute_result"
    }
   ],
   "source": [
    "c1 = 10 + 20j\n",
    "c2 = 30 + 40j\n",
    "c1+c2"
   ]
  },
  {
   "cell_type": "code",
   "execution_count": 135,
   "id": "fac81685-22cb-4ce1-8879-6bee62053893",
   "metadata": {},
   "outputs": [
    {
     "data": {
      "text/plain": [
       "(-20-20j)"
      ]
     },
     "execution_count": 135,
     "metadata": {},
     "output_type": "execute_result"
    }
   ],
   "source": [
    "c1-c2"
   ]
  },
  {
   "cell_type": "markdown",
   "id": "04968d72-1ed1-4320-9912-48087a7ae8b2",
   "metadata": {},
   "source": [
    "# Fourth Class"
   ]
  },
  {
   "cell_type": "code",
   "execution_count": 138,
   "id": "5879aa1a-7f46-4971-96ee-98a34d34091a",
   "metadata": {},
   "outputs": [
    {
     "data": {
      "text/plain": [
       "'nit'"
      ]
     },
     "execution_count": 138,
     "metadata": {},
     "output_type": "execute_result"
    }
   ],
   "source": [
    "s = 'nit'\n",
    "s"
   ]
  },
  {
   "cell_type": "code",
   "execution_count": 141,
   "id": "ed85c2a2-30b5-4dc2-8c43-d1bdb1a185c9",
   "metadata": {},
   "outputs": [
    {
     "data": {
      "text/plain": [
       "str"
      ]
     },
     "execution_count": 141,
     "metadata": {},
     "output_type": "execute_result"
    }
   ],
   "source": [
    "type(s)"
   ]
  },
  {
   "cell_type": "code",
   "execution_count": 143,
   "id": "729388cf-641e-4ab4-b69d-eef3f6b3e080",
   "metadata": {},
   "outputs": [
    {
     "name": "stdout",
     "output_type": "stream",
     "text": [
      "<class 'str'>\n"
     ]
    }
   ],
   "source": [
    "print(type(s))"
   ]
  },
  {
   "cell_type": "code",
   "execution_count": 146,
   "id": "b66ae87b-35cf-43dc-8147-6662734aa0fb",
   "metadata": {},
   "outputs": [
    {
     "data": {
      "text/plain": [
       "'hello python'"
      ]
     },
     "execution_count": 146,
     "metadata": {},
     "output_type": "execute_result"
    }
   ],
   "source": [
    "s1 = \"hello python\"\n",
    "s1"
   ]
  },
  {
   "cell_type": "code",
   "execution_count": 147,
   "id": "be0a99d4-8fdc-41e8-b24e-ae28493a0f60",
   "metadata": {},
   "outputs": [
    {
     "data": {
      "text/plain": [
       "'nit\\n    hello python'"
      ]
     },
     "execution_count": 147,
     "metadata": {},
     "output_type": "execute_result"
    }
   ],
   "source": [
    "s2 = '''nit\n",
    "    hello python'''\n",
    "s2"
   ]
  },
  {
   "cell_type": "code",
   "execution_count": 148,
   "id": "a09f4960-6bfb-4272-8d48-0fdd9b20c90b",
   "metadata": {},
   "outputs": [
    {
     "data": {
      "text/plain": [
       "'o'"
      ]
     },
     "execution_count": 148,
     "metadata": {},
     "output_type": "execute_result"
    }
   ],
   "source": [
    "s1[4]"
   ]
  },
  {
   "cell_type": "code",
   "execution_count": 152,
   "id": "cec847b2-ea43-4357-b96f-897ae019f210",
   "metadata": {},
   "outputs": [
    {
     "data": {
      "text/plain": [
       "'t'"
      ]
     },
     "execution_count": 152,
     "metadata": {},
     "output_type": "execute_result"
    }
   ],
   "source": [
    "s1[-4]"
   ]
  },
  {
   "cell_type": "code",
   "execution_count": 154,
   "id": "6d5a368e-4d62-40e9-a86e-4bebd303e87d",
   "metadata": {},
   "outputs": [
    {
     "data": {
      "text/plain": [
       "'h'"
      ]
     },
     "execution_count": 154,
     "metadata": {},
     "output_type": "execute_result"
    }
   ],
   "source": [
    "s1[0]"
   ]
  },
  {
   "cell_type": "code",
   "execution_count": 155,
   "id": "58c36d74-3774-4c18-a074-9bce3c3a0ea8",
   "metadata": {},
   "outputs": [
    {
     "data": {
      "text/plain": [
       "' '"
      ]
     },
     "execution_count": 155,
     "metadata": {},
     "output_type": "execute_result"
    }
   ],
   "source": [
    "s1[5]"
   ]
  },
  {
   "cell_type": "code",
   "execution_count": 158,
   "id": "4c35c628-7bb9-400b-9171-dba6ee224162",
   "metadata": {},
   "outputs": [
    {
     "data": {
      "text/plain": [
       "' '"
      ]
     },
     "execution_count": 158,
     "metadata": {},
     "output_type": "execute_result"
    }
   ],
   "source": [
    "s1[-7]"
   ]
  },
  {
   "cell_type": "code",
   "execution_count": 162,
   "id": "b18d53f0-23d4-4813-8ce3-fe78ccaae4f2",
   "metadata": {},
   "outputs": [
    {
     "data": {
      "text/plain": [
       "'nit'"
      ]
     },
     "execution_count": 162,
     "metadata": {},
     "output_type": "execute_result"
    }
   ],
   "source": [
    "s"
   ]
  },
  {
   "cell_type": "code",
   "execution_count": 164,
   "id": "b35087e9-cccf-4e3e-afe5-b677e39f04e5",
   "metadata": {},
   "outputs": [
    {
     "name": "stdout",
     "output_type": "stream",
     "text": [
      "n\n",
      "i\n",
      "t\n"
     ]
    }
   ],
   "source": [
    "print(s[0])\n",
    "print(s[1])\n",
    "print(s[2])"
   ]
  },
  {
   "cell_type": "code",
   "execution_count": 165,
   "id": "03100e2e-8c37-4c55-93e3-46db2812dd93",
   "metadata": {},
   "outputs": [
    {
     "data": {
      "text/plain": [
       "'hello python'"
      ]
     },
     "execution_count": 165,
     "metadata": {},
     "output_type": "execute_result"
    }
   ],
   "source": [
    "s1"
   ]
  },
  {
   "cell_type": "code",
   "execution_count": 168,
   "id": "458db3d5-9f79-4eba-a27d-5c9ce382233f",
   "metadata": {},
   "outputs": [
    {
     "data": {
      "text/plain": [
       "'hello python'"
      ]
     },
     "execution_count": 168,
     "metadata": {},
     "output_type": "execute_result"
    }
   ],
   "source": [
    "s1[:]"
   ]
  },
  {
   "cell_type": "code",
   "execution_count": 171,
   "id": "63e40896-f7a3-496f-b033-bf3f6bb1d13d",
   "metadata": {},
   "outputs": [
    {
     "data": {
      "text/plain": [
       "'nit\\n    hello python'"
      ]
     },
     "execution_count": 171,
     "metadata": {},
     "output_type": "execute_result"
    }
   ],
   "source": [
    "s2"
   ]
  },
  {
   "cell_type": "code",
   "execution_count": 173,
   "id": "8f37bc0b-21c3-4a8e-88b7-441f5a9006f2",
   "metadata": {},
   "outputs": [
    {
     "data": {
      "text/plain": [
       "'Dataanalyst'"
      ]
     },
     "execution_count": 173,
     "metadata": {},
     "output_type": "execute_result"
    }
   ],
   "source": [
    "s3 = 'Dataanalyst'\n",
    "s3"
   ]
  },
  {
   "cell_type": "code",
   "execution_count": 175,
   "id": "57d59bdc-1880-4d36-b009-9d804828bdb8",
   "metadata": {},
   "outputs": [
    {
     "data": {
      "text/plain": [
       "'Dataanalyst'"
      ]
     },
     "execution_count": 175,
     "metadata": {},
     "output_type": "execute_result"
    }
   ],
   "source": [
    "s3[0:11]"
   ]
  },
  {
   "cell_type": "code",
   "execution_count": 177,
   "id": "93b671a4-4270-4200-983f-0242a647f5fa",
   "metadata": {},
   "outputs": [
    {
     "data": {
      "text/plain": [
       "'Dataanalyst'"
      ]
     },
     "execution_count": 177,
     "metadata": {},
     "output_type": "execute_result"
    }
   ],
   "source": [
    "s3[0:12]"
   ]
  },
  {
   "cell_type": "code",
   "execution_count": 180,
   "id": "6e3476a5-a21b-4905-b036-0e4667588d27",
   "metadata": {},
   "outputs": [
    {
     "data": {
      "text/plain": [
       "'Dataanalyst'"
      ]
     },
     "execution_count": 180,
     "metadata": {},
     "output_type": "execute_result"
    }
   ],
   "source": [
    "s3[0:13]"
   ]
  },
  {
   "cell_type": "code",
   "execution_count": 181,
   "id": "19b6c8ce-fb9e-4e75-afec-477735e5169a",
   "metadata": {},
   "outputs": [
    {
     "ename": "IndexError",
     "evalue": "string index out of range",
     "output_type": "error",
     "traceback": [
      "\u001b[1;31m---------------------------------------------------------------------------\u001b[0m",
      "\u001b[1;31mIndexError\u001b[0m                                Traceback (most recent call last)",
      "Cell \u001b[1;32mIn[181], line 1\u001b[0m\n\u001b[1;32m----> 1\u001b[0m s3[\u001b[38;5;241m12\u001b[39m]\n",
      "\u001b[1;31mIndexError\u001b[0m: string index out of range"
     ]
    }
   ],
   "source": [
    "s3[12]"
   ]
  },
  {
   "cell_type": "code",
   "execution_count": 185,
   "id": "784a12bf-86cd-481c-b34f-f22e1ac735a8",
   "metadata": {},
   "outputs": [
    {
     "data": {
      "text/plain": [
       "'st'"
      ]
     },
     "execution_count": 185,
     "metadata": {},
     "output_type": "execute_result"
    }
   ],
   "source": [
    "s3[9:12]"
   ]
  },
  {
   "cell_type": "code",
   "execution_count": 187,
   "id": "7f272025-402e-476b-af5b-bd5da52e588b",
   "metadata": {},
   "outputs": [
    {
     "data": {
      "text/plain": [
       "'taanaly'"
      ]
     },
     "execution_count": 187,
     "metadata": {},
     "output_type": "execute_result"
    }
   ],
   "source": [
    "s3[2:-2]"
   ]
  },
  {
   "cell_type": "code",
   "execution_count": 190,
   "id": "2f120555-e53f-4683-bf42-673fd61515fa",
   "metadata": {},
   "outputs": [
    {
     "data": {
      "text/plain": [
       "'Dataanalys'"
      ]
     },
     "execution_count": 190,
     "metadata": {},
     "output_type": "execute_result"
    }
   ],
   "source": [
    "s3[0:-1]"
   ]
  },
  {
   "cell_type": "code",
   "execution_count": 197,
   "id": "5058566b-46b0-4d73-bfad-52f65b15b13a",
   "metadata": {},
   "outputs": [
    {
     "data": {
      "text/plain": [
       "'Dtaayt'"
      ]
     },
     "execution_count": 197,
     "metadata": {},
     "output_type": "execute_result"
    }
   ],
   "source": [
    "s3[0:11:2]"
   ]
  },
  {
   "cell_type": "code",
   "execution_count": 201,
   "id": "f7d7223f-18f4-444d-820b-a304ec306a91",
   "metadata": {},
   "outputs": [
    {
     "data": {
      "text/plain": [
       "'Daas'"
      ]
     },
     "execution_count": 201,
     "metadata": {},
     "output_type": "execute_result"
    }
   ],
   "source": [
    "s3[0:11:3]"
   ]
  },
  {
   "cell_type": "code",
   "execution_count": 204,
   "id": "6483c75f-b86c-407b-8ebe-08667819cc6b",
   "metadata": {},
   "outputs": [
    {
     "data": {
      "text/plain": [
       "'Dataanalyst'"
      ]
     },
     "execution_count": 204,
     "metadata": {},
     "output_type": "execute_result"
    }
   ],
   "source": [
    "s3"
   ]
  },
  {
   "cell_type": "code",
   "execution_count": 205,
   "id": "f2e394e0-4224-4883-b5ec-7429255b3621",
   "metadata": {},
   "outputs": [
    {
     "data": {
      "text/plain": [
       "'st'"
      ]
     },
     "execution_count": 205,
     "metadata": {},
     "output_type": "execute_result"
    }
   ],
   "source": [
    "s3[9:12]"
   ]
  },
  {
   "cell_type": "code",
   "execution_count": 206,
   "id": "9c19da40-1369-4d9a-8dba-ebbbf6d321ae",
   "metadata": {},
   "outputs": [
    {
     "data": {
      "text/plain": [
       "'al'"
      ]
     },
     "execution_count": 206,
     "metadata": {},
     "output_type": "execute_result"
    }
   ],
   "source": [
    "s3[3:12:4]"
   ]
  },
  {
   "cell_type": "code",
   "execution_count": 207,
   "id": "53ba0ea9-7bb6-47e1-829f-b4d6660de67c",
   "metadata": {},
   "outputs": [
    {
     "data": {
      "text/plain": [
       "''"
      ]
     },
     "execution_count": 207,
     "metadata": {},
     "output_type": "execute_result"
    }
   ],
   "source": [
    "s3[3:12:-4]"
   ]
  },
  {
   "cell_type": "code",
   "execution_count": 210,
   "id": "058b371a-4cc8-41e9-9283-551401f21299",
   "metadata": {},
   "outputs": [
    {
     "data": {
      "text/plain": [
       "'Dataanalyst'"
      ]
     },
     "execution_count": 210,
     "metadata": {},
     "output_type": "execute_result"
    }
   ],
   "source": [
    "s3"
   ]
  },
  {
   "cell_type": "code",
   "execution_count": 211,
   "id": "f3dc05c2-b119-40e0-b2d2-dccf151e24d2",
   "metadata": {},
   "outputs": [
    {
     "data": {
      "text/plain": [
       "'aalt'"
      ]
     },
     "execution_count": 211,
     "metadata": {},
     "output_type": "execute_result"
    }
   ],
   "source": [
    "s3[1:12:3]"
   ]
  },
  {
   "cell_type": "code",
   "execution_count": 213,
   "id": "147dfef6-3132-4635-81a0-5d3e8b067904",
   "metadata": {},
   "outputs": [
    {
     "data": {
      "text/plain": [
       "'ay'"
      ]
     },
     "execution_count": 213,
     "metadata": {},
     "output_type": "execute_result"
    }
   ],
   "source": [
    "s3[4:9:4]"
   ]
  },
  {
   "cell_type": "code",
   "execution_count": 214,
   "id": "e047317a-f281-49cc-a868-77095dd68afa",
   "metadata": {},
   "outputs": [
    {
     "data": {
      "text/plain": [
       "'taanaly'"
      ]
     },
     "execution_count": 214,
     "metadata": {},
     "output_type": "execute_result"
    }
   ],
   "source": [
    "s3[2:-2]"
   ]
  },
  {
   "cell_type": "code",
   "execution_count": 216,
   "id": "66668d22-9018-4be3-96e3-9446472ef56c",
   "metadata": {},
   "outputs": [
    {
     "name": "stdout",
     "output_type": "stream",
     "text": [
      "nit\n",
      "hello python\n",
      "nit\n",
      "    hello python\n",
      "Dataanalyst\n"
     ]
    }
   ],
   "source": [
    "print(s)\n",
    "print(s1)\n",
    "print(s2)\n",
    "print(s3)"
   ]
  },
  {
   "cell_type": "code",
   "execution_count": 217,
   "id": "35035d51-cfc9-4a48-83d3-29efc5a8b158",
   "metadata": {},
   "outputs": [
    {
     "name": "stdout",
     "output_type": "stream",
     "text": [
      "D\n",
      "a\n",
      "t\n",
      "a\n",
      "a\n",
      "n\n",
      "a\n",
      "l\n",
      "y\n",
      "s\n",
      "t\n"
     ]
    }
   ],
   "source": [
    "for i in s3:\n",
    "    print(i)"
   ]
  },
  {
   "cell_type": "code",
   "execution_count": 220,
   "id": "82c6f639-d62c-4a7b-a602-5b85ff0fab57",
   "metadata": {},
   "outputs": [
    {
     "name": "stdout",
     "output_type": "stream",
     "text": [
      "n\n",
      "i\n",
      "t\n",
      "\n",
      "\n",
      " \n",
      " \n",
      " \n",
      " \n",
      "h\n",
      "e\n",
      "l\n",
      "l\n",
      "o\n",
      " \n",
      "p\n",
      "y\n",
      "t\n",
      "h\n",
      "o\n",
      "n\n"
     ]
    }
   ],
   "source": [
    "for i in s2:\n",
    "    print(i)"
   ]
  },
  {
   "cell_type": "code",
   "execution_count": 221,
   "id": "6c9814df-5cd9-438d-8a56-ff882e557df4",
   "metadata": {},
   "outputs": [
    {
     "name": "stdout",
     "output_type": "stream",
     "text": [
      "h\n",
      "e\n",
      "l\n",
      "l\n",
      "o\n",
      " \n",
      "p\n",
      "y\n",
      "t\n",
      "h\n",
      "o\n",
      "n\n"
     ]
    }
   ],
   "source": [
    "for i in s1:\n",
    "    print(i)"
   ]
  },
  {
   "cell_type": "code",
   "execution_count": 222,
   "id": "2917a429-7d9a-4854-87b7-309b5325eb80",
   "metadata": {},
   "outputs": [
    {
     "name": "stdout",
     "output_type": "stream",
     "text": [
      "n\n",
      "i\n",
      "t\n"
     ]
    }
   ],
   "source": [
    "for i in s:\n",
    "    print(i)"
   ]
  },
  {
   "cell_type": "code",
   "execution_count": 224,
   "id": "c96e38b6-b02d-4cf4-b6aa-fc39f7aac871",
   "metadata": {},
   "outputs": [
    {
     "data": {
      "text/plain": [
       "12"
      ]
     },
     "execution_count": 224,
     "metadata": {},
     "output_type": "execute_result"
    }
   ],
   "source": [
    "int(12.3)"
   ]
  },
  {
   "cell_type": "markdown",
   "id": "aac740b8-d02d-47bc-b4f7-e46694020db1",
   "metadata": {},
   "source": [
    "# Python Typecasting/ Type Conversions"
   ]
  },
  {
   "cell_type": "code",
   "execution_count": 231,
   "id": "22227e63-9a5a-4e54-b559-b8124456c8d9",
   "metadata": {},
   "outputs": [
    {
     "data": {
      "text/plain": [
       "2"
      ]
     },
     "execution_count": 231,
     "metadata": {},
     "output_type": "execute_result"
    }
   ],
   "source": [
    "int(2.3)"
   ]
  },
  {
   "cell_type": "code",
   "execution_count": 232,
   "id": "fafb190c-b37f-492f-aa2e-380475cc6beb",
   "metadata": {},
   "outputs": [
    {
     "data": {
      "text/plain": [
       "1"
      ]
     },
     "execution_count": 232,
     "metadata": {},
     "output_type": "execute_result"
    }
   ],
   "source": [
    "int(True)"
   ]
  },
  {
   "cell_type": "code",
   "execution_count": 234,
   "id": "e005f266-18bc-45ad-9690-db1fb06c6d5b",
   "metadata": {},
   "outputs": [
    {
     "ename": "TypeError",
     "evalue": "int() argument must be a string, a bytes-like object or a real number, not 'complex'",
     "output_type": "error",
     "traceback": [
      "\u001b[1;31m---------------------------------------------------------------------------\u001b[0m",
      "\u001b[1;31mTypeError\u001b[0m                                 Traceback (most recent call last)",
      "Cell \u001b[1;32mIn[234], line 1\u001b[0m\n\u001b[1;32m----> 1\u001b[0m \u001b[38;5;28mint\u001b[39m(\u001b[38;5;241m1\u001b[39m\u001b[38;5;241m+\u001b[39m\u001b[38;5;241m2\u001b[39mj)\n",
      "\u001b[1;31mTypeError\u001b[0m: int() argument must be a string, a bytes-like object or a real number, not 'complex'"
     ]
    }
   ],
   "source": [
    "int(1+2j)"
   ]
  },
  {
   "cell_type": "code",
   "execution_count": 235,
   "id": "afa091a3-a263-4569-b795-0b4ca01b9b7e",
   "metadata": {},
   "outputs": [
    {
     "data": {
      "text/plain": [
       "'Michigan'"
      ]
     },
     "execution_count": 235,
     "metadata": {},
     "output_type": "execute_result"
    }
   ],
   "source": [
    "s4 = \"Michigan\"\n",
    "s4"
   ]
  },
  {
   "cell_type": "code",
   "execution_count": 239,
   "id": "7ee03cf5-3c25-47bb-b19d-c48dfa1e7e0c",
   "metadata": {},
   "outputs": [],
   "source": [
    "del s4"
   ]
  },
  {
   "cell_type": "code",
   "execution_count": 241,
   "id": "4b02c292-4fd8-4154-9f9e-ea9c5ca40456",
   "metadata": {},
   "outputs": [
    {
     "ename": "NameError",
     "evalue": "name 's4' is not defined",
     "output_type": "error",
     "traceback": [
      "\u001b[1;31m---------------------------------------------------------------------------\u001b[0m",
      "\u001b[1;31mNameError\u001b[0m                                 Traceback (most recent call last)",
      "Cell \u001b[1;32mIn[241], line 1\u001b[0m\n\u001b[1;32m----> 1\u001b[0m s4\n",
      "\u001b[1;31mNameError\u001b[0m: name 's4' is not defined"
     ]
    }
   ],
   "source": [
    "s4"
   ]
  },
  {
   "cell_type": "code",
   "execution_count": 243,
   "id": "96505d1d-8ce2-4230-a9b9-d29bed6b0fc4",
   "metadata": {},
   "outputs": [
    {
     "data": {
      "text/plain": [
       "'1'"
      ]
     },
     "execution_count": 243,
     "metadata": {},
     "output_type": "execute_result"
    }
   ],
   "source": [
    "str(1)"
   ]
  },
  {
   "cell_type": "code",
   "execution_count": 245,
   "id": "5a2aa7e7-8838-4400-aca7-6140e15b4fc9",
   "metadata": {},
   "outputs": [
    {
     "data": {
      "text/plain": [
       "1.0"
      ]
     },
     "execution_count": 245,
     "metadata": {},
     "output_type": "execute_result"
    }
   ],
   "source": [
    "float(1)"
   ]
  },
  {
   "cell_type": "code",
   "execution_count": 248,
   "id": "022f6abb-e6ac-453d-98d2-20fa78d45948",
   "metadata": {},
   "outputs": [
    {
     "data": {
      "text/plain": [
       "1"
      ]
     },
     "execution_count": 248,
     "metadata": {},
     "output_type": "execute_result"
    }
   ],
   "source": [
    "int(1)"
   ]
  },
  {
   "cell_type": "code",
   "execution_count": 249,
   "id": "29841f42-b853-43c9-9e76-ae85e4134bf5",
   "metadata": {},
   "outputs": [],
   "source": [
    "import numpy as np\n",
    "a = np.nan"
   ]
  },
  {
   "cell_type": "code",
   "execution_count": 252,
   "id": "032906e7-13e0-45eb-9777-dd77f79a7722",
   "metadata": {},
   "outputs": [
    {
     "data": {
      "text/plain": [
       "float"
      ]
     },
     "execution_count": 252,
     "metadata": {},
     "output_type": "execute_result"
    }
   ],
   "source": [
    "type(a)"
   ]
  },
  {
   "cell_type": "code",
   "execution_count": 253,
   "id": "f1d9b1a8-6fbd-41d9-bcc8-efe5d5e068ff",
   "metadata": {},
   "outputs": [
    {
     "name": "stdout",
     "output_type": "stream",
     "text": [
      "<class 'float'>\n"
     ]
    }
   ],
   "source": [
    "print(type(a))"
   ]
  },
  {
   "cell_type": "markdown",
   "id": "282573b4-5498-4ade-bc1e-ada7ba955493",
   "metadata": {},
   "source": [
    "# Fifth Class"
   ]
  },
  {
   "cell_type": "code",
   "execution_count": 258,
   "id": "4c905800-e0d2-4e46-b2c2-7f80906e3e2d",
   "metadata": {},
   "outputs": [
    {
     "data": {
      "text/plain": [
       "3.0"
      ]
     },
     "execution_count": 258,
     "metadata": {},
     "output_type": "execute_result"
    }
   ],
   "source": [
    "float(3)"
   ]
  },
  {
   "cell_type": "code",
   "execution_count": 261,
   "id": "849bac05-ba45-485a-9cda-32d98c925dd7",
   "metadata": {},
   "outputs": [
    {
     "data": {
      "text/plain": [
       "0.0"
      ]
     },
     "execution_count": 261,
     "metadata": {},
     "output_type": "execute_result"
    }
   ],
   "source": [
    "float(False)"
   ]
  },
  {
   "cell_type": "code",
   "execution_count": 262,
   "id": "9ead40de-cc09-462e-a2e7-ebe5c0e05cd8",
   "metadata": {},
   "outputs": [
    {
     "ename": "TypeError",
     "evalue": "float() argument must be a string or a real number, not 'complex'",
     "output_type": "error",
     "traceback": [
      "\u001b[1;31m---------------------------------------------------------------------------\u001b[0m",
      "\u001b[1;31mTypeError\u001b[0m                                 Traceback (most recent call last)",
      "Cell \u001b[1;32mIn[262], line 1\u001b[0m\n\u001b[1;32m----> 1\u001b[0m \u001b[38;5;28mfloat\u001b[39m(\u001b[38;5;241m1\u001b[39m\u001b[38;5;241m+\u001b[39m\u001b[38;5;241m2\u001b[39mj)\n",
      "\u001b[1;31mTypeError\u001b[0m: float() argument must be a string or a real number, not 'complex'"
     ]
    }
   ],
   "source": [
    "float(1+2j)"
   ]
  },
  {
   "cell_type": "code",
   "execution_count": 264,
   "id": "11719b1c-7847-4240-9e8b-6827731d1677",
   "metadata": {},
   "outputs": [
    {
     "ename": "ValueError",
     "evalue": "could not convert string to float: 'ten'",
     "output_type": "error",
     "traceback": [
      "\u001b[1;31m---------------------------------------------------------------------------\u001b[0m",
      "\u001b[1;31mValueError\u001b[0m                                Traceback (most recent call last)",
      "Cell \u001b[1;32mIn[264], line 1\u001b[0m\n\u001b[1;32m----> 1\u001b[0m \u001b[38;5;28mfloat\u001b[39m(\u001b[38;5;124m'\u001b[39m\u001b[38;5;124mten\u001b[39m\u001b[38;5;124m'\u001b[39m)\n",
      "\u001b[1;31mValueError\u001b[0m: could not convert string to float: 'ten'"
     ]
    }
   ],
   "source": [
    "float('ten')"
   ]
  },
  {
   "cell_type": "code",
   "execution_count": 266,
   "id": "22acd4bc-960e-46dc-9e40-267dab779233",
   "metadata": {},
   "outputs": [
    {
     "data": {
      "text/plain": [
       "10.0"
      ]
     },
     "execution_count": 266,
     "metadata": {},
     "output_type": "execute_result"
    }
   ],
   "source": [
    "float(10)"
   ]
  },
  {
   "cell_type": "code",
   "execution_count": 269,
   "id": "334b523b-0b5b-4b5c-a074-578f2c51e067",
   "metadata": {},
   "outputs": [
    {
     "data": {
      "text/plain": [
       "(10+0j)"
      ]
     },
     "execution_count": 269,
     "metadata": {},
     "output_type": "execute_result"
    }
   ],
   "source": [
    "complex(10)"
   ]
  },
  {
   "cell_type": "code",
   "execution_count": 271,
   "id": "fbb222d3-afcd-4667-b24c-cf39e7dc748b",
   "metadata": {},
   "outputs": [
    {
     "data": {
      "text/plain": [
       "(10+20j)"
      ]
     },
     "execution_count": 271,
     "metadata": {},
     "output_type": "execute_result"
    }
   ],
   "source": [
    "complex(10,20)"
   ]
  },
  {
   "cell_type": "code",
   "execution_count": 273,
   "id": "4c499f0a-d7fc-48f4-a79d-b0a0131994c2",
   "metadata": {},
   "outputs": [
    {
     "ename": "TypeError",
     "evalue": "complex() takes at most 2 arguments (3 given)",
     "output_type": "error",
     "traceback": [
      "\u001b[1;31m---------------------------------------------------------------------------\u001b[0m",
      "\u001b[1;31mTypeError\u001b[0m                                 Traceback (most recent call last)",
      "Cell \u001b[1;32mIn[273], line 1\u001b[0m\n\u001b[1;32m----> 1\u001b[0m \u001b[38;5;28mcomplex\u001b[39m(\u001b[38;5;241m10\u001b[39m,\u001b[38;5;241m20\u001b[39m,\u001b[38;5;241m30\u001b[39m)\n",
      "\u001b[1;31mTypeError\u001b[0m: complex() takes at most 2 arguments (3 given)"
     ]
    }
   ],
   "source": [
    "complex(10,20,30)"
   ]
  },
  {
   "cell_type": "code",
   "execution_count": 274,
   "id": "c3e59b84-5eb2-4403-b43f-ce02d2bc6fa9",
   "metadata": {},
   "outputs": [
    {
     "data": {
      "text/plain": [
       "(2.3+0j)"
      ]
     },
     "execution_count": 274,
     "metadata": {},
     "output_type": "execute_result"
    }
   ],
   "source": [
    "complex(2.3)"
   ]
  },
  {
   "cell_type": "code",
   "execution_count": 276,
   "id": "201d65d7-6dca-4930-b2b7-6b1baa81a4a0",
   "metadata": {},
   "outputs": [
    {
     "data": {
      "text/plain": [
       "(2.3+10j)"
      ]
     },
     "execution_count": 276,
     "metadata": {},
     "output_type": "execute_result"
    }
   ],
   "source": [
    "complex(2.3,10)"
   ]
  },
  {
   "cell_type": "code",
   "execution_count": 277,
   "id": "bc78f970-87f2-43c8-9cc0-3b2c7c03d290",
   "metadata": {},
   "outputs": [
    {
     "data": {
      "text/plain": [
       "(1+0j)"
      ]
     },
     "execution_count": 277,
     "metadata": {},
     "output_type": "execute_result"
    }
   ],
   "source": [
    "complex(True)"
   ]
  },
  {
   "cell_type": "code",
   "execution_count": 280,
   "id": "f5fb62ae-8795-4d9d-922a-55b39ed5fc70",
   "metadata": {},
   "outputs": [
    {
     "data": {
      "text/plain": [
       "0j"
      ]
     },
     "execution_count": 280,
     "metadata": {},
     "output_type": "execute_result"
    }
   ],
   "source": [
    "complex(False)"
   ]
  },
  {
   "cell_type": "code",
   "execution_count": 283,
   "id": "66ab82c1-838b-419f-96b6-7a29355e8abf",
   "metadata": {},
   "outputs": [
    {
     "data": {
      "text/plain": [
       "True"
      ]
     },
     "execution_count": 283,
     "metadata": {},
     "output_type": "execute_result"
    }
   ],
   "source": [
    "bool(1)"
   ]
  },
  {
   "cell_type": "code",
   "execution_count": 284,
   "id": "b05becc9-fb3d-43e1-816f-572a99805d11",
   "metadata": {},
   "outputs": [
    {
     "data": {
      "text/plain": [
       "False"
      ]
     },
     "execution_count": 284,
     "metadata": {},
     "output_type": "execute_result"
    }
   ],
   "source": [
    "bool(0)"
   ]
  },
  {
   "cell_type": "code",
   "execution_count": 285,
   "id": "8bd80a15-8901-4f25-9645-ae7da24f7f1a",
   "metadata": {},
   "outputs": [
    {
     "data": {
      "text/plain": [
       "True"
      ]
     },
     "execution_count": 285,
     "metadata": {},
     "output_type": "execute_result"
    }
   ],
   "source": [
    "bool(2.3)"
   ]
  },
  {
   "cell_type": "code",
   "execution_count": 287,
   "id": "3c9ee64c-85e9-43f0-b3a5-cb0df990f3a0",
   "metadata": {},
   "outputs": [
    {
     "data": {
      "text/plain": [
       "False"
      ]
     },
     "execution_count": 287,
     "metadata": {},
     "output_type": "execute_result"
    }
   ],
   "source": [
    "bool()"
   ]
  },
  {
   "cell_type": "code",
   "execution_count": 288,
   "id": "19c40ce9-b980-4542-b6a5-320af25cae2f",
   "metadata": {},
   "outputs": [
    {
     "data": {
      "text/plain": [
       "False"
      ]
     },
     "execution_count": 288,
     "metadata": {},
     "output_type": "execute_result"
    }
   ],
   "source": [
    "bool( )"
   ]
  },
  {
   "cell_type": "code",
   "execution_count": 292,
   "id": "e89a5a9f-5ab0-4c0f-ac68-26c36ddad103",
   "metadata": {},
   "outputs": [
    {
     "ename": "SyntaxError",
     "evalue": "invalid syntax (3576635743.py, line 1)",
     "output_type": "error",
     "traceback": [
      "\u001b[1;36m  Cell \u001b[1;32mIn[292], line 1\u001b[1;36m\u001b[0m\n\u001b[1;33m    bool(.)\u001b[0m\n\u001b[1;37m         ^\u001b[0m\n\u001b[1;31mSyntaxError\u001b[0m\u001b[1;31m:\u001b[0m invalid syntax\n"
     ]
    }
   ],
   "source": [
    "bool(.)"
   ]
  },
  {
   "cell_type": "code",
   "execution_count": 293,
   "id": "0b03d09c-e0f7-4846-91eb-e532dad66794",
   "metadata": {},
   "outputs": [
    {
     "data": {
      "text/plain": [
       "True"
      ]
     },
     "execution_count": 293,
     "metadata": {},
     "output_type": "execute_result"
    }
   ],
   "source": [
    "bool('nit')"
   ]
  },
  {
   "cell_type": "code",
   "execution_count": 295,
   "id": "c42eaaf7-bc54-4e3d-88ce-ddfba26daec3",
   "metadata": {},
   "outputs": [
    {
     "data": {
      "text/plain": [
       "True"
      ]
     },
     "execution_count": 295,
     "metadata": {},
     "output_type": "execute_result"
    }
   ],
   "source": [
    "bool(10+2j)"
   ]
  },
  {
   "cell_type": "code",
   "execution_count": 297,
   "id": "f7a80647-6fc8-4067-bab5-58c4467920d9",
   "metadata": {},
   "outputs": [
    {
     "data": {
      "text/plain": [
       "False"
      ]
     },
     "execution_count": 297,
     "metadata": {},
     "output_type": "execute_result"
    }
   ],
   "source": [
    "bool(0+0j)"
   ]
  },
  {
   "cell_type": "code",
   "execution_count": 299,
   "id": "9be449b6-dfe6-4288-8949-d41c7937a48c",
   "metadata": {},
   "outputs": [
    {
     "name": "stdout",
     "output_type": "stream",
     "text": [
      "2\n",
      "2.3\n",
      "True\n",
      "(1+2j)\n"
     ]
    }
   ],
   "source": [
    "print(str(2))\n",
    "print(str(2.3))\n",
    "print(str(True))\n",
    "print(str(1+2j))"
   ]
  },
  {
   "cell_type": "code",
   "execution_count": 301,
   "id": "4f2eb46f-38df-44a8-9857-45fff8127a50",
   "metadata": {},
   "outputs": [
    {
     "data": {
      "text/plain": [
       "'HELOOPYTHON'"
      ]
     },
     "execution_count": 301,
     "metadata": {},
     "output_type": "execute_result"
    }
   ],
   "source": [
    "index = \"HELOOPYTHON\"\n",
    "index"
   ]
  },
  {
   "cell_type": "code",
   "execution_count": 305,
   "id": "0db3deed-699a-4366-b1fd-94c464a914d6",
   "metadata": {},
   "outputs": [
    {
     "data": {
      "text/plain": [
       "'HELOOPYTHON'"
      ]
     },
     "execution_count": 305,
     "metadata": {},
     "output_type": "execute_result"
    }
   ],
   "source": [
    "index"
   ]
  },
  {
   "cell_type": "code",
   "execution_count": 306,
   "id": "96e0137d-f41b-4037-afe6-93421d580fe3",
   "metadata": {},
   "outputs": [
    {
     "data": {
      "text/plain": [
       "'HELOOPYTHON'"
      ]
     },
     "execution_count": 306,
     "metadata": {},
     "output_type": "execute_result"
    }
   ],
   "source": [
    "index[:]"
   ]
  },
  {
   "cell_type": "code",
   "execution_count": 308,
   "id": "9acd1a78-9d06-4424-b735-0ff1c362e094",
   "metadata": {},
   "outputs": [
    {
     "data": {
      "text/plain": [
       "'NHYOLH'"
      ]
     },
     "execution_count": 308,
     "metadata": {},
     "output_type": "execute_result"
    }
   ],
   "source": [
    "index[::-2]"
   ]
  },
  {
   "cell_type": "code",
   "execution_count": 311,
   "id": "77e6e05c-9638-448d-8bcc-8d6d852b1855",
   "metadata": {},
   "outputs": [
    {
     "data": {
      "text/plain": [
       "'NOHTYPOOLEH'"
      ]
     },
     "execution_count": 311,
     "metadata": {},
     "output_type": "execute_result"
    }
   ],
   "source": [
    "index[::-1]"
   ]
  },
  {
   "cell_type": "code",
   "execution_count": 313,
   "id": "06162d16-9b89-43b7-8f27-b438549d8e01",
   "metadata": {},
   "outputs": [
    {
     "data": {
      "text/plain": [
       "'NYL'"
      ]
     },
     "execution_count": 313,
     "metadata": {},
     "output_type": "execute_result"
    }
   ],
   "source": [
    "index[::-4]"
   ]
  },
  {
   "cell_type": "code",
   "execution_count": 315,
   "id": "83866420-b7a9-4954-92f0-189dd20e8edc",
   "metadata": {},
   "outputs": [
    {
     "data": {
      "text/plain": [
       "10"
      ]
     },
     "execution_count": 315,
     "metadata": {},
     "output_type": "execute_result"
    }
   ],
   "source": [
    "int(10.0)"
   ]
  },
  {
   "cell_type": "code",
   "execution_count": 316,
   "id": "52ad6700-2c91-488c-89b0-58619f4a87be",
   "metadata": {},
   "outputs": [
    {
     "data": {
      "text/plain": [
       "11"
      ]
     },
     "execution_count": 316,
     "metadata": {},
     "output_type": "execute_result"
    }
   ],
   "source": [
    "int(11.0)"
   ]
  },
  {
   "cell_type": "code",
   "execution_count": 320,
   "id": "e31f71b0-31d1-4567-b126-2186e12e2a53",
   "metadata": {},
   "outputs": [
    {
     "data": {
      "text/plain": [
       "0j"
      ]
     },
     "execution_count": 320,
     "metadata": {},
     "output_type": "execute_result"
    }
   ],
   "source": [
    "complex(False)"
   ]
  },
  {
   "cell_type": "code",
   "execution_count": 322,
   "id": "bc9cd91b-982e-466c-a438-1ed2af040adb",
   "metadata": {},
   "outputs": [
    {
     "data": {
      "text/plain": [
       "(1+0j)"
      ]
     },
     "execution_count": 322,
     "metadata": {},
     "output_type": "execute_result"
    }
   ],
   "source": [
    "complex(True)"
   ]
  },
  {
   "cell_type": "code",
   "execution_count": 323,
   "id": "1cf444f2-716b-4b4b-b4fb-c88f0770831d",
   "metadata": {},
   "outputs": [
    {
     "data": {
      "text/plain": [
       "True"
      ]
     },
     "execution_count": 323,
     "metadata": {},
     "output_type": "execute_result"
    }
   ],
   "source": [
    "bool(1)"
   ]
  },
  {
   "cell_type": "code",
   "execution_count": 326,
   "id": "147da8a3-8276-49c6-a08f-a0ac11063792",
   "metadata": {},
   "outputs": [
    {
     "data": {
      "text/plain": [
       "True"
      ]
     },
     "execution_count": 326,
     "metadata": {},
     "output_type": "execute_result"
    }
   ],
   "source": [
    "bool(1.0)"
   ]
  },
  {
   "cell_type": "code",
   "execution_count": 328,
   "id": "0d8b5671-5369-4eee-9e87-f2d72fa9d710",
   "metadata": {},
   "outputs": [
    {
     "data": {
      "text/plain": [
       "True"
      ]
     },
     "execution_count": 328,
     "metadata": {},
     "output_type": "execute_result"
    }
   ],
   "source": [
    "bool(\"San\")"
   ]
  },
  {
   "cell_type": "code",
   "execution_count": 329,
   "id": "d4eea911-a1fc-4e58-903d-bfb5562653f2",
   "metadata": {},
   "outputs": [
    {
     "data": {
      "text/plain": [
       "True"
      ]
     },
     "execution_count": 329,
     "metadata": {},
     "output_type": "execute_result"
    }
   ],
   "source": [
    "bool(1+2j)"
   ]
  },
  {
   "cell_type": "code",
   "execution_count": 330,
   "id": "77f4ded0-e679-49f4-998f-dfe4c4ffcf54",
   "metadata": {},
   "outputs": [
    {
     "data": {
      "text/plain": [
       "True"
      ]
     },
     "execution_count": 330,
     "metadata": {},
     "output_type": "execute_result"
    }
   ],
   "source": [
    "bool(0+1j)"
   ]
  },
  {
   "cell_type": "code",
   "execution_count": 334,
   "id": "0ca3826b-87ac-4eac-8fca-c5d672046cdd",
   "metadata": {},
   "outputs": [
    {
     "data": {
      "text/plain": [
       "'2'"
      ]
     },
     "execution_count": 334,
     "metadata": {},
     "output_type": "execute_result"
    }
   ],
   "source": [
    "str(2)"
   ]
  },
  {
   "cell_type": "code",
   "execution_count": 336,
   "id": "0aac2813-bef6-45c3-9f1e-318d0ffcdcec",
   "metadata": {},
   "outputs": [
    {
     "data": {
      "text/plain": [
       "'2.0'"
      ]
     },
     "execution_count": 336,
     "metadata": {},
     "output_type": "execute_result"
    }
   ],
   "source": [
    "str(2.0)"
   ]
  },
  {
   "cell_type": "code",
   "execution_count": 337,
   "id": "d6f18b4b-a039-47bc-9487-04c1384e25c6",
   "metadata": {},
   "outputs": [
    {
     "data": {
      "text/plain": [
       "'True'"
      ]
     },
     "execution_count": 337,
     "metadata": {},
     "output_type": "execute_result"
    }
   ],
   "source": [
    "str(True)"
   ]
  },
  {
   "cell_type": "code",
   "execution_count": 339,
   "id": "30430a57-c914-4ec1-b673-28da64f41e4c",
   "metadata": {},
   "outputs": [
    {
     "data": {
      "text/plain": [
       "'(1+2j)'"
      ]
     },
     "execution_count": 339,
     "metadata": {},
     "output_type": "execute_result"
    }
   ],
   "source": [
    "str(1+2j)"
   ]
  },
  {
   "cell_type": "code",
   "execution_count": 341,
   "id": "485b7457-4da9-4d5f-8072-5a4ae34d862d",
   "metadata": {},
   "outputs": [
    {
     "ename": "TypeError",
     "evalue": "str() argument 'encoding' must be str, not int",
     "output_type": "error",
     "traceback": [
      "\u001b[1;31m---------------------------------------------------------------------------\u001b[0m",
      "\u001b[1;31mTypeError\u001b[0m                                 Traceback (most recent call last)",
      "Cell \u001b[1;32mIn[341], line 1\u001b[0m\n\u001b[1;32m----> 1\u001b[0m \u001b[38;5;28mstr\u001b[39m(\u001b[38;5;241m2\u001b[39m,\u001b[38;5;241m3\u001b[39m)\n",
      "\u001b[1;31mTypeError\u001b[0m: str() argument 'encoding' must be str, not int"
     ]
    }
   ],
   "source": [
    "str(2,3)"
   ]
  },
  {
   "cell_type": "code",
   "execution_count": 344,
   "id": "a7def0f4-3c86-406a-bea7-da03f5ef5090",
   "metadata": {},
   "outputs": [
    {
     "data": {
      "text/plain": [
       "2"
      ]
     },
     "execution_count": 344,
     "metadata": {},
     "output_type": "execute_result"
    }
   ],
   "source": [
    "int(2.0)"
   ]
  },
  {
   "cell_type": "code",
   "execution_count": 345,
   "id": "a744ef72-6b24-4eab-8abd-5aafdaf1e143",
   "metadata": {},
   "outputs": [
    {
     "ename": "ValueError",
     "evalue": "invalid literal for int() with base 10: 'san'",
     "output_type": "error",
     "traceback": [
      "\u001b[1;31m---------------------------------------------------------------------------\u001b[0m",
      "\u001b[1;31mValueError\u001b[0m                                Traceback (most recent call last)",
      "Cell \u001b[1;32mIn[345], line 1\u001b[0m\n\u001b[1;32m----> 1\u001b[0m \u001b[38;5;28mint\u001b[39m(\u001b[38;5;124m\"\u001b[39m\u001b[38;5;124msan\u001b[39m\u001b[38;5;124m\"\u001b[39m)\n",
      "\u001b[1;31mValueError\u001b[0m: invalid literal for int() with base 10: 'san'"
     ]
    }
   ],
   "source": [
    "int(\"san\")"
   ]
  },
  {
   "cell_type": "code",
   "execution_count": 348,
   "id": "a5f63bee-6b46-45fb-8d65-dac2c1b9b120",
   "metadata": {},
   "outputs": [
    {
     "data": {
      "text/plain": [
       "1"
      ]
     },
     "execution_count": 348,
     "metadata": {},
     "output_type": "execute_result"
    }
   ],
   "source": [
    "int(True)"
   ]
  },
  {
   "cell_type": "code",
   "execution_count": 350,
   "id": "d4a008c1-680e-4b64-8f90-75904fa5e972",
   "metadata": {},
   "outputs": [
    {
     "ename": "TypeError",
     "evalue": "int() argument must be a string, a bytes-like object or a real number, not 'complex'",
     "output_type": "error",
     "traceback": [
      "\u001b[1;31m---------------------------------------------------------------------------\u001b[0m",
      "\u001b[1;31mTypeError\u001b[0m                                 Traceback (most recent call last)",
      "Cell \u001b[1;32mIn[350], line 1\u001b[0m\n\u001b[1;32m----> 1\u001b[0m \u001b[38;5;28mint\u001b[39m(\u001b[38;5;241m1\u001b[39m\u001b[38;5;241m+\u001b[39m\u001b[38;5;241m2\u001b[39mj)\n",
      "\u001b[1;31mTypeError\u001b[0m: int() argument must be a string, a bytes-like object or a real number, not 'complex'"
     ]
    }
   ],
   "source": [
    "int(1+2j)"
   ]
  },
  {
   "cell_type": "code",
   "execution_count": 352,
   "id": "6cbeaf0a-5398-40bd-927c-cbca65f2356c",
   "metadata": {},
   "outputs": [
    {
     "name": "stdout",
     "output_type": "stream",
     "text": [
      "1.0\n",
      "0.0\n"
     ]
    }
   ],
   "source": [
    "print(float(1))\n",
    "print(float(False))"
   ]
  },
  {
   "cell_type": "code",
   "execution_count": 354,
   "id": "e2e1a4a9-3109-47c0-bbf3-03a5a0748d4a",
   "metadata": {},
   "outputs": [
    {
     "ename": "TypeError",
     "evalue": "float() argument must be a string or a real number, not 'complex'",
     "output_type": "error",
     "traceback": [
      "\u001b[1;31m---------------------------------------------------------------------------\u001b[0m",
      "\u001b[1;31mTypeError\u001b[0m                                 Traceback (most recent call last)",
      "Cell \u001b[1;32mIn[354], line 1\u001b[0m\n\u001b[1;32m----> 1\u001b[0m \u001b[38;5;28mfloat\u001b[39m(\u001b[38;5;241m1\u001b[39m\u001b[38;5;241m+\u001b[39m\u001b[38;5;241m2\u001b[39mj)\n",
      "\u001b[1;31mTypeError\u001b[0m: float() argument must be a string or a real number, not 'complex'"
     ]
    }
   ],
   "source": [
    "float(1+2j)"
   ]
  },
  {
   "cell_type": "code",
   "execution_count": 356,
   "id": "6040db14-e37f-4bd3-bd68-2fb326e3a1f1",
   "metadata": {},
   "outputs": [
    {
     "ename": "ValueError",
     "evalue": "could not convert string to float: 'san'",
     "output_type": "error",
     "traceback": [
      "\u001b[1;31m---------------------------------------------------------------------------\u001b[0m",
      "\u001b[1;31mValueError\u001b[0m                                Traceback (most recent call last)",
      "Cell \u001b[1;32mIn[356], line 1\u001b[0m\n\u001b[1;32m----> 1\u001b[0m \u001b[38;5;28mfloat\u001b[39m(\u001b[38;5;124m'\u001b[39m\u001b[38;5;124msan\u001b[39m\u001b[38;5;124m'\u001b[39m)\n",
      "\u001b[1;31mValueError\u001b[0m: could not convert string to float: 'san'"
     ]
    }
   ],
   "source": [
    "float('san')"
   ]
  },
  {
   "cell_type": "code",
   "execution_count": 358,
   "id": "9b423a4e-0251-44f6-835a-7e86fbe65aaa",
   "metadata": {},
   "outputs": [
    {
     "name": "stdout",
     "output_type": "stream",
     "text": [
      "(1+0j)\n",
      "(1+0j)\n",
      "(1+0j)\n"
     ]
    }
   ],
   "source": [
    "print(complex(1))\n",
    "print(complex(1.0))\n",
    "print(complex(True))"
   ]
  },
  {
   "cell_type": "code",
   "execution_count": 359,
   "id": "7c4750f9-ca3d-4416-9f23-f5511548fd2a",
   "metadata": {},
   "outputs": [
    {
     "ename": "ValueError",
     "evalue": "complex() arg is a malformed string",
     "output_type": "error",
     "traceback": [
      "\u001b[1;31m---------------------------------------------------------------------------\u001b[0m",
      "\u001b[1;31mValueError\u001b[0m                                Traceback (most recent call last)",
      "Cell \u001b[1;32mIn[359], line 1\u001b[0m\n\u001b[1;32m----> 1\u001b[0m \u001b[38;5;28mcomplex\u001b[39m(\u001b[38;5;124m\"\u001b[39m\u001b[38;5;124msan\u001b[39m\u001b[38;5;124m\"\u001b[39m)\n",
      "\u001b[1;31mValueError\u001b[0m: complex() arg is a malformed string"
     ]
    }
   ],
   "source": [
    "complex(\"san\")"
   ]
  },
  {
   "cell_type": "code",
   "execution_count": 362,
   "id": "5d844b20-3f8a-417f-8094-abae9e269069",
   "metadata": {},
   "outputs": [
    {
     "name": "stdout",
     "output_type": "stream",
     "text": [
      "True\n",
      "True\n",
      "True\n",
      "True\n"
     ]
    }
   ],
   "source": [
    "print(bool(1))\n",
    "print(bool(1.0))\n",
    "print(bool('san'))\n",
    "print(bool(1+2j))"
   ]
  },
  {
   "cell_type": "code",
   "execution_count": 364,
   "id": "2d12bd00-37b7-4c34-a1a8-4d840d43b544",
   "metadata": {},
   "outputs": [
    {
     "data": {
      "text/plain": [
       "'HELLOPYTHON'"
      ]
     },
     "execution_count": 364,
     "metadata": {},
     "output_type": "execute_result"
    }
   ],
   "source": [
    "index = 'HELLOPYTHON'\n",
    "index"
   ]
  },
  {
   "cell_type": "code",
   "execution_count": 365,
   "id": "2a15feda-744a-4da3-bf85-a67fa996b48e",
   "metadata": {},
   "outputs": [
    {
     "data": {
      "text/plain": [
       "'HELLOPYTHON'"
      ]
     },
     "execution_count": 365,
     "metadata": {},
     "output_type": "execute_result"
    }
   ],
   "source": [
    "index[:]"
   ]
  },
  {
   "cell_type": "code",
   "execution_count": 367,
   "id": "0ab31b25-313e-42af-baed-9ef33fb2b599",
   "metadata": {},
   "outputs": [
    {
     "data": {
      "text/plain": [
       "'NOHTYPOLLEH'"
      ]
     },
     "execution_count": 367,
     "metadata": {},
     "output_type": "execute_result"
    }
   ],
   "source": [
    "index[::-1]"
   ]
  },
  {
   "cell_type": "code",
   "execution_count": 370,
   "id": "518dc308-342f-4e3d-8529-f883132702c9",
   "metadata": {},
   "outputs": [
    {
     "data": {
      "text/plain": [
       "'HELLOPYTHON'"
      ]
     },
     "execution_count": 370,
     "metadata": {},
     "output_type": "execute_result"
    }
   ],
   "source": [
    "index[::]"
   ]
  },
  {
   "cell_type": "code",
   "execution_count": 372,
   "id": "d02492c2-37ef-4482-9fb5-49c95b4b93c4",
   "metadata": {},
   "outputs": [
    {
     "data": {
      "text/plain": [
       "'HLYO'"
      ]
     },
     "execution_count": 372,
     "metadata": {},
     "output_type": "execute_result"
    }
   ],
   "source": [
    "index[::3]"
   ]
  },
  {
   "cell_type": "code",
   "execution_count": 374,
   "id": "e8672672-1dbb-4c0c-9a49-15a862e7122e",
   "metadata": {},
   "outputs": [
    {
     "data": {
      "text/plain": [
       "'NHYOLH'"
      ]
     },
     "execution_count": 374,
     "metadata": {},
     "output_type": "execute_result"
    }
   ],
   "source": [
    "index[::-2]"
   ]
  },
  {
   "cell_type": "code",
   "execution_count": 375,
   "id": "9a4f8303-6f9a-4df5-9c69-922e87cd54db",
   "metadata": {},
   "outputs": [
    {
     "data": {
      "text/plain": [
       "'NTOE'"
      ]
     },
     "execution_count": 375,
     "metadata": {},
     "output_type": "execute_result"
    }
   ],
   "source": [
    "index[::-3]"
   ]
  },
  {
   "cell_type": "code",
   "execution_count": 378,
   "id": "9a8d5807-6c83-4ef5-bede-4e9012ecf48d",
   "metadata": {},
   "outputs": [
    {
     "data": {
      "text/plain": [
       "'HELLOPYTHON'"
      ]
     },
     "execution_count": 378,
     "metadata": {},
     "output_type": "execute_result"
    }
   ],
   "source": [
    "index"
   ]
  },
  {
   "cell_type": "code",
   "execution_count": 380,
   "id": "4ee47c54-5fd2-4a86-aa5c-a82095d9efb9",
   "metadata": {},
   "outputs": [
    {
     "data": {
      "text/plain": [
       "'NYL'"
      ]
     },
     "execution_count": 380,
     "metadata": {},
     "output_type": "execute_result"
    }
   ],
   "source": [
    "index[::-4]"
   ]
  },
  {
   "cell_type": "code",
   "execution_count": 382,
   "id": "e7f6d779-53d3-4138-b6ad-0a5677145ad0",
   "metadata": {},
   "outputs": [
    {
     "data": {
      "text/plain": [
       "'HLYO'"
      ]
     },
     "execution_count": 382,
     "metadata": {},
     "output_type": "execute_result"
    }
   ],
   "source": [
    "index[:10:3]"
   ]
  },
  {
   "cell_type": "code",
   "execution_count": 383,
   "id": "98c9fb25-f928-4fc3-975b-ae418de1c019",
   "metadata": {},
   "outputs": [
    {
     "data": {
      "text/plain": [
       "'NOHTYPOLL'"
      ]
     },
     "execution_count": 383,
     "metadata": {},
     "output_type": "execute_result"
    }
   ],
   "source": [
    "index[:-10:-1]"
   ]
  },
  {
   "cell_type": "code",
   "execution_count": 386,
   "id": "79db5a9e-b149-4174-9f97-7d793ce52be1",
   "metadata": {},
   "outputs": [
    {
     "data": {
      "text/plain": [
       "'OHTYPOLL'"
      ]
     },
     "execution_count": 386,
     "metadata": {},
     "output_type": "execute_result"
    }
   ],
   "source": [
    "index[-2:-10:-1]"
   ]
  },
  {
   "cell_type": "code",
   "execution_count": 388,
   "id": "247b67c3-cb90-4fb8-8239-c89370b2a740",
   "metadata": {},
   "outputs": [
    {
     "data": {
      "text/plain": [
       "''"
      ]
     },
     "execution_count": 388,
     "metadata": {},
     "output_type": "execute_result"
    }
   ],
   "source": [
    "index[1:-10:-1]"
   ]
  },
  {
   "cell_type": "markdown",
   "id": "11abed61-0595-4f87-88ed-c914146ed761",
   "metadata": {},
   "source": [
    "# Sixth Class"
   ]
  },
  {
   "cell_type": "raw",
   "id": "7cccd357-8dc2-43ae-9175-0c77b88d2d01",
   "metadata": {},
   "source": [
    "Data Structure"
   ]
  },
  {
   "cell_type": "code",
   "execution_count": 391,
   "id": "a2c2100a-73c0-4d4f-8749-cb5b0fffaf2e",
   "metadata": {},
   "outputs": [
    {
     "data": {
      "text/plain": [
       "[]"
      ]
     },
     "execution_count": 391,
     "metadata": {},
     "output_type": "execute_result"
    }
   ],
   "source": [
    "l=[]\n",
    "l"
   ]
  },
  {
   "cell_type": "code",
   "execution_count": 393,
   "id": "ca39ae9b-92be-4682-be0b-15164f366820",
   "metadata": {},
   "outputs": [
    {
     "data": {
      "text/plain": [
       "list"
      ]
     },
     "execution_count": 393,
     "metadata": {},
     "output_type": "execute_result"
    }
   ],
   "source": [
    "type(l)"
   ]
  },
  {
   "cell_type": "code",
   "execution_count": 395,
   "id": "1b15d81e-dc35-476c-9f18-2ff5d9901853",
   "metadata": {},
   "outputs": [
    {
     "data": {
      "text/plain": [
       "[10]"
      ]
     },
     "execution_count": 395,
     "metadata": {},
     "output_type": "execute_result"
    }
   ],
   "source": [
    "l.append(10)\n",
    "l"
   ]
  },
  {
   "cell_type": "code",
   "execution_count": 397,
   "id": "fcc70ade-9a63-4441-b86e-86a32638005e",
   "metadata": {},
   "outputs": [
    {
     "data": {
      "text/plain": [
       "[10, 20, 30]"
      ]
     },
     "execution_count": 397,
     "metadata": {},
     "output_type": "execute_result"
    }
   ],
   "source": [
    "l.append(20)\n",
    "l.append(30)\n",
    "l"
   ]
  },
  {
   "cell_type": "code",
   "execution_count": 399,
   "id": "00d91d13-9ec1-4711-b1a0-28e7b0ae0e4f",
   "metadata": {},
   "outputs": [
    {
     "data": {
      "text/plain": [
       "[10, 20, 30, 'nit', True, (1+2j), 3.0]"
      ]
     },
     "execution_count": 399,
     "metadata": {},
     "output_type": "execute_result"
    }
   ],
   "source": [
    "l.append('nit')\n",
    "l.append(True)\n",
    "l.append(1+2j)\n",
    "l.append(3.0)\n",
    "l"
   ]
  },
  {
   "cell_type": "code",
   "execution_count": 400,
   "id": "f700d581-c05c-4ccc-8ee9-cbb9c6e36a78",
   "metadata": {},
   "outputs": [
    {
     "data": {
      "text/plain": [
       "7"
      ]
     },
     "execution_count": 400,
     "metadata": {},
     "output_type": "execute_result"
    }
   ],
   "source": [
    "len(l)"
   ]
  },
  {
   "cell_type": "code",
   "execution_count": 403,
   "id": "16656dab-255b-4047-92d0-b01a269b0960",
   "metadata": {},
   "outputs": [
    {
     "data": {
      "text/plain": [
       "11"
      ]
     },
     "execution_count": 403,
     "metadata": {},
     "output_type": "execute_result"
    }
   ],
   "source": [
    "len(index)"
   ]
  },
  {
   "cell_type": "code",
   "execution_count": 405,
   "id": "e0a8e1cf-94fe-4dae-8757-7e2697e93750",
   "metadata": {},
   "outputs": [
    {
     "data": {
      "text/plain": [
       "[1, 2]"
      ]
     },
     "execution_count": 405,
     "metadata": {},
     "output_type": "execute_result"
    }
   ],
   "source": [
    "n1=[1,2]\n",
    "n1"
   ]
  },
  {
   "cell_type": "code",
   "execution_count": 407,
   "id": "cc084b45-327e-4bcd-8d57-072675b7c0e6",
   "metadata": {},
   "outputs": [
    {
     "data": {
      "text/plain": [
       "[10, 20, 30, 'nit', True, (1+2j), 3.0]"
      ]
     },
     "execution_count": 407,
     "metadata": {},
     "output_type": "execute_result"
    }
   ],
   "source": [
    "l"
   ]
  },
  {
   "cell_type": "code",
   "execution_count": 409,
   "id": "4262437e-531b-4a9b-840c-d8b7bacf0fb2",
   "metadata": {},
   "outputs": [],
   "source": [
    "l.remove(10)"
   ]
  },
  {
   "cell_type": "code",
   "execution_count": 411,
   "id": "c1177cc2-f03b-434b-8e69-0cfab8d16a0e",
   "metadata": {},
   "outputs": [
    {
     "data": {
      "text/plain": [
       "[20, 30, 'nit', True, (1+2j), 3.0, 10]"
      ]
     },
     "execution_count": 411,
     "metadata": {},
     "output_type": "execute_result"
    }
   ],
   "source": [
    "l.append(10)\n",
    "l"
   ]
  },
  {
   "cell_type": "code",
   "execution_count": 413,
   "id": "37091626-b600-4aa1-8a25-d963daf54cc0",
   "metadata": {},
   "outputs": [
    {
     "data": {
      "text/plain": [
       "[20, 30, 'nit', True, (1+2j), 3.0, 10, 10]"
      ]
     },
     "execution_count": 413,
     "metadata": {},
     "output_type": "execute_result"
    }
   ],
   "source": [
    "l.append(10)\n",
    "l"
   ]
  },
  {
   "cell_type": "code",
   "execution_count": 415,
   "id": "48577432-0763-4000-9234-dc44d1021cd9",
   "metadata": {},
   "outputs": [],
   "source": [
    "l.remove(10)"
   ]
  },
  {
   "cell_type": "code",
   "execution_count": 417,
   "id": "0c7b3736-54f5-4f80-9e8f-43710905f459",
   "metadata": {},
   "outputs": [
    {
     "data": {
      "text/plain": [
       "[20, 30, 'nit', True, (1+2j), 3.0, 10]"
      ]
     },
     "execution_count": 417,
     "metadata": {},
     "output_type": "execute_result"
    }
   ],
   "source": [
    "l"
   ]
  },
  {
   "cell_type": "code",
   "execution_count": 419,
   "id": "2a41ee6b-4c03-444d-ada8-bb026dc94de5",
   "metadata": {},
   "outputs": [
    {
     "data": {
      "text/plain": [
       "[20, 30, 'nit', True, (1+2j), 3.0, 10]"
      ]
     },
     "execution_count": 419,
     "metadata": {},
     "output_type": "execute_result"
    }
   ],
   "source": [
    "l"
   ]
  },
  {
   "cell_type": "code",
   "execution_count": 420,
   "id": "0a6ac7fe-de18-4697-ad2d-f48072d8e533",
   "metadata": {},
   "outputs": [
    {
     "data": {
      "text/plain": [
       "[20, 30, 'nit', True, (1+2j), 3.0, 10]"
      ]
     },
     "execution_count": 420,
     "metadata": {},
     "output_type": "execute_result"
    }
   ],
   "source": [
    "l1=l.copy()\n",
    "l1"
   ]
  },
  {
   "cell_type": "code",
   "execution_count": 423,
   "id": "a2df3371-b6da-4425-acff-56556c39954c",
   "metadata": {},
   "outputs": [
    {
     "data": {
      "text/plain": [
       "True"
      ]
     },
     "execution_count": 423,
     "metadata": {},
     "output_type": "execute_result"
    }
   ],
   "source": [
    "l==l1"
   ]
  },
  {
   "cell_type": "code",
   "execution_count": 425,
   "id": "27813361-43cc-4614-aca2-58631859bca6",
   "metadata": {},
   "outputs": [
    {
     "data": {
      "text/plain": [
       "1"
      ]
     },
     "execution_count": 425,
     "metadata": {},
     "output_type": "execute_result"
    }
   ],
   "source": [
    "l.count(3)"
   ]
  },
  {
   "cell_type": "code",
   "execution_count": 427,
   "id": "57c95860-dc27-4496-9126-143750391b10",
   "metadata": {},
   "outputs": [
    {
     "data": {
      "text/plain": [
       "[20, 30, 'nit', True, (1+2j), 3.0, 10, 20]"
      ]
     },
     "execution_count": 427,
     "metadata": {},
     "output_type": "execute_result"
    }
   ],
   "source": [
    "l.append(20)\n",
    "l"
   ]
  },
  {
   "cell_type": "code",
   "execution_count": 429,
   "id": "016bc0e5-e4f2-4660-94c6-15e490c78635",
   "metadata": {},
   "outputs": [
    {
     "data": {
      "text/plain": [
       "2"
      ]
     },
     "execution_count": 429,
     "metadata": {},
     "output_type": "execute_result"
    }
   ],
   "source": [
    "l.count(20)"
   ]
  },
  {
   "cell_type": "code",
   "execution_count": 431,
   "id": "edb9ca18-42c4-4c37-9de0-564b77616349",
   "metadata": {},
   "outputs": [
    {
     "data": {
      "text/plain": [
       "False"
      ]
     },
     "execution_count": 431,
     "metadata": {},
     "output_type": "execute_result"
    }
   ],
   "source": [
    "l==l1"
   ]
  },
  {
   "cell_type": "code",
   "execution_count": 432,
   "id": "cd71d696-371a-42a2-b8f3-552d54f20882",
   "metadata": {},
   "outputs": [
    {
     "name": "stdout",
     "output_type": "stream",
     "text": [
      "[20, 30, 'nit', True, (1+2j), 3.0, 10, 20]\n",
      "[20, 30, 'nit', True, (1+2j), 3.0, 10]\n"
     ]
    }
   ],
   "source": [
    "print(l)\n",
    "print(l1)"
   ]
  },
  {
   "cell_type": "code",
   "execution_count": 433,
   "id": "e6caf165-e5ea-48d7-a15d-b9b7892dd532",
   "metadata": {},
   "outputs": [],
   "source": [
    "l1.append(20)"
   ]
  },
  {
   "cell_type": "code",
   "execution_count": 437,
   "id": "84a69cc0-37af-4527-b51f-92949ad5c61b",
   "metadata": {},
   "outputs": [
    {
     "data": {
      "text/plain": [
       "[20, 30, 'nit', True, (1+2j), 3.0, 10, 20]"
      ]
     },
     "execution_count": 437,
     "metadata": {},
     "output_type": "execute_result"
    }
   ],
   "source": [
    "l1"
   ]
  },
  {
   "cell_type": "code",
   "execution_count": 438,
   "id": "158dab93-6953-4152-a48b-676c96b2a92b",
   "metadata": {},
   "outputs": [
    {
     "data": {
      "text/plain": [
       "True"
      ]
     },
     "execution_count": 438,
     "metadata": {},
     "output_type": "execute_result"
    }
   ],
   "source": [
    "l==l1"
   ]
  },
  {
   "cell_type": "code",
   "execution_count": 440,
   "id": "0d60ff3e-50d6-4bb9-b2de-21c53ff247f1",
   "metadata": {},
   "outputs": [
    {
     "name": "stdout",
     "output_type": "stream",
     "text": [
      "8\n",
      "8\n"
     ]
    }
   ],
   "source": [
    "print(len(l1))\n",
    "print(len(l))"
   ]
  },
  {
   "cell_type": "code",
   "execution_count": 443,
   "id": "553fb2fe-0f6f-4614-bb16-e595c7997a90",
   "metadata": {},
   "outputs": [
    {
     "data": {
      "text/plain": [
       "[20, 30, 'nit', True, (1+2j), 3.0, 10, 20]"
      ]
     },
     "execution_count": 443,
     "metadata": {},
     "output_type": "execute_result"
    }
   ],
   "source": [
    "l[:]"
   ]
  },
  {
   "cell_type": "code",
   "execution_count": 445,
   "id": "99c71286-b2f9-473c-8bf8-5a14b975e5c5",
   "metadata": {},
   "outputs": [
    {
     "data": {
      "text/plain": [
       "(1+2j)"
      ]
     },
     "execution_count": 445,
     "metadata": {},
     "output_type": "execute_result"
    }
   ],
   "source": [
    "l[4]"
   ]
  },
  {
   "cell_type": "code",
   "execution_count": 447,
   "id": "c440957b-8742-415d-9551-4199cd9e5a24",
   "metadata": {},
   "outputs": [
    {
     "data": {
      "text/plain": [
       "['nit', True]"
      ]
     },
     "execution_count": 447,
     "metadata": {},
     "output_type": "execute_result"
    }
   ],
   "source": [
    "l[2:4]"
   ]
  },
  {
   "cell_type": "code",
   "execution_count": 448,
   "id": "0f48c49d-baf7-4f5f-983d-6cbd226e756b",
   "metadata": {},
   "outputs": [
    {
     "data": {
      "text/plain": [
       "[20, 10, 3.0, (1+2j), True, 'nit', 30, 20]"
      ]
     },
     "execution_count": 448,
     "metadata": {},
     "output_type": "execute_result"
    }
   ],
   "source": [
    "l[::-1]"
   ]
  },
  {
   "cell_type": "code",
   "execution_count": 451,
   "id": "3b516c5c-8349-46fb-acea-e9faec9610ba",
   "metadata": {},
   "outputs": [
    {
     "data": {
      "text/plain": [
       "[30, True, 3.0]"
      ]
     },
     "execution_count": 451,
     "metadata": {},
     "output_type": "execute_result"
    }
   ],
   "source": [
    "l[1:7:2]"
   ]
  },
  {
   "cell_type": "code",
   "execution_count": 453,
   "id": "716d2700-7ba2-4309-a27e-e581ea6190e4",
   "metadata": {},
   "outputs": [
    {
     "data": {
      "text/plain": [
       "2"
      ]
     },
     "execution_count": 453,
     "metadata": {},
     "output_type": "execute_result"
    }
   ],
   "source": [
    "l.count(20)"
   ]
  },
  {
   "cell_type": "markdown",
   "id": "fb18ae2c-b261-4b65-b472-48cb3721686e",
   "metadata": {},
   "source": [
    "# Seventh Class"
   ]
  },
  {
   "cell_type": "code",
   "execution_count": 456,
   "id": "9b5afb18-96ab-4601-8a1d-4cac624e282e",
   "metadata": {},
   "outputs": [
    {
     "data": {
      "text/plain": [
       "[20, 30, 'nit', True, (1+2j), 3.0, 10, 20]"
      ]
     },
     "execution_count": 456,
     "metadata": {},
     "output_type": "execute_result"
    }
   ],
   "source": [
    "l"
   ]
  },
  {
   "cell_type": "code",
   "execution_count": 458,
   "id": "0de88287-95ca-4525-83db-edecbabfb5fc",
   "metadata": {},
   "outputs": [
    {
     "data": {
      "text/plain": [
       "[20, 30, 'nit', True, (1+2j), 3.0, 10, 20]"
      ]
     },
     "execution_count": 458,
     "metadata": {},
     "output_type": "execute_result"
    }
   ],
   "source": [
    "l1"
   ]
  },
  {
   "cell_type": "code",
   "execution_count": 460,
   "id": "abc6f589-4eaf-4d23-ba8b-901270fb0e3c",
   "metadata": {},
   "outputs": [
    {
     "data": {
      "text/plain": [
       "[]"
      ]
     },
     "execution_count": 460,
     "metadata": {},
     "output_type": "execute_result"
    }
   ],
   "source": [
    "l2=[]\n",
    "l2"
   ]
  },
  {
   "cell_type": "code",
   "execution_count": 462,
   "id": "bb7e9e41-e379-4049-8b01-a8f0a942bc92",
   "metadata": {},
   "outputs": [],
   "source": [
    "l2.append(1)\n",
    "l2.append(2.3)\n",
    "l2.append(True)\n",
    "l2.append(1+2j)\n",
    "l2.append('nit')"
   ]
  },
  {
   "cell_type": "code",
   "execution_count": 464,
   "id": "e9557096-989d-45b1-8f27-0a617ca2ad4a",
   "metadata": {},
   "outputs": [
    {
     "data": {
      "text/plain": [
       "[1, 2.3, True, (1+2j), 'nit']"
      ]
     },
     "execution_count": 464,
     "metadata": {},
     "output_type": "execute_result"
    }
   ],
   "source": [
    "l2"
   ]
  },
  {
   "cell_type": "code",
   "execution_count": 466,
   "id": "73c6fea4-6c39-49c1-b60e-2af0d10ef711",
   "metadata": {},
   "outputs": [
    {
     "data": {
      "text/plain": [
       "[1, 2.3, True, (1+2j), 'nit']"
      ]
     },
     "execution_count": 466,
     "metadata": {},
     "output_type": "execute_result"
    }
   ],
   "source": [
    "l3=l2.copy()\n",
    "l3"
   ]
  },
  {
   "cell_type": "code",
   "execution_count": 468,
   "id": "fa5af02e-d6d0-4d98-9423-ffcc55252893",
   "metadata": {},
   "outputs": [
    {
     "data": {
      "text/plain": [
       "5"
      ]
     },
     "execution_count": 468,
     "metadata": {},
     "output_type": "execute_result"
    }
   ],
   "source": [
    "len(l3)"
   ]
  },
  {
   "cell_type": "code",
   "execution_count": 470,
   "id": "e58ba547-aa9d-41d7-9fda-1dfceb92bed8",
   "metadata": {},
   "outputs": [
    {
     "data": {
      "text/plain": [
       "[]"
      ]
     },
     "execution_count": 470,
     "metadata": {},
     "output_type": "execute_result"
    }
   ],
   "source": [
    "l3.clear()\n",
    "l3"
   ]
  },
  {
   "cell_type": "code",
   "execution_count": 472,
   "id": "0210061d-37a8-4adc-9c8f-094d64f864eb",
   "metadata": {},
   "outputs": [
    {
     "data": {
      "text/plain": [
       "0"
      ]
     },
     "execution_count": 472,
     "metadata": {},
     "output_type": "execute_result"
    }
   ],
   "source": [
    "len(l3)"
   ]
  },
  {
   "cell_type": "code",
   "execution_count": 474,
   "id": "a901c57a-ae69-45d5-afd2-3283d4d03911",
   "metadata": {},
   "outputs": [],
   "source": [
    "del(l3)"
   ]
  },
  {
   "cell_type": "code",
   "execution_count": 476,
   "id": "453491ce-a1ca-4200-a28d-4d402b0d9ae2",
   "metadata": {},
   "outputs": [
    {
     "ename": "NameError",
     "evalue": "name 'l3' is not defined",
     "output_type": "error",
     "traceback": [
      "\u001b[1;31m---------------------------------------------------------------------------\u001b[0m",
      "\u001b[1;31mNameError\u001b[0m                                 Traceback (most recent call last)",
      "Cell \u001b[1;32mIn[476], line 1\u001b[0m\n\u001b[1;32m----> 1\u001b[0m l3\n",
      "\u001b[1;31mNameError\u001b[0m: name 'l3' is not defined"
     ]
    }
   ],
   "source": [
    "l3"
   ]
  },
  {
   "cell_type": "code",
   "execution_count": 478,
   "id": "0b90c23a-1b50-45a6-b609-42978738fc26",
   "metadata": {},
   "outputs": [
    {
     "data": {
      "text/plain": [
       "[1, 2.3, True, (1+2j), 'nit']"
      ]
     },
     "execution_count": 478,
     "metadata": {},
     "output_type": "execute_result"
    }
   ],
   "source": [
    "l2"
   ]
  },
  {
   "cell_type": "code",
   "execution_count": 480,
   "id": "f3a23ba0-0285-42af-9a89-d1c1fe49f0f9",
   "metadata": {},
   "outputs": [],
   "source": [
    "l2.remove(2.3)"
   ]
  },
  {
   "cell_type": "code",
   "execution_count": 482,
   "id": "918c2ff3-0a47-4a2e-912e-e01ac7d4a250",
   "metadata": {},
   "outputs": [
    {
     "data": {
      "text/plain": [
       "[1, True, (1+2j), 'nit']"
      ]
     },
     "execution_count": 482,
     "metadata": {},
     "output_type": "execute_result"
    }
   ],
   "source": [
    "l2"
   ]
  },
  {
   "cell_type": "code",
   "execution_count": 484,
   "id": "3470b26b-c825-4443-82f5-8fb5940f6ba5",
   "metadata": {},
   "outputs": [
    {
     "data": {
      "text/plain": [
       "[1, 2, 3, 4]"
      ]
     },
     "execution_count": 484,
     "metadata": {},
     "output_type": "execute_result"
    }
   ],
   "source": [
    "l15=[1,2,3,4]\n",
    "l15"
   ]
  },
  {
   "cell_type": "code",
   "execution_count": 485,
   "id": "f843e28b-3c7e-4c1f-ae28-c4851d4d4572",
   "metadata": {},
   "outputs": [
    {
     "data": {
      "text/plain": [
       "[1, 2, 3, 4]"
      ]
     },
     "execution_count": 485,
     "metadata": {},
     "output_type": "execute_result"
    }
   ],
   "source": [
    "l14=l15.copy()\n",
    "l14"
   ]
  },
  {
   "cell_type": "code",
   "execution_count": 487,
   "id": "9d968c37-ce80-4564-947a-aa1a3cb2ad18",
   "metadata": {},
   "outputs": [],
   "source": [
    "del(l15)"
   ]
  },
  {
   "cell_type": "code",
   "execution_count": 489,
   "id": "fbf0ceba-0a7c-4bab-a14d-107e9acba1a5",
   "metadata": {},
   "outputs": [
    {
     "ename": "NameError",
     "evalue": "name 'l15' is not defined",
     "output_type": "error",
     "traceback": [
      "\u001b[1;31m---------------------------------------------------------------------------\u001b[0m",
      "\u001b[1;31mNameError\u001b[0m                                 Traceback (most recent call last)",
      "Cell \u001b[1;32mIn[489], line 1\u001b[0m\n\u001b[1;32m----> 1\u001b[0m l15\n",
      "\u001b[1;31mNameError\u001b[0m: name 'l15' is not defined"
     ]
    }
   ],
   "source": [
    "l15"
   ]
  },
  {
   "cell_type": "code",
   "execution_count": 492,
   "id": "5a75b996-9877-4cf6-9fb8-7a036e66c4ce",
   "metadata": {},
   "outputs": [
    {
     "data": {
      "text/plain": [
       "[1, 2, 3, 4]"
      ]
     },
     "execution_count": 492,
     "metadata": {},
     "output_type": "execute_result"
    }
   ],
   "source": [
    "l14"
   ]
  },
  {
   "cell_type": "code",
   "execution_count": 493,
   "id": "632880d2-60ff-43c1-94e7-1e13e085e343",
   "metadata": {},
   "outputs": [],
   "source": [
    "del(l14)"
   ]
  },
  {
   "cell_type": "code",
   "execution_count": 496,
   "id": "04d0c9b2-3452-4102-9695-3d27b5e7a130",
   "metadata": {},
   "outputs": [],
   "source": [
    "l3=[]\n",
    "l3.append(10)"
   ]
  },
  {
   "cell_type": "code",
   "execution_count": 498,
   "id": "39b3b569-be79-4414-98ad-7ab885f8498c",
   "metadata": {},
   "outputs": [
    {
     "name": "stdout",
     "output_type": "stream",
     "text": [
      "[1, True, (1+2j), 'nit']\n",
      "[10]\n"
     ]
    }
   ],
   "source": [
    "print(l2)\n",
    "print(l3)"
   ]
  },
  {
   "cell_type": "code",
   "execution_count": 500,
   "id": "f8d3cc4b-ef1e-484c-9df2-ba5650c50698",
   "metadata": {},
   "outputs": [],
   "source": [
    "l3.extend(l2)"
   ]
  },
  {
   "cell_type": "code",
   "execution_count": 502,
   "id": "b7c21982-8f57-43fe-9c44-91c2e9cd5371",
   "metadata": {},
   "outputs": [
    {
     "data": {
      "text/plain": [
       "[10, 1, True, (1+2j), 'nit']"
      ]
     },
     "execution_count": 502,
     "metadata": {},
     "output_type": "execute_result"
    }
   ],
   "source": [
    "l3"
   ]
  },
  {
   "cell_type": "code",
   "execution_count": 504,
   "id": "18ca2f3a-5c96-4dcd-a42e-91a40925ac01",
   "metadata": {},
   "outputs": [
    {
     "data": {
      "text/plain": [
       "[1, True, (1+2j), 'nit']"
      ]
     },
     "execution_count": 504,
     "metadata": {},
     "output_type": "execute_result"
    }
   ],
   "source": [
    "l2"
   ]
  },
  {
   "cell_type": "code",
   "execution_count": 506,
   "id": "26fc28d0-9e15-4b3b-9ab6-5781247df24a",
   "metadata": {},
   "outputs": [
    {
     "data": {
      "text/plain": [
       "[1, True, (1+2j), 'nit', 10]"
      ]
     },
     "execution_count": 506,
     "metadata": {},
     "output_type": "execute_result"
    }
   ],
   "source": [
    "l2.append(10)\n",
    "l2"
   ]
  },
  {
   "cell_type": "code",
   "execution_count": 507,
   "id": "d1146b2b-783a-4057-8ce7-3989fcbcd89e",
   "metadata": {},
   "outputs": [
    {
     "data": {
      "text/plain": [
       "[10, 1, True, (1+2j), 'nit', 1, True, (1+2j), 'nit', 10]"
      ]
     },
     "execution_count": 507,
     "metadata": {},
     "output_type": "execute_result"
    }
   ],
   "source": [
    "l3.extend(l2)\n",
    "l3"
   ]
  },
  {
   "cell_type": "code",
   "execution_count": 510,
   "id": "e28078a2-9274-40a1-83e1-9b85e10141b3",
   "metadata": {},
   "outputs": [
    {
     "data": {
      "text/plain": [
       "1"
      ]
     },
     "execution_count": 510,
     "metadata": {},
     "output_type": "execute_result"
    }
   ],
   "source": [
    "l3.index(1)"
   ]
  },
  {
   "cell_type": "code",
   "execution_count": 511,
   "id": "4bec7a25-5bc6-475a-bf3e-b012cefab57d",
   "metadata": {},
   "outputs": [
    {
     "data": {
      "text/plain": [
       "0"
      ]
     },
     "execution_count": 511,
     "metadata": {},
     "output_type": "execute_result"
    }
   ],
   "source": [
    "l3.index(10)"
   ]
  },
  {
   "cell_type": "code",
   "execution_count": 514,
   "id": "30f840ae-8969-4993-8993-f5021a61d7a0",
   "metadata": {},
   "outputs": [
    {
     "data": {
      "text/plain": [
       "1"
      ]
     },
     "execution_count": 514,
     "metadata": {},
     "output_type": "execute_result"
    }
   ],
   "source": [
    "l3.index(True)"
   ]
  },
  {
   "cell_type": "code",
   "execution_count": 516,
   "id": "d28f4c3c-6c6f-4315-8dc9-f7cc355fea53",
   "metadata": {},
   "outputs": [
    {
     "data": {
      "text/plain": [
       "4"
      ]
     },
     "execution_count": 516,
     "metadata": {},
     "output_type": "execute_result"
    }
   ],
   "source": [
    "l3.index('nit')"
   ]
  },
  {
   "cell_type": "code",
   "execution_count": 517,
   "id": "9aa8e4b1-97fb-4581-9a2a-747ff27544e0",
   "metadata": {},
   "outputs": [
    {
     "data": {
      "text/plain": [
       "[10, 1, True, (1+2j), 'nit', 1, True, (1+2j), 'nit', 10]"
      ]
     },
     "execution_count": 517,
     "metadata": {},
     "output_type": "execute_result"
    }
   ],
   "source": [
    "l3"
   ]
  },
  {
   "cell_type": "code",
   "execution_count": 520,
   "id": "e163b8a5-1a85-4cc4-9ff7-c941d2e2ef27",
   "metadata": {},
   "outputs": [
    {
     "data": {
      "text/plain": [
       "[10, 1, True, (1+2j), 'nit', 'technology', 1, True, (1+2j), 'nit', 10]"
      ]
     },
     "execution_count": 520,
     "metadata": {},
     "output_type": "execute_result"
    }
   ],
   "source": [
    "l3.insert(5, 'technology')\n",
    "l3"
   ]
  },
  {
   "cell_type": "code",
   "execution_count": 522,
   "id": "2d2185af-0f80-47eb-bce4-c210298441b4",
   "metadata": {},
   "outputs": [
    {
     "data": {
      "text/plain": [
       "[10, 1, True, False, (1+2j), 'nit', 'technology', 1, True, (1+2j), 'nit', 10]"
      ]
     },
     "execution_count": 522,
     "metadata": {},
     "output_type": "execute_result"
    }
   ],
   "source": [
    "l3.insert(3, False)\n",
    "l3"
   ]
  },
  {
   "cell_type": "code",
   "execution_count": 524,
   "id": "76ea96e4-4cc3-4a29-bf06-c84163944cc2",
   "metadata": {},
   "outputs": [
    {
     "data": {
      "text/plain": [
       "[10, 1, True, False, (1+2j), 'nit', 'technology', 1, True, (1+2j), 'nit', 10]"
      ]
     },
     "execution_count": 524,
     "metadata": {},
     "output_type": "execute_result"
    }
   ],
   "source": [
    "l3"
   ]
  },
  {
   "cell_type": "code",
   "execution_count": 526,
   "id": "a93a1738-25fa-4473-843d-2f4f4de2c589",
   "metadata": {},
   "outputs": [
    {
     "data": {
      "text/plain": [
       "[10, 1, True, False, (1+2j), 'nit', 'technology', 1, True, (1+2j), 'nit']"
      ]
     },
     "execution_count": 526,
     "metadata": {},
     "output_type": "execute_result"
    }
   ],
   "source": [
    "l3.pop()\n",
    "l3"
   ]
  },
  {
   "cell_type": "code",
   "execution_count": 528,
   "id": "c356a0c0-5794-4e45-aeb8-0e62e511725a",
   "metadata": {},
   "outputs": [
    {
     "data": {
      "text/plain": [
       "[10, 1, True, False, 'nit', 'technology', 1, True, (1+2j), 'nit']"
      ]
     },
     "execution_count": 528,
     "metadata": {},
     "output_type": "execute_result"
    }
   ],
   "source": [
    "l3.pop(4)\n",
    "l3"
   ]
  },
  {
   "cell_type": "code",
   "execution_count": 530,
   "id": "b1a10b1d-2fcc-4d33-9d46-1a08dd05420e",
   "metadata": {},
   "outputs": [
    {
     "data": {
      "text/plain": [
       "[10, 100, 3, 45, 76, 24]"
      ]
     },
     "execution_count": 530,
     "metadata": {},
     "output_type": "execute_result"
    }
   ],
   "source": [
    "l4=[10,100,3,45,76,24]\n",
    "l4"
   ]
  },
  {
   "cell_type": "code",
   "execution_count": 532,
   "id": "acd49baf-c759-4b80-b5d8-e557573694ab",
   "metadata": {},
   "outputs": [
    {
     "data": {
      "text/plain": [
       "[3, 10, 24, 45, 76, 100]"
      ]
     },
     "execution_count": 532,
     "metadata": {},
     "output_type": "execute_result"
    }
   ],
   "source": [
    "l4.sort()\n",
    "l4"
   ]
  },
  {
   "cell_type": "code",
   "execution_count": 534,
   "id": "865e9f3e-3a49-40de-a4d5-9e0084f67e4d",
   "metadata": {},
   "outputs": [
    {
     "data": {
      "text/plain": [
       "[100, 76, 45, 24, 10, 3]"
      ]
     },
     "execution_count": 534,
     "metadata": {},
     "output_type": "execute_result"
    }
   ],
   "source": [
    "l4.sort(reverse=True)\n",
    "l4"
   ]
  },
  {
   "cell_type": "code",
   "execution_count": 536,
   "id": "fa5d960c-3631-41fb-9b12-ea192f6a19b2",
   "metadata": {},
   "outputs": [
    {
     "data": {
      "text/plain": [
       "[3, 10, 24, 45, 76, 100]"
      ]
     },
     "execution_count": 536,
     "metadata": {},
     "output_type": "execute_result"
    }
   ],
   "source": [
    "l4.sort(reverse=False)\n",
    "l4"
   ]
  },
  {
   "cell_type": "code",
   "execution_count": 538,
   "id": "5ad2bd7f-3e26-4a95-bfb8-39ad7aba99de",
   "metadata": {},
   "outputs": [
    {
     "data": {
      "text/plain": [
       "[3, 10, 24, 45, 76, 100]"
      ]
     },
     "execution_count": 538,
     "metadata": {},
     "output_type": "execute_result"
    }
   ],
   "source": [
    "l4.sort(reverse=False)\n",
    "l4"
   ]
  },
  {
   "cell_type": "code",
   "execution_count": 540,
   "id": "6bc1578c-5489-4b10-a69c-ef21d884c7e6",
   "metadata": {},
   "outputs": [
    {
     "data": {
      "text/plain": [
       "['z', 'm', 'c', 'w']"
      ]
     },
     "execution_count": 540,
     "metadata": {},
     "output_type": "execute_result"
    }
   ],
   "source": [
    "l5=['z', 'm', 'c', 'w']\n",
    "l5"
   ]
  },
  {
   "cell_type": "code",
   "execution_count": 542,
   "id": "82135ee4-afa3-4b4b-b6dc-16e2c7e476e6",
   "metadata": {},
   "outputs": [
    {
     "data": {
      "text/plain": [
       "['z', 'w', 'm', 'c']"
      ]
     },
     "execution_count": 542,
     "metadata": {},
     "output_type": "execute_result"
    }
   ],
   "source": [
    "l5.sort(reverse=True)\n",
    "l5"
   ]
  },
  {
   "cell_type": "code",
   "execution_count": 544,
   "id": "4188436b-48d5-49ba-bc49-409323621746",
   "metadata": {},
   "outputs": [
    {
     "data": {
      "text/plain": [
       "['c', 'm', 'w', 'z']"
      ]
     },
     "execution_count": 544,
     "metadata": {},
     "output_type": "execute_result"
    }
   ],
   "source": [
    "l5.sort()\n",
    "l5"
   ]
  },
  {
   "cell_type": "code",
   "execution_count": 546,
   "id": "4f8a2416-69b0-44d7-9c45-d220bdb44a90",
   "metadata": {},
   "outputs": [
    {
     "data": {
      "text/plain": [
       "[1, 2, 3, 'a', 'b', 'c']"
      ]
     },
     "execution_count": 546,
     "metadata": {},
     "output_type": "execute_result"
    }
   ],
   "source": [
    "l6 = [1,2,3,'a', 'b', 'c']\n",
    "l6"
   ]
  },
  {
   "cell_type": "code",
   "execution_count": 548,
   "id": "248a30f1-e333-4c59-ba19-8810a1200aed",
   "metadata": {},
   "outputs": [
    {
     "ename": "TypeError",
     "evalue": "'<' not supported between instances of 'str' and 'int'",
     "output_type": "error",
     "traceback": [
      "\u001b[1;31m---------------------------------------------------------------------------\u001b[0m",
      "\u001b[1;31mTypeError\u001b[0m                                 Traceback (most recent call last)",
      "Cell \u001b[1;32mIn[548], line 1\u001b[0m\n\u001b[1;32m----> 1\u001b[0m l6\u001b[38;5;241m.\u001b[39msort()\n",
      "\u001b[1;31mTypeError\u001b[0m: '<' not supported between instances of 'str' and 'int'"
     ]
    }
   ],
   "source": [
    "l6.sort()"
   ]
  },
  {
   "cell_type": "code",
   "execution_count": 550,
   "id": "c5dd563f-d986-40d6-8492-7c6d648d7d11",
   "metadata": {},
   "outputs": [
    {
     "data": {
      "text/plain": [
       "[10, 1, True, False, 'nit', 'technology', 1, True, (1+2j), 'nit']"
      ]
     },
     "execution_count": 550,
     "metadata": {},
     "output_type": "execute_result"
    }
   ],
   "source": [
    "l3"
   ]
  },
  {
   "cell_type": "code",
   "execution_count": 552,
   "id": "e6d2b99f-8e9a-4eed-b9c1-138626a587a9",
   "metadata": {},
   "outputs": [
    {
     "data": {
      "text/plain": [
       "['nit', (1+2j), True, 1, 'technology', 'nit', False, True, 1, 10]"
      ]
     },
     "execution_count": 552,
     "metadata": {},
     "output_type": "execute_result"
    }
   ],
   "source": [
    "l3.reverse()\n",
    "l3"
   ]
  },
  {
   "cell_type": "code",
   "execution_count": 554,
   "id": "0eba2b04-2580-4b45-a297-54d7724cebde",
   "metadata": {},
   "outputs": [
    {
     "data": {
      "text/plain": [
       "[1, True, (1+2j), 'nit', 10]"
      ]
     },
     "execution_count": 554,
     "metadata": {},
     "output_type": "execute_result"
    }
   ],
   "source": [
    "l2"
   ]
  },
  {
   "cell_type": "code",
   "execution_count": 556,
   "id": "26309b95-6289-44df-a231-3f979b7e35c8",
   "metadata": {},
   "outputs": [
    {
     "data": {
      "text/plain": [
       "3"
      ]
     },
     "execution_count": 556,
     "metadata": {},
     "output_type": "execute_result"
    }
   ],
   "source": [
    "l2.index('nit')"
   ]
  },
  {
   "cell_type": "code",
   "execution_count": 558,
   "id": "741fe55f-ed5b-47a9-902e-83a0d7768023",
   "metadata": {},
   "outputs": [
    {
     "name": "stdout",
     "output_type": "stream",
     "text": [
      "n\n",
      "i\n",
      "t\n"
     ]
    }
   ],
   "source": [
    "print(l2[3][0])\n",
    "print(l2[3][1])\n",
    "print(l2[3][2])"
   ]
  },
  {
   "cell_type": "markdown",
   "id": "76b974c2-eba4-43b4-842b-df25f6f3646d",
   "metadata": {},
   "source": [
    "# Eigth Class"
   ]
  },
  {
   "cell_type": "code",
   "execution_count": 561,
   "id": "09f052dc-adb1-4d21-9f10-9ca1578438b8",
   "metadata": {},
   "outputs": [
    {
     "data": {
      "text/plain": [
       "['nit', (1+2j), True, 1, 'technology', 'nit', False, True, 1, 10]"
      ]
     },
     "execution_count": 561,
     "metadata": {},
     "output_type": "execute_result"
    }
   ],
   "source": [
    "l3"
   ]
  },
  {
   "cell_type": "code",
   "execution_count": 562,
   "id": "e0d9e63a-f686-4ace-8909-1f081642a4de",
   "metadata": {},
   "outputs": [
    {
     "data": {
      "text/plain": [
       "['nit', (1+2j), 0, 1, 'technology', 'nit', False, True, 1, 10]"
      ]
     },
     "execution_count": 562,
     "metadata": {},
     "output_type": "execute_result"
    }
   ],
   "source": [
    "l3[2]=0\n",
    "l3"
   ]
  },
  {
   "cell_type": "code",
   "execution_count": 565,
   "id": "92a52aff-c204-4e45-8083-1120d0333ed6",
   "metadata": {},
   "outputs": [
    {
     "data": {
      "text/plain": [
       "['nit', (1+2j), 0, 1, 'technology', 'mit', False, True, 1, 10]"
      ]
     },
     "execution_count": 565,
     "metadata": {},
     "output_type": "execute_result"
    }
   ],
   "source": [
    "l3[5]='mit'\n",
    "l3"
   ]
  },
  {
   "cell_type": "code",
   "execution_count": 567,
   "id": "8b324ba2-e4f3-47c4-8813-892970889c10",
   "metadata": {},
   "outputs": [
    {
     "name": "stdout",
     "output_type": "stream",
     "text": [
      "nit\n",
      "(1+2j)\n",
      "0\n",
      "1\n",
      "technology\n",
      "mit\n",
      "False\n",
      "True\n",
      "1\n",
      "10\n"
     ]
    }
   ],
   "source": [
    "for i in l3:\n",
    "    print(i)"
   ]
  },
  {
   "cell_type": "code",
   "execution_count": 569,
   "id": "c0b9722e-e9f9-4992-bf93-8f7f3857ef1b",
   "metadata": {},
   "outputs": [],
   "source": [
    "l6=['sbi', 'icici']\n",
    "l7=['hdfc', 'kotak']"
   ]
  },
  {
   "cell_type": "code",
   "execution_count": 571,
   "id": "7d59ddf8-09dd-4031-b53f-bb42e7bf9405",
   "metadata": {},
   "outputs": [
    {
     "data": {
      "text/plain": [
       "['sbi', 'icici', 'hdfc', 'kotak']"
      ]
     },
     "execution_count": 571,
     "metadata": {},
     "output_type": "execute_result"
    }
   ],
   "source": [
    "family_bank=l6+l7\n",
    "family_bank"
   ]
  },
  {
   "cell_type": "code",
   "execution_count": 573,
   "id": "4720982f-8d72-4f64-8a38-51a83440abb1",
   "metadata": {},
   "outputs": [
    {
     "data": {
      "text/plain": [
       "[20, 30, 'nit', True, (1+2j), 3.0, 10, 20]"
      ]
     },
     "execution_count": 573,
     "metadata": {},
     "output_type": "execute_result"
    }
   ],
   "source": [
    "l"
   ]
  },
  {
   "cell_type": "code",
   "execution_count": 575,
   "id": "ed5752d9-e278-4147-b6b6-34137507a333",
   "metadata": {},
   "outputs": [
    {
     "data": {
      "text/plain": [
       "[20, 30, 'nit', True, (1+2j), 3.0, 10, 20]"
      ]
     },
     "execution_count": 575,
     "metadata": {},
     "output_type": "execute_result"
    }
   ],
   "source": [
    "l[:]"
   ]
  },
  {
   "cell_type": "code",
   "execution_count": 577,
   "id": "bedd1725-40ac-424e-bcdf-a43b8f6bd35c",
   "metadata": {},
   "outputs": [
    {
     "data": {
      "text/plain": [
       "[20, 10, 3.0, (1+2j), True, 'nit', 30, 20]"
      ]
     },
     "execution_count": 577,
     "metadata": {},
     "output_type": "execute_result"
    }
   ],
   "source": [
    "l[::-1]"
   ]
  },
  {
   "cell_type": "code",
   "execution_count": 579,
   "id": "bf1d26d7-0b47-4ee8-a1fe-2fb9023122eb",
   "metadata": {},
   "outputs": [
    {
     "data": {
      "text/plain": [
       "[20, 3.0, True, 30]"
      ]
     },
     "execution_count": 579,
     "metadata": {},
     "output_type": "execute_result"
    }
   ],
   "source": [
    "l[::-2]"
   ]
  },
  {
   "cell_type": "code",
   "execution_count": 581,
   "id": "0f60dbfa-6480-4069-9533-843f219e81c9",
   "metadata": {},
   "outputs": [
    {
     "data": {
      "text/plain": [
       "[20, 30, 'nit', True, (1+2j), 3.0, 10, 20]"
      ]
     },
     "execution_count": 581,
     "metadata": {},
     "output_type": "execute_result"
    }
   ],
   "source": [
    "l"
   ]
  },
  {
   "cell_type": "code",
   "execution_count": 583,
   "id": "0785d733-8b6f-493d-9391-afca3710e606",
   "metadata": {},
   "outputs": [
    {
     "data": {
      "text/plain": [
       "['nit', True, (1+2j), 3.0, 10, 20]"
      ]
     },
     "execution_count": 583,
     "metadata": {},
     "output_type": "execute_result"
    }
   ],
   "source": [
    "l[2:]"
   ]
  },
  {
   "cell_type": "code",
   "execution_count": 585,
   "id": "347c8781-ed80-4ea3-aa7c-312022617182",
   "metadata": {},
   "outputs": [
    {
     "data": {
      "text/plain": [
       "[20, 30, 'nit', True]"
      ]
     },
     "execution_count": 585,
     "metadata": {},
     "output_type": "execute_result"
    }
   ],
   "source": [
    "l[:4]"
   ]
  },
  {
   "cell_type": "code",
   "execution_count": 587,
   "id": "ee8a0dbc-64db-408a-be30-8d7b80ae6a93",
   "metadata": {},
   "outputs": [
    {
     "data": {
      "text/plain": [
       "[20, 30, 'nit', True, (1+2j), 3.0, 10, 20]"
      ]
     },
     "execution_count": 587,
     "metadata": {},
     "output_type": "execute_result"
    }
   ],
   "source": [
    "l"
   ]
  },
  {
   "cell_type": "code",
   "execution_count": 589,
   "id": "48f3bb76-d5e6-4cf6-b228-060d8e35968a",
   "metadata": {},
   "outputs": [
    {
     "data": {
      "text/plain": [
       "[20, 30, 'nit', True, (1+2j), 3.0, 10]"
      ]
     },
     "execution_count": 589,
     "metadata": {},
     "output_type": "execute_result"
    }
   ],
   "source": [
    "l[:7]"
   ]
  },
  {
   "cell_type": "code",
   "execution_count": 591,
   "id": "30279596-cfb9-46a0-80ba-b4e9b7ecba8f",
   "metadata": {},
   "outputs": [
    {
     "data": {
      "text/plain": [
       "[20, True, 10]"
      ]
     },
     "execution_count": 591,
     "metadata": {},
     "output_type": "execute_result"
    }
   ],
   "source": [
    "l[0:7:3]"
   ]
  },
  {
   "cell_type": "code",
   "execution_count": 593,
   "id": "87d8f263-0038-4471-aea9-bc076f225962",
   "metadata": {},
   "outputs": [],
   "source": [
    "#Tuple"
   ]
  },
  {
   "cell_type": "code",
   "execution_count": 595,
   "id": "96b74ef0-9b61-4de4-a8f3-22a86cbbdc73",
   "metadata": {},
   "outputs": [
    {
     "data": {
      "text/plain": [
       "tuple"
      ]
     },
     "execution_count": 595,
     "metadata": {},
     "output_type": "execute_result"
    }
   ],
   "source": [
    "t = ()\n",
    "type(t)"
   ]
  },
  {
   "cell_type": "code",
   "execution_count": 597,
   "id": "d7c382eb-55d4-44f6-8cf8-3c91616f5cdc",
   "metadata": {},
   "outputs": [
    {
     "data": {
      "text/plain": [
       "tuple"
      ]
     },
     "execution_count": 597,
     "metadata": {},
     "output_type": "execute_result"
    }
   ],
   "source": [
    "t1=tuple()\n",
    "type(t1)"
   ]
  },
  {
   "cell_type": "code",
   "execution_count": 599,
   "id": "8d4d06a9-0c58-4aa8-9b06-a3d31336e9fc",
   "metadata": {},
   "outputs": [
    {
     "data": {
      "text/plain": [
       "(10, 10, 20, 30)"
      ]
     },
     "execution_count": 599,
     "metadata": {},
     "output_type": "execute_result"
    }
   ],
   "source": [
    "t = (10,10,20,30)\n",
    "t"
   ]
  },
  {
   "cell_type": "code",
   "execution_count": 600,
   "id": "5c18eb25-c8e6-480f-8e06-3711d2a981fd",
   "metadata": {},
   "outputs": [
    {
     "data": {
      "text/plain": [
       "2"
      ]
     },
     "execution_count": 600,
     "metadata": {},
     "output_type": "execute_result"
    }
   ],
   "source": [
    "t.count(10)"
   ]
  },
  {
   "cell_type": "code",
   "execution_count": 603,
   "id": "cee5a56a-3bc0-403e-acc6-b8234d1cce17",
   "metadata": {},
   "outputs": [
    {
     "data": {
      "text/plain": [
       "4"
      ]
     },
     "execution_count": 603,
     "metadata": {},
     "output_type": "execute_result"
    }
   ],
   "source": [
    "len(t)"
   ]
  },
  {
   "cell_type": "code",
   "execution_count": 605,
   "id": "fd13c28b-039f-4cff-a4a2-c0cc71c1202c",
   "metadata": {},
   "outputs": [
    {
     "data": {
      "text/plain": [
       "10"
      ]
     },
     "execution_count": 605,
     "metadata": {},
     "output_type": "execute_result"
    }
   ],
   "source": [
    "t[1]"
   ]
  },
  {
   "cell_type": "code",
   "execution_count": 606,
   "id": "e0b3b8ff-ea8f-4449-a07a-f9ff7aed0f13",
   "metadata": {},
   "outputs": [
    {
     "data": {
      "text/plain": [
       "(10, 1.2, 'nit', (1+2j), True)"
      ]
     },
     "execution_count": 606,
     "metadata": {},
     "output_type": "execute_result"
    }
   ],
   "source": [
    "t1=(10, 1.2, 'nit', 1+2j, True)\n",
    "t1"
   ]
  },
  {
   "cell_type": "code",
   "execution_count": 609,
   "id": "2e91f9e5-cc3d-4c32-8e5a-82f9fec605b3",
   "metadata": {},
   "outputs": [
    {
     "data": {
      "text/plain": [
       "2"
      ]
     },
     "execution_count": 609,
     "metadata": {},
     "output_type": "execute_result"
    }
   ],
   "source": [
    "t1.index('nit')"
   ]
  },
  {
   "cell_type": "code",
   "execution_count": 611,
   "id": "4aacbe4e-c706-4ca1-8d7f-147161b1e65f",
   "metadata": {},
   "outputs": [
    {
     "name": "stdout",
     "output_type": "stream",
     "text": [
      "10\n",
      "1.2\n",
      "nit\n",
      "(1+2j)\n",
      "True\n"
     ]
    }
   ],
   "source": [
    "for i in t1:\n",
    "    print(i)"
   ]
  },
  {
   "cell_type": "code",
   "execution_count": 613,
   "id": "7bf5f51a-1e0d-4d15-8c36-cff13dde3329",
   "metadata": {},
   "outputs": [
    {
     "name": "stdout",
     "output_type": "stream",
     "text": [
      "(0, 10)\n",
      "(1, 1.2)\n",
      "(2, 'nit')\n",
      "(3, (1+2j))\n",
      "(4, True)\n"
     ]
    }
   ],
   "source": [
    "for i in enumerate(t1):\n",
    "    print(i)"
   ]
  },
  {
   "cell_type": "code",
   "execution_count": 615,
   "id": "0421971b-e614-40bd-87b7-f508aa6c9655",
   "metadata": {},
   "outputs": [
    {
     "name": "stdout",
     "output_type": "stream",
     "text": [
      "(0, 10)\n",
      "(1, 1.2)\n",
      "(2, 'nit')\n",
      "(3, (1+2j))\n",
      "(4, True)\n"
     ]
    }
   ],
   "source": [
    "for e in enumerate(t1):\n",
    "    print(e)"
   ]
  },
  {
   "cell_type": "code",
   "execution_count": 617,
   "id": "4faef1a1-6ef4-4341-a72a-e3bbfa8a472a",
   "metadata": {},
   "outputs": [
    {
     "name": "stdout",
     "output_type": "stream",
     "text": [
      "10\n",
      "1.2\n",
      "nit\n",
      "(1+2j)\n",
      "True\n"
     ]
    }
   ],
   "source": [
    "for e in t1:\n",
    "    print(e)"
   ]
  },
  {
   "cell_type": "code",
   "execution_count": 619,
   "id": "9e598d47-17eb-4866-a42d-8b0ceb843fde",
   "metadata": {},
   "outputs": [
    {
     "data": {
      "text/plain": [
       "1610286341056"
      ]
     },
     "execution_count": 619,
     "metadata": {},
     "output_type": "execute_result"
    }
   ],
   "source": [
    "id(t1)"
   ]
  },
  {
   "cell_type": "markdown",
   "id": "92ecf425-6368-4037-b93f-c3389045e79f",
   "metadata": {},
   "source": [
    "# Nineth Class"
   ]
  },
  {
   "cell_type": "code",
   "execution_count": 622,
   "id": "47260fef-f3c5-405c-9a2c-0a4fb666751b",
   "metadata": {},
   "outputs": [
    {
     "data": {
      "text/plain": [
       "dict"
      ]
     },
     "execution_count": 622,
     "metadata": {},
     "output_type": "execute_result"
    }
   ],
   "source": [
    "s = {}\n",
    "type(s)"
   ]
  },
  {
   "cell_type": "code",
   "execution_count": 624,
   "id": "9b7d971e-998d-43b9-b459-f66717f4e477",
   "metadata": {},
   "outputs": [
    {
     "data": {
      "text/plain": [
       "set"
      ]
     },
     "execution_count": 624,
     "metadata": {},
     "output_type": "execute_result"
    }
   ],
   "source": [
    "s1 = set()\n",
    "type(s1)"
   ]
  },
  {
   "cell_type": "code",
   "execution_count": 626,
   "id": "889a3754-9d64-4bb7-92b9-2369a4c08f18",
   "metadata": {},
   "outputs": [
    {
     "data": {
      "text/plain": [
       "{3, 15, 20, 47, 100}"
      ]
     },
     "execution_count": 626,
     "metadata": {},
     "output_type": "execute_result"
    }
   ],
   "source": [
    "s1={100,20,3,15,47}\n",
    "s1"
   ]
  },
  {
   "cell_type": "code",
   "execution_count": 628,
   "id": "9482120f-a104-4ef2-9289-a1db16e1b141",
   "metadata": {},
   "outputs": [],
   "source": [
    "s2=set()\n",
    "s2={10.3,2.3,8.3,1.3}"
   ]
  },
  {
   "cell_type": "code",
   "execution_count": 630,
   "id": "f985c96d-c008-4473-8055-76bcb7ddea94",
   "metadata": {},
   "outputs": [
    {
     "data": {
      "text/plain": [
       "{1.3, 2.3, 8.3, 10.3}"
      ]
     },
     "execution_count": 630,
     "metadata": {},
     "output_type": "execute_result"
    }
   ],
   "source": [
    "s2"
   ]
  },
  {
   "cell_type": "code",
   "execution_count": 632,
   "id": "0350cfcf-f00c-448c-a7a0-f0d62c80ed7f",
   "metadata": {},
   "outputs": [
    {
     "data": {
      "text/plain": [
       "{'b', 'd', 'x', 'z'}"
      ]
     },
     "execution_count": 632,
     "metadata": {},
     "output_type": "execute_result"
    }
   ],
   "source": [
    "s3={'z', 'b', 'x', 'd'}\n",
    "s3"
   ]
  },
  {
   "cell_type": "code",
   "execution_count": 634,
   "id": "1a286807-ce63-4df5-a0cc-509382dd44eb",
   "metadata": {},
   "outputs": [
    {
     "data": {
      "text/plain": [
       "{(1+2j), (2+3j), (3+4j), (4+2j)}"
      ]
     },
     "execution_count": 634,
     "metadata": {},
     "output_type": "execute_result"
    }
   ],
   "source": [
    "s10={2+3j, 1+2j, 4+2j, 3+4j}\n",
    "s10"
   ]
  },
  {
   "cell_type": "code",
   "execution_count": 636,
   "id": "d762c7fb-b1f9-4d5d-8553-f2d20e38a384",
   "metadata": {},
   "outputs": [
    {
     "data": {
      "text/plain": [
       "{False, True}"
      ]
     },
     "execution_count": 636,
     "metadata": {},
     "output_type": "execute_result"
    }
   ],
   "source": [
    "s9 = {True, False, False, True}\n",
    "s9"
   ]
  },
  {
   "cell_type": "code",
   "execution_count": 637,
   "id": "5b9e01e9-d075-41fc-9a31-f78958bee17a",
   "metadata": {},
   "outputs": [
    {
     "data": {
      "text/plain": [
       "set"
      ]
     },
     "execution_count": 637,
     "metadata": {},
     "output_type": "execute_result"
    }
   ],
   "source": [
    "type(s10)"
   ]
  },
  {
   "cell_type": "code",
   "execution_count": 640,
   "id": "9b575e8f-02b8-4c42-865c-a21cb7d1dcb6",
   "metadata": {},
   "outputs": [
    {
     "data": {
      "text/plain": [
       "{(1+2j), (2+3j), 1, 1.3, 2, 2.3, False, 'c', 'd'}"
      ]
     },
     "execution_count": 640,
     "metadata": {},
     "output_type": "execute_result"
    }
   ],
   "source": [
    "s4={2,1,2.3,1.3,'d','c', 2+3j,1+2j, True, False}\n",
    "s4"
   ]
  },
  {
   "cell_type": "code",
   "execution_count": 642,
   "id": "2bb3722b-221b-495e-b23d-7bc13a6f8858",
   "metadata": {},
   "outputs": [
    {
     "name": "stdout",
     "output_type": "stream",
     "text": [
      "{3, 100, 20, 47, 15}\n",
      "{8.3, 1.3, 10.3, 2.3}\n",
      "{'x', 'z', 'b', 'd'}\n",
      "{False, 1, 2, 2.3, 1.3, (1+2j), 'd', (2+3j), 'c'}\n",
      "{(1+2j), (4+2j), (2+3j), (3+4j)}\n"
     ]
    }
   ],
   "source": [
    "print(s1)\n",
    "print(s2)\n",
    "print(s3)\n",
    "print(s4)\n",
    "print(s10)"
   ]
  },
  {
   "cell_type": "code",
   "execution_count": 643,
   "id": "3ffe8664-478c-455f-b88e-51e5b2029bf5",
   "metadata": {},
   "outputs": [
    {
     "name": "stdout",
     "output_type": "stream",
     "text": [
      "3\n",
      "100\n",
      "20\n",
      "47\n",
      "15\n"
     ]
    }
   ],
   "source": [
    "for i in s1:\n",
    "    print(i)"
   ]
  },
  {
   "cell_type": "code",
   "execution_count": 646,
   "id": "867c2959-0488-4851-8c7e-c737fe7c9804",
   "metadata": {},
   "outputs": [
    {
     "name": "stdout",
     "output_type": "stream",
     "text": [
      "(0, 3)\n",
      "(1, 100)\n",
      "(2, 20)\n",
      "(3, 47)\n",
      "(4, 15)\n"
     ]
    }
   ],
   "source": [
    "for i in enumerate(s1):\n",
    "    print(i)"
   ]
  },
  {
   "cell_type": "code",
   "execution_count": 648,
   "id": "28029a5e-67ec-4514-801e-6c2459e6c4b3",
   "metadata": {},
   "outputs": [
    {
     "data": {
      "text/plain": [
       "{(1+2j), (2+3j), 1, 1.3, 10, 2, 2.3, 20, 30, False, 'c', 'd'}"
      ]
     },
     "execution_count": 648,
     "metadata": {},
     "output_type": "execute_result"
    }
   ],
   "source": [
    "s4.add(10)\n",
    "s4.add(20)\n",
    "s4.add(30)\n",
    "s4"
   ]
  },
  {
   "cell_type": "code",
   "execution_count": 650,
   "id": "d4d611da-cc58-4ef8-97b2-a26c97890eca",
   "metadata": {},
   "outputs": [
    {
     "data": {
      "text/plain": [
       "{'b', 'd', 'x', 'z'}"
      ]
     },
     "execution_count": 650,
     "metadata": {},
     "output_type": "execute_result"
    }
   ],
   "source": [
    "s3"
   ]
  },
  {
   "cell_type": "code",
   "execution_count": 652,
   "id": "8de0178f-70e0-4267-ad75-7a06b1b2f0fe",
   "metadata": {},
   "outputs": [
    {
     "data": {
      "text/plain": [
       "{(1+2j), (2+3j), 1, 1.3, 10, 2, 2.3, 20, 30, False, 'c', 'd'}"
      ]
     },
     "execution_count": 652,
     "metadata": {},
     "output_type": "execute_result"
    }
   ],
   "source": [
    "s4"
   ]
  },
  {
   "cell_type": "code",
   "execution_count": 653,
   "id": "4d5e2dca-95fa-4bec-a5d3-04ed4d04ee3e",
   "metadata": {},
   "outputs": [
    {
     "data": {
      "text/plain": [
       "{(1+2j), (2+3j), 1, 1.3, 10, 2, 2.3, 20, 30, False, 'c', 'd'}"
      ]
     },
     "execution_count": 653,
     "metadata": {},
     "output_type": "execute_result"
    }
   ],
   "source": [
    "s4.add(10)\n",
    "s4"
   ]
  },
  {
   "cell_type": "code",
   "execution_count": 656,
   "id": "b26b190b-b601-4111-9245-57b4cce418bb",
   "metadata": {},
   "outputs": [
    {
     "data": {
      "text/plain": [
       "{(1+2j), (2+3j), 1, 1.3, 10, 2, 2.3, 20, 30, False, 'a', 'c', 'd'}"
      ]
     },
     "execution_count": 656,
     "metadata": {},
     "output_type": "execute_result"
    }
   ],
   "source": [
    "s4.add('a')\n",
    "s4"
   ]
  },
  {
   "cell_type": "code",
   "execution_count": 658,
   "id": "369cac45-969f-4bce-9973-c2625cf9968b",
   "metadata": {},
   "outputs": [
    {
     "data": {
      "text/plain": [
       "13"
      ]
     },
     "execution_count": 658,
     "metadata": {},
     "output_type": "execute_result"
    }
   ],
   "source": [
    "len(s4)"
   ]
  },
  {
   "cell_type": "code",
   "execution_count": 660,
   "id": "2e067b79-e56b-4cce-bf0f-ac6282c8348f",
   "metadata": {},
   "outputs": [
    {
     "data": {
      "text/plain": [
       "0"
      ]
     },
     "execution_count": 660,
     "metadata": {},
     "output_type": "execute_result"
    }
   ],
   "source": [
    "s4.clear()\n",
    "len(s4)"
   ]
  },
  {
   "cell_type": "code",
   "execution_count": 662,
   "id": "7edebbff-01df-4561-bff6-147917e3c20a",
   "metadata": {},
   "outputs": [],
   "source": [
    "del(s4)"
   ]
  },
  {
   "cell_type": "code",
   "execution_count": 664,
   "id": "0a3d1a6b-3da0-4317-bc49-0c0ee1dcef73",
   "metadata": {},
   "outputs": [
    {
     "ename": "NameError",
     "evalue": "name 's4' is not defined",
     "output_type": "error",
     "traceback": [
      "\u001b[1;31m---------------------------------------------------------------------------\u001b[0m",
      "\u001b[1;31mNameError\u001b[0m                                 Traceback (most recent call last)",
      "Cell \u001b[1;32mIn[664], line 1\u001b[0m\n\u001b[1;32m----> 1\u001b[0m s4\n",
      "\u001b[1;31mNameError\u001b[0m: name 's4' is not defined"
     ]
    }
   ],
   "source": [
    "s4"
   ]
  },
  {
   "cell_type": "code",
   "execution_count": 666,
   "id": "3f4df829-a370-4ae1-9dce-b7cf296e70c6",
   "metadata": {},
   "outputs": [
    {
     "data": {
      "text/plain": [
       "{3, 15, 20, 47, 100}"
      ]
     },
     "execution_count": 666,
     "metadata": {},
     "output_type": "execute_result"
    }
   ],
   "source": [
    "s4=s1.copy()\n",
    "s4"
   ]
  },
  {
   "cell_type": "code",
   "execution_count": 668,
   "id": "6c7c3035-a1a7-42a6-a6ae-484a3b73b20e",
   "metadata": {},
   "outputs": [
    {
     "data": {
      "text/plain": [
       "True"
      ]
     },
     "execution_count": 668,
     "metadata": {},
     "output_type": "execute_result"
    }
   ],
   "source": [
    "s1==s4"
   ]
  },
  {
   "cell_type": "code",
   "execution_count": 670,
   "id": "065a75bb-d05e-4896-9804-b3d1669c7430",
   "metadata": {},
   "outputs": [
    {
     "data": {
      "text/plain": [
       "{3, 15, 20, 47, 100}"
      ]
     },
     "execution_count": 670,
     "metadata": {},
     "output_type": "execute_result"
    }
   ],
   "source": [
    "s1"
   ]
  },
  {
   "cell_type": "code",
   "execution_count": 672,
   "id": "d283be86-01b3-4fc6-b6ae-cc0717b40b98",
   "metadata": {},
   "outputs": [
    {
     "data": {
      "text/plain": [
       "{3, 15, 20, 47}"
      ]
     },
     "execution_count": 672,
     "metadata": {},
     "output_type": "execute_result"
    }
   ],
   "source": [
    "s1.remove(100)\n",
    "s1"
   ]
  },
  {
   "cell_type": "code",
   "execution_count": 674,
   "id": "dd84b49d-6c82-44a0-adf0-bbfd8cc36578",
   "metadata": {},
   "outputs": [
    {
     "ename": "SyntaxError",
     "evalue": "closing parenthesis '}' does not match opening parenthesis '[' (1806660053.py, line 1)",
     "output_type": "error",
     "traceback": [
      "\u001b[1;36m  Cell \u001b[1;32mIn[674], line 1\u001b[1;36m\u001b[0m\n\u001b[1;33m    s1[:}\u001b[0m\n\u001b[1;37m        ^\u001b[0m\n\u001b[1;31mSyntaxError\u001b[0m\u001b[1;31m:\u001b[0m closing parenthesis '}' does not match opening parenthesis '['\n"
     ]
    }
   ],
   "source": [
    "s1[:}"
   ]
  },
  {
   "cell_type": "code",
   "execution_count": 676,
   "id": "18558024-e703-48eb-a4a8-28989bf56fd0",
   "metadata": {},
   "outputs": [
    {
     "data": {
      "text/plain": [
       "{'b', 'd', 'x', 'z'}"
      ]
     },
     "execution_count": 676,
     "metadata": {},
     "output_type": "execute_result"
    }
   ],
   "source": [
    "s3"
   ]
  },
  {
   "cell_type": "code",
   "execution_count": 677,
   "id": "072f6e7b-f8a5-45a5-8059-71e499a698f3",
   "metadata": {},
   "outputs": [
    {
     "data": {
      "text/plain": [
       "'x'"
      ]
     },
     "execution_count": 677,
     "metadata": {},
     "output_type": "execute_result"
    }
   ],
   "source": [
    "s3.pop()"
   ]
  },
  {
   "cell_type": "code",
   "execution_count": 680,
   "id": "8218e90b-09da-4a37-9166-21cb16e30167",
   "metadata": {},
   "outputs": [
    {
     "data": {
      "text/plain": [
       "{1.3, 2.3, 8.3, 10.3}"
      ]
     },
     "execution_count": 680,
     "metadata": {},
     "output_type": "execute_result"
    }
   ],
   "source": [
    "s2"
   ]
  },
  {
   "cell_type": "code",
   "execution_count": 682,
   "id": "4a3d5285-1d20-458b-8085-2cbd1ef95ab0",
   "metadata": {},
   "outputs": [
    {
     "data": {
      "text/plain": [
       "8.3"
      ]
     },
     "execution_count": 682,
     "metadata": {},
     "output_type": "execute_result"
    }
   ],
   "source": [
    "s2.pop()"
   ]
  },
  {
   "cell_type": "code",
   "execution_count": 684,
   "id": "c41cac18-1852-41cb-b570-30f107abf6fc",
   "metadata": {},
   "outputs": [
    {
     "data": {
      "text/plain": [
       "{1.3, 2.3, 10.3}"
      ]
     },
     "execution_count": 684,
     "metadata": {},
     "output_type": "execute_result"
    }
   ],
   "source": [
    "s2"
   ]
  },
  {
   "cell_type": "code",
   "execution_count": 686,
   "id": "da3f36db-555e-4015-a020-dc0b866ed0ff",
   "metadata": {},
   "outputs": [
    {
     "ename": "TypeError",
     "evalue": "set.pop() takes no arguments (1 given)",
     "output_type": "error",
     "traceback": [
      "\u001b[1;31m---------------------------------------------------------------------------\u001b[0m",
      "\u001b[1;31mTypeError\u001b[0m                                 Traceback (most recent call last)",
      "Cell \u001b[1;32mIn[686], line 1\u001b[0m\n\u001b[1;32m----> 1\u001b[0m s2\u001b[38;5;241m.\u001b[39mpop(\u001b[38;5;241m1.3\u001b[39m)\n",
      "\u001b[1;31mTypeError\u001b[0m: set.pop() takes no arguments (1 given)"
     ]
    }
   ],
   "source": [
    "s2.pop(1.3)"
   ]
  },
  {
   "cell_type": "code",
   "execution_count": 688,
   "id": "b7b2a511-21be-4307-b240-aed912ff6dc8",
   "metadata": {},
   "outputs": [
    {
     "ename": "AttributeError",
     "evalue": "'set' object has no attribute 'popo'",
     "output_type": "error",
     "traceback": [
      "\u001b[1;31m---------------------------------------------------------------------------\u001b[0m",
      "\u001b[1;31mAttributeError\u001b[0m                            Traceback (most recent call last)",
      "Cell \u001b[1;32mIn[688], line 1\u001b[0m\n\u001b[1;32m----> 1\u001b[0m s2\u001b[38;5;241m.\u001b[39mpopo(\u001b[38;5;241m1\u001b[39m)\n",
      "\u001b[1;31mAttributeError\u001b[0m: 'set' object has no attribute 'popo'"
     ]
    }
   ],
   "source": [
    "s2.popo(1)"
   ]
  },
  {
   "cell_type": "code",
   "execution_count": 689,
   "id": "0c2c2407-3d2e-40ff-9877-d21c5fb69567",
   "metadata": {},
   "outputs": [],
   "source": [
    "# Set Operations"
   ]
  },
  {
   "cell_type": "code",
   "execution_count": 692,
   "id": "9d3d0e98-f8db-41a0-99d2-8c2bfa1d60b1",
   "metadata": {},
   "outputs": [],
   "source": [
    "a={1,2,3,4,5}\n",
    "b={4,5,6,7,8}\n",
    "c={8,9,10}"
   ]
  },
  {
   "cell_type": "code",
   "execution_count": 694,
   "id": "31f7456f-ead8-4b91-8708-b3ccdc79bc08",
   "metadata": {},
   "outputs": [
    {
     "data": {
      "text/plain": [
       "set"
      ]
     },
     "execution_count": 694,
     "metadata": {},
     "output_type": "execute_result"
    }
   ],
   "source": [
    "type(a)"
   ]
  },
  {
   "cell_type": "code",
   "execution_count": 696,
   "id": "4a316468-45ea-4080-908e-41bb30dbbd09",
   "metadata": {},
   "outputs": [
    {
     "data": {
      "text/plain": [
       "{1, 2, 3, 4, 5, 6, 7, 8}"
      ]
     },
     "execution_count": 696,
     "metadata": {},
     "output_type": "execute_result"
    }
   ],
   "source": [
    "a.union(b)"
   ]
  },
  {
   "cell_type": "code",
   "execution_count": 698,
   "id": "494c486a-9326-4b3a-996c-d37cc2cf2fa7",
   "metadata": {},
   "outputs": [],
   "source": [
    "d_union=a.union(b)"
   ]
  },
  {
   "cell_type": "code",
   "execution_count": 700,
   "id": "537d785d-b567-4f4a-bf72-c9ba879e867d",
   "metadata": {},
   "outputs": [
    {
     "name": "stdout",
     "output_type": "stream",
     "text": [
      "{1, 2, 3, 4, 5}\n",
      "{4, 5, 6, 7, 8}\n",
      "{8, 9, 10}\n",
      "{1, 2, 3, 4, 5, 6, 7, 8}\n"
     ]
    }
   ],
   "source": [
    "print(a)\n",
    "print(b)\n",
    "print(c)\n",
    "print(d_union)"
   ]
  },
  {
   "cell_type": "code",
   "execution_count": 702,
   "id": "722caeee-bb5b-48af-9ac9-226cb00be1b5",
   "metadata": {},
   "outputs": [
    {
     "data": {
      "text/plain": [
       "{1, 2, 3, 4, 5, 6, 7, 8, 9, 10}"
      ]
     },
     "execution_count": 702,
     "metadata": {},
     "output_type": "execute_result"
    }
   ],
   "source": [
    "b.union(a,c)"
   ]
  },
  {
   "cell_type": "code",
   "execution_count": 704,
   "id": "ecb0e663-e023-4c39-82b0-d872fe3fc8d8",
   "metadata": {},
   "outputs": [
    {
     "name": "stdout",
     "output_type": "stream",
     "text": [
      "{1, 2, 3, 4, 5}\n",
      "{4, 5, 6, 7, 8}\n"
     ]
    }
   ],
   "source": [
    "print(a)\n",
    "print(b)"
   ]
  },
  {
   "cell_type": "code",
   "execution_count": 705,
   "id": "47e71233-39b8-42d3-bf3a-60118219d1a2",
   "metadata": {},
   "outputs": [
    {
     "data": {
      "text/plain": [
       "{1, 2, 3, 4, 5, 6, 7, 8}"
      ]
     },
     "execution_count": 705,
     "metadata": {},
     "output_type": "execute_result"
    }
   ],
   "source": [
    "a|b"
   ]
  },
  {
   "cell_type": "code",
   "execution_count": 706,
   "id": "51c4f999-bb2c-467e-8b20-f2e6cca42dee",
   "metadata": {},
   "outputs": [
    {
     "data": {
      "text/plain": [
       "{1, 2, 3, 4, 5, 6, 7, 8, 9, 10}"
      ]
     },
     "execution_count": 706,
     "metadata": {},
     "output_type": "execute_result"
    }
   ],
   "source": [
    "a|b|c"
   ]
  },
  {
   "cell_type": "code",
   "execution_count": 710,
   "id": "5e37cae9-07e2-4817-97de-56e34fde58a2",
   "metadata": {},
   "outputs": [
    {
     "name": "stdout",
     "output_type": "stream",
     "text": [
      "{1, 2, 3, 4, 5}\n",
      "{4, 5, 6, 7, 8}\n",
      "{8, 9, 10}\n",
      "{1, 2, 3, 4, 5, 6, 7, 8}\n"
     ]
    }
   ],
   "source": [
    "print(a)\n",
    "print(b)\n",
    "print(c)\n",
    "print(d_union)"
   ]
  },
  {
   "cell_type": "code",
   "execution_count": 712,
   "id": "3d4e98d7-2eda-4ee8-bb75-a12cf028c66d",
   "metadata": {},
   "outputs": [
    {
     "data": {
      "text/plain": [
       "{4, 5, 6, 7, 8, 9, 10}"
      ]
     },
     "execution_count": 712,
     "metadata": {},
     "output_type": "execute_result"
    }
   ],
   "source": [
    "b.update(c)\n",
    "b"
   ]
  },
  {
   "cell_type": "code",
   "execution_count": 714,
   "id": "ab76000c-946d-42a4-bd8c-a56125759e3e",
   "metadata": {},
   "outputs": [
    {
     "data": {
      "text/plain": [
       "{4, 5, 6, 7, 8, 9, 10}"
      ]
     },
     "execution_count": 714,
     "metadata": {},
     "output_type": "execute_result"
    }
   ],
   "source": [
    "c.update(b)\n",
    "c"
   ]
  },
  {
   "cell_type": "code",
   "execution_count": 715,
   "id": "82dfe881-9402-458d-81c7-d2321478f70b",
   "metadata": {},
   "outputs": [
    {
     "data": {
      "text/plain": [
       "{1, 2, 3, 4, 5}"
      ]
     },
     "execution_count": 715,
     "metadata": {},
     "output_type": "execute_result"
    }
   ],
   "source": [
    "a"
   ]
  },
  {
   "cell_type": "code",
   "execution_count": 716,
   "id": "06421127-a0c7-46f3-8d1b-68ea851f0208",
   "metadata": {},
   "outputs": [
    {
     "data": {
      "text/plain": [
       "{4, 5, 6, 7, 8, 9, 10}"
      ]
     },
     "execution_count": 716,
     "metadata": {},
     "output_type": "execute_result"
    }
   ],
   "source": [
    "b"
   ]
  },
  {
   "cell_type": "code",
   "execution_count": 718,
   "id": "5fcb74e2-2dbf-4486-8a8a-4755cd1ad7c4",
   "metadata": {},
   "outputs": [
    {
     "data": {
      "text/plain": [
       "{1, 2, 3, 4, 5, 6, 7, 8, 9, 10}"
      ]
     },
     "execution_count": 718,
     "metadata": {},
     "output_type": "execute_result"
    }
   ],
   "source": [
    "a.update(b)\n",
    "a"
   ]
  },
  {
   "cell_type": "code",
   "execution_count": 721,
   "id": "1dbb5efb-69a6-446e-bac0-39ad95eb9472",
   "metadata": {},
   "outputs": [],
   "source": [
    "a1={1,2,3,4,5}\n",
    "b1={4,5,6,7,8}\n",
    "c1={8,9,10}"
   ]
  },
  {
   "cell_type": "code",
   "execution_count": 724,
   "id": "73423879-1ae6-43cc-b1e3-a7d2dfab3ef8",
   "metadata": {},
   "outputs": [
    {
     "data": {
      "text/plain": [
       "{4, 5}"
      ]
     },
     "execution_count": 724,
     "metadata": {},
     "output_type": "execute_result"
    }
   ],
   "source": [
    "a1.intersection(b1)"
   ]
  },
  {
   "cell_type": "code",
   "execution_count": 726,
   "id": "39145620-5873-46f7-9589-fa8bbf7d6ee4",
   "metadata": {},
   "outputs": [
    {
     "data": {
      "text/plain": [
       "{4, 5}"
      ]
     },
     "execution_count": 726,
     "metadata": {},
     "output_type": "execute_result"
    }
   ],
   "source": [
    "a1&b1"
   ]
  },
  {
   "cell_type": "code",
   "execution_count": 727,
   "id": "fa9a1f93-c193-4e3d-b460-3b8a57142431",
   "metadata": {},
   "outputs": [
    {
     "data": {
      "text/plain": [
       "{8}"
      ]
     },
     "execution_count": 727,
     "metadata": {},
     "output_type": "execute_result"
    }
   ],
   "source": [
    "b1.intersection(c1)"
   ]
  },
  {
   "cell_type": "code",
   "execution_count": 730,
   "id": "6fd35d1c-8695-4eba-920d-7f88d6f26056",
   "metadata": {},
   "outputs": [
    {
     "data": {
      "text/plain": [
       "{8}"
      ]
     },
     "execution_count": 730,
     "metadata": {},
     "output_type": "execute_result"
    }
   ],
   "source": [
    "b1&c1"
   ]
  },
  {
   "cell_type": "code",
   "execution_count": 732,
   "id": "9f0c380a-3cc5-4ae8-ae70-312de1ac3274",
   "metadata": {},
   "outputs": [],
   "source": [
    "a2={1,2,3,4,5}\n",
    "b2={4,5,6,7,8}\n",
    "c2={8,9,10}"
   ]
  },
  {
   "cell_type": "code",
   "execution_count": 734,
   "id": "25b273eb-1fed-4bf7-bb61-18968cd35871",
   "metadata": {},
   "outputs": [
    {
     "data": {
      "text/plain": [
       "{1, 2, 3}"
      ]
     },
     "execution_count": 734,
     "metadata": {},
     "output_type": "execute_result"
    }
   ],
   "source": [
    "a2-b2"
   ]
  },
  {
   "cell_type": "code",
   "execution_count": 736,
   "id": "a9b63521-f696-4769-8ca7-fce7655f0793",
   "metadata": {},
   "outputs": [
    {
     "data": {
      "text/plain": [
       "{4, 5, 6, 7}"
      ]
     },
     "execution_count": 736,
     "metadata": {},
     "output_type": "execute_result"
    }
   ],
   "source": [
    "b2-c2"
   ]
  },
  {
   "cell_type": "code",
   "execution_count": 738,
   "id": "2de71c76-74b0-42e0-aece-2cb24f080e1c",
   "metadata": {},
   "outputs": [
    {
     "data": {
      "text/plain": [
       "{1, 2, 3, 4, 5}"
      ]
     },
     "execution_count": 738,
     "metadata": {},
     "output_type": "execute_result"
    }
   ],
   "source": [
    "a2-c2"
   ]
  },
  {
   "cell_type": "code",
   "execution_count": 740,
   "id": "440977a8-189c-4c00-9cf4-3d8131435566",
   "metadata": {},
   "outputs": [
    {
     "name": "stdout",
     "output_type": "stream",
     "text": [
      "{1, 2, 3, 4, 5}\n",
      "{4, 5, 6, 7, 8}\n",
      "{8, 9, 10}\n"
     ]
    }
   ],
   "source": [
    "print(a2)\n",
    "print(b2)\n",
    "print(c2)"
   ]
  },
  {
   "cell_type": "code",
   "execution_count": 742,
   "id": "05ee2fba-d6de-44f2-8de6-f1facc53d58a",
   "metadata": {},
   "outputs": [
    {
     "data": {
      "text/plain": [
       "{1, 2, 3}"
      ]
     },
     "execution_count": 742,
     "metadata": {},
     "output_type": "execute_result"
    }
   ],
   "source": [
    "a2.difference(b2)"
   ]
  },
  {
   "cell_type": "code",
   "execution_count": 744,
   "id": "ab13ca68-8842-4766-9562-492a74d9a6d9",
   "metadata": {},
   "outputs": [
    {
     "data": {
      "text/plain": [
       "{4, 5, 6, 7}"
      ]
     },
     "execution_count": 744,
     "metadata": {},
     "output_type": "execute_result"
    }
   ],
   "source": [
    "b2.difference(c2)"
   ]
  },
  {
   "cell_type": "code",
   "execution_count": 746,
   "id": "fa1129e2-3c44-4bc6-ac11-f85cdab31b8a",
   "metadata": {},
   "outputs": [
    {
     "name": "stdout",
     "output_type": "stream",
     "text": [
      "{1, 2, 3, 4, 5}\n",
      "{4, 5, 6, 7, 8}\n",
      "{8, 9, 10}\n"
     ]
    }
   ],
   "source": [
    "print(a2)\n",
    "print(b2)\n",
    "print(c2)"
   ]
  },
  {
   "cell_type": "code",
   "execution_count": 748,
   "id": "29cf0fb9-b2a6-40ad-b874-fa9f5bce2ac0",
   "metadata": {},
   "outputs": [
    {
     "data": {
      "text/plain": [
       "{1, 2, 3, 6, 7, 8}"
      ]
     },
     "execution_count": 748,
     "metadata": {},
     "output_type": "execute_result"
    }
   ],
   "source": [
    "a2.symmetric_difference(b2)"
   ]
  },
  {
   "cell_type": "code",
   "execution_count": 750,
   "id": "66154a7b-26dd-4bfb-94c7-42acb6728c6f",
   "metadata": {},
   "outputs": [
    {
     "data": {
      "text/plain": [
       "{4, 5, 6, 7, 9, 10}"
      ]
     },
     "execution_count": 750,
     "metadata": {},
     "output_type": "execute_result"
    }
   ],
   "source": [
    "b2.symmetric_difference(c2)"
   ]
  },
  {
   "cell_type": "code",
   "execution_count": 752,
   "id": "1229bbe9-6310-498d-ad2c-cdfe34575f1c",
   "metadata": {},
   "outputs": [
    {
     "name": "stdout",
     "output_type": "stream",
     "text": [
      "4\n",
      "5\n",
      "6\n",
      "7\n",
      "8\n"
     ]
    }
   ],
   "source": [
    "for i in b2:\n",
    "    print(i)"
   ]
  },
  {
   "cell_type": "code",
   "execution_count": 754,
   "id": "7e892c03-0be8-4fc6-9de5-4c723601e03e",
   "metadata": {},
   "outputs": [
    {
     "name": "stdout",
     "output_type": "stream",
     "text": [
      "(0, 4)\n",
      "(1, 5)\n",
      "(2, 6)\n",
      "(3, 7)\n",
      "(4, 8)\n"
     ]
    }
   ],
   "source": [
    "for i in enumerate(b2):\n",
    "    print(i)"
   ]
  },
  {
   "cell_type": "markdown",
   "id": "1ece765a-9312-4d6a-8f2c-cf7633cb4a02",
   "metadata": {},
   "source": [
    "# Tenth Class"
   ]
  },
  {
   "cell_type": "code",
   "execution_count": 757,
   "id": "c4f97869-0b46-478d-82d1-2e8e8f25121b",
   "metadata": {},
   "outputs": [],
   "source": [
    "a5={1,2,3,4,5,6,7,8,9}\n",
    "b5={3,4,5,6,7,8}\n",
    "c5={10,20,30,40}"
   ]
  },
  {
   "cell_type": "code",
   "execution_count": 759,
   "id": "e21d68c0-2157-435e-aad8-18ed3b3c5032",
   "metadata": {},
   "outputs": [
    {
     "data": {
      "text/plain": [
       "True"
      ]
     },
     "execution_count": 759,
     "metadata": {},
     "output_type": "execute_result"
    }
   ],
   "source": [
    "a5.issuperset(b5)"
   ]
  },
  {
   "cell_type": "code",
   "execution_count": 761,
   "id": "366a18fe-4f12-4387-a042-753076e98871",
   "metadata": {},
   "outputs": [
    {
     "data": {
      "text/plain": [
       "False"
      ]
     },
     "execution_count": 761,
     "metadata": {},
     "output_type": "execute_result"
    }
   ],
   "source": [
    "a5.issubset(b5)"
   ]
  },
  {
   "cell_type": "code",
   "execution_count": 763,
   "id": "b5369016-33a9-4ec2-b719-82f88a3fc8db",
   "metadata": {},
   "outputs": [
    {
     "data": {
      "text/plain": [
       "True"
      ]
     },
     "execution_count": 763,
     "metadata": {},
     "output_type": "execute_result"
    }
   ],
   "source": [
    "b5.issubset(a5)"
   ]
  },
  {
   "cell_type": "code",
   "execution_count": 765,
   "id": "564df645-e0f8-4d97-9628-a160ac62443c",
   "metadata": {},
   "outputs": [
    {
     "data": {
      "text/plain": [
       "True"
      ]
     },
     "execution_count": 765,
     "metadata": {},
     "output_type": "execute_result"
    }
   ],
   "source": [
    "a5.isdisjoint(c5)"
   ]
  },
  {
   "cell_type": "code",
   "execution_count": 767,
   "id": "6ad5baa9-80ba-48c7-82fb-6117adcceb59",
   "metadata": {},
   "outputs": [
    {
     "data": {
      "text/plain": [
       "True"
      ]
     },
     "execution_count": 767,
     "metadata": {},
     "output_type": "execute_result"
    }
   ],
   "source": [
    "c5.isdisjoint(b5)"
   ]
  },
  {
   "cell_type": "code",
   "execution_count": 769,
   "id": "81301cbb-6eca-4d52-939b-77bc53b9b4a6",
   "metadata": {},
   "outputs": [],
   "source": [
    "a6={1,2,3,4}\n",
    "b6={5,6,7,8}\n",
    "c6={10,20,30,40}"
   ]
  },
  {
   "cell_type": "code",
   "execution_count": 771,
   "id": "011cbdef-0235-4e87-abe4-d34d3346e63b",
   "metadata": {},
   "outputs": [
    {
     "data": {
      "text/plain": [
       "False"
      ]
     },
     "execution_count": 771,
     "metadata": {},
     "output_type": "execute_result"
    }
   ],
   "source": [
    "a6.issuperset(b6)"
   ]
  },
  {
   "cell_type": "code",
   "execution_count": 773,
   "id": "b715dc67-f01f-4a20-81c7-c7e1ce624347",
   "metadata": {},
   "outputs": [
    {
     "data": {
      "text/plain": [
       "False"
      ]
     },
     "execution_count": 773,
     "metadata": {},
     "output_type": "execute_result"
    }
   ],
   "source": [
    "b6.issubset(a6)"
   ]
  },
  {
   "cell_type": "code",
   "execution_count": 775,
   "id": "50cf5141-8a81-4b02-8a8a-1c146d8b9b35",
   "metadata": {},
   "outputs": [
    {
     "data": {
      "text/plain": [
       "{1, 2, 3, 4, 5, 6, 7, 8, 9, 10}"
      ]
     },
     "execution_count": 775,
     "metadata": {},
     "output_type": "execute_result"
    }
   ],
   "source": [
    "a"
   ]
  },
  {
   "cell_type": "code",
   "execution_count": 777,
   "id": "1d687997-1534-4667-815f-dbe94e864728",
   "metadata": {},
   "outputs": [
    {
     "data": {
      "text/plain": [
       "55"
      ]
     },
     "execution_count": 777,
     "metadata": {},
     "output_type": "execute_result"
    }
   ],
   "source": [
    "sum(a)"
   ]
  },
  {
   "cell_type": "code",
   "execution_count": 779,
   "id": "60e19936-e31d-46f6-97cf-1900fa5b919a",
   "metadata": {},
   "outputs": [
    {
     "name": "stdout",
     "output_type": "stream",
     "text": [
      "10\n",
      "1\n",
      "10\n"
     ]
    }
   ],
   "source": [
    "print(max(a))\n",
    "print(min(a))\n",
    "print(len(a))"
   ]
  },
  {
   "cell_type": "code",
   "execution_count": 781,
   "id": "e02c4abd-967c-44b9-9c62-b7f4729d2942",
   "metadata": {},
   "outputs": [
    {
     "data": {
      "text/plain": [
       "[(0, 1),\n",
       " (1, 2),\n",
       " (2, 3),\n",
       " (3, 4),\n",
       " (4, 5),\n",
       " (5, 6),\n",
       " (6, 7),\n",
       " (7, 8),\n",
       " (8, 9),\n",
       " (9, 10)]"
      ]
     },
     "execution_count": 781,
     "metadata": {},
     "output_type": "execute_result"
    }
   ],
   "source": [
    "list(enumerate(a))"
   ]
  },
  {
   "cell_type": "code",
   "execution_count": 783,
   "id": "2b130f56-c7c6-4971-a2f5-61a41af21e13",
   "metadata": {},
   "outputs": [
    {
     "name": "stdout",
     "output_type": "stream",
     "text": [
      "(0, 1)\n",
      "(1, 2)\n",
      "(2, 3)\n",
      "(3, 4)\n",
      "(4, 5)\n",
      "(5, 6)\n",
      "(6, 7)\n",
      "(7, 8)\n",
      "(8, 9)\n",
      "(9, 10)\n"
     ]
    }
   ],
   "source": [
    "for i in enumerate(a):\n",
    "    print(i)"
   ]
  },
  {
   "cell_type": "code",
   "execution_count": 785,
   "id": "3320b838-8f67-46b1-b7b9-b5e7aebea7de",
   "metadata": {},
   "outputs": [
    {
     "data": {
      "text/plain": [
       "set"
      ]
     },
     "execution_count": 785,
     "metadata": {},
     "output_type": "execute_result"
    }
   ],
   "source": [
    "type(a)"
   ]
  },
  {
   "cell_type": "code",
   "execution_count": 787,
   "id": "47b6a527-6d33-40f9-8b43-0d1e366c3432",
   "metadata": {},
   "outputs": [
    {
     "data": {
      "text/plain": [
       "[1, 2, 3, 4, 5, 6, 7, 8, 9, 10]"
      ]
     },
     "execution_count": 787,
     "metadata": {},
     "output_type": "execute_result"
    }
   ],
   "source": [
    "sorted(a)"
   ]
  },
  {
   "cell_type": "code",
   "execution_count": 789,
   "id": "94b63957-78f3-44b4-897e-3bacab75c616",
   "metadata": {},
   "outputs": [
    {
     "data": {
      "text/plain": [
       "[10, 9, 8, 7, 6, 5, 4, 3, 2, 1]"
      ]
     },
     "execution_count": 789,
     "metadata": {},
     "output_type": "execute_result"
    }
   ],
   "source": [
    "sorted(a,reverse=True)"
   ]
  },
  {
   "cell_type": "code",
   "execution_count": 791,
   "id": "99b140ce-c027-4695-9215-42ea157d678b",
   "metadata": {},
   "outputs": [],
   "source": [
    "# Dictionary"
   ]
  },
  {
   "cell_type": "code",
   "execution_count": 793,
   "id": "fb1d44cc-b1ae-4b97-801a-9b7fe4a2b7a6",
   "metadata": {},
   "outputs": [
    {
     "data": {
      "text/plain": [
       "dict"
      ]
     },
     "execution_count": 793,
     "metadata": {},
     "output_type": "execute_result"
    }
   ],
   "source": [
    "d={}\n",
    "type(d)"
   ]
  },
  {
   "cell_type": "code",
   "execution_count": 795,
   "id": "33a1f93c-9406-4195-b3b1-108fa357fad2",
   "metadata": {},
   "outputs": [
    {
     "data": {
      "text/plain": [
       "{1: 'one', 2: 'two', 3: 'three', 4: 'four', 5: 'five'}"
      ]
     },
     "execution_count": 795,
     "metadata": {},
     "output_type": "execute_result"
    }
   ],
   "source": [
    "d={1:'one', 2:'two', 3:'three', 4:'four', 5:'five'}\n",
    "d"
   ]
  },
  {
   "cell_type": "code",
   "execution_count": 797,
   "id": "b260f3ea-945a-4a2a-b676-6587e89840b9",
   "metadata": {},
   "outputs": [
    {
     "data": {
      "text/plain": [
       "{'six': 6, 'seven': 7, 'eight': 8, 'nine': 9, 'ten': 10}"
      ]
     },
     "execution_count": 797,
     "metadata": {},
     "output_type": "execute_result"
    }
   ],
   "source": [
    "d1={'six':6, 'seven':7, 'eight':8, 'nine':9, 'ten':10}\n",
    "d1"
   ]
  },
  {
   "cell_type": "code",
   "execution_count": 799,
   "id": "cba08adc-faf6-43e6-af75-9ece732b01da",
   "metadata": {},
   "outputs": [
    {
     "name": "stdout",
     "output_type": "stream",
     "text": [
      "5\n",
      "5\n"
     ]
    }
   ],
   "source": [
    "print(len(d))\n",
    "print(len(d1))"
   ]
  },
  {
   "cell_type": "code",
   "execution_count": 801,
   "id": "b36c552b-ec02-49c7-96c9-ccddf545162f",
   "metadata": {},
   "outputs": [
    {
     "data": {
      "text/plain": [
       "'five'"
      ]
     },
     "execution_count": 801,
     "metadata": {},
     "output_type": "execute_result"
    }
   ],
   "source": [
    "d[5]"
   ]
  },
  {
   "cell_type": "code",
   "execution_count": 803,
   "id": "20dd8751-9083-4950-9043-aad91099ea13",
   "metadata": {},
   "outputs": [
    {
     "ename": "KeyError",
     "evalue": "6",
     "output_type": "error",
     "traceback": [
      "\u001b[1;31m---------------------------------------------------------------------------\u001b[0m",
      "\u001b[1;31mKeyError\u001b[0m                                  Traceback (most recent call last)",
      "Cell \u001b[1;32mIn[803], line 1\u001b[0m\n\u001b[1;32m----> 1\u001b[0m d1[\u001b[38;5;241m6\u001b[39m]\n",
      "\u001b[1;31mKeyError\u001b[0m: 6"
     ]
    }
   ],
   "source": [
    "d1[6]"
   ]
  },
  {
   "cell_type": "code",
   "execution_count": 805,
   "id": "c3aa206b-1f89-40b3-877f-435a6f10554d",
   "metadata": {},
   "outputs": [
    {
     "data": {
      "text/plain": [
       "6"
      ]
     },
     "execution_count": 805,
     "metadata": {},
     "output_type": "execute_result"
    }
   ],
   "source": [
    "d1['six']"
   ]
  },
  {
   "cell_type": "code",
   "execution_count": 807,
   "id": "a0f4248b-0c63-49bf-9374-76c17b6e5182",
   "metadata": {},
   "outputs": [
    {
     "name": "stdout",
     "output_type": "stream",
     "text": [
      "{1: 'one', 2: 'two', 3: 'three', 4: 'four', 5: 'five'}\n",
      "{'six': 6, 'seven': 7, 'eight': 8, 'nine': 9, 'ten': 10}\n"
     ]
    }
   ],
   "source": [
    "print(d)\n",
    "print(d1)"
   ]
  },
  {
   "cell_type": "code",
   "execution_count": 809,
   "id": "110c4476-4724-49e2-95ad-dc416bb10912",
   "metadata": {},
   "outputs": [
    {
     "name": "stdout",
     "output_type": "stream",
     "text": [
      "dict_keys([1, 2, 3, 4, 5])\n",
      "dict_keys(['six', 'seven', 'eight', 'nine', 'ten'])\n"
     ]
    }
   ],
   "source": [
    "print(d.keys())\n",
    "print(d1.keys())"
   ]
  },
  {
   "cell_type": "code",
   "execution_count": 811,
   "id": "1fde955c-0aec-446c-803e-f6d51633035e",
   "metadata": {},
   "outputs": [
    {
     "name": "stdout",
     "output_type": "stream",
     "text": [
      "dict_values(['one', 'two', 'three', 'four', 'five'])\n",
      "dict_values([6, 7, 8, 9, 10])\n"
     ]
    }
   ],
   "source": [
    "print(d.values())\n",
    "print(d1.values())"
   ]
  },
  {
   "cell_type": "code",
   "execution_count": 813,
   "id": "e617e0cd-eaa1-4df9-aa83-b12a41f20135",
   "metadata": {},
   "outputs": [
    {
     "data": {
      "text/plain": [
       "{1: 20, 3.2: 4.2, 'nit': 'mit', False: True, (1+2j): (2+4j)}"
      ]
     },
     "execution_count": 813,
     "metadata": {},
     "output_type": "execute_result"
    }
   ],
   "source": [
    "d2={1:20, 3.2:4.2, 'nit':'mit', False:True, 1+2j:2+4j}\n",
    "d2"
   ]
  },
  {
   "cell_type": "code",
   "execution_count": 815,
   "id": "f2bcb34c-7a48-4830-b3dc-10209dd4f8ff",
   "metadata": {},
   "outputs": [
    {
     "data": {
      "text/plain": [
       "20"
      ]
     },
     "execution_count": 815,
     "metadata": {},
     "output_type": "execute_result"
    }
   ],
   "source": [
    "d2[True]"
   ]
  },
  {
   "cell_type": "code",
   "execution_count": 817,
   "id": "9ce0ae4b-2a0c-4880-94cf-5482bd46ed70",
   "metadata": {},
   "outputs": [
    {
     "name": "stdout",
     "output_type": "stream",
     "text": [
      "dict_items([(1, 'one'), (2, 'two'), (3, 'three'), (4, 'four'), (5, 'five')])\n",
      "dict_items([('six', 6), ('seven', 7), ('eight', 8), ('nine', 9), ('ten', 10)])\n",
      "dict_items([(1, 20), (3.2, 4.2), ('nit', 'mit'), (False, True), ((1+2j), (2+4j))])\n"
     ]
    }
   ],
   "source": [
    "print(d.items())\n",
    "print(d1.items())\n",
    "print(d2.items())"
   ]
  },
  {
   "cell_type": "code",
   "execution_count": 819,
   "id": "79eff8ba-8494-4858-b1d4-0ceb2f33f32b",
   "metadata": {},
   "outputs": [
    {
     "name": "stdout",
     "output_type": "stream",
     "text": [
      "5\n",
      "5\n",
      "5\n"
     ]
    }
   ],
   "source": [
    "print(len(d))\n",
    "print(len(d1))\n",
    "print(len(d2))"
   ]
  },
  {
   "cell_type": "code",
   "execution_count": 821,
   "id": "f8b1a508-7c7e-4892-b541-c527ab55a3de",
   "metadata": {},
   "outputs": [
    {
     "name": "stdout",
     "output_type": "stream",
     "text": [
      "1610285917440\n",
      "1610286784128\n",
      "1610285543040\n"
     ]
    }
   ],
   "source": [
    "print(id(d))\n",
    "print(id(d1))\n",
    "print(id(d2))"
   ]
  },
  {
   "cell_type": "code",
   "execution_count": 823,
   "id": "6f728cca-418c-41ed-a83a-c3ae9edaada5",
   "metadata": {},
   "outputs": [
    {
     "data": {
      "text/plain": [
       "{'c': None, 'd': None, 'a': None, 'b': None}"
      ]
     },
     "execution_count": 823,
     "metadata": {},
     "output_type": "execute_result"
    }
   ],
   "source": [
    "keys={'a', 'b', 'c', 'd'}\n",
    "mydict3=dict.fromkeys(keys)\n",
    "mydict3"
   ]
  },
  {
   "cell_type": "code",
   "execution_count": 825,
   "id": "709407c2-9a3a-464e-88a0-4b4c7ec44cf4",
   "metadata": {},
   "outputs": [
    {
     "data": {
      "text/plain": [
       "{'e': 5, 'h': 5, 'g': 5, 'f': 5}"
      ]
     },
     "execution_count": 825,
     "metadata": {},
     "output_type": "execute_result"
    }
   ],
   "source": [
    "keys1={'e', 'f', 'g', 'h'}\n",
    "value=5\n",
    "mydict4=dict.fromkeys(keys1,value)\n",
    "mydict4"
   ]
  },
  {
   "cell_type": "code",
   "execution_count": 827,
   "id": "63542d17-f7ae-43f3-acf3-be7e9fb849c5",
   "metadata": {},
   "outputs": [
    {
     "data": {
      "text/plain": [
       "{'e': (10, 20), 'h': (10, 20), 'g': (10, 20), 'f': (10, 20)}"
      ]
     },
     "execution_count": 827,
     "metadata": {},
     "output_type": "execute_result"
    }
   ],
   "source": [
    "keys2={'e', 'f', 'g', 'h'}\n",
    "value=(10,20)\n",
    "mydict5=dict.fromkeys(keys1,value)\n",
    "mydict5"
   ]
  },
  {
   "cell_type": "code",
   "execution_count": 829,
   "id": "535d20c9-61d7-4c54-82ec-971c71418e0a",
   "metadata": {},
   "outputs": [
    {
     "data": {
      "text/plain": [
       "{'Name': 'Santosh',\n",
       " 'ID': 12345,\n",
       " 'DOB': 1987,\n",
       " 'Address': 'Brianna DR',\n",
       " 'Job': 'Unknown'}"
      ]
     },
     "execution_count": 829,
     "metadata": {},
     "output_type": "execute_result"
    }
   ],
   "source": [
    "mydict6={'Name':'Santosh', 'ID': 12345, 'DOB':1987, 'Address':'Brianna DR', 'Job':'Unknown'}\n",
    "mydict6"
   ]
  },
  {
   "cell_type": "code",
   "execution_count": 831,
   "id": "dfe1a154-4745-4fec-b661-8f5c82562b69",
   "metadata": {},
   "outputs": [
    {
     "data": {
      "text/plain": [
       "{'Name': 'Santosh',\n",
       " 'ID': 125,\n",
       " 'DOB': 1987,\n",
       " 'Address': 'Brianna DR',\n",
       " 'Job': 'Unknown'}"
      ]
     },
     "execution_count": 831,
     "metadata": {},
     "output_type": "execute_result"
    }
   ],
   "source": [
    "mydict6['ID']=125\n",
    "mydict6"
   ]
  },
  {
   "cell_type": "code",
   "execution_count": 833,
   "id": "ac4ed3a4-b56d-4563-a345-fce4ed6aab82",
   "metadata": {},
   "outputs": [
    {
     "data": {
      "text/plain": [
       "{'Name': 'Santosh',\n",
       " 'ID': 125,\n",
       " 'DOB': 1987,\n",
       " 'Address': 'Brianna Drive',\n",
       " 'Job': 'Unknown'}"
      ]
     },
     "execution_count": 833,
     "metadata": {},
     "output_type": "execute_result"
    }
   ],
   "source": [
    "mydict6['Address']='Brianna Drive'\n",
    "mydict6"
   ]
  },
  {
   "cell_type": "code",
   "execution_count": 835,
   "id": "bf06a7b4-6645-44f8-840a-346ef94f895e",
   "metadata": {},
   "outputs": [
    {
     "data": {
      "text/plain": [
       "'Unknown'"
      ]
     },
     "execution_count": 835,
     "metadata": {},
     "output_type": "execute_result"
    }
   ],
   "source": [
    "mydict6.pop('Job')"
   ]
  },
  {
   "cell_type": "code",
   "execution_count": 837,
   "id": "5682085f-97b7-42e4-ba35-6ac8d3749341",
   "metadata": {},
   "outputs": [
    {
     "data": {
      "text/plain": [
       "{'Name': 'Santosh', 'ID': 125, 'DOB': 1987, 'Address': 'Brianna Drive'}"
      ]
     },
     "execution_count": 837,
     "metadata": {},
     "output_type": "execute_result"
    }
   ],
   "source": [
    "mydict6"
   ]
  },
  {
   "cell_type": "code",
   "execution_count": 839,
   "id": "46beb40b-38a4-4ed7-9740-d592d95e3c58",
   "metadata": {},
   "outputs": [
    {
     "data": {
      "text/plain": [
       "{'Name': 'Santosh',\n",
       " 'ID': 125,\n",
       " 'DOB': 1987,\n",
       " 'Address': 'Brianna Drive',\n",
       " 'job': 'unknown'}"
      ]
     },
     "execution_count": 839,
     "metadata": {},
     "output_type": "execute_result"
    }
   ],
   "source": [
    "mydict6['job']='unknown'\n",
    "mydict6"
   ]
  },
  {
   "cell_type": "code",
   "execution_count": 841,
   "id": "1a7f0776-f24c-45f5-8420-d04b7ed46db4",
   "metadata": {},
   "outputs": [
    {
     "data": {
      "text/plain": [
       "{1: 'one', 2: 'two', 3: 'three', 4: 'four', 5: 'five'}"
      ]
     },
     "execution_count": 841,
     "metadata": {},
     "output_type": "execute_result"
    }
   ],
   "source": [
    "d"
   ]
  },
  {
   "cell_type": "code",
   "execution_count": 843,
   "id": "ae5226a5-92f1-4776-9518-97711ac659bb",
   "metadata": {},
   "outputs": [
    {
     "data": {
      "text/plain": [
       "(5, 'five')"
      ]
     },
     "execution_count": 843,
     "metadata": {},
     "output_type": "execute_result"
    }
   ],
   "source": [
    "d.popitem()"
   ]
  },
  {
   "cell_type": "code",
   "execution_count": 845,
   "id": "dbd421e5-f49f-4042-95e8-0b458f1a3255",
   "metadata": {},
   "outputs": [
    {
     "data": {
      "text/plain": [
       "{1: 'one', 2: 'two', 3: 'three', 4: 'four'}"
      ]
     },
     "execution_count": 845,
     "metadata": {},
     "output_type": "execute_result"
    }
   ],
   "source": [
    "d"
   ]
  },
  {
   "cell_type": "code",
   "execution_count": 847,
   "id": "e2716a6c-ba43-492b-a08d-800db57734ae",
   "metadata": {},
   "outputs": [
    {
     "data": {
      "text/plain": [
       "{1: 'one', 2: 'two', 3: 'three', 4: 'four', 5: 'five'}"
      ]
     },
     "execution_count": 847,
     "metadata": {},
     "output_type": "execute_result"
    }
   ],
   "source": [
    "d10={1: 'one', 2: 'two', 3: 'three', 4: 'four', 5:'five'}\n",
    "d10"
   ]
  },
  {
   "cell_type": "code",
   "execution_count": 849,
   "id": "e86d4440-f053-4769-92a9-bd399cc4f921",
   "metadata": {},
   "outputs": [],
   "source": [
    "del d10"
   ]
  },
  {
   "cell_type": "code",
   "execution_count": 851,
   "id": "b83a7e52-2743-4ffd-9f84-dd716d706c5c",
   "metadata": {},
   "outputs": [
    {
     "ename": "NameError",
     "evalue": "name 'd10' is not defined",
     "output_type": "error",
     "traceback": [
      "\u001b[1;31m---------------------------------------------------------------------------\u001b[0m",
      "\u001b[1;31mNameError\u001b[0m                                 Traceback (most recent call last)",
      "Cell \u001b[1;32mIn[851], line 1\u001b[0m\n\u001b[1;32m----> 1\u001b[0m d10\n",
      "\u001b[1;31mNameError\u001b[0m: name 'd10' is not defined"
     ]
    }
   ],
   "source": [
    "d10"
   ]
  },
  {
   "cell_type": "code",
   "execution_count": 853,
   "id": "4138104e-ff2f-449d-8b48-69e694dee17a",
   "metadata": {},
   "outputs": [
    {
     "data": {
      "text/plain": [
       "{1: 'one', 2: 'two', 3: 'three', 4: 'four', 5: 'five'}"
      ]
     },
     "execution_count": 853,
     "metadata": {},
     "output_type": "execute_result"
    }
   ],
   "source": [
    "d11={1: 'one', 2: 'two', 3: 'three', 4: 'four', 5: 'five'}\n",
    "d11"
   ]
  },
  {
   "cell_type": "code",
   "execution_count": 855,
   "id": "3c4d18bc-c704-43c7-99cb-ef136a23ea32",
   "metadata": {},
   "outputs": [],
   "source": [
    "del(d11)"
   ]
  },
  {
   "cell_type": "code",
   "execution_count": 857,
   "id": "5aedd9f5-9337-4f1e-a650-dc6364f6e9d2",
   "metadata": {},
   "outputs": [
    {
     "ename": "NameError",
     "evalue": "name 'd11' is not defined",
     "output_type": "error",
     "traceback": [
      "\u001b[1;31m---------------------------------------------------------------------------\u001b[0m",
      "\u001b[1;31mNameError\u001b[0m                                 Traceback (most recent call last)",
      "Cell \u001b[1;32mIn[857], line 1\u001b[0m\n\u001b[1;32m----> 1\u001b[0m d11\n",
      "\u001b[1;31mNameError\u001b[0m: name 'd11' is not defined"
     ]
    }
   ],
   "source": [
    "d11"
   ]
  },
  {
   "cell_type": "code",
   "execution_count": 859,
   "id": "f62c7f65-f04a-4958-8b5b-110ec210dd9b",
   "metadata": {},
   "outputs": [
    {
     "data": {
      "text/plain": [
       "{'Name': 'Santosh',\n",
       " 'ID': 125,\n",
       " 'DOB': 1987,\n",
       " 'Address': 'Brianna Drive',\n",
       " 'job': 'unknown'}"
      ]
     },
     "execution_count": 859,
     "metadata": {},
     "output_type": "execute_result"
    }
   ],
   "source": [
    "mydict6"
   ]
  },
  {
   "cell_type": "code",
   "execution_count": 861,
   "id": "08aed793-a62d-4eb6-bc39-10b37bc2e09a",
   "metadata": {},
   "outputs": [
    {
     "data": {
      "text/plain": [
       "{'Name': 'Santosh',\n",
       " 'ID': 125,\n",
       " 'DOB': 1987,\n",
       " 'Address': 'Brianna Drive',\n",
       " 'job': 'unknown'}"
      ]
     },
     "execution_count": 861,
     "metadata": {},
     "output_type": "execute_result"
    }
   ],
   "source": [
    "mydict7=mydict6.copy()\n",
    "mydict7"
   ]
  },
  {
   "cell_type": "code",
   "execution_count": 863,
   "id": "276281b1-c1db-4557-b481-22ed0587cb7a",
   "metadata": {},
   "outputs": [
    {
     "data": {
      "text/plain": [
       "1987"
      ]
     },
     "execution_count": 863,
     "metadata": {},
     "output_type": "execute_result"
    }
   ],
   "source": [
    "mydict7['DOB']"
   ]
  },
  {
   "cell_type": "code",
   "execution_count": 865,
   "id": "7f036359-8ada-4f3f-9213-5f32a89503fd",
   "metadata": {},
   "outputs": [
    {
     "data": {
      "text/plain": [
       "{1: 'one', 2: 'two', 3: 'three', 4: 'four'}"
      ]
     },
     "execution_count": 865,
     "metadata": {},
     "output_type": "execute_result"
    }
   ],
   "source": [
    "d"
   ]
  },
  {
   "cell_type": "code",
   "execution_count": 867,
   "id": "6f9d9cf8-0134-41cb-8878-7995fe2421c7",
   "metadata": {},
   "outputs": [
    {
     "name": "stdout",
     "output_type": "stream",
     "text": [
      "1\n",
      "2\n",
      "3\n",
      "4\n"
     ]
    }
   ],
   "source": [
    "for i in d:\n",
    "    print(i)"
   ]
  },
  {
   "cell_type": "code",
   "execution_count": 869,
   "id": "086f9643-e138-4544-91e5-dfa9f961892f",
   "metadata": {},
   "outputs": [
    {
     "name": "stdout",
     "output_type": "stream",
     "text": [
      "1 : one\n",
      "2 : two\n",
      "3 : three\n",
      "4 : four\n"
     ]
    }
   ],
   "source": [
    "for i in d:\n",
    "    print(i, ':', d[i])"
   ]
  },
  {
   "cell_type": "code",
   "execution_count": 871,
   "id": "cf5c712b-cf1c-4780-b37f-994f6e7869a3",
   "metadata": {},
   "outputs": [
    {
     "name": "stdout",
     "output_type": "stream",
     "text": [
      "(0, 1)\n",
      "(1, 2)\n",
      "(2, 3)\n",
      "(3, 4)\n"
     ]
    }
   ],
   "source": [
    "for i in enumerate(d):\n",
    "    print(i)"
   ]
  },
  {
   "cell_type": "markdown",
   "id": "a7c913fa-3b62-439f-80a6-5324c797de33",
   "metadata": {},
   "source": [
    "# Eleventh Class"
   ]
  },
  {
   "cell_type": "code",
   "execution_count": 874,
   "id": "e2fdfcfc-59a0-4963-987f-c5d625ae3428",
   "metadata": {},
   "outputs": [],
   "source": [
    "# Practice Test1"
   ]
  },
  {
   "cell_type": "code",
   "execution_count": 876,
   "id": "b5cc8190-3384-4c13-8388-291daf50cd37",
   "metadata": {},
   "outputs": [
    {
     "name": "stdout",
     "output_type": "stream",
     "text": [
      "ell\n"
     ]
    }
   ],
   "source": [
    "x = 'Hello'\n",
    "print(x[1:4])"
   ]
  },
  {
   "cell_type": "code",
   "execution_count": 878,
   "id": "e6e6d8f9-192f-4dc9-ba36-a7696a749675",
   "metadata": {},
   "outputs": [
    {
     "name": "stdout",
     "output_type": "stream",
     "text": [
      "<built-in method pop of list object at 0x00000176EC9405C0>\n"
     ]
    }
   ],
   "source": [
    "listt= ['a','b','g',1,5]\n",
    "print(listt.pop)"
   ]
  },
  {
   "cell_type": "code",
   "execution_count": 880,
   "id": "233dc04a-2225-480e-8452-607c7fe363c6",
   "metadata": {},
   "outputs": [
    {
     "data": {
      "text/plain": [
       "5"
      ]
     },
     "execution_count": 880,
     "metadata": {},
     "output_type": "execute_result"
    }
   ],
   "source": [
    "listt.pop()"
   ]
  },
  {
   "cell_type": "code",
   "execution_count": 882,
   "id": "159f44d7-48d5-46d2-999f-9e736e220937",
   "metadata": {},
   "outputs": [
    {
     "data": {
      "text/plain": [
       "['a', 'b', 'g', 1]"
      ]
     },
     "execution_count": 882,
     "metadata": {},
     "output_type": "execute_result"
    }
   ],
   "source": [
    "listt"
   ]
  },
  {
   "cell_type": "code",
   "execution_count": 884,
   "id": "61958f08-e70c-4345-ab4d-9b1d072f75b3",
   "metadata": {},
   "outputs": [
    {
     "data": {
      "text/plain": [
       "1"
      ]
     },
     "execution_count": 884,
     "metadata": {},
     "output_type": "execute_result"
    }
   ],
   "source": [
    "listt.pop()"
   ]
  },
  {
   "cell_type": "code",
   "execution_count": 886,
   "id": "01686a37-54af-4315-a7dc-929e2f09638e",
   "metadata": {},
   "outputs": [
    {
     "data": {
      "text/plain": [
       "2"
      ]
     },
     "execution_count": 886,
     "metadata": {},
     "output_type": "execute_result"
    }
   ],
   "source": [
    "int(2.55)"
   ]
  },
  {
   "cell_type": "code",
   "execution_count": 888,
   "id": "6a9b9843-9350-4760-9de8-f64fc8541734",
   "metadata": {},
   "outputs": [
    {
     "name": "stdout",
     "output_type": "stream",
     "text": [
      "[1, 2, 3]\n",
      "[1, 2, 3, 4]\n"
     ]
    }
   ],
   "source": [
    "t1=[1,2,3]\n",
    "t2=t1.copy()\n",
    "t1.append(4)\n",
    "print(t2)\n",
    "print(t1)"
   ]
  },
  {
   "cell_type": "code",
   "execution_count": 890,
   "id": "dda28092-0688-42e8-a0e9-326eaf627f1c",
   "metadata": {},
   "outputs": [
    {
     "name": "stdout",
     "output_type": "stream",
     "text": [
      "[2, 4]\n"
     ]
    }
   ],
   "source": [
    "t1\n",
    "t4 = filter(lambda a: a % 2 == 0, t1)\n",
    "print(list(t4))"
   ]
  },
  {
   "cell_type": "code",
   "execution_count": 892,
   "id": "55c3b407-7924-4c27-80af-17a6fe636afc",
   "metadata": {},
   "outputs": [
    {
     "name": "stdout",
     "output_type": "stream",
     "text": [
      "heLlo\n"
     ]
    }
   ],
   "source": [
    "x = \"hello\"\n",
    "y = x.replace(\"l\", \"L\", 1)\n",
    "print(y) "
   ]
  },
  {
   "cell_type": "code",
   "execution_count": 894,
   "id": "a353c90a-48e6-4dd7-9bef-947d533c8ed1",
   "metadata": {},
   "outputs": [
    {
     "name": "stdout",
     "output_type": "stream",
     "text": [
      "1331\n"
     ]
    }
   ],
   "source": [
    "x=11\n",
    "y=3\n",
    "z=x**y\n",
    "print(z)"
   ]
  },
  {
   "cell_type": "code",
   "execution_count": 896,
   "id": "29c508cf-0d35-428f-a87c-b6c17d3c5f74",
   "metadata": {},
   "outputs": [
    {
     "name": "stdout",
     "output_type": "stream",
     "text": [
      "1020\n"
     ]
    }
   ],
   "source": [
    "x = 10\n",
    "y = \"20\"\n",
    "print(str(x)  + y) "
   ]
  },
  {
   "cell_type": "code",
   "execution_count": 898,
   "id": "45e98e31-3d29-4ca3-9620-d71de2567cb9",
   "metadata": {},
   "outputs": [
    {
     "name": "stdout",
     "output_type": "stream",
     "text": [
      "2550\n"
     ]
    }
   ],
   "source": [
    "x=str(25)\n",
    "y='50'\n",
    "print(x+y)"
   ]
  },
  {
   "cell_type": "code",
   "execution_count": 899,
   "id": "57b56c16-e9d3-4bae-9891-5141933cd67b",
   "metadata": {},
   "outputs": [
    {
     "name": "stdout",
     "output_type": "stream",
     "text": [
      "Learning is fun!\n"
     ]
    }
   ],
   "source": [
    "a='Learning '\n",
    "b='is fun!'\n",
    "print(a+b)"
   ]
  },
  {
   "cell_type": "code",
   "execution_count": 902,
   "id": "322c8f4d-c265-45fd-b462-8d4bc96a3666",
   "metadata": {},
   "outputs": [
    {
     "name": "stdout",
     "output_type": "stream",
     "text": [
      "(1, 2, 3, 1, 2, 3)\n"
     ]
    }
   ],
   "source": [
    "x = (1, 2, 3)\n",
    "y = x * 2\n",
    "print(y)"
   ]
  },
  {
   "cell_type": "code",
   "execution_count": 904,
   "id": "e2b7af13-2cba-4628-ab77-4770487ed339",
   "metadata": {},
   "outputs": [
    {
     "name": "stdout",
     "output_type": "stream",
     "text": [
      "[1, 2, 3]\n"
     ]
    }
   ],
   "source": [
    "x = [1, 2, 3]\n",
    "y = x[:]\n",
    "x[0] = 4\n",
    "print(y)"
   ]
  },
  {
   "cell_type": "code",
   "execution_count": 906,
   "id": "55a3b293-78e8-4d22-a222-364e9624dd89",
   "metadata": {},
   "outputs": [
    {
     "data": {
      "text/plain": [
       "[4, 2, 3]"
      ]
     },
     "execution_count": 906,
     "metadata": {},
     "output_type": "execute_result"
    }
   ],
   "source": [
    "x"
   ]
  },
  {
   "cell_type": "code",
   "execution_count": 908,
   "id": "bc6784c6-5bc6-4543-a5bb-6081a13c079e",
   "metadata": {},
   "outputs": [
    {
     "data": {
      "text/plain": [
       "range(0, 5)"
      ]
     },
     "execution_count": 908,
     "metadata": {},
     "output_type": "execute_result"
    }
   ],
   "source": [
    "range(5)"
   ]
  },
  {
   "cell_type": "code",
   "execution_count": 910,
   "id": "829a5d1f-97b0-43a5-8409-275e09258fb7",
   "metadata": {},
   "outputs": [],
   "source": [
    "r= range(5,10)"
   ]
  },
  {
   "cell_type": "code",
   "execution_count": 911,
   "id": "121710a1-0950-426c-acf2-54e6591440ad",
   "metadata": {},
   "outputs": [
    {
     "name": "stdout",
     "output_type": "stream",
     "text": [
      "5\n",
      "6\n",
      "7\n",
      "8\n",
      "9\n"
     ]
    }
   ],
   "source": [
    "for i in r:\n",
    "    print(i)"
   ]
  },
  {
   "cell_type": "code",
   "execution_count": 914,
   "id": "e0b7c182-f959-47c4-8eff-5e3f0d0e0a5a",
   "metadata": {},
   "outputs": [
    {
     "name": "stdout",
     "output_type": "stream",
     "text": [
      "(0, 5)\n",
      "(1, 6)\n",
      "(2, 7)\n",
      "(3, 8)\n",
      "(4, 9)\n"
     ]
    }
   ],
   "source": [
    "for i in enumerate(r):\n",
    "    print(i)"
   ]
  },
  {
   "cell_type": "code",
   "execution_count": 916,
   "id": "7c55a0cd-0b2e-46f8-8642-f6e2eab55db9",
   "metadata": {},
   "outputs": [
    {
     "data": {
      "text/plain": [
       "[5, 6, 7, 8, 9]"
      ]
     },
     "execution_count": 916,
     "metadata": {},
     "output_type": "execute_result"
    }
   ],
   "source": [
    "list(r)"
   ]
  },
  {
   "cell_type": "code",
   "execution_count": 918,
   "id": "04068e46-5262-4f52-88ce-01726dcad6da",
   "metadata": {},
   "outputs": [
    {
     "data": {
      "text/plain": [
       "range"
      ]
     },
     "execution_count": 918,
     "metadata": {},
     "output_type": "execute_result"
    }
   ],
   "source": [
    "type(r)"
   ]
  },
  {
   "cell_type": "code",
   "execution_count": 920,
   "id": "e213bea1-727c-4bb5-8f6e-f6fc9854d0d7",
   "metadata": {},
   "outputs": [
    {
     "data": {
      "text/plain": [
       "range(0, 11, 2)"
      ]
     },
     "execution_count": 920,
     "metadata": {},
     "output_type": "execute_result"
    }
   ],
   "source": [
    "r1=range(0,11,2)\n",
    "r1"
   ]
  },
  {
   "cell_type": "code",
   "execution_count": 922,
   "id": "841cf8d3-9b4f-4471-b1cc-495f64f8f42a",
   "metadata": {},
   "outputs": [
    {
     "name": "stdout",
     "output_type": "stream",
     "text": [
      "0\n",
      "2\n",
      "4\n",
      "6\n",
      "8\n",
      "10\n"
     ]
    }
   ],
   "source": [
    "for i in r1:\n",
    "    print(i)"
   ]
  },
  {
   "cell_type": "code",
   "execution_count": 924,
   "id": "f52d91b7-88cf-4d20-a827-c49ca4c365c3",
   "metadata": {},
   "outputs": [
    {
     "data": {
      "text/plain": [
       "[0, 2, 4, 6, 8, 10]"
      ]
     },
     "execution_count": 924,
     "metadata": {},
     "output_type": "execute_result"
    }
   ],
   "source": [
    "list(r1)"
   ]
  },
  {
   "cell_type": "code",
   "execution_count": 13,
   "id": "be9baef3-9c58-4ccb-81f9-58ff8e89f1eb",
   "metadata": {},
   "outputs": [],
   "source": [
    "# Numpy Library"
   ]
  },
  {
   "cell_type": "code",
   "execution_count": 15,
   "id": "eddc3739-2f76-4d33-8ce8-5850abca35e0",
   "metadata": {},
   "outputs": [],
   "source": [
    "# Numpy Crash Course"
   ]
  },
  {
   "cell_type": "code",
   "execution_count": 17,
   "id": "d074fb67-5af5-462f-b9f1-6d1868df9bc6",
   "metadata": {},
   "outputs": [],
   "source": [
    "import numpy as np"
   ]
  },
  {
   "cell_type": "code",
   "execution_count": 19,
   "id": "8d703cd5-8388-4f4e-b270-1a98f6a5acf8",
   "metadata": {},
   "outputs": [
    {
     "data": {
      "text/plain": [
       "'1.26.4'"
      ]
     },
     "execution_count": 19,
     "metadata": {},
     "output_type": "execute_result"
    }
   ],
   "source": [
    "np.__version__"
   ]
  },
  {
   "cell_type": "code",
   "execution_count": 21,
   "id": "f365ee95-755e-4ef6-a622-cc9dbacdf988",
   "metadata": {},
   "outputs": [],
   "source": [
    "import sys"
   ]
  },
  {
   "cell_type": "code",
   "execution_count": 23,
   "id": "0ac5e307-0d0d-4710-a377-63bcb61474d4",
   "metadata": {},
   "outputs": [
    {
     "data": {
      "text/plain": [
       "'3.12.4 | packaged by Anaconda, Inc. | (main, Jun 18 2024, 15:03:56) [MSC v.1929 64 bit (AMD64)]'"
      ]
     },
     "execution_count": 23,
     "metadata": {},
     "output_type": "execute_result"
    }
   ],
   "source": [
    "sys.version"
   ]
  },
  {
   "cell_type": "code",
   "execution_count": 25,
   "id": "4a1f39c2-1f7f-4b18-921c-6c5292dd4c41",
   "metadata": {},
   "outputs": [],
   "source": [
    "# Creating Arrays"
   ]
  },
  {
   "cell_type": "code",
   "execution_count": 27,
   "id": "8b9f9cbc-3b2e-4e73-8829-9e5ff5f91207",
   "metadata": {},
   "outputs": [
    {
     "data": {
      "text/plain": [
       "[0, 1, 2, 3, 4, 5]"
      ]
     },
     "execution_count": 27,
     "metadata": {},
     "output_type": "execute_result"
    }
   ],
   "source": [
    "my_list=[0,1,2,3,4,5]\n",
    "my_list"
   ]
  },
  {
   "cell_type": "code",
   "execution_count": 29,
   "id": "5f13505f-740d-4ace-b690-b37b53fdae23",
   "metadata": {},
   "outputs": [
    {
     "data": {
      "text/plain": [
       "list"
      ]
     },
     "execution_count": 29,
     "metadata": {},
     "output_type": "execute_result"
    }
   ],
   "source": [
    "type(my_list)"
   ]
  },
  {
   "cell_type": "code",
   "execution_count": 31,
   "id": "44126b37-760d-420b-9ad5-29b3a929133c",
   "metadata": {},
   "outputs": [
    {
     "data": {
      "text/plain": [
       "array([0, 1, 2, 3, 4, 5])"
      ]
     },
     "execution_count": 31,
     "metadata": {},
     "output_type": "execute_result"
    }
   ],
   "source": [
    "arr=np.array(my_list)\n",
    "arr"
   ]
  },
  {
   "cell_type": "code",
   "execution_count": 33,
   "id": "07d95716-05cd-4be8-95fc-53d46fa10696",
   "metadata": {},
   "outputs": [
    {
     "data": {
      "text/plain": [
       "numpy.ndarray"
      ]
     },
     "execution_count": 33,
     "metadata": {},
     "output_type": "execute_result"
    }
   ],
   "source": [
    "type(arr)"
   ]
  },
  {
   "cell_type": "code",
   "execution_count": 35,
   "id": "52a68c33-4335-4945-a41d-dc3ad48c29c7",
   "metadata": {},
   "outputs": [
    {
     "data": {
      "text/plain": [
       "list"
      ]
     },
     "execution_count": 35,
     "metadata": {},
     "output_type": "execute_result"
    }
   ],
   "source": [
    "type(my_list)"
   ]
  },
  {
   "cell_type": "markdown",
   "id": "5388f9e9-399d-4570-991a-f6bb753e3467",
   "metadata": {},
   "source": [
    "# Twelfth Class"
   ]
  },
  {
   "cell_type": "code",
   "execution_count": 38,
   "id": "f22e3bf1-fd82-49ac-9fab-927a16b23f61",
   "metadata": {},
   "outputs": [
    {
     "data": {
      "text/plain": [
       "'nitnit'"
      ]
     },
     "execution_count": 38,
     "metadata": {},
     "output_type": "execute_result"
    }
   ],
   "source": [
    "'nit'+'nit'"
   ]
  },
  {
   "cell_type": "code",
   "execution_count": 39,
   "id": "fdbfca5a-e727-4204-852e-3d87798e25c9",
   "metadata": {},
   "outputs": [
    {
     "data": {
      "text/plain": [
       "'nit nit'"
      ]
     },
     "execution_count": 39,
     "metadata": {},
     "output_type": "execute_result"
    }
   ],
   "source": [
    "'nit'+' nit'"
   ]
  },
  {
   "cell_type": "code",
   "execution_count": 40,
   "id": "1e4811cd-73fe-4436-ac54-399569db8a67",
   "metadata": {},
   "outputs": [
    {
     "data": {
      "text/plain": [
       "'nitnitnitnitnit'"
      ]
     },
     "execution_count": 40,
     "metadata": {},
     "output_type": "execute_result"
    }
   ],
   "source": [
    "5*'nit'"
   ]
  },
  {
   "cell_type": "code",
   "execution_count": 44,
   "id": "fb2424b9-4e69-41b1-a724-7bd04528131f",
   "metadata": {},
   "outputs": [
    {
     "data": {
      "text/plain": [
       "' nit nit nit nit nit'"
      ]
     },
     "execution_count": 44,
     "metadata": {},
     "output_type": "execute_result"
    }
   ],
   "source": [
    "5*' nit'"
   ]
  },
  {
   "cell_type": "code",
   "execution_count": 46,
   "id": "b04ca76d-49f6-416b-a95d-77ed2e3d8217",
   "metadata": {},
   "outputs": [
    {
     "name": "stdout",
     "output_type": "stream",
     "text": [
      "c:\n",
      "it\n"
     ]
    }
   ],
   "source": [
    "print('c:\\nit')"
   ]
  },
  {
   "cell_type": "code",
   "execution_count": 48,
   "id": "c59aee41-1b42-46be-9500-9cd27d1ae179",
   "metadata": {},
   "outputs": [
    {
     "name": "stdout",
     "output_type": "stream",
     "text": [
      "c:\\nit\n"
     ]
    }
   ],
   "source": [
    "print(r'c:\\nit')"
   ]
  },
  {
   "cell_type": "code",
   "execution_count": 50,
   "id": "00fab603-a846-412c-a977-70f81a672206",
   "metadata": {},
   "outputs": [
    {
     "data": {
      "text/plain": [
       "5"
      ]
     },
     "execution_count": 50,
     "metadata": {},
     "output_type": "execute_result"
    }
   ],
   "source": [
    "x=2\n",
    "y=3\n",
    "x+y"
   ]
  },
  {
   "cell_type": "code",
   "execution_count": 52,
   "id": "a55d8484-a4f5-4214-8bd9-52ec9c6335c1",
   "metadata": {},
   "outputs": [
    {
     "ename": "TypeError",
     "evalue": "can only concatenate str (not \"int\") to str",
     "output_type": "error",
     "traceback": [
      "\u001b[1;31m---------------------------------------------------------------------------\u001b[0m",
      "\u001b[1;31mTypeError\u001b[0m                                 Traceback (most recent call last)",
      "Cell \u001b[1;32mIn[52], line 1\u001b[0m\n\u001b[1;32m----> 1\u001b[0m _\u001b[38;5;241m+\u001b[39my\n",
      "\u001b[1;31mTypeError\u001b[0m: can only concatenate str (not \"int\") to str"
     ]
    }
   ],
   "source": [
    "_+y"
   ]
  },
  {
   "cell_type": "code",
   "execution_count": 53,
   "id": "32269184-ce6b-4341-b568-4016ec1366f2",
   "metadata": {},
   "outputs": [
    {
     "data": {
      "text/plain": [
       "'mit'"
      ]
     },
     "execution_count": 53,
     "metadata": {},
     "output_type": "execute_result"
    }
   ],
   "source": [
    "name = 'mit'\n",
    "name"
   ]
  },
  {
   "cell_type": "code",
   "execution_count": 56,
   "id": "b2168b15-0bf3-4883-88b9-95f7919834cd",
   "metadata": {},
   "outputs": [
    {
     "data": {
      "text/plain": [
       "'mittechnolgy'"
      ]
     },
     "execution_count": 56,
     "metadata": {},
     "output_type": "execute_result"
    }
   ],
   "source": [
    "name + 'technolgy'"
   ]
  },
  {
   "cell_type": "code",
   "execution_count": 58,
   "id": "592d71a8-1afa-4ccd-b5ff-605913843933",
   "metadata": {},
   "outputs": [
    {
     "ename": "SyntaxError",
     "evalue": "invalid syntax (3186014715.py, line 1)",
     "output_type": "error",
     "traceback": [
      "\u001b[1;36m  Cell \u001b[1;32mIn[58], line 1\u001b[1;36m\u001b[0m\n\u001b[1;33m    name 'technology'\u001b[0m\n\u001b[1;37m         ^\u001b[0m\n\u001b[1;31mSyntaxError\u001b[0m\u001b[1;31m:\u001b[0m invalid syntax\n"
     ]
    }
   ],
   "source": [
    "name 'technology'"
   ]
  },
  {
   "cell_type": "code",
   "execution_count": 60,
   "id": "6bf79673-e558-42b3-b795-392ddd08d25f",
   "metadata": {},
   "outputs": [
    {
     "data": {
      "text/plain": [
       "3"
      ]
     },
     "execution_count": 60,
     "metadata": {},
     "output_type": "execute_result"
    }
   ],
   "source": [
    "len(name)"
   ]
  },
  {
   "cell_type": "code",
   "execution_count": 62,
   "id": "a1f649e7-333f-48ce-bb5a-113862ffc187",
   "metadata": {},
   "outputs": [
    {
     "data": {
      "text/plain": [
       "'fine'"
      ]
     },
     "execution_count": 62,
     "metadata": {},
     "output_type": "execute_result"
    }
   ],
   "source": [
    "name1='fine'\n",
    "name1"
   ]
  },
  {
   "cell_type": "code",
   "execution_count": 64,
   "id": "fce792b2-c1a3-4477-a673-42e1ee49bed4",
   "metadata": {},
   "outputs": [
    {
     "ename": "TypeError",
     "evalue": "'str' object does not support item assignment",
     "output_type": "error",
     "traceback": [
      "\u001b[1;31m---------------------------------------------------------------------------\u001b[0m",
      "\u001b[1;31mTypeError\u001b[0m                                 Traceback (most recent call last)",
      "Cell \u001b[1;32mIn[64], line 1\u001b[0m\n\u001b[1;32m----> 1\u001b[0m name1[\u001b[38;5;241m0\u001b[39m]\u001b[38;5;241m=\u001b[39m\u001b[38;5;124m'\u001b[39m\u001b[38;5;124md\u001b[39m\u001b[38;5;124m'\u001b[39m\n",
      "\u001b[1;31mTypeError\u001b[0m: 'str' object does not support item assignment"
     ]
    }
   ],
   "source": [
    "name1[0]='d'"
   ]
  },
  {
   "cell_type": "code",
   "execution_count": 66,
   "id": "96f76442-8ea7-4898-9067-8c192d56a54f",
   "metadata": {},
   "outputs": [
    {
     "data": {
      "text/plain": [
       "'dine'"
      ]
     },
     "execution_count": 66,
     "metadata": {},
     "output_type": "execute_result"
    }
   ],
   "source": [
    "'d'+name1[1:]"
   ]
  },
  {
   "cell_type": "code",
   "execution_count": 68,
   "id": "79ce3738-1853-4df7-b70e-f4596b069e48",
   "metadata": {},
   "outputs": [
    {
     "data": {
      "text/plain": [
       "'dine'"
      ]
     },
     "execution_count": 68,
     "metadata": {},
     "output_type": "execute_result"
    }
   ],
   "source": [
    "'d'+name1[1:4]"
   ]
  },
  {
   "cell_type": "code",
   "execution_count": 70,
   "id": "aef58b0b-c093-4d9a-b28f-c033f32cd1ae",
   "metadata": {},
   "outputs": [
    {
     "data": {
      "text/plain": [
       "'dine'"
      ]
     },
     "execution_count": 70,
     "metadata": {},
     "output_type": "execute_result"
    }
   ],
   "source": [
    "'d'+name1[1:4:]"
   ]
  },
  {
   "cell_type": "code",
   "execution_count": 71,
   "id": "15799654-06de-4e61-a821-69c440c1b150",
   "metadata": {},
   "outputs": [
    {
     "data": {
      "text/plain": [
       "'dine'"
      ]
     },
     "execution_count": 71,
     "metadata": {},
     "output_type": "execute_result"
    }
   ],
   "source": [
    "'d'+name1[1:4:1]"
   ]
  },
  {
   "cell_type": "code",
   "execution_count": 74,
   "id": "ba9e6bc7-e515-4005-9b67-72577ae63ab4",
   "metadata": {},
   "outputs": [],
   "source": [
    "x1,y1=10,5"
   ]
  },
  {
   "cell_type": "code",
   "execution_count": 76,
   "id": "e2efbdc4-deab-488b-80d5-fb42333c31fd",
   "metadata": {},
   "outputs": [],
   "source": [
    "#Arithmetic Operator"
   ]
  },
  {
   "cell_type": "code",
   "execution_count": 78,
   "id": "1c3b87ba-af38-4d61-845c-d2c5e468bdad",
   "metadata": {},
   "outputs": [
    {
     "data": {
      "text/plain": [
       "15"
      ]
     },
     "execution_count": 78,
     "metadata": {},
     "output_type": "execute_result"
    }
   ],
   "source": [
    "x1+y1"
   ]
  },
  {
   "cell_type": "code",
   "execution_count": 79,
   "id": "c33c72a8-3aa4-4b09-aedf-f18fb80db7ae",
   "metadata": {},
   "outputs": [
    {
     "data": {
      "text/plain": [
       "5"
      ]
     },
     "execution_count": 79,
     "metadata": {},
     "output_type": "execute_result"
    }
   ],
   "source": [
    "x1-y1"
   ]
  },
  {
   "cell_type": "code",
   "execution_count": 82,
   "id": "f0981ae2-8ac5-4e7b-b867-0e538536be06",
   "metadata": {},
   "outputs": [
    {
     "data": {
      "text/plain": [
       "50"
      ]
     },
     "execution_count": 82,
     "metadata": {},
     "output_type": "execute_result"
    }
   ],
   "source": [
    "x1*y1"
   ]
  },
  {
   "cell_type": "code",
   "execution_count": 84,
   "id": "c6ded4fc-b10c-4469-adb7-83990c45f121",
   "metadata": {},
   "outputs": [
    {
     "data": {
      "text/plain": [
       "2.0"
      ]
     },
     "execution_count": 84,
     "metadata": {},
     "output_type": "execute_result"
    }
   ],
   "source": [
    "x1/y1"
   ]
  },
  {
   "cell_type": "code",
   "execution_count": 86,
   "id": "85507c62-c630-4874-b113-8172a575ea7f",
   "metadata": {},
   "outputs": [
    {
     "data": {
      "text/plain": [
       "2"
      ]
     },
     "execution_count": 86,
     "metadata": {},
     "output_type": "execute_result"
    }
   ],
   "source": [
    "x1//y1"
   ]
  },
  {
   "cell_type": "code",
   "execution_count": 88,
   "id": "5c641612-2462-4243-b638-9687afde61ae",
   "metadata": {},
   "outputs": [
    {
     "data": {
      "text/plain": [
       "0"
      ]
     },
     "execution_count": 88,
     "metadata": {},
     "output_type": "execute_result"
    }
   ],
   "source": [
    "x1%y1"
   ]
  },
  {
   "cell_type": "code",
   "execution_count": 90,
   "id": "598c3216-324f-46e1-b0fa-9c0e3fb849b9",
   "metadata": {},
   "outputs": [
    {
     "data": {
      "text/plain": [
       "100000"
      ]
     },
     "execution_count": 90,
     "metadata": {},
     "output_type": "execute_result"
    }
   ],
   "source": [
    "x1**y1"
   ]
  },
  {
   "cell_type": "code",
   "execution_count": 91,
   "id": "1693d624-be5d-4f45-a2f6-1d69f31386e3",
   "metadata": {},
   "outputs": [],
   "source": [
    "#Assignment Operator"
   ]
  },
  {
   "cell_type": "code",
   "execution_count": 94,
   "id": "97dbeb60-8ae6-48eb-a86a-3fc59d3dd794",
   "metadata": {},
   "outputs": [],
   "source": [
    "x=1"
   ]
  },
  {
   "cell_type": "code",
   "execution_count": 96,
   "id": "7aa65d6e-e68c-4581-a836-da2ff5aaf00a",
   "metadata": {},
   "outputs": [
    {
     "data": {
      "text/plain": [
       "3"
      ]
     },
     "execution_count": 96,
     "metadata": {},
     "output_type": "execute_result"
    }
   ],
   "source": [
    "x+=2\n",
    "x"
   ]
  },
  {
   "cell_type": "code",
   "execution_count": 98,
   "id": "6526a396-565c-4934-a0a5-ffb0849a64de",
   "metadata": {},
   "outputs": [
    {
     "data": {
      "text/plain": [
       "6"
      ]
     },
     "execution_count": 98,
     "metadata": {},
     "output_type": "execute_result"
    }
   ],
   "source": [
    "x+=3\n",
    "x"
   ]
  },
  {
   "cell_type": "code",
   "execution_count": 99,
   "id": "929d6b4d-594d-46ae-b905-5fa9dc01681d",
   "metadata": {},
   "outputs": [
    {
     "data": {
      "text/plain": [
       "24"
      ]
     },
     "execution_count": 99,
     "metadata": {},
     "output_type": "execute_result"
    }
   ],
   "source": [
    "x*=4\n",
    "x"
   ]
  },
  {
   "cell_type": "code",
   "execution_count": 102,
   "id": "207922a7-918c-474b-a60c-598795eb2c59",
   "metadata": {},
   "outputs": [
    {
     "data": {
      "text/plain": [
       "19"
      ]
     },
     "execution_count": 102,
     "metadata": {},
     "output_type": "execute_result"
    }
   ],
   "source": [
    "x-=5\n",
    "x"
   ]
  },
  {
   "cell_type": "code",
   "execution_count": 103,
   "id": "c8d682f1-414b-4754-9997-764238695fcd",
   "metadata": {},
   "outputs": [
    {
     "data": {
      "text/plain": [
       "3.1666666666666665"
      ]
     },
     "execution_count": 103,
     "metadata": {},
     "output_type": "execute_result"
    }
   ],
   "source": [
    "x/=6\n",
    "x"
   ]
  },
  {
   "cell_type": "code",
   "execution_count": 105,
   "id": "a95e76f8-2c6b-40fb-8a27-c9733aeb4028",
   "metadata": {},
   "outputs": [
    {
     "data": {
      "text/plain": [
       "0.0"
      ]
     },
     "execution_count": 105,
     "metadata": {},
     "output_type": "execute_result"
    }
   ],
   "source": [
    "x//=7\n",
    "x"
   ]
  },
  {
   "cell_type": "code",
   "execution_count": 107,
   "id": "c3356747-03ad-49e0-ba53-2226ebe1c137",
   "metadata": {},
   "outputs": [
    {
     "data": {
      "text/plain": [
       "0"
      ]
     },
     "execution_count": 107,
     "metadata": {},
     "output_type": "execute_result"
    }
   ],
   "source": [
    "int(x)"
   ]
  },
  {
   "cell_type": "code",
   "execution_count": 108,
   "id": "b9cb6e73-f1fb-428d-9072-7dcf2e09b8db",
   "metadata": {},
   "outputs": [
    {
     "data": {
      "text/plain": [
       "6"
      ]
     },
     "execution_count": 108,
     "metadata": {},
     "output_type": "execute_result"
    }
   ],
   "source": [
    "p=3.5\n",
    "p+=3\n",
    "int(p)"
   ]
  },
  {
   "cell_type": "code",
   "execution_count": 109,
   "id": "c29aa64f-573d-4902-8b36-1c4e0339b5f0",
   "metadata": {},
   "outputs": [],
   "source": [
    "# Unary Operations"
   ]
  },
  {
   "cell_type": "code",
   "execution_count": 112,
   "id": "047e9e23-2f4c-430e-8252-2bb7e99a8b00",
   "metadata": {},
   "outputs": [],
   "source": [
    "n=7"
   ]
  },
  {
   "cell_type": "code",
   "execution_count": 115,
   "id": "0502fd00-e5ef-4c29-b8a3-00437d8b1de2",
   "metadata": {},
   "outputs": [
    {
     "data": {
      "text/plain": [
       "-7"
      ]
     },
     "execution_count": 115,
     "metadata": {},
     "output_type": "execute_result"
    }
   ],
   "source": [
    "m=-(n)\n",
    "m"
   ]
  },
  {
   "cell_type": "code",
   "execution_count": 117,
   "id": "463e188d-6409-4919-8a5f-b28052524d0e",
   "metadata": {},
   "outputs": [],
   "source": [
    "# Relational Operations"
   ]
  },
  {
   "cell_type": "code",
   "execution_count": 118,
   "id": "3b1dad7e-86c0-4723-b6d8-573bab86981e",
   "metadata": {},
   "outputs": [],
   "source": [
    "a=5\n",
    "b=6"
   ]
  },
  {
   "cell_type": "code",
   "execution_count": 122,
   "id": "a5cece2d-9666-4ed3-ae2b-aab271e3fcea",
   "metadata": {},
   "outputs": [
    {
     "data": {
      "text/plain": [
       "True"
      ]
     },
     "execution_count": 122,
     "metadata": {},
     "output_type": "execute_result"
    }
   ],
   "source": [
    "a<b"
   ]
  },
  {
   "cell_type": "code",
   "execution_count": 123,
   "id": "ce91b84f-517a-4c34-8519-67bef85ceab4",
   "metadata": {},
   "outputs": [
    {
     "data": {
      "text/plain": [
       "True"
      ]
     },
     "execution_count": 123,
     "metadata": {},
     "output_type": "execute_result"
    }
   ],
   "source": [
    "b>a"
   ]
  },
  {
   "cell_type": "code",
   "execution_count": 124,
   "id": "12baabb6-a7a3-4466-a546-04977e71066f",
   "metadata": {},
   "outputs": [
    {
     "data": {
      "text/plain": [
       "False"
      ]
     },
     "execution_count": 124,
     "metadata": {},
     "output_type": "execute_result"
    }
   ],
   "source": [
    "a==b"
   ]
  },
  {
   "cell_type": "code",
   "execution_count": 127,
   "id": "56a22276-71fe-450e-bda7-548559482235",
   "metadata": {},
   "outputs": [
    {
     "data": {
      "text/plain": [
       "False"
      ]
     },
     "execution_count": 127,
     "metadata": {},
     "output_type": "execute_result"
    }
   ],
   "source": [
    "a>b"
   ]
  },
  {
   "cell_type": "code",
   "execution_count": 128,
   "id": "1e2eeea9-40df-412b-ab2b-8c83cac0c54a",
   "metadata": {},
   "outputs": [
    {
     "name": "stdout",
     "output_type": "stream",
     "text": [
      "5\n",
      "6\n"
     ]
    }
   ],
   "source": [
    "print(a)\n",
    "print(b)"
   ]
  },
  {
   "cell_type": "code",
   "execution_count": 129,
   "id": "646dfd0c-7c4f-4ac0-9df3-d02bdfd83071",
   "metadata": {},
   "outputs": [],
   "source": [
    "b=5"
   ]
  },
  {
   "cell_type": "code",
   "execution_count": 130,
   "id": "feb7ad9a-60d3-4caf-aaed-a01aee7b4a41",
   "metadata": {},
   "outputs": [
    {
     "data": {
      "text/plain": [
       "True"
      ]
     },
     "execution_count": 130,
     "metadata": {},
     "output_type": "execute_result"
    }
   ],
   "source": [
    "a==b"
   ]
  },
  {
   "cell_type": "code",
   "execution_count": 132,
   "id": "8cf1acc1-07e1-48b2-a66c-9850364c1048",
   "metadata": {},
   "outputs": [
    {
     "data": {
      "text/plain": [
       "False"
      ]
     },
     "execution_count": 132,
     "metadata": {},
     "output_type": "execute_result"
    }
   ],
   "source": [
    "a>b"
   ]
  },
  {
   "cell_type": "code",
   "execution_count": 137,
   "id": "99d89d29-9fed-42f5-94fc-f6ff67be0b7a",
   "metadata": {},
   "outputs": [
    {
     "data": {
      "text/plain": [
       "True"
      ]
     },
     "execution_count": 137,
     "metadata": {},
     "output_type": "execute_result"
    }
   ],
   "source": [
    "a >= b"
   ]
  },
  {
   "cell_type": "code",
   "execution_count": 139,
   "id": "23a54a97-26c3-495a-83f6-a50b55a24ceb",
   "metadata": {},
   "outputs": [],
   "source": [
    "c=7"
   ]
  },
  {
   "cell_type": "code",
   "execution_count": 142,
   "id": "33f3d2c7-ef88-4e8c-bc5b-1460df7aecc6",
   "metadata": {},
   "outputs": [
    {
     "data": {
      "text/plain": [
       "True"
      ]
     },
     "execution_count": 142,
     "metadata": {},
     "output_type": "execute_result"
    }
   ],
   "source": [
    "c>b"
   ]
  },
  {
   "cell_type": "code",
   "execution_count": 144,
   "id": "c782e855-c2b3-49fc-841c-34cefff62675",
   "metadata": {},
   "outputs": [
    {
     "data": {
      "text/plain": [
       "False"
      ]
     },
     "execution_count": 144,
     "metadata": {},
     "output_type": "execute_result"
    }
   ],
   "source": [
    "b>c"
   ]
  },
  {
   "cell_type": "code",
   "execution_count": 145,
   "id": "66831aad-b1a1-469b-bf5f-05a10278e99f",
   "metadata": {},
   "outputs": [
    {
     "name": "stdout",
     "output_type": "stream",
     "text": [
      "5\n",
      "7\n"
     ]
    }
   ],
   "source": [
    "print(b)\n",
    "print(c)"
   ]
  },
  {
   "cell_type": "code",
   "execution_count": 148,
   "id": "8d32efb0-3903-4f39-b37b-b54e48e87c1c",
   "metadata": {},
   "outputs": [],
   "source": [
    "b=c"
   ]
  },
  {
   "cell_type": "code",
   "execution_count": 150,
   "id": "436fbc81-d742-464e-abdc-a2b830ae9053",
   "metadata": {},
   "outputs": [
    {
     "name": "stdout",
     "output_type": "stream",
     "text": [
      "7\n",
      "7\n"
     ]
    }
   ],
   "source": [
    "print(b)\n",
    "print(c)"
   ]
  },
  {
   "cell_type": "code",
   "execution_count": 152,
   "id": "8ddc6058-4b9a-42bb-a524-aa429a7f4d34",
   "metadata": {},
   "outputs": [
    {
     "data": {
      "text/plain": [
       "True"
      ]
     },
     "execution_count": 152,
     "metadata": {},
     "output_type": "execute_result"
    }
   ],
   "source": [
    "b==c"
   ]
  },
  {
   "cell_type": "code",
   "execution_count": 154,
   "id": "c4e2b510-8047-43d2-acf4-d8a47148852a",
   "metadata": {},
   "outputs": [
    {
     "data": {
      "text/plain": [
       "False"
      ]
     },
     "execution_count": 154,
     "metadata": {},
     "output_type": "execute_result"
    }
   ],
   "source": [
    "b>c"
   ]
  },
  {
   "cell_type": "code",
   "execution_count": 156,
   "id": "cf5e7175-c540-4c54-ad56-3f446359869d",
   "metadata": {},
   "outputs": [
    {
     "data": {
      "text/plain": [
       "True"
      ]
     },
     "execution_count": 156,
     "metadata": {},
     "output_type": "execute_result"
    }
   ],
   "source": [
    "b>=c"
   ]
  },
  {
   "cell_type": "code",
   "execution_count": 158,
   "id": "de4060ce-92db-48c7-8c23-83238053aff1",
   "metadata": {},
   "outputs": [],
   "source": [
    "d=8"
   ]
  },
  {
   "cell_type": "code",
   "execution_count": 160,
   "id": "0c8647b5-22ef-4c38-8ef7-502f763b6b71",
   "metadata": {},
   "outputs": [
    {
     "data": {
      "text/plain": [
       "False"
      ]
     },
     "execution_count": 160,
     "metadata": {},
     "output_type": "execute_result"
    }
   ],
   "source": [
    "c>=d"
   ]
  },
  {
   "cell_type": "code",
   "execution_count": 162,
   "id": "5283350b-f844-4f4b-8fca-0196ec6bf683",
   "metadata": {},
   "outputs": [
    {
     "data": {
      "text/plain": [
       "True"
      ]
     },
     "execution_count": 162,
     "metadata": {},
     "output_type": "execute_result"
    }
   ],
   "source": [
    "c<=d"
   ]
  },
  {
   "cell_type": "code",
   "execution_count": 164,
   "id": "19e73219-b114-4198-9fab-6fd32bf373e2",
   "metadata": {},
   "outputs": [
    {
     "data": {
      "text/plain": [
       "True"
      ]
     },
     "execution_count": 164,
     "metadata": {},
     "output_type": "execute_result"
    }
   ],
   "source": [
    "c!=d"
   ]
  },
  {
   "cell_type": "code",
   "execution_count": 166,
   "id": "26d34aa8-98be-45bd-9765-b34f039b7f78",
   "metadata": {},
   "outputs": [],
   "source": [
    "# Logical Operations"
   ]
  },
  {
   "cell_type": "code",
   "execution_count": 168,
   "id": "5570e2b3-ddcb-4b8f-890d-0c8881017c5d",
   "metadata": {},
   "outputs": [],
   "source": [
    "a=5\n",
    "b=4"
   ]
  },
  {
   "cell_type": "code",
   "execution_count": 170,
   "id": "3f037594-92f2-4f11-a2f5-6c31d00cb61b",
   "metadata": {},
   "outputs": [
    {
     "data": {
      "text/plain": [
       "False"
      ]
     },
     "execution_count": 170,
     "metadata": {},
     "output_type": "execute_result"
    }
   ],
   "source": [
    "a < 8 and b < 2"
   ]
  },
  {
   "cell_type": "code",
   "execution_count": 172,
   "id": "907f0668-0834-40ed-8844-85dd7293aeaa",
   "metadata": {},
   "outputs": [
    {
     "data": {
      "text/plain": [
       "False"
      ]
     },
     "execution_count": 172,
     "metadata": {},
     "output_type": "execute_result"
    }
   ],
   "source": [
    "a > 8 and b < 2"
   ]
  },
  {
   "cell_type": "code",
   "execution_count": 174,
   "id": "29cea960-1616-46d8-8601-30fc53efbd79",
   "metadata": {},
   "outputs": [
    {
     "data": {
      "text/plain": [
       "False"
      ]
     },
     "execution_count": 174,
     "metadata": {},
     "output_type": "execute_result"
    }
   ],
   "source": [
    "x = False\n",
    "x"
   ]
  },
  {
   "cell_type": "code",
   "execution_count": 176,
   "id": "3811585d-7f84-4f58-9f98-ab12222aac7a",
   "metadata": {},
   "outputs": [
    {
     "data": {
      "text/plain": [
       "True"
      ]
     },
     "execution_count": 176,
     "metadata": {},
     "output_type": "execute_result"
    }
   ],
   "source": [
    "x = not x\n",
    "x"
   ]
  },
  {
   "cell_type": "code",
   "execution_count": 178,
   "id": "b1afd7fc-2035-4df7-8583-6250ab8ae287",
   "metadata": {},
   "outputs": [
    {
     "data": {
      "text/plain": [
       "True"
      ]
     },
     "execution_count": 178,
     "metadata": {},
     "output_type": "execute_result"
    }
   ],
   "source": [
    "x"
   ]
  },
  {
   "cell_type": "code",
   "execution_count": 180,
   "id": "0d843dd0-b8fa-447a-ac97-8d1ccd67d6ea",
   "metadata": {},
   "outputs": [
    {
     "data": {
      "text/plain": [
       "False"
      ]
     },
     "execution_count": 180,
     "metadata": {},
     "output_type": "execute_result"
    }
   ],
   "source": [
    "not x"
   ]
  },
  {
   "cell_type": "code",
   "execution_count": 182,
   "id": "08d5e234-1bc3-4ee0-bb82-7b263535b160",
   "metadata": {},
   "outputs": [],
   "source": [
    "#Binary\n",
    "#Octal\n",
    "#Decimal\n",
    "#Hexadecimal"
   ]
  },
  {
   "cell_type": "code",
   "execution_count": 184,
   "id": "8e4e4b10-9759-4e3a-a693-021f1a8d9bb8",
   "metadata": {},
   "outputs": [],
   "source": [
    "# swap 2 variables"
   ]
  },
  {
   "cell_type": "code",
   "execution_count": 186,
   "id": "4591fbd1-3e44-4e99-a78e-aeddd67647a0",
   "metadata": {},
   "outputs": [],
   "source": [
    "a =5\n",
    "b =6"
   ]
  },
  {
   "cell_type": "code",
   "execution_count": 188,
   "id": "c486d195-3615-4b1f-ab8f-ff219cf22374",
   "metadata": {},
   "outputs": [],
   "source": [
    "a = b\n",
    "b=a"
   ]
  },
  {
   "cell_type": "code",
   "execution_count": 190,
   "id": "d7d470f6-7c47-416f-8bb8-34f45d054b9c",
   "metadata": {},
   "outputs": [
    {
     "name": "stdout",
     "output_type": "stream",
     "text": [
      "6\n"
     ]
    },
    {
     "data": {
      "text/plain": [
       "6"
      ]
     },
     "execution_count": 190,
     "metadata": {},
     "output_type": "execute_result"
    }
   ],
   "source": [
    "print(a)\n",
    "b"
   ]
  },
  {
   "cell_type": "code",
   "execution_count": 192,
   "id": "f4d088de-20b9-4fa6-848f-2c8c76a1f5a3",
   "metadata": {},
   "outputs": [
    {
     "name": "stdout",
     "output_type": "stream",
     "text": [
      "8\n",
      "7\n"
     ]
    }
   ],
   "source": [
    "a1=7\n",
    "b1=8\n",
    "temp=a1\n",
    "a1=b1\n",
    "b1=temp\n",
    "print(a1)\n",
    "print(b1)"
   ]
  },
  {
   "cell_type": "code",
   "execution_count": 194,
   "id": "32221530-3daf-4dba-9d00-065150391a06",
   "metadata": {},
   "outputs": [],
   "source": [
    "a2=6\n",
    "b2=5"
   ]
  },
  {
   "cell_type": "code",
   "execution_count": 196,
   "id": "d78cf4b2-7194-43b9-8aee-60a55c265822",
   "metadata": {},
   "outputs": [],
   "source": [
    "a2,b2=b2,a2"
   ]
  },
  {
   "cell_type": "code",
   "execution_count": 198,
   "id": "dd7635dc-d2f0-4333-a6ab-e8b6eaed3bfb",
   "metadata": {},
   "outputs": [
    {
     "name": "stdout",
     "output_type": "stream",
     "text": [
      "5\n",
      "6\n"
     ]
    }
   ],
   "source": [
    "print(a2)\n",
    "print(b2)"
   ]
  },
  {
   "cell_type": "code",
   "execution_count": 200,
   "id": "dd4a07a7-bb62-477f-9a33-3e47c8ecf4a1",
   "metadata": {},
   "outputs": [],
   "source": [
    "#Backslash"
   ]
  },
  {
   "cell_type": "code",
   "execution_count": 202,
   "id": "8d121670-80ca-4705-95a5-fdeb2a4d1425",
   "metadata": {},
   "outputs": [
    {
     "name": "stdout",
     "output_type": "stream",
     "text": [
      "Hi Everyone! My name is Santosh Thank You\n"
     ]
    }
   ],
   "source": [
    "print('Hi Everyone! My name is Santosh Thank You')"
   ]
  },
  {
   "cell_type": "code",
   "execution_count": 204,
   "id": "d7890fac-6727-4405-a4b4-67fbba28a643",
   "metadata": {},
   "outputs": [
    {
     "name": "stdout",
     "output_type": "stream",
     "text": [
      "Hi Everyone!\n",
      "My name is Santosh\n",
      "Thank You\n"
     ]
    }
   ],
   "source": [
    "print('Hi Everyone!\\nMy name is Santosh\\nThank You')"
   ]
  },
  {
   "cell_type": "code",
   "execution_count": 206,
   "id": "c7fb251c-6462-498a-abbb-c1524efa930e",
   "metadata": {},
   "outputs": [
    {
     "name": "stdout",
     "output_type": "stream",
     "text": [
      "Hi Everyone!\\My name is Santosh\n",
      "Thank You\n"
     ]
    }
   ],
   "source": [
    "print('Hi Everyone!\\\\My name is Santosh\\nThank You')"
   ]
  },
  {
   "cell_type": "code",
   "execution_count": 208,
   "id": "10fc9827-74f4-44cb-8596-f0ddf093d188",
   "metadata": {},
   "outputs": [
    {
     "name": "stdout",
     "output_type": "stream",
     "text": [
      "Hi Everyone!\tMy name is Santosh\n",
      "Thank You\n"
     ]
    }
   ],
   "source": [
    "print('Hi Everyone!\\tMy name is Santosh\\nThank You')"
   ]
  },
  {
   "cell_type": "code",
   "execution_count": 209,
   "id": "46ec7e03-0a00-46dc-99f5-6e8f998afae9",
   "metadata": {},
   "outputs": [
    {
     "name": "stdout",
     "output_type": "stream",
     "text": [
      "Hi EveryonMy name is Santosh\n",
      "Thank You\n"
     ]
    }
   ],
   "source": [
    "print('Hi Everyone!\\b\\bMy name is Santosh\\nThank You')"
   ]
  },
  {
   "cell_type": "code",
   "execution_count": 212,
   "id": "7b23ecde-9daf-4fc7-9369-39af08f9b5ef",
   "metadata": {},
   "outputs": [
    {
     "name": "stdout",
     "output_type": "stream",
     "text": [
      "Hi Everyone!\\\\My name is Santosh\\nThank You\n"
     ]
    }
   ],
   "source": [
    "print(r'Hi Everyone!\\\\My name is Santosh\\nThank You')"
   ]
  },
  {
   "cell_type": "code",
   "execution_count": 214,
   "id": "a27e47c6-2a5c-478e-91b1-021c873cf070",
   "metadata": {},
   "outputs": [
    {
     "name": "stdout",
     "output_type": "stream",
     "text": [
      "Hi Everyone!\n",
      "'My name is Santosh'\n",
      "Thank You\n"
     ]
    }
   ],
   "source": [
    "print('Hi Everyone!\\n\\'My name is Santosh\\'\\nThank You')"
   ]
  },
  {
   "cell_type": "code",
   "execution_count": 216,
   "id": "faf7e2cc-f0f3-4ba4-820f-99f667247137",
   "metadata": {},
   "outputs": [
    {
     "name": "stdout",
     "output_type": "stream",
     "text": [
      "Hi Everyone!\n",
      "\"My name is Santosh\"\n",
      "Thank You\n"
     ]
    }
   ],
   "source": [
    "print('Hi Everyone!\\n\\\"My name is Santosh\\\"\\nThank You')"
   ]
  },
  {
   "cell_type": "code",
   "execution_count": 218,
   "id": "bad27cdb-44fb-483d-b529-ef488dca5065",
   "metadata": {},
   "outputs": [
    {
     "name": "stdout",
     "output_type": "stream",
     "text": [
      "Hi Everyone!@ My name is Santosh\n",
      "Thank You\n"
     ]
    }
   ],
   "source": [
    "print('Hi Everyone!\\100 My name is Santosh\\nThank You')"
   ]
  },
  {
   "cell_type": "code",
   "execution_count": 220,
   "id": "64e0e84c-60c8-4f72-b1f1-678426a4b8ef",
   "metadata": {},
   "outputs": [
    {
     "name": "stdout",
     "output_type": "stream",
     "text": [
      "Dear Alice,\n",
      "\n",
      "Eve's cat has been arrested for catnapping,\n",
      "cat burglary, and extortion\n",
      "\n",
      "Sincerely,\n",
      "Bob\n"
     ]
    }
   ],
   "source": [
    "print('''Dear Alice,\n",
    "\n",
    "Eve's cat has been arrested for catnapping,\n",
    "c\\141t burglary, and extortion\n",
    "\n",
    "Sincerely,\n",
    "Bob''')"
   ]
  },
  {
   "cell_type": "code",
   "execution_count": 222,
   "id": "967a28e8-21c2-4df1-a565-3ecec287736d",
   "metadata": {},
   "outputs": [
    {
     "data": {
      "text/plain": [
       "'Hello Students'"
      ]
     },
     "execution_count": 222,
     "metadata": {},
     "output_type": "execute_result"
    }
   ],
   "source": [
    "NIT='Hello Students'\n",
    "NIT"
   ]
  },
  {
   "cell_type": "code",
   "execution_count": 224,
   "id": "331c8a3c-e70d-47c8-bc3f-370314917254",
   "metadata": {},
   "outputs": [
    {
     "data": {
      "text/plain": [
       "'H'"
      ]
     },
     "execution_count": 224,
     "metadata": {},
     "output_type": "execute_result"
    }
   ],
   "source": [
    "NIT[0]"
   ]
  },
  {
   "cell_type": "code",
   "execution_count": 225,
   "id": "7ed3ee3f-10b5-404f-8025-5b0ceda7ddb3",
   "metadata": {},
   "outputs": [
    {
     "data": {
      "text/plain": [
       "'stnedutS olleH'"
      ]
     },
     "execution_count": 225,
     "metadata": {},
     "output_type": "execute_result"
    }
   ],
   "source": [
    "NIT[::-1]"
   ]
  },
  {
   "cell_type": "code",
   "execution_count": 227,
   "id": "876ba8f2-8764-4d87-b9d3-2d23c97a0f35",
   "metadata": {},
   "outputs": [
    {
     "data": {
      "text/plain": [
       "'uvuluS'"
      ]
     },
     "execution_count": 227,
     "metadata": {},
     "output_type": "execute_result"
    }
   ],
   "source": [
    "MIT=\"Suluvu\"\n",
    "MIT[::-1]"
   ]
  },
  {
   "cell_type": "code",
   "execution_count": 230,
   "id": "df313654-45ee-44f6-b03b-4d0bf3fbc402",
   "metadata": {},
   "outputs": [],
   "source": [
    "del MIT"
   ]
  },
  {
   "cell_type": "code",
   "execution_count": 232,
   "id": "98b0848b-628a-4a24-8d5a-ff9a00935a66",
   "metadata": {},
   "outputs": [
    {
     "data": {
      "text/plain": [
       "'Hello Students'"
      ]
     },
     "execution_count": 232,
     "metadata": {},
     "output_type": "execute_result"
    }
   ],
   "source": [
    "NIT"
   ]
  },
  {
   "cell_type": "code",
   "execution_count": 234,
   "id": "32dcfb83-3aee-4177-8826-9b0b71188a61",
   "metadata": {},
   "outputs": [
    {
     "data": {
      "text/plain": [
       "'HloSuet'"
      ]
     },
     "execution_count": 234,
     "metadata": {},
     "output_type": "execute_result"
    }
   ],
   "source": [
    "NIT[::2]"
   ]
  },
  {
   "cell_type": "code",
   "execution_count": 236,
   "id": "5e59db67-d306-4630-8801-94c67927a1c4",
   "metadata": {},
   "outputs": [
    {
     "data": {
      "text/plain": [
       "True"
      ]
     },
     "execution_count": 236,
     "metadata": {},
     "output_type": "execute_result"
    }
   ],
   "source": [
    "'Hello' in NIT"
   ]
  },
  {
   "cell_type": "code",
   "execution_count": 238,
   "id": "06f4092d-0877-46b2-b532-d535981e88dc",
   "metadata": {},
   "outputs": [
    {
     "data": {
      "text/plain": [
       "True"
      ]
     },
     "execution_count": 238,
     "metadata": {},
     "output_type": "execute_result"
    }
   ],
   "source": [
    "'San' not in NIT"
   ]
  },
  {
   "cell_type": "code",
   "execution_count": 240,
   "id": "33734d9a-aee4-4d16-8a64-0d8ead0585dd",
   "metadata": {},
   "outputs": [
    {
     "data": {
      "text/plain": [
       "True"
      ]
     },
     "execution_count": 240,
     "metadata": {},
     "output_type": "execute_result"
    }
   ],
   "source": [
    "'Su' in 'Suhani'"
   ]
  },
  {
   "cell_type": "code",
   "execution_count": 242,
   "id": "7838c8ee-290d-4485-9379-76f71788067b",
   "metadata": {},
   "outputs": [
    {
     "data": {
      "text/plain": [
       "False"
      ]
     },
     "execution_count": 242,
     "metadata": {},
     "output_type": "execute_result"
    }
   ],
   "source": [
    "'Sa' in 'Suhani'"
   ]
  },
  {
   "cell_type": "code",
   "execution_count": 244,
   "id": "9ff16d38-f491-4448-b553-d10f3ed3df52",
   "metadata": {},
   "outputs": [
    {
     "data": {
      "text/plain": [
       "True"
      ]
     },
     "execution_count": 244,
     "metadata": {},
     "output_type": "execute_result"
    }
   ],
   "source": [
    "'S' in 'Suhani'"
   ]
  },
  {
   "cell_type": "code",
   "execution_count": 246,
   "id": "6277eaea-5411-439a-80c8-62d57fc480ce",
   "metadata": {},
   "outputs": [
    {
     "data": {
      "text/plain": [
       "3.5"
      ]
     },
     "execution_count": 246,
     "metadata": {},
     "output_type": "execute_result"
    }
   ],
   "source": [
    "3.5"
   ]
  },
  {
   "cell_type": "code",
   "execution_count": 248,
   "id": "1e8d1122-3900-4985-b236-04650e1ee1db",
   "metadata": {},
   "outputs": [
    {
     "data": {
      "text/plain": [
       "3"
      ]
     },
     "execution_count": 248,
     "metadata": {},
     "output_type": "execute_result"
    }
   ],
   "source": [
    "int(3.5)"
   ]
  },
  {
   "cell_type": "code",
   "execution_count": 250,
   "id": "98eeafac-d66a-4a50-85b5-057909fe52b5",
   "metadata": {},
   "outputs": [
    {
     "data": {
      "text/plain": [
       "'Hello world'"
      ]
     },
     "execution_count": 250,
     "metadata": {},
     "output_type": "execute_result"
    }
   ],
   "source": [
    "MIT='Hello world'\n",
    "MIT"
   ]
  },
  {
   "cell_type": "code",
   "execution_count": 252,
   "id": "e0e2a9ce-62d6-4f76-a0a8-225e0babf201",
   "metadata": {},
   "outputs": [
    {
     "data": {
      "text/plain": [
       "'HELLO WORLD'"
      ]
     },
     "execution_count": 252,
     "metadata": {},
     "output_type": "execute_result"
    }
   ],
   "source": [
    "MIT.upper()"
   ]
  },
  {
   "cell_type": "code",
   "execution_count": 254,
   "id": "b277c7a4-fa85-405f-9dc2-b9fa170efc8a",
   "metadata": {},
   "outputs": [
    {
     "data": {
      "text/plain": [
       "'Hello world'"
      ]
     },
     "execution_count": 254,
     "metadata": {},
     "output_type": "execute_result"
    }
   ],
   "source": [
    "MIT"
   ]
  },
  {
   "cell_type": "code",
   "execution_count": 256,
   "id": "6de23ca1-4781-4e7a-a352-d25cd8560ecf",
   "metadata": {},
   "outputs": [
    {
     "data": {
      "text/plain": [
       "'hello world'"
      ]
     },
     "execution_count": 256,
     "metadata": {},
     "output_type": "execute_result"
    }
   ],
   "source": [
    "MIT.lower()"
   ]
  },
  {
   "cell_type": "code",
   "execution_count": 258,
   "id": "486d8aad-50d2-4e43-93f6-f4ec007d6bd4",
   "metadata": {},
   "outputs": [
    {
     "data": {
      "text/plain": [
       "'Hello World'"
      ]
     },
     "execution_count": 258,
     "metadata": {},
     "output_type": "execute_result"
    }
   ],
   "source": [
    "MIT.title()"
   ]
  },
  {
   "cell_type": "code",
   "execution_count": 260,
   "id": "481f773f-5835-40ad-a8e1-5c2faad5e9f0",
   "metadata": {},
   "outputs": [
    {
     "data": {
      "text/plain": [
       "False"
      ]
     },
     "execution_count": 260,
     "metadata": {},
     "output_type": "execute_result"
    }
   ],
   "source": [
    "MIT.isupper()"
   ]
  },
  {
   "cell_type": "code",
   "execution_count": 262,
   "id": "75a2ea4e-e568-483a-821a-249fa731cebf",
   "metadata": {},
   "outputs": [
    {
     "data": {
      "text/plain": [
       "False"
      ]
     },
     "execution_count": 262,
     "metadata": {},
     "output_type": "execute_result"
    }
   ],
   "source": [
    "MIT.istitle()"
   ]
  },
  {
   "cell_type": "code",
   "execution_count": 264,
   "id": "6e1038d5-2dbb-4bf9-bc26-c2a8375bcec7",
   "metadata": {},
   "outputs": [
    {
     "data": {
      "text/plain": [
       "False"
      ]
     },
     "execution_count": 264,
     "metadata": {},
     "output_type": "execute_result"
    }
   ],
   "source": [
    "MIT.islower()"
   ]
  },
  {
   "cell_type": "code",
   "execution_count": 265,
   "id": "65052995-c232-4924-8d68-d4cba18d1169",
   "metadata": {},
   "outputs": [
    {
     "data": {
      "text/plain": [
       "False"
      ]
     },
     "execution_count": 265,
     "metadata": {},
     "output_type": "execute_result"
    }
   ],
   "source": [
    "MIT.isalpha()"
   ]
  },
  {
   "cell_type": "code",
   "execution_count": 266,
   "id": "cb2d3cdc-4808-483b-b196-804c352e04cd",
   "metadata": {},
   "outputs": [
    {
     "data": {
      "text/plain": [
       "False"
      ]
     },
     "execution_count": 266,
     "metadata": {},
     "output_type": "execute_result"
    }
   ],
   "source": [
    "MIT.isspace()"
   ]
  },
  {
   "cell_type": "code",
   "execution_count": 269,
   "id": "e0fc2d97-f1dc-46c6-9452-0f7bc71b7662",
   "metadata": {},
   "outputs": [
    {
     "data": {
      "text/plain": [
       "True"
      ]
     },
     "execution_count": 269,
     "metadata": {},
     "output_type": "execute_result"
    }
   ],
   "source": [
    "MIT.startswith('Hello')"
   ]
  },
  {
   "cell_type": "code",
   "execution_count": 271,
   "id": "baa0b0e6-b7a2-4c50-8bc2-7d6cacf4072f",
   "metadata": {},
   "outputs": [
    {
     "data": {
      "text/plain": [
       "True"
      ]
     },
     "execution_count": 271,
     "metadata": {},
     "output_type": "execute_result"
    }
   ],
   "source": [
    "MIT.endswith('world')"
   ]
  },
  {
   "cell_type": "code",
   "execution_count": 274,
   "id": "bbd74e54-3e03-4b92-a1fe-a3fbd447580d",
   "metadata": {},
   "outputs": [
    {
     "data": {
      "text/plain": [
       "False"
      ]
     },
     "execution_count": 274,
     "metadata": {},
     "output_type": "execute_result"
    }
   ],
   "source": [
    "MIT.endswith('World')"
   ]
  },
  {
   "cell_type": "code",
   "execution_count": 276,
   "id": "d60bb7d6-67d0-49df-bc59-2e3a2418a6dd",
   "metadata": {},
   "outputs": [
    {
     "data": {
      "text/plain": [
       "'my name'"
      ]
     },
     "execution_count": 276,
     "metadata": {},
     "output_type": "execute_result"
    }
   ],
   "source": [
    "' '.join(['my' , 'name'])"
   ]
  },
  {
   "cell_type": "code",
   "execution_count": 278,
   "id": "21749654-7ccc-439f-b22e-2c4889b0612a",
   "metadata": {},
   "outputs": [
    {
     "data": {
      "text/plain": [
       "['My', 'name', 'is', 'Santosh']"
      ]
     },
     "execution_count": 278,
     "metadata": {},
     "output_type": "execute_result"
    }
   ],
   "source": [
    "'My name is Santosh'.split()"
   ]
  },
  {
   "cell_type": "code",
   "execution_count": 280,
   "id": "586b3375-71b3-4a32-af04-a972f65d7622",
   "metadata": {},
   "outputs": [
    {
     "data": {
      "text/plain": [
       "'Hello World'"
      ]
     },
     "execution_count": 280,
     "metadata": {},
     "output_type": "execute_result"
    }
   ],
   "source": [
    "space= ' Hello World '\n",
    "space.strip()"
   ]
  },
  {
   "cell_type": "code",
   "execution_count": 282,
   "id": "68af7bc9-660b-4757-a63a-3b1a4adc4984",
   "metadata": {},
   "outputs": [
    {
     "data": {
      "text/plain": [
       "' Hello World'"
      ]
     },
     "execution_count": 282,
     "metadata": {},
     "output_type": "execute_result"
    }
   ],
   "source": [
    "space.rstrip()"
   ]
  },
  {
   "cell_type": "code",
   "execution_count": 284,
   "id": "7765d155-eff4-4a58-9167-e91e645e3bb0",
   "metadata": {},
   "outputs": [
    {
     "data": {
      "text/plain": [
       "'Hello World '"
      ]
     },
     "execution_count": 284,
     "metadata": {},
     "output_type": "execute_result"
    }
   ],
   "source": [
    "space.lstrip()"
   ]
  },
  {
   "cell_type": "code",
   "execution_count": 286,
   "id": "a5947e8b-b859-43d8-9b8a-5bb1909a5e53",
   "metadata": {},
   "outputs": [],
   "source": [
    "Story = 'once upon a time, there was a king, king likes his children, king meets his friends'"
   ]
  },
  {
   "cell_type": "code",
   "execution_count": 288,
   "id": "1e9b4474-9936-49ac-abb6-3585ab0f482f",
   "metadata": {},
   "outputs": [
    {
     "data": {
      "text/plain": [
       "3"
      ]
     },
     "execution_count": 288,
     "metadata": {},
     "output_type": "execute_result"
    }
   ],
   "source": [
    "Story.count('king')"
   ]
  },
  {
   "cell_type": "code",
   "execution_count": 290,
   "id": "fe8617c2-808c-46b9-8104-a502d2ebb7e5",
   "metadata": {},
   "outputs": [
    {
     "data": {
      "text/plain": [
       "4"
      ]
     },
     "execution_count": 290,
     "metadata": {},
     "output_type": "execute_result"
    }
   ],
   "source": [
    "Story.count('k')"
   ]
  },
  {
   "cell_type": "code",
   "execution_count": 292,
   "id": "22881b12-0232-4e4e-9724-d045086d02d8",
   "metadata": {},
   "outputs": [
    {
     "data": {
      "text/plain": [
       "3"
      ]
     },
     "execution_count": 292,
     "metadata": {},
     "output_type": "execute_result"
    }
   ],
   "source": [
    "Story.count('a')"
   ]
  },
  {
   "cell_type": "code",
   "execution_count": 294,
   "id": "990e9b67-06d6-4d64-9bf6-2fc06c6d5a7e",
   "metadata": {},
   "outputs": [
    {
     "data": {
      "text/plain": [
       "'once upon a time, there was a lion, lion likes his children, lion meets his friends'"
      ]
     },
     "execution_count": 294,
     "metadata": {},
     "output_type": "execute_result"
    }
   ],
   "source": [
    "Story.replace('king', 'lion')"
   ]
  },
  {
   "cell_type": "markdown",
   "id": "0f8dfec6-6ed8-4dc4-8136-fc1544b2dee7",
   "metadata": {},
   "source": [
    "# Thirteenth Class"
   ]
  },
  {
   "cell_type": "code",
   "execution_count": null,
   "id": "3e3e310d-3e59-4315-9afe-1c0993222a2c",
   "metadata": {},
   "outputs": [],
   "source": []
  },
  {
   "cell_type": "code",
   "execution_count": null,
   "id": "218d7c9a-f66b-420d-86d2-69e77eed0b45",
   "metadata": {},
   "outputs": [],
   "source": []
  },
  {
   "cell_type": "code",
   "execution_count": null,
   "id": "f41e287e-f71b-41c1-9eef-138820206e69",
   "metadata": {},
   "outputs": [],
   "source": []
  },
  {
   "cell_type": "code",
   "execution_count": null,
   "id": "4501471a-d129-4256-9728-686def4ce9ac",
   "metadata": {},
   "outputs": [],
   "source": []
  },
  {
   "cell_type": "code",
   "execution_count": null,
   "id": "c32d5308-4f12-482a-aca3-fadb6b187377",
   "metadata": {},
   "outputs": [],
   "source": []
  },
  {
   "cell_type": "code",
   "execution_count": null,
   "id": "c8338c5e-bb84-4f98-8d9a-1086ba6d3d63",
   "metadata": {},
   "outputs": [],
   "source": []
  },
  {
   "cell_type": "code",
   "execution_count": null,
   "id": "a01f1b57-362e-4e8e-9737-3930eaa8f1af",
   "metadata": {},
   "outputs": [],
   "source": []
  },
  {
   "cell_type": "code",
   "execution_count": null,
   "id": "99ec0e4f-2f07-4ff1-903b-b083e64c20a5",
   "metadata": {},
   "outputs": [],
   "source": []
  },
  {
   "cell_type": "code",
   "execution_count": null,
   "id": "394aacc6-7a29-482f-bc2b-76a119c807a6",
   "metadata": {},
   "outputs": [],
   "source": []
  },
  {
   "cell_type": "code",
   "execution_count": null,
   "id": "a17c1103-ae54-42a6-8290-e90daa6e07e7",
   "metadata": {},
   "outputs": [],
   "source": []
  },
  {
   "cell_type": "code",
   "execution_count": null,
   "id": "8f6d6b78-4ca9-4042-9a1d-80016b194aea",
   "metadata": {},
   "outputs": [],
   "source": []
  },
  {
   "cell_type": "code",
   "execution_count": null,
   "id": "312c6756-ec9a-4de6-b930-36cd12e7ead7",
   "metadata": {},
   "outputs": [],
   "source": []
  },
  {
   "cell_type": "code",
   "execution_count": null,
   "id": "a37fd8d9-c8b4-4cf0-8257-3681e7a97120",
   "metadata": {},
   "outputs": [],
   "source": []
  },
  {
   "cell_type": "code",
   "execution_count": null,
   "id": "a05fb757-fabb-45a3-a975-758d123b3039",
   "metadata": {},
   "outputs": [],
   "source": []
  },
  {
   "cell_type": "code",
   "execution_count": null,
   "id": "07f79b22-eddb-45da-b834-67e04803640d",
   "metadata": {},
   "outputs": [],
   "source": []
  },
  {
   "cell_type": "code",
   "execution_count": null,
   "id": "6fa83bf8-936b-4836-8443-982f40c0b540",
   "metadata": {},
   "outputs": [],
   "source": []
  },
  {
   "cell_type": "code",
   "execution_count": null,
   "id": "110f33eb-2d23-4162-892d-8ff8bd1c9c15",
   "metadata": {},
   "outputs": [],
   "source": []
  },
  {
   "cell_type": "code",
   "execution_count": null,
   "id": "7390aad8-b2c7-4a89-8b26-af35a6228dea",
   "metadata": {},
   "outputs": [],
   "source": []
  },
  {
   "cell_type": "code",
   "execution_count": null,
   "id": "de939901-b739-472b-aa36-b03d2a5cc4ff",
   "metadata": {},
   "outputs": [],
   "source": []
  }
 ],
 "metadata": {
  "kernelspec": {
   "display_name": "Python 3 (ipykernel)",
   "language": "python",
   "name": "python3"
  },
  "language_info": {
   "codemirror_mode": {
    "name": "ipython",
    "version": 3
   },
   "file_extension": ".py",
   "mimetype": "text/x-python",
   "name": "python",
   "nbconvert_exporter": "python",
   "pygments_lexer": "ipython3",
   "version": "3.12.4"
  }
 },
 "nbformat": 4,
 "nbformat_minor": 5
}
