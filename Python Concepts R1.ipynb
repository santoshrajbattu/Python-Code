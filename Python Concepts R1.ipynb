{
 "cells": [
  {
   "cell_type": "markdown",
   "id": "d8470389-c27e-4911-bdb1-a586af34ccc0",
   "metadata": {},
   "source": [
    "# 21st Oct"
   ]
  },
  {
   "cell_type": "markdown",
   "id": "b5857bfe-fe48-4498-8294-0e97873639b6",
   "metadata": {},
   "source": [
    "# work with numbers"
   ]
  },
  {
   "cell_type": "code",
   "execution_count": 2452,
   "id": "34864e6f-1073-4d26-9f32-be2919a5f863",
   "metadata": {},
   "outputs": [
    {
     "data": {
      "text/plain": [
       "15"
      ]
     },
     "execution_count": 2452,
     "metadata": {},
     "output_type": "execute_result"
    }
   ],
   "source": [
    "10 + 5"
   ]
  },
  {
   "cell_type": "code",
   "execution_count": 2454,
   "id": "aac5433a-c76a-4825-aeed-6506af118de4",
   "metadata": {},
   "outputs": [
    {
     "data": {
      "text/plain": [
       "5"
      ]
     },
     "execution_count": 2454,
     "metadata": {},
     "output_type": "execute_result"
    }
   ],
   "source": [
    "10 - 5"
   ]
  },
  {
   "cell_type": "code",
   "execution_count": 2455,
   "id": "a89f4e9e-d38c-4a94-ab51-dfc00ac7a420",
   "metadata": {},
   "outputs": [
    {
     "data": {
      "text/plain": [
       "50"
      ]
     },
     "execution_count": 2455,
     "metadata": {},
     "output_type": "execute_result"
    }
   ],
   "source": [
    "10 * 5"
   ]
  },
  {
   "cell_type": "code",
   "execution_count": 2456,
   "id": "ea4384d3-3257-4e6c-947e-95e2a7df429e",
   "metadata": {},
   "outputs": [
    {
     "data": {
      "text/plain": [
       "2.0"
      ]
     },
     "execution_count": 2456,
     "metadata": {},
     "output_type": "execute_result"
    }
   ],
   "source": [
    "10 / 5"
   ]
  },
  {
   "cell_type": "code",
   "execution_count": 2457,
   "id": "e6cb86e0-d1c3-45de-aea6-f74ea7586b08",
   "metadata": {},
   "outputs": [
    {
     "data": {
      "text/plain": [
       "2"
      ]
     },
     "execution_count": 2457,
     "metadata": {},
     "output_type": "execute_result"
    }
   ],
   "source": [
    "10 // 5"
   ]
  },
  {
   "cell_type": "code",
   "execution_count": 2458,
   "id": "4ded12db-4b64-4fcf-9a35-8aa972f54440",
   "metadata": {},
   "outputs": [
    {
     "data": {
      "text/plain": [
       "14"
      ]
     },
     "execution_count": 2458,
     "metadata": {},
     "output_type": "execute_result"
    }
   ],
   "source": [
    "(10 + 5) - 7 + 6"
   ]
  },
  {
   "cell_type": "code",
   "execution_count": 2459,
   "id": "ed2f0f15-6649-42ef-81d0-8ea9490fc807",
   "metadata": {},
   "outputs": [
    {
     "data": {
      "text/plain": [
       "30"
      ]
     },
     "execution_count": 2459,
     "metadata": {},
     "output_type": "execute_result"
    }
   ],
   "source": [
    "5 + (5 *5)"
   ]
  },
  {
   "cell_type": "code",
   "execution_count": 2460,
   "id": "bfe7c55c-c933-417a-a67c-c9131ebc4d35",
   "metadata": {},
   "outputs": [
    {
     "data": {
      "text/plain": [
       "50"
      ]
     },
     "execution_count": 2460,
     "metadata": {},
     "output_type": "execute_result"
    }
   ],
   "source": [
    "(5 + 5 )*5"
   ]
  },
  {
   "cell_type": "code",
   "execution_count": 2461,
   "id": "c823fcba-df3f-46cb-8902-73647675e89b",
   "metadata": {},
   "outputs": [
    {
     "data": {
      "text/plain": [
       "15"
      ]
     },
     "execution_count": 2461,
     "metadata": {},
     "output_type": "execute_result"
    }
   ],
   "source": [
    "_+3"
   ]
  },
  {
   "cell_type": "code",
   "execution_count": 2463,
   "id": "bfce9b96-a9e5-4da5-a901-3e9a13f4e8f0",
   "metadata": {},
   "outputs": [
    {
     "data": {
      "text/plain": [
       "'3.12.4 | packaged by Anaconda, Inc. | (main, Jun 18 2024, 15:03:56) [MSC v.1929 64 bit (AMD64)]'"
      ]
     },
     "execution_count": 2463,
     "metadata": {},
     "output_type": "execute_result"
    }
   ],
   "source": [
    "import sys\n",
    "sys.version"
   ]
  },
  {
   "cell_type": "markdown",
   "id": "1c591b3b-713f-40d8-9c40-538e4dd4d59c",
   "metadata": {},
   "source": [
    "# work with print function"
   ]
  },
  {
   "cell_type": "code",
   "execution_count": 2470,
   "id": "5247ad15-a00e-41c0-b10e-2f8f1da5232f",
   "metadata": {},
   "outputs": [
    {
     "data": {
      "text/plain": [
       "4"
      ]
     },
     "execution_count": 2470,
     "metadata": {},
     "output_type": "execute_result"
    }
   ],
   "source": [
    "1 + 1\n",
    "2 + 1\n",
    "3 + 1"
   ]
  },
  {
   "cell_type": "code",
   "execution_count": 2472,
   "id": "874f32aa-a49c-4770-980d-b1a9eccd0804",
   "metadata": {},
   "outputs": [
    {
     "name": "stdout",
     "output_type": "stream",
     "text": [
      "2\n",
      "3\n",
      "4\n"
     ]
    }
   ],
   "source": [
    "print (1+1)\n",
    "print (2+1)\n",
    "print (3+1)"
   ]
  },
  {
   "cell_type": "code",
   "execution_count": 2473,
   "id": "f715f747-62f2-4955-8e7a-8e6977dca997",
   "metadata": {},
   "outputs": [],
   "source": [
    "a1=1\n",
    "a2=2\n",
    "a3=3\n",
    "a4=4\n",
    "a5=5"
   ]
  },
  {
   "cell_type": "code",
   "execution_count": 2475,
   "id": "0303dc38-e56f-419a-b0de-b76f58d4a83f",
   "metadata": {},
   "outputs": [],
   "source": [
    "def greet():\n",
    "    print(\"Hello World!\")\n",
    "    print('How are you?')"
   ]
  },
  {
   "cell_type": "code",
   "execution_count": 2476,
   "id": "6b92b8f2-0002-4864-94d7-89b714ba20ae",
   "metadata": {},
   "outputs": [
    {
     "name": "stdout",
     "output_type": "stream",
     "text": [
      "Hello World!\n",
      "How are you?\n"
     ]
    }
   ],
   "source": [
    "greet()"
   ]
  },
  {
   "cell_type": "code",
   "execution_count": 2477,
   "id": "ff76f655-c6f0-411d-aa5d-c2f3ef4ee212",
   "metadata": {},
   "outputs": [
    {
     "name": "stdout",
     "output_type": "stream",
     "text": [
      "The sum of 10 20 30 is = 60\n"
     ]
    }
   ],
   "source": [
    "n1 = 10\n",
    "n2 = 20\n",
    "n3 = 30\n",
    "sum = n1+n2+n3\n",
    "print('The sum of', n1, n2, n3, \"is =\", sum)"
   ]
  },
  {
   "cell_type": "code",
   "execution_count": 2478,
   "id": "c66dde0d-e0c1-4547-b808-10585605e32e",
   "metadata": {},
   "outputs": [
    {
     "name": "stdout",
     "output_type": "stream",
     "text": [
      "50\n"
     ]
    }
   ],
   "source": [
    "abc = 50\n",
    "print (abc)"
   ]
  },
  {
   "cell_type": "code",
   "execution_count": 2479,
   "id": "9d38bb0d-f27a-466b-87cb-4cee0b0ec858",
   "metadata": {},
   "outputs": [
    {
     "name": "stdout",
     "output_type": "stream",
     "text": [
      "the value of abc is 50\n"
     ]
    }
   ],
   "source": [
    "print(\"the value of abc is\", abc)"
   ]
  },
  {
   "cell_type": "markdown",
   "id": "ee90388a-1f48-4254-a245-8119204fd4d1",
   "metadata": {},
   "source": [
    "#22nd October"
   ]
  },
  {
   "cell_type": "code",
   "execution_count": 2481,
   "id": "b77cbf04-bdfb-4737-a042-d1488e236189",
   "metadata": {},
   "outputs": [
    {
     "name": "stdout",
     "output_type": "stream",
     "text": [
      "80 20\n"
     ]
    }
   ],
   "source": [
    "x_train = 80\n",
    "x_test = 20\n",
    "print(x_train, x_test)"
   ]
  },
  {
   "cell_type": "code",
   "execution_count": 2483,
   "id": "08d00669-2644-46ff-b598-88193c4f5682",
   "metadata": {},
   "outputs": [
    {
     "name": "stdout",
     "output_type": "stream",
     "text": [
      "20 80\n",
      "20\n",
      "80\n",
      "80\n",
      "20\n"
     ]
    }
   ],
   "source": [
    "y_train, y_test = 80, 20\n",
    "print(y_test, y_train)\n",
    "print (y_test)\n",
    "print (y_train)\n",
    "print(x_train)\n",
    "print(x_test)"
   ]
  },
  {
   "cell_type": "code",
   "execution_count": 2485,
   "id": "9a5fbb86-e7a5-4a1d-8d35-58e766303f55",
   "metadata": {},
   "outputs": [
    {
     "data": {
      "text/plain": [
       "50"
      ]
     },
     "execution_count": 2485,
     "metadata": {},
     "output_type": "execute_result"
    }
   ],
   "source": [
    "x=10\n",
    "y=20\n",
    "z=30\n",
    "x+y\n",
    "x+z\n",
    "y+z"
   ]
  },
  {
   "cell_type": "code",
   "execution_count": 2486,
   "id": "7f68cafc-9fc0-460f-a7bb-3a01a33f2fab",
   "metadata": {},
   "outputs": [
    {
     "name": "stdout",
     "output_type": "stream",
     "text": [
      "30\n",
      "40\n",
      "50\n"
     ]
    }
   ],
   "source": [
    "print(x+y)\n",
    "print(x+z)\n",
    "print(y+z)"
   ]
  },
  {
   "cell_type": "code",
   "execution_count": 2488,
   "id": "3b768b99-049f-4986-bfd8-844220664fab",
   "metadata": {},
   "outputs": [
    {
     "data": {
      "text/plain": [
       "['False',\n",
       " 'None',\n",
       " 'True',\n",
       " 'and',\n",
       " 'as',\n",
       " 'assert',\n",
       " 'async',\n",
       " 'await',\n",
       " 'break',\n",
       " 'class',\n",
       " 'continue',\n",
       " 'def',\n",
       " 'del',\n",
       " 'elif',\n",
       " 'else',\n",
       " 'except',\n",
       " 'finally',\n",
       " 'for',\n",
       " 'from',\n",
       " 'global',\n",
       " 'if',\n",
       " 'import',\n",
       " 'in',\n",
       " 'is',\n",
       " 'lambda',\n",
       " 'nonlocal',\n",
       " 'not',\n",
       " 'or',\n",
       " 'pass',\n",
       " 'raise',\n",
       " 'return',\n",
       " 'try',\n",
       " 'while',\n",
       " 'with',\n",
       " 'yield']"
      ]
     },
     "execution_count": 2488,
     "metadata": {},
     "output_type": "execute_result"
    }
   ],
   "source": [
    "import keyword\n",
    "keyword.kwlist"
   ]
  },
  {
   "cell_type": "code",
   "execution_count": 2489,
   "id": "111a2751-3d2d-480c-9bbe-6ea6c0ec6bd5",
   "metadata": {},
   "outputs": [
    {
     "data": {
      "text/plain": [
       "35"
      ]
     },
     "execution_count": 2489,
     "metadata": {},
     "output_type": "execute_result"
    }
   ],
   "source": [
    "len(keyword.kwlist)"
   ]
  },
  {
   "cell_type": "code",
   "execution_count": 2490,
   "id": "b412eb16-1f3d-4814-a8f8-449b6fa569d6",
   "metadata": {},
   "outputs": [
    {
     "ename": "SyntaxError",
     "evalue": "invalid syntax (1541046757.py, line 1)",
     "output_type": "error",
     "traceback": [
      "\u001b[1;36m  Cell \u001b[1;32mIn[2490], line 1\u001b[1;36m\u001b[0m\n\u001b[1;33m    if = 45\u001b[0m\n\u001b[1;37m       ^\u001b[0m\n\u001b[1;31mSyntaxError\u001b[0m\u001b[1;31m:\u001b[0m invalid syntax\n"
     ]
    }
   ],
   "source": [
    "if = 45\n",
    "if # if is part of the keyword list, we can't be able to use as a variable. Keyword cannot be a identifier/object/variable."
   ]
  },
  {
   "cell_type": "code",
   "execution_count": 2491,
   "id": "4e2f046b-3bd2-400d-902f-b82a92eae931",
   "metadata": {},
   "outputs": [
    {
     "ename": "SyntaxError",
     "evalue": "expected ':' (2253750871.py, line 1)",
     "output_type": "error",
     "traceback": [
      "\u001b[1;36m  Cell \u001b[1;32mIn[2491], line 1\u001b[1;36m\u001b[0m\n\u001b[1;33m    try = 20 # keyword cant be used\u001b[0m\n\u001b[1;37m        ^\u001b[0m\n\u001b[1;31mSyntaxError\u001b[0m\u001b[1;31m:\u001b[0m expected ':'\n"
     ]
    }
   ],
   "source": [
    "try = 20 # keyword cant be used"
   ]
  },
  {
   "cell_type": "markdown",
   "id": "347bb9f8-7935-489f-b6b4-7775a7dd7cc9",
   "metadata": {},
   "source": [
    "# 22nd Oct"
   ]
  },
  {
   "cell_type": "code",
   "execution_count": 2493,
   "id": "86532d15-ddaa-4b15-b3d5-188373c186fb",
   "metadata": {},
   "outputs": [
    {
     "data": {
      "text/plain": [
       "15"
      ]
     },
     "execution_count": 2493,
     "metadata": {},
     "output_type": "execute_result"
    }
   ],
   "source": [
    "NIT=15\n",
    "NIT"
   ]
  },
  {
   "cell_type": "code",
   "execution_count": 2494,
   "id": "818679c0-31c1-42a2-aadf-cfd908fccb12",
   "metadata": {},
   "outputs": [
    {
     "data": {
      "text/plain": [
       "20"
      ]
     },
     "execution_count": 2494,
     "metadata": {},
     "output_type": "execute_result"
    }
   ],
   "source": [
    "NIT=20\n",
    "NIT"
   ]
  },
  {
   "cell_type": "code",
   "execution_count": 2495,
   "id": "4b98a861-3277-434b-9ee2-319304ad37f5",
   "metadata": {},
   "outputs": [
    {
     "data": {
      "text/plain": [
       "15"
      ]
     },
     "execution_count": 2495,
     "metadata": {},
     "output_type": "execute_result"
    }
   ],
   "source": [
    "v=15\n",
    "v"
   ]
  },
  {
   "cell_type": "code",
   "execution_count": 2496,
   "id": "966f25f7-2647-41ce-9949-5b3f8b58ef47",
   "metadata": {},
   "outputs": [
    {
     "name": "stdout",
     "output_type": "stream",
     "text": [
      "15\n",
      "20\n",
      "15 20\n",
      "15 NIT\n"
     ]
    }
   ],
   "source": [
    "print(v)\n",
    "print(NIT)\n",
    "print(v,NIT)\n",
    "print(v,'NIT')"
   ]
  },
  {
   "cell_type": "code",
   "execution_count": 2497,
   "id": "13c88b87-5e40-4554-aa44-2a5a3a2f9aa2",
   "metadata": {},
   "outputs": [
    {
     "ename": "NameError",
     "evalue": "name 'Nit' is not defined",
     "output_type": "error",
     "traceback": [
      "\u001b[1;31m---------------------------------------------------------------------------\u001b[0m",
      "\u001b[1;31mNameError\u001b[0m                                 Traceback (most recent call last)",
      "Cell \u001b[1;32mIn[2497], line 1\u001b[0m\n\u001b[1;32m----> 1\u001b[0m Nit\n",
      "\u001b[1;31mNameError\u001b[0m: name 'Nit' is not defined"
     ]
    }
   ],
   "source": [
    "Nit #variables are case sensitive"
   ]
  },
  {
   "cell_type": "code",
   "execution_count": 2498,
   "id": "4a2e4276-74ce-4354-b984-562f835c3c1f",
   "metadata": {},
   "outputs": [
    {
     "ename": "SyntaxError",
     "evalue": "invalid decimal literal (1308980746.py, line 1)",
     "output_type": "error",
     "traceback": [
      "\u001b[1;36m  Cell \u001b[1;32mIn[2498], line 1\u001b[1;36m\u001b[0m\n\u001b[1;33m    1var=20 #variables never start with the number\u001b[0m\n\u001b[1;37m    ^\u001b[0m\n\u001b[1;31mSyntaxError\u001b[0m\u001b[1;31m:\u001b[0m invalid decimal literal\n"
     ]
    }
   ],
   "source": [
    "1var=20 #variables never start with the number"
   ]
  },
  {
   "cell_type": "code",
   "execution_count": 2499,
   "id": "02336fc7-1c51-43c5-8c3b-b928885efb84",
   "metadata": {},
   "outputs": [
    {
     "data": {
      "text/plain": [
       "20"
      ]
     },
     "execution_count": 2499,
     "metadata": {},
     "output_type": "execute_result"
    }
   ],
   "source": [
    "var1=20\n",
    "var1"
   ]
  },
  {
   "cell_type": "code",
   "execution_count": 2500,
   "id": "5ffae304-f256-4ea2-aa9b-e31e0b26c738",
   "metadata": {},
   "outputs": [
    {
     "data": {
      "text/plain": [
       "56"
      ]
     },
     "execution_count": 2500,
     "metadata": {},
     "output_type": "execute_result"
    }
   ],
   "source": [
    "var_=56\n",
    "var_"
   ]
  },
  {
   "cell_type": "code",
   "execution_count": 2501,
   "id": "3247cf2c-a0e8-4a40-835e-bba2462f26ce",
   "metadata": {},
   "outputs": [
    {
     "ename": "SyntaxError",
     "evalue": "invalid syntax (1015600523.py, line 1)",
     "output_type": "error",
     "traceback": [
      "\u001b[1;36m  Cell \u001b[1;32mIn[2501], line 1\u001b[1;36m\u001b[0m\n\u001b[1;33m    var$=55\u001b[0m\n\u001b[1;37m       ^\u001b[0m\n\u001b[1;31mSyntaxError\u001b[0m\u001b[1;31m:\u001b[0m invalid syntax\n"
     ]
    }
   ],
   "source": [
    "var$=55\n",
    "var$"
   ]
  },
  {
   "cell_type": "code",
   "execution_count": 2502,
   "id": "251d2a0f-2b4b-41e6-8b49-e0030e215e7e",
   "metadata": {},
   "outputs": [
    {
     "ename": "SyntaxError",
     "evalue": "invalid syntax (2899239266.py, line 2)",
     "output_type": "error",
     "traceback": [
      "\u001b[1;36m  Cell \u001b[1;32mIn[2502], line 2\u001b[1;36m\u001b[0m\n\u001b[1;33m    var*\u001b[0m\n\u001b[1;37m        ^\u001b[0m\n\u001b[1;31mSyntaxError\u001b[0m\u001b[1;31m:\u001b[0m invalid syntax\n"
     ]
    }
   ],
   "source": [
    "var*=105\n",
    "var*"
   ]
  },
  {
   "cell_type": "code",
   "execution_count": 2503,
   "id": "98b0d2a6-5a10-4f7d-8de8-c3d7c019b368",
   "metadata": {},
   "outputs": [],
   "source": [
    "#no special character except _ can be used or defining variables\n",
    "# variables never ever declare any special characters"
   ]
  },
  {
   "cell_type": "code",
   "execution_count": 2504,
   "id": "46abd3c4-1daf-4527-9f6c-1691a7c4177e",
   "metadata": {},
   "outputs": [],
   "source": [
    "x_train, x_test=80,20"
   ]
  },
  {
   "cell_type": "code",
   "execution_count": 2505,
   "id": "b533b17f-162b-4e33-84b5-cd9fcef09555",
   "metadata": {},
   "outputs": [
    {
     "name": "stdout",
     "output_type": "stream",
     "text": [
      "80\n",
      "20\n"
     ]
    }
   ],
   "source": [
    "print(x_train)\n",
    "print(x_test)"
   ]
  },
  {
   "cell_type": "code",
   "execution_count": 2506,
   "id": "c8b3cd85-0336-4690-8c29-d76fd503e0ea",
   "metadata": {},
   "outputs": [
    {
     "data": {
      "text/plain": [
       "(10, 20, 30, 40)"
      ]
     },
     "execution_count": 2506,
     "metadata": {},
     "output_type": "execute_result"
    }
   ],
   "source": [
    "a=10\n",
    "b=20\n",
    "c=30\n",
    "d=40\n",
    "a,b,c,d"
   ]
  },
  {
   "cell_type": "code",
   "execution_count": 2507,
   "id": "dbae23bc-e585-4713-abea-7cd07df372c0",
   "metadata": {},
   "outputs": [
    {
     "data": {
      "text/plain": [
       "(10, 20, 30, 40)"
      ]
     },
     "execution_count": 2507,
     "metadata": {},
     "output_type": "execute_result"
    }
   ],
   "source": [
    "a,b,c,d=10,20,30,40\n",
    "a,b,c,d"
   ]
  },
  {
   "cell_type": "code",
   "execution_count": 2508,
   "id": "e54b1502-e244-478e-82d1-ae8f6bb755c4",
   "metadata": {},
   "outputs": [
    {
     "name": "stdout",
     "output_type": "stream",
     "text": [
      "10\n",
      "20\n",
      "30\n",
      "40\n"
     ]
    }
   ],
   "source": [
    "print(a)\n",
    "print(b)\n",
    "print(c)\n",
    "print(d)"
   ]
  },
  {
   "cell_type": "code",
   "execution_count": 2509,
   "id": "a60c3614-e1f2-492d-b046-c2a31a4ab987",
   "metadata": {},
   "outputs": [
    {
     "ename": "SyntaxError",
     "evalue": "leading zeros in decimal integer literals are not permitted; use an 0o prefix for octal integers (2657149501.py, line 1)",
     "output_type": "error",
     "traceback": [
      "\u001b[1;36m  Cell \u001b[1;32mIn[2509], line 1\u001b[1;36m\u001b[0m\n\u001b[1;33m    'e'=007\u001b[0m\n\u001b[1;37m        ^\u001b[0m\n\u001b[1;31mSyntaxError\u001b[0m\u001b[1;31m:\u001b[0m leading zeros in decimal integer literals are not permitted; use an 0o prefix for octal integers\n"
     ]
    }
   ],
   "source": [
    "'e'=007\n",
    "'e'"
   ]
  },
  {
   "cell_type": "code",
   "execution_count": 2510,
   "id": "e4dcfaa4-41e9-48de-bfae-ab0c031f85a8",
   "metadata": {},
   "outputs": [],
   "source": [
    "#special characters are not allowed"
   ]
  },
  {
   "cell_type": "code",
   "execution_count": 2511,
   "id": "e4fbb66d-fa27-47fe-a316-39f20c0273cc",
   "metadata": {},
   "outputs": [
    {
     "ename": "NameError",
     "evalue": "name 'aa' is not defined",
     "output_type": "error",
     "traceback": [
      "\u001b[1;31m---------------------------------------------------------------------------\u001b[0m",
      "\u001b[1;31mNameError\u001b[0m                                 Traceback (most recent call last)",
      "Cell \u001b[1;32mIn[2511], line 2\u001b[0m\n\u001b[0;32m      1\u001b[0m aaaaaaaa\u001b[38;5;241m=\u001b[39m\u001b[38;5;241m78\u001b[39m\n\u001b[1;32m----> 2\u001b[0m aa\n",
      "\u001b[1;31mNameError\u001b[0m: name 'aa' is not defined"
     ]
    }
   ],
   "source": [
    "aaaaaaaa=78\n",
    "aa"
   ]
  },
  {
   "cell_type": "code",
   "execution_count": 2512,
   "id": "214c9fa2-02a8-4f9f-b86a-a02d9e9c85cf",
   "metadata": {},
   "outputs": [],
   "source": [
    "# Variable has no length limit bit it is case sensitive"
   ]
  },
  {
   "cell_type": "code",
   "execution_count": 2513,
   "id": "bbeae762-ba09-4324-9c6f-bbfa79a723a8",
   "metadata": {},
   "outputs": [
    {
     "data": {
      "text/plain": [
       "12"
      ]
     },
     "execution_count": 2513,
     "metadata": {},
     "output_type": "execute_result"
    }
   ],
   "source": [
    "_=12\n",
    "_"
   ]
  },
  {
   "cell_type": "markdown",
   "id": "383f8733-035d-4ff3-b379-4de6ed0ee537",
   "metadata": {},
   "source": [
    "# Python Data Types"
   ]
  },
  {
   "cell_type": "code",
   "execution_count": 2515,
   "id": "15cc9548-8d1f-4a76-91df-cefc000746aa",
   "metadata": {},
   "outputs": [],
   "source": [
    "i=25"
   ]
  },
  {
   "cell_type": "code",
   "execution_count": 2516,
   "id": "22df74e4-bf01-4364-9a7f-b4d8c1a70474",
   "metadata": {},
   "outputs": [
    {
     "data": {
      "text/plain": [
       "int"
      ]
     },
     "execution_count": 2516,
     "metadata": {},
     "output_type": "execute_result"
    }
   ],
   "source": [
    "type(i)"
   ]
  },
  {
   "cell_type": "code",
   "execution_count": 2517,
   "id": "c085fc7a-8988-498a-83db-c75635a3901a",
   "metadata": {},
   "outputs": [
    {
     "name": "stdout",
     "output_type": "stream",
     "text": [
      "<class 'int'>\n"
     ]
    }
   ],
   "source": [
    "print(type(i))"
   ]
  },
  {
   "cell_type": "markdown",
   "id": "7d73a6e8-250b-46d2-acbf-0feb08d2954d",
   "metadata": {},
   "source": [
    "#23rd Oct"
   ]
  },
  {
   "cell_type": "code",
   "execution_count": 2519,
   "id": "2c29c560-289c-4e83-a3c5-9df6863917f4",
   "metadata": {},
   "outputs": [
    {
     "data": {
      "text/plain": [
       "30"
      ]
     },
     "execution_count": 2519,
     "metadata": {},
     "output_type": "execute_result"
    }
   ],
   "source": [
    "i=30\n",
    "i"
   ]
  },
  {
   "cell_type": "code",
   "execution_count": 2520,
   "id": "5251a1b3-d1e1-4caf-b609-823aefb82ee4",
   "metadata": {},
   "outputs": [
    {
     "data": {
      "text/plain": [
       "int"
      ]
     },
     "execution_count": 2520,
     "metadata": {},
     "output_type": "execute_result"
    }
   ],
   "source": [
    "type(i)"
   ]
  },
  {
   "cell_type": "code",
   "execution_count": 2521,
   "id": "f13d7086-343d-4bf2-be5d-7e51c0c4905f",
   "metadata": {},
   "outputs": [],
   "source": [
    "a,b,c=10,20,30"
   ]
  },
  {
   "cell_type": "code",
   "execution_count": 2522,
   "id": "74d74383-e6dd-4062-ac02-d52fb2dae49d",
   "metadata": {},
   "outputs": [
    {
     "data": {
      "text/plain": [
       "20"
      ]
     },
     "execution_count": 2522,
     "metadata": {},
     "output_type": "execute_result"
    }
   ],
   "source": [
    "b"
   ]
  },
  {
   "cell_type": "code",
   "execution_count": 2523,
   "id": "06588dba-282a-4dcd-961b-9906ac1f6a5a",
   "metadata": {},
   "outputs": [
    {
     "data": {
      "text/plain": [
       "80"
      ]
     },
     "execution_count": 2523,
     "metadata": {},
     "output_type": "execute_result"
    }
   ],
   "source": [
    "i1,i2=20,30\n",
    "i+i1+i2"
   ]
  },
  {
   "cell_type": "code",
   "execution_count": 2524,
   "id": "998ccc84-4ef3-4abc-8d43-6914ef321bb6",
   "metadata": {},
   "outputs": [
    {
     "data": {
      "text/plain": [
       "20"
      ]
     },
     "execution_count": 2524,
     "metadata": {},
     "output_type": "execute_result"
    }
   ],
   "source": [
    "i-i2+i1"
   ]
  },
  {
   "cell_type": "code",
   "execution_count": 2525,
   "id": "e069aad1-d1e7-4025-a67e-2d8f81f08d7e",
   "metadata": {},
   "outputs": [
    {
     "data": {
      "text/plain": [
       "-20"
      ]
     },
     "execution_count": 2525,
     "metadata": {},
     "output_type": "execute_result"
    }
   ],
   "source": [
    "i-(i2+i1)"
   ]
  },
  {
   "cell_type": "code",
   "execution_count": 2526,
   "id": "887e18c7-33ae-4e2f-981d-8ca0b4b642b1",
   "metadata": {},
   "outputs": [
    {
     "name": "stdout",
     "output_type": "stream",
     "text": [
      "30\n",
      "20\n",
      "30\n"
     ]
    }
   ],
   "source": [
    "print(i)\n",
    "print(i1)\n",
    "print(i2)"
   ]
  },
  {
   "cell_type": "markdown",
   "id": "9192ece9-a056-4928-9eda-1902906ca051",
   "metadata": {},
   "source": [
    "# we have completed the integer"
   ]
  },
  {
   "cell_type": "code",
   "execution_count": 2528,
   "id": "95d6a9af-3e94-47ca-82cd-8c148cb9ac02",
   "metadata": {},
   "outputs": [],
   "source": [
    "f=110.20"
   ]
  },
  {
   "cell_type": "code",
   "execution_count": 2529,
   "id": "4f6426f7-52f4-427d-ad68-5cda0768ae04",
   "metadata": {},
   "outputs": [
    {
     "data": {
      "text/plain": [
       "float"
      ]
     },
     "execution_count": 2529,
     "metadata": {},
     "output_type": "execute_result"
    }
   ],
   "source": [
    "type(f)"
   ]
  },
  {
   "cell_type": "code",
   "execution_count": 2530,
   "id": "90e75f6c-1b87-4019-9d0a-339a4bbfc6fa",
   "metadata": {},
   "outputs": [],
   "source": [
    "f1,f2,f3=2.3, 3.4, 5.1"
   ]
  },
  {
   "cell_type": "code",
   "execution_count": 2531,
   "id": "7e03d4c6-865d-4c97-ae05-0951ab80fd54",
   "metadata": {},
   "outputs": [
    {
     "name": "stdout",
     "output_type": "stream",
     "text": [
      "110.2\n",
      "2.3\n",
      "3.4\n",
      "5.1\n"
     ]
    }
   ],
   "source": [
    "print(f)\n",
    "print(f1)\n",
    "print(f2)\n",
    "print(f3)"
   ]
  },
  {
   "cell_type": "code",
   "execution_count": 2532,
   "id": "722ede07-cb82-4075-ad22-6b280eafc276",
   "metadata": {},
   "outputs": [
    {
     "data": {
      "text/plain": [
       "2000.0"
      ]
     },
     "execution_count": 2532,
     "metadata": {},
     "output_type": "execute_result"
    }
   ],
   "source": [
    "2e3"
   ]
  },
  {
   "cell_type": "code",
   "execution_count": 2533,
   "id": "e4528161-8b23-435a-94da-8f69ce6ace92",
   "metadata": {},
   "outputs": [
    {
     "data": {
      "text/plain": [
       "60000000.0"
      ]
     },
     "execution_count": 2533,
     "metadata": {},
     "output_type": "execute_result"
    }
   ],
   "source": [
    "6e7"
   ]
  },
  {
   "cell_type": "code",
   "execution_count": 2534,
   "id": "92fe3d2f-ccd6-4433-bbdb-1166825192df",
   "metadata": {},
   "outputs": [
    {
     "data": {
      "text/plain": [
       "1.0"
      ]
     },
     "execution_count": 2534,
     "metadata": {},
     "output_type": "execute_result"
    }
   ],
   "source": [
    "f1=1e0\n",
    "f1"
   ]
  },
  {
   "cell_type": "code",
   "execution_count": 2535,
   "id": "4377d992-1de2-46e3-a940-3969e10ea66f",
   "metadata": {},
   "outputs": [
    {
     "data": {
      "text/plain": [
       "20.0"
      ]
     },
     "execution_count": 2535,
     "metadata": {},
     "output_type": "execute_result"
    }
   ],
   "source": [
    "f2=2e1\n",
    "f2"
   ]
  },
  {
   "cell_type": "code",
   "execution_count": 2536,
   "id": "005219ab-df35-47cd-a070-96abe388d490",
   "metadata": {},
   "outputs": [
    {
     "data": {
      "text/plain": [
       "300.0"
      ]
     },
     "execution_count": 2536,
     "metadata": {},
     "output_type": "execute_result"
    }
   ],
   "source": [
    "f3=3e2\n",
    "f3"
   ]
  },
  {
   "cell_type": "code",
   "execution_count": 2537,
   "id": "fb83f138-18ba-4de6-98f8-80ad22f3824a",
   "metadata": {},
   "outputs": [
    {
     "data": {
      "text/plain": [
       "3000.0"
      ]
     },
     "execution_count": 2537,
     "metadata": {},
     "output_type": "execute_result"
    }
   ],
   "source": [
    "f4=3e3\n",
    "f4"
   ]
  },
  {
   "cell_type": "code",
   "execution_count": 2538,
   "id": "00c31a9e-28fa-4d75-95fe-25eb9065e986",
   "metadata": {},
   "outputs": [
    {
     "data": {
      "text/plain": [
       "240.0"
      ]
     },
     "execution_count": 2538,
     "metadata": {},
     "output_type": "execute_result"
    }
   ],
   "source": [
    "f5=2.4e2\n",
    "f5"
   ]
  },
  {
   "cell_type": "markdown",
   "id": "0dbc7b01-a219-4d72-b09d-58d4f131a487",
   "metadata": {},
   "source": [
    "# Bool or Boolean"
   ]
  },
  {
   "cell_type": "code",
   "execution_count": 2540,
   "id": "024901a1-a859-45a2-995a-97fc682ecbcf",
   "metadata": {},
   "outputs": [
    {
     "ename": "NameError",
     "evalue": "name 'true' is not defined",
     "output_type": "error",
     "traceback": [
      "\u001b[1;31m---------------------------------------------------------------------------\u001b[0m",
      "\u001b[1;31mNameError\u001b[0m                                 Traceback (most recent call last)",
      "Cell \u001b[1;32mIn[2540], line 1\u001b[0m\n\u001b[1;32m----> 1\u001b[0m b\u001b[38;5;241m=\u001b[39mtrue\n",
      "\u001b[1;31mNameError\u001b[0m: name 'true' is not defined"
     ]
    }
   ],
   "source": [
    "b=true"
   ]
  },
  {
   "cell_type": "code",
   "execution_count": 2541,
   "id": "eb9a172b-cccc-42f3-9f7d-be35b6607014",
   "metadata": {},
   "outputs": [],
   "source": [
    "b=True"
   ]
  },
  {
   "cell_type": "code",
   "execution_count": 2542,
   "id": "56e00dbc-6d2e-4428-a235-b9bcd42a3431",
   "metadata": {},
   "outputs": [
    {
     "data": {
      "text/plain": [
       "bool"
      ]
     },
     "execution_count": 2542,
     "metadata": {},
     "output_type": "execute_result"
    }
   ],
   "source": [
    "type(b)"
   ]
  },
  {
   "cell_type": "code",
   "execution_count": 2543,
   "id": "e833b79e-8a61-46a1-beb3-ac00ea4550d8",
   "metadata": {},
   "outputs": [
    {
     "data": {
      "text/plain": [
       "False"
      ]
     },
     "execution_count": 2543,
     "metadata": {},
     "output_type": "execute_result"
    }
   ],
   "source": [
    "b1=False\n",
    "b1"
   ]
  },
  {
   "cell_type": "code",
   "execution_count": 2544,
   "id": "c424d260-2f13-4af0-baff-1f23567a0482",
   "metadata": {},
   "outputs": [
    {
     "name": "stdout",
     "output_type": "stream",
     "text": [
      "True\n",
      "False\n"
     ]
    }
   ],
   "source": [
    "print(b)\n",
    "print(b1)"
   ]
  },
  {
   "cell_type": "code",
   "execution_count": 1222,
   "id": "94bbe9eb-ddf6-4891-9f7d-548535290844",
   "metadata": {},
   "outputs": [
    {
     "data": {
      "text/plain": [
       "1"
      ]
     },
     "execution_count": 1222,
     "metadata": {},
     "output_type": "execute_result"
    }
   ],
   "source": [
    "True+False"
   ]
  },
  {
   "cell_type": "code",
   "execution_count": 1224,
   "id": "6f8ce409-00fc-4a62-acef-0f7ef6b7248e",
   "metadata": {},
   "outputs": [
    {
     "data": {
      "text/plain": [
       "1"
      ]
     },
     "execution_count": 1224,
     "metadata": {},
     "output_type": "execute_result"
    }
   ],
   "source": [
    "True-False"
   ]
  },
  {
   "cell_type": "code",
   "execution_count": 1226,
   "id": "0b4894a8-04c7-466f-907f-dfe9cef2ea65",
   "metadata": {},
   "outputs": [
    {
     "data": {
      "text/plain": [
       "-1"
      ]
     },
     "execution_count": 1226,
     "metadata": {},
     "output_type": "execute_result"
    }
   ],
   "source": [
    "False-True"
   ]
  },
  {
   "cell_type": "code",
   "execution_count": 1228,
   "id": "2399b893-27e8-4cd1-8441-5163ae6d525c",
   "metadata": {},
   "outputs": [
    {
     "data": {
      "text/plain": [
       "2"
      ]
     },
     "execution_count": 1228,
     "metadata": {},
     "output_type": "execute_result"
    }
   ],
   "source": [
    "True+True+True+False-True"
   ]
  },
  {
   "cell_type": "code",
   "execution_count": 1230,
   "id": "c8244d04-75ca-45b7-afe8-1bac680b31f8",
   "metadata": {},
   "outputs": [
    {
     "data": {
      "text/plain": [
       "0"
      ]
     },
     "execution_count": 1230,
     "metadata": {},
     "output_type": "execute_result"
    }
   ],
   "source": [
    "False * True"
   ]
  },
  {
   "cell_type": "code",
   "execution_count": 1232,
   "id": "c77cceac-9181-4927-b9bf-9d22f806bfca",
   "metadata": {},
   "outputs": [
    {
     "data": {
      "text/plain": [
       "1"
      ]
     },
     "execution_count": 1232,
     "metadata": {},
     "output_type": "execute_result"
    }
   ],
   "source": [
    "True*True"
   ]
  },
  {
   "cell_type": "code",
   "execution_count": 1234,
   "id": "287e799b-91fc-4ee0-b03f-d4ffe406a31f",
   "metadata": {},
   "outputs": [
    {
     "data": {
      "text/plain": [
       "0.0"
      ]
     },
     "execution_count": 1234,
     "metadata": {},
     "output_type": "execute_result"
    }
   ],
   "source": [
    "False/True"
   ]
  },
  {
   "cell_type": "code",
   "execution_count": 1236,
   "id": "55ce5065-3eb0-482f-9989-0f7983b63314",
   "metadata": {},
   "outputs": [
    {
     "ename": "ZeroDivisionError",
     "evalue": "division by zero",
     "output_type": "error",
     "traceback": [
      "\u001b[1;31m---------------------------------------------------------------------------\u001b[0m",
      "\u001b[1;31mZeroDivisionError\u001b[0m                         Traceback (most recent call last)",
      "Cell \u001b[1;32mIn[1236], line 1\u001b[0m\n\u001b[1;32m----> 1\u001b[0m \u001b[38;5;28;01mTrue\u001b[39;00m\u001b[38;5;241m/\u001b[39m\u001b[38;5;28;01mFalse\u001b[39;00m\n",
      "\u001b[1;31mZeroDivisionError\u001b[0m: division by zero"
     ]
    }
   ],
   "source": [
    "True/False #Python never understands infinity"
   ]
  },
  {
   "cell_type": "markdown",
   "id": "a9fe5ece-37b5-488a-b782-756c827aefcd",
   "metadata": {},
   "source": [
    "# Complex Data Types"
   ]
  },
  {
   "cell_type": "code",
   "execution_count": 1239,
   "id": "99423a63-599e-4884-876f-881115832f16",
   "metadata": {},
   "outputs": [
    {
     "data": {
      "text/plain": [
       "(1+20j)"
      ]
     },
     "execution_count": 1239,
     "metadata": {},
     "output_type": "execute_result"
    }
   ],
   "source": [
    "c=1+20J\n",
    "c"
   ]
  },
  {
   "cell_type": "code",
   "execution_count": 2546,
   "id": "e305b994-b049-495a-be87-b19666af5c34",
   "metadata": {},
   "outputs": [
    {
     "data": {
      "text/plain": [
       "int"
      ]
     },
     "execution_count": 2546,
     "metadata": {},
     "output_type": "execute_result"
    }
   ],
   "source": [
    "type(c)"
   ]
  },
  {
   "cell_type": "code",
   "execution_count": 2556,
   "id": "b647178d-e2ba-470a-82dc-c084e951b7ae",
   "metadata": {},
   "outputs": [
    {
     "data": {
      "text/plain": [
       "30"
      ]
     },
     "execution_count": 2556,
     "metadata": {},
     "output_type": "execute_result"
    }
   ],
   "source": [
    "c.real"
   ]
  },
  {
   "cell_type": "code",
   "execution_count": 2582,
   "id": "090738d9-2227-4e30-8117-6b1806226692",
   "metadata": {},
   "outputs": [
    {
     "data": {
      "text/plain": [
       "30"
      ]
     },
     "execution_count": 2582,
     "metadata": {},
     "output_type": "execute_result"
    }
   ],
   "source": [
    "c.real"
   ]
  },
  {
   "cell_type": "code",
   "execution_count": 2597,
   "id": "8b72830e-1167-4888-92dc-b825e671297b",
   "metadata": {},
   "outputs": [
    {
     "data": {
      "text/plain": [
       "0"
      ]
     },
     "execution_count": 2597,
     "metadata": {},
     "output_type": "execute_result"
    }
   ],
   "source": [
    "c.imag"
   ]
  },
  {
   "cell_type": "code",
   "execution_count": 2613,
   "id": "f33fe524-dd3a-43a6-86fa-29dac45396d8",
   "metadata": {},
   "outputs": [
    {
     "name": "stdout",
     "output_type": "stream",
     "text": [
      "(40+60j)\n",
      "(-20-20j)\n"
     ]
    }
   ],
   "source": [
    "c1=10+20j\n",
    "c2=30+40j\n",
    "print(c1+c2)\n",
    "print(c1-c2)"
   ]
  },
  {
   "cell_type": "markdown",
   "id": "4527d738-9903-4892-8b28-33ee6150190c",
   "metadata": {},
   "source": [
    "# Day 7 / 24th Oct"
   ]
  },
  {
   "cell_type": "code",
   "execution_count": 2618,
   "id": "e67ae671-f9dd-42cd-a622-4b802b61607b",
   "metadata": {},
   "outputs": [
    {
     "data": {
      "text/plain": [
       "'nit'"
      ]
     },
     "execution_count": 2618,
     "metadata": {},
     "output_type": "execute_result"
    }
   ],
   "source": [
    "s='nit'\n",
    "s"
   ]
  },
  {
   "cell_type": "code",
   "execution_count": 2620,
   "id": "c3e52c31-75bb-4eb7-a491-875c4d3cc29e",
   "metadata": {},
   "outputs": [
    {
     "data": {
      "text/plain": [
       "str"
      ]
     },
     "execution_count": 2620,
     "metadata": {},
     "output_type": "execute_result"
    }
   ],
   "source": [
    "type(s)"
   ]
  },
  {
   "cell_type": "code",
   "execution_count": 2622,
   "id": "f2291f33-9054-4269-a4b2-2fe80f9c9062",
   "metadata": {},
   "outputs": [
    {
     "data": {
      "text/plain": [
       "'hello python'"
      ]
     },
     "execution_count": 2622,
     "metadata": {},
     "output_type": "execute_result"
    }
   ],
   "source": [
    "s1=\"hello python\"\n",
    "s1"
   ]
  },
  {
   "cell_type": "code",
   "execution_count": 2624,
   "id": "52a81cba-483c-4e5f-9c0d-f321d230676c",
   "metadata": {},
   "outputs": [
    {
     "data": {
      "text/plain": [
       "'nit\\n        hello python'"
      ]
     },
     "execution_count": 2624,
     "metadata": {},
     "output_type": "execute_result"
    }
   ],
   "source": [
    "s2='''nit\n",
    "        hello python'''\n",
    "s2"
   ]
  },
  {
   "cell_type": "code",
   "execution_count": 2626,
   "id": "17368636-5d96-405a-af27-42bb99b3dd2d",
   "metadata": {},
   "outputs": [
    {
     "data": {
      "text/plain": [
       "'hello python'"
      ]
     },
     "execution_count": 2626,
     "metadata": {},
     "output_type": "execute_result"
    }
   ],
   "source": [
    "s1"
   ]
  },
  {
   "cell_type": "code",
   "execution_count": 2628,
   "id": "b6e5bd2f-544a-446b-87ab-9e1ddffaf712",
   "metadata": {},
   "outputs": [
    {
     "data": {
      "text/plain": [
       "'o'"
      ]
     },
     "execution_count": 2628,
     "metadata": {},
     "output_type": "execute_result"
    }
   ],
   "source": [
    "s1[10]"
   ]
  },
  {
   "cell_type": "code",
   "execution_count": 2630,
   "id": "5a749d11-f054-4e8c-a352-20e4383e82bf",
   "metadata": {},
   "outputs": [
    {
     "data": {
      "text/plain": [
       "'t'"
      ]
     },
     "execution_count": 2630,
     "metadata": {},
     "output_type": "execute_result"
    }
   ],
   "source": [
    "s1[-4]"
   ]
  },
  {
   "cell_type": "code",
   "execution_count": 2632,
   "id": "e85bf7d1-d947-45ff-8094-9522b8eaa9b6",
   "metadata": {},
   "outputs": [
    {
     "data": {
      "text/plain": [
       "'o'"
      ]
     },
     "execution_count": 2632,
     "metadata": {},
     "output_type": "execute_result"
    }
   ],
   "source": [
    "s1[4]"
   ]
  },
  {
   "cell_type": "code",
   "execution_count": 2633,
   "id": "174de363-9e51-4f6e-bc97-23cc9eb5f8ad",
   "metadata": {},
   "outputs": [
    {
     "data": {
      "text/plain": [
       "' '"
      ]
     },
     "execution_count": 2633,
     "metadata": {},
     "output_type": "execute_result"
    }
   ],
   "source": [
    "s1[5]"
   ]
  },
  {
   "cell_type": "code",
   "execution_count": 2635,
   "id": "7060bcbe-66a5-43eb-9f81-736e7ccdb49b",
   "metadata": {},
   "outputs": [
    {
     "data": {
      "text/plain": [
       "' '"
      ]
     },
     "execution_count": 2635,
     "metadata": {},
     "output_type": "execute_result"
    }
   ],
   "source": [
    "s1[-7]"
   ]
  },
  {
   "cell_type": "code",
   "execution_count": 2636,
   "id": "9baaafaa-0d38-4a52-b33a-d3721f05ebed",
   "metadata": {},
   "outputs": [
    {
     "data": {
      "text/plain": [
       "'nit'"
      ]
     },
     "execution_count": 2636,
     "metadata": {},
     "output_type": "execute_result"
    }
   ],
   "source": [
    "s"
   ]
  },
  {
   "cell_type": "code",
   "execution_count": 2638,
   "id": "89757880-1253-4a52-9284-695a8e2aad40",
   "metadata": {},
   "outputs": [
    {
     "name": "stdout",
     "output_type": "stream",
     "text": [
      "nit\n"
     ]
    }
   ],
   "source": [
    "print(s)"
   ]
  },
  {
   "cell_type": "code",
   "execution_count": 2639,
   "id": "fe7aaf5e-3182-4cab-b383-c66c65163d2d",
   "metadata": {},
   "outputs": [
    {
     "name": "stdout",
     "output_type": "stream",
     "text": [
      "n\n",
      "i\n",
      "t\n"
     ]
    }
   ],
   "source": [
    "print(s[0])\n",
    "print(s[1])\n",
    "print(s[2])"
   ]
  },
  {
   "cell_type": "code",
   "execution_count": 2643,
   "id": "ff5bf48e-ea29-471c-8a3f-c3b3225b2023",
   "metadata": {},
   "outputs": [
    {
     "data": {
      "text/plain": [
       "'hello python'"
      ]
     },
     "execution_count": 2643,
     "metadata": {},
     "output_type": "execute_result"
    }
   ],
   "source": [
    "s1"
   ]
  },
  {
   "cell_type": "code",
   "execution_count": 2644,
   "id": "2bfe95c5-fac9-4d13-9b70-432c209abff2",
   "metadata": {},
   "outputs": [
    {
     "data": {
      "text/plain": [
       "'hello python'"
      ]
     },
     "execution_count": 2644,
     "metadata": {},
     "output_type": "execute_result"
    }
   ],
   "source": [
    "s1[:]"
   ]
  },
  {
   "cell_type": "code",
   "execution_count": 2645,
   "id": "e9944506-40a0-4d4d-b7db-44d01e012fa1",
   "metadata": {},
   "outputs": [
    {
     "data": {
      "text/plain": [
       "'llo p'"
      ]
     },
     "execution_count": 2645,
     "metadata": {},
     "output_type": "execute_result"
    }
   ],
   "source": [
    "s1[2:7]"
   ]
  },
  {
   "cell_type": "code",
   "execution_count": 2646,
   "id": "a37502c8-284c-4bf3-abb4-cce0c02909ab",
   "metadata": {
    "scrolled": true
   },
   "outputs": [
    {
     "data": {
      "text/plain": [
       "'dataanalyst'"
      ]
     },
     "execution_count": 2646,
     "metadata": {},
     "output_type": "execute_result"
    }
   ],
   "source": [
    "s3='dataanalyst'\n",
    "s3"
   ]
  },
  {
   "cell_type": "code",
   "execution_count": 2647,
   "id": "a18f9a18-2d0a-4f8b-87bd-bbde23b56925",
   "metadata": {},
   "outputs": [
    {
     "data": {
      "text/plain": [
       "'dataanalys'"
      ]
     },
     "execution_count": 2647,
     "metadata": {},
     "output_type": "execute_result"
    }
   ],
   "source": [
    "s3[0:10]"
   ]
  },
  {
   "cell_type": "code",
   "execution_count": 2648,
   "id": "0ec0d4d6-49ca-4ff2-a51e-8e065876ca36",
   "metadata": {},
   "outputs": [
    {
     "data": {
      "text/plain": [
       "'dataanalyst'"
      ]
     },
     "execution_count": 2648,
     "metadata": {},
     "output_type": "execute_result"
    }
   ],
   "source": [
    "s3[0:11]"
   ]
  },
  {
   "cell_type": "code",
   "execution_count": 2649,
   "id": "294a9c00-71e2-4c00-bd13-10677629550a",
   "metadata": {},
   "outputs": [
    {
     "data": {
      "text/plain": [
       "'dataanalyst'"
      ]
     },
     "execution_count": 2649,
     "metadata": {},
     "output_type": "execute_result"
    }
   ],
   "source": [
    "s3[0:12]"
   ]
  },
  {
   "cell_type": "code",
   "execution_count": 2651,
   "id": "08a9f80e-5611-4f69-bb92-b89a400dedb2",
   "metadata": {},
   "outputs": [
    {
     "ename": "IndexError",
     "evalue": "string index out of range",
     "output_type": "error",
     "traceback": [
      "\u001b[1;31m---------------------------------------------------------------------------\u001b[0m",
      "\u001b[1;31mIndexError\u001b[0m                                Traceback (most recent call last)",
      "Cell \u001b[1;32mIn[2651], line 1\u001b[0m\n\u001b[1;32m----> 1\u001b[0m s3[\u001b[38;5;241m12\u001b[39m]\n",
      "\u001b[1;31mIndexError\u001b[0m: string index out of range"
     ]
    }
   ],
   "source": [
    "s3[12]"
   ]
  },
  {
   "cell_type": "code",
   "execution_count": 2653,
   "id": "9173541a-5f3f-4aaf-8fc3-e9260b4ad44d",
   "metadata": {},
   "outputs": [
    {
     "data": {
      "text/plain": [
       "'t'"
      ]
     },
     "execution_count": 2653,
     "metadata": {},
     "output_type": "execute_result"
    }
   ],
   "source": [
    "s3[10]"
   ]
  },
  {
   "cell_type": "code",
   "execution_count": 2654,
   "id": "d695c83f-e49d-48e2-8b07-71af645bdd86",
   "metadata": {},
   "outputs": [
    {
     "data": {
      "text/plain": [
       "'s'"
      ]
     },
     "execution_count": 2654,
     "metadata": {},
     "output_type": "execute_result"
    }
   ],
   "source": [
    "s3[9]"
   ]
  },
  {
   "cell_type": "code",
   "execution_count": 2655,
   "id": "abec4391-c9d3-42cf-a140-f3a6363de6e3",
   "metadata": {},
   "outputs": [
    {
     "data": {
      "text/plain": [
       "'st'"
      ]
     },
     "execution_count": 2655,
     "metadata": {},
     "output_type": "execute_result"
    }
   ],
   "source": [
    "s3[9:12]"
   ]
  },
  {
   "cell_type": "code",
   "execution_count": 2660,
   "id": "b6278968-8f8c-4e4f-97fc-a8e51823d210",
   "metadata": {},
   "outputs": [
    {
     "data": {
      "text/plain": [
       "'dataanalyst'"
      ]
     },
     "execution_count": 2660,
     "metadata": {},
     "output_type": "execute_result"
    }
   ],
   "source": [
    "s3"
   ]
  },
  {
   "cell_type": "code",
   "execution_count": 2661,
   "id": "9b8eab9d-f620-441b-92b7-0b2d66d6c65c",
   "metadata": {},
   "outputs": [
    {
     "data": {
      "text/plain": [
       "'dtaayt'"
      ]
     },
     "execution_count": 2661,
     "metadata": {},
     "output_type": "execute_result"
    }
   ],
   "source": [
    "s3[0:11:2] #dtaayt"
   ]
  },
  {
   "cell_type": "code",
   "execution_count": 2665,
   "id": "6feffb01-d5a4-4aa5-a43c-8c41196b37a0",
   "metadata": {},
   "outputs": [
    {
     "data": {
      "text/plain": [
       "'daas'"
      ]
     },
     "execution_count": 2665,
     "metadata": {},
     "output_type": "execute_result"
    }
   ],
   "source": [
    "s3[0:11:3] #daas"
   ]
  },
  {
   "cell_type": "code",
   "execution_count": 2666,
   "id": "eb8f3825-0a8f-490a-aa81-0ee6f0e3a327",
   "metadata": {},
   "outputs": [
    {
     "data": {
      "text/plain": [
       "'taay'"
      ]
     },
     "execution_count": 2666,
     "metadata": {},
     "output_type": "execute_result"
    }
   ],
   "source": [
    "s3[2:10:2] #taay"
   ]
  },
  {
   "cell_type": "code",
   "execution_count": 2669,
   "id": "44329f81-8087-495e-b545-b644610cd5b6",
   "metadata": {},
   "outputs": [
    {
     "data": {
      "text/plain": [
       "'dataanalyst'"
      ]
     },
     "execution_count": 2669,
     "metadata": {},
     "output_type": "execute_result"
    }
   ],
   "source": [
    "s3"
   ]
  },
  {
   "cell_type": "code",
   "execution_count": 2671,
   "id": "642e67c3-d72e-4c6a-96a7-239dbfb7cbc7",
   "metadata": {},
   "outputs": [
    {
     "data": {
      "text/plain": [
       "'day'"
      ]
     },
     "execution_count": 2671,
     "metadata": {},
     "output_type": "execute_result"
    }
   ],
   "source": [
    "s3[0:12:4] #day"
   ]
  },
  {
   "cell_type": "code",
   "execution_count": 2672,
   "id": "bf614530-5109-4aaf-95e2-b559e4c43f29",
   "metadata": {},
   "outputs": [
    {
     "data": {
      "text/plain": [
       "'aa'"
      ]
     },
     "execution_count": 2672,
     "metadata": {},
     "output_type": "execute_result"
    }
   ],
   "source": [
    "s3[1:12:5] #ant"
   ]
  },
  {
   "cell_type": "code",
   "execution_count": 2673,
   "id": "86b14f2b-3fbf-48f8-8948-fcd6d835f177",
   "metadata": {},
   "outputs": [
    {
     "data": {
      "text/plain": [
       "'dataanalyst'"
      ]
     },
     "execution_count": 2673,
     "metadata": {},
     "output_type": "execute_result"
    }
   ],
   "source": [
    "s3"
   ]
  },
  {
   "cell_type": "code",
   "execution_count": 2674,
   "id": "c20fe685-0ff3-47e5-b605-aeb6ca1c71e7",
   "metadata": {},
   "outputs": [
    {
     "data": {
      "text/plain": [
       "'taanaly'"
      ]
     },
     "execution_count": 2674,
     "metadata": {},
     "output_type": "execute_result"
    }
   ],
   "source": [
    "s3[2:-2] # taanaly"
   ]
  },
  {
   "cell_type": "code",
   "execution_count": 2675,
   "id": "bbeaf073-4f32-4896-84a6-c815d61a2b23",
   "metadata": {},
   "outputs": [
    {
     "name": "stdout",
     "output_type": "stream",
     "text": [
      "d\n",
      "a\n",
      "t\n",
      "a\n",
      "a\n",
      "n\n",
      "a\n",
      "l\n",
      "y\n",
      "s\n",
      "t\n"
     ]
    }
   ],
   "source": [
    "for i in s3:\n",
    "    print(i)"
   ]
  },
  {
   "cell_type": "code",
   "execution_count": 2676,
   "id": "942da574-c894-4a26-af06-03936fbab768",
   "metadata": {},
   "outputs": [
    {
     "data": {
      "text/plain": [
       "'taay'"
      ]
     },
     "execution_count": 2676,
     "metadata": {},
     "output_type": "execute_result"
    }
   ],
   "source": [
    "s3[2:-2:2]"
   ]
  },
  {
   "cell_type": "code",
   "execution_count": 2677,
   "id": "d4155583-4e50-4888-ba86-0ce2cd7a785a",
   "metadata": {},
   "outputs": [
    {
     "data": {
      "text/plain": [
       "''"
      ]
     },
     "execution_count": 2677,
     "metadata": {},
     "output_type": "execute_result"
    }
   ],
   "source": [
    "s3[0:4:-3] #da"
   ]
  },
  {
   "cell_type": "code",
   "execution_count": 2680,
   "id": "bbcafaa7-4124-4a6d-bc03-b6bb4ca1c468",
   "metadata": {},
   "outputs": [
    {
     "data": {
      "text/plain": [
       "''"
      ]
     },
     "execution_count": 2680,
     "metadata": {},
     "output_type": "execute_result"
    }
   ],
   "source": [
    "s3[-3:2]"
   ]
  },
  {
   "cell_type": "code",
   "execution_count": 2682,
   "id": "1198ffa3-05f6-43a2-9f85-388af4cff05c",
   "metadata": {},
   "outputs": [
    {
     "data": {
      "text/plain": [
       "'businessanalyst'"
      ]
     },
     "execution_count": 2682,
     "metadata": {},
     "output_type": "execute_result"
    }
   ],
   "source": [
    "s4=\"businessanalyst\"\n",
    "s4"
   ]
  },
  {
   "cell_type": "code",
   "execution_count": 2683,
   "id": "7affd918-9bc1-4967-a354-4de2f00bc2dd",
   "metadata": {},
   "outputs": [
    {
     "data": {
      "text/plain": [
       "'snsaay'"
      ]
     },
     "execution_count": 2683,
     "metadata": {},
     "output_type": "execute_result"
    }
   ],
   "source": [
    "s4[2:13:2] #snsaay"
   ]
  },
  {
   "cell_type": "code",
   "execution_count": 2684,
   "id": "e6a8a1a4-f2e7-4850-aaa8-30d2e7840adb",
   "metadata": {},
   "outputs": [
    {
     "data": {
      "text/plain": [
       "'uens'"
      ]
     },
     "execution_count": 2684,
     "metadata": {},
     "output_type": "execute_result"
    }
   ],
   "source": [
    "s4[1:14:4] #unay"
   ]
  },
  {
   "cell_type": "code",
   "execution_count": 2687,
   "id": "d187dbd9-8231-429a-a2bd-2003c0ba3364",
   "metadata": {},
   "outputs": [
    {
     "data": {
      "text/plain": [
       "'datasciencerocks'"
      ]
     },
     "execution_count": 2687,
     "metadata": {},
     "output_type": "execute_result"
    }
   ],
   "source": [
    "s5=\"datasciencerocks\"\n",
    "s5"
   ]
  },
  {
   "cell_type": "code",
   "execution_count": 2689,
   "id": "c8d4902d-0f42-44c9-94b4-812787c098af",
   "metadata": {},
   "outputs": [
    {
     "data": {
      "text/plain": [
       "'tcnrk'"
      ]
     },
     "execution_count": 2689,
     "metadata": {},
     "output_type": "execute_result"
    }
   ],
   "source": [
    "s5[2:15:3]"
   ]
  },
  {
   "cell_type": "code",
   "execution_count": 2690,
   "id": "a9cf7917-f947-4207-b947-c04177eca636",
   "metadata": {},
   "outputs": [
    {
     "data": {
      "text/plain": [
       "'artificialintelligence'"
      ]
     },
     "execution_count": 2690,
     "metadata": {},
     "output_type": "execute_result"
    }
   ],
   "source": [
    "s6='artificialintelligence'\n",
    "s6"
   ]
  },
  {
   "cell_type": "code",
   "execution_count": 2696,
   "id": "b044a07f-99ed-4617-b793-a6843abec932",
   "metadata": {},
   "outputs": [
    {
     "data": {
      "text/plain": [
       "'iaee'"
      ]
     },
     "execution_count": 2696,
     "metadata": {},
     "output_type": "execute_result"
    }
   ],
   "source": [
    "s6[3:20:5]"
   ]
  },
  {
   "cell_type": "code",
   "execution_count": 2697,
   "id": "f5770100-35aa-4160-85d5-325e2d82bba0",
   "metadata": {},
   "outputs": [
    {
     "data": {
      "text/plain": [
       "'machinelearning'"
      ]
     },
     "execution_count": 2697,
     "metadata": {},
     "output_type": "execute_result"
    }
   ],
   "source": [
    "s7='machinelearning'\n",
    "s7"
   ]
  },
  {
   "cell_type": "code",
   "execution_count": 2700,
   "id": "73224a88-13c3-42b5-ae24-b591d7c76b16",
   "metadata": {},
   "outputs": [
    {
     "data": {
      "text/plain": [
       "'ahnlan'"
      ]
     },
     "execution_count": 2700,
     "metadata": {},
     "output_type": "execute_result"
    }
   ],
   "source": [
    "s7[1:12:2]"
   ]
  },
  {
   "cell_type": "code",
   "execution_count": 2701,
   "id": "a4793d3b-21fa-4710-aa6c-3ab9c835b6fb",
   "metadata": {},
   "outputs": [
    {
     "data": {
      "text/plain": [
       "'!dlroW ,olle'"
      ]
     },
     "execution_count": 2701,
     "metadata": {},
     "output_type": "execute_result"
    }
   ],
   "source": [
    "s8='Hello, World!'\n",
    "s8[12:0:-1]"
   ]
  },
  {
   "cell_type": "code",
   "execution_count": 2702,
   "id": "8a15ee64-1c9a-4373-a184-8eea9febf95a",
   "metadata": {},
   "outputs": [
    {
     "data": {
      "text/plain": [
       "'gimroP'"
      ]
     },
     "execution_count": 2702,
     "metadata": {},
     "output_type": "execute_result"
    }
   ],
   "source": [
    "s9 = \"PythonProgramming\"\n",
    "s9[16:5:-2]"
   ]
  },
  {
   "cell_type": "code",
   "execution_count": 2703,
   "id": "abc40bfc-7fc2-4fa0-abc0-9b9fca3f45d0",
   "metadata": {},
   "outputs": [
    {
     "data": {
      "text/plain": [
       "'ci'"
      ]
     },
     "execution_count": 2703,
     "metadata": {},
     "output_type": "execute_result"
    }
   ],
   "source": [
    "s10 = \"data science\"\n",
    "s10[10:5:-3]  #ci"
   ]
  },
  {
   "cell_type": "code",
   "execution_count": 2704,
   "id": "2f4760d3-9213-4385-8e0e-0c9bfabf8d81",
   "metadata": {},
   "outputs": [
    {
     "data": {
      "text/plain": [
       "'no'"
      ]
     },
     "execution_count": 2704,
     "metadata": {},
     "output_type": "execute_result"
    }
   ],
   "source": [
    "s11 = 'halloween'\n",
    "s11[8:0:-4] #n0"
   ]
  },
  {
   "cell_type": "code",
   "execution_count": 2705,
   "id": "2db67f64-5b96-41f0-9e12-5b908102fe91",
   "metadata": {},
   "outputs": [
    {
     "data": {
      "text/plain": [
       "'lai'"
      ]
     },
     "execution_count": 2705,
     "metadata": {},
     "output_type": "execute_result"
    }
   ],
   "source": [
    "s12='simpliifinancial'\n",
    "s12[15:2:-5] #lai"
   ]
  },
  {
   "cell_type": "code",
   "execution_count": 2706,
   "id": "1003099f-d5d2-4029-9f7e-abfe091ce656",
   "metadata": {},
   "outputs": [
    {
     "data": {
      "text/plain": [
       "'eertelppa'"
      ]
     },
     "execution_count": 2706,
     "metadata": {},
     "output_type": "execute_result"
    }
   ],
   "source": [
    "s13='appletree'\n",
    "s13[::-1] #eertelppa"
   ]
  },
  {
   "cell_type": "markdown",
   "id": "47998b37-e732-49ae-9943-14a608b7c3cf",
   "metadata": {},
   "source": [
    "# pthon type casting / type conversions"
   ]
  },
  {
   "cell_type": "code",
   "execution_count": 2708,
   "id": "98e29193-cf75-4782-853c-efbc7fe6e0c6",
   "metadata": {},
   "outputs": [
    {
     "data": {
      "text/plain": [
       "2"
      ]
     },
     "execution_count": 2708,
     "metadata": {},
     "output_type": "execute_result"
    }
   ],
   "source": [
    "int(2.3) #float to int"
   ]
  },
  {
   "cell_type": "code",
   "execution_count": 2709,
   "id": "eab027bc-5e8f-4507-a64a-d4cd1644c733",
   "metadata": {},
   "outputs": [
    {
     "data": {
      "text/plain": [
       "1"
      ]
     },
     "execution_count": 2709,
     "metadata": {},
     "output_type": "execute_result"
    }
   ],
   "source": [
    "int(True) # Boolean to int"
   ]
  },
  {
   "cell_type": "code",
   "execution_count": 2710,
   "id": "23fa87f5-c033-4938-8e99-254101abca46",
   "metadata": {},
   "outputs": [
    {
     "ename": "TypeError",
     "evalue": "int() argument must be a string, a bytes-like object or a real number, not 'complex'",
     "output_type": "error",
     "traceback": [
      "\u001b[1;31m---------------------------------------------------------------------------\u001b[0m",
      "\u001b[1;31mTypeError\u001b[0m                                 Traceback (most recent call last)",
      "Cell \u001b[1;32mIn[2710], line 1\u001b[0m\n\u001b[1;32m----> 1\u001b[0m \u001b[38;5;28mint\u001b[39m(\u001b[38;5;241m1\u001b[39m\u001b[38;5;241m+\u001b[39m\u001b[38;5;241m2\u001b[39mj)\n",
      "\u001b[1;31mTypeError\u001b[0m: int() argument must be a string, a bytes-like object or a real number, not 'complex'"
     ]
    }
   ],
   "source": [
    "int(1+2j) #complex to int is not possible"
   ]
  },
  {
   "cell_type": "code",
   "execution_count": 2711,
   "id": "edb7f720-b087-44c0-ab06-d1afdf5e79ba",
   "metadata": {},
   "outputs": [
    {
     "data": {
      "text/plain": [
       "10"
      ]
     },
     "execution_count": 2711,
     "metadata": {},
     "output_type": "execute_result"
    }
   ],
   "source": [
    "int('10')"
   ]
  },
  {
   "cell_type": "code",
   "execution_count": 2712,
   "id": "026d5ee1-1dc2-4c6e-a4ff-9f56dd109727",
   "metadata": {},
   "outputs": [
    {
     "ename": "ValueError",
     "evalue": "invalid literal for int() with base 10: 'ten'",
     "output_type": "error",
     "traceback": [
      "\u001b[1;31m---------------------------------------------------------------------------\u001b[0m",
      "\u001b[1;31mValueError\u001b[0m                                Traceback (most recent call last)",
      "Cell \u001b[1;32mIn[2712], line 1\u001b[0m\n\u001b[1;32m----> 1\u001b[0m \u001b[38;5;28mint\u001b[39m(\u001b[38;5;124m'\u001b[39m\u001b[38;5;124mten\u001b[39m\u001b[38;5;124m'\u001b[39m)\n",
      "\u001b[1;31mValueError\u001b[0m: invalid literal for int() with base 10: 'ten'"
     ]
    }
   ],
   "source": [
    "int('ten')"
   ]
  },
  {
   "cell_type": "code",
   "execution_count": 2713,
   "id": "c980c09d-2974-4876-826c-ea17c3c55f17",
   "metadata": {},
   "outputs": [
    {
     "data": {
      "text/plain": [
       "'nit\\n        hello python'"
      ]
     },
     "execution_count": 2713,
     "metadata": {},
     "output_type": "execute_result"
    }
   ],
   "source": [
    "s2"
   ]
  },
  {
   "cell_type": "code",
   "execution_count": 2714,
   "id": "2e58319b-4f72-466e-96a1-2a0dc87a807c",
   "metadata": {},
   "outputs": [],
   "source": [
    "s2 = '''nit\n",
    "        hello python'''"
   ]
  },
  {
   "cell_type": "code",
   "execution_count": 2715,
   "id": "c6176581-e2d2-48a5-ab80-c4a5cfd246e4",
   "metadata": {},
   "outputs": [
    {
     "data": {
      "text/plain": [
       "'nit\\n        hello python'"
      ]
     },
     "execution_count": 2715,
     "metadata": {},
     "output_type": "execute_result"
    }
   ],
   "source": [
    "s2"
   ]
  },
  {
   "cell_type": "code",
   "execution_count": 2716,
   "id": "baee7ece-012a-4f0e-9e35-e08870388787",
   "metadata": {},
   "outputs": [
    {
     "data": {
      "text/plain": [
       "90"
      ]
     },
     "execution_count": 2716,
     "metadata": {},
     "output_type": "execute_result"
    }
   ],
   "source": [
    "s4=90\n",
    "s4"
   ]
  },
  {
   "cell_type": "code",
   "execution_count": 2717,
   "id": "0ca1d0b2-79eb-4f4b-a206-c1513342f528",
   "metadata": {},
   "outputs": [],
   "source": [
    "del s4"
   ]
  },
  {
   "cell_type": "code",
   "execution_count": 2718,
   "id": "ee83862e-3abb-4e77-b863-571a60bef1b6",
   "metadata": {},
   "outputs": [
    {
     "ename": "NameError",
     "evalue": "name 's4' is not defined",
     "output_type": "error",
     "traceback": [
      "\u001b[1;31m---------------------------------------------------------------------------\u001b[0m",
      "\u001b[1;31mNameError\u001b[0m                                 Traceback (most recent call last)",
      "Cell \u001b[1;32mIn[2718], line 1\u001b[0m\n\u001b[1;32m----> 1\u001b[0m s4\n",
      "\u001b[1;31mNameError\u001b[0m: name 's4' is not defined"
     ]
    }
   ],
   "source": [
    "s4"
   ]
  },
  {
   "cell_type": "code",
   "execution_count": 2719,
   "id": "b9cae95f-0dc7-48c8-82c7-a65ebc14401f",
   "metadata": {},
   "outputs": [
    {
     "data": {
      "text/plain": [
       "nan"
      ]
     },
     "execution_count": 2719,
     "metadata": {},
     "output_type": "execute_result"
    }
   ],
   "source": [
    "np.nan"
   ]
  },
  {
   "cell_type": "code",
   "execution_count": 2720,
   "id": "29ae9eed-db43-48d4-8074-cfaca62c0e69",
   "metadata": {},
   "outputs": [
    {
     "data": {
      "text/plain": [
       "float"
      ]
     },
     "execution_count": 2720,
     "metadata": {},
     "output_type": "execute_result"
    }
   ],
   "source": [
    "import numpy as np\n",
    "a=np.nan\n",
    "type(a)"
   ]
  },
  {
   "cell_type": "markdown",
   "id": "2a8f8572-9b8d-4320-aea4-929f5d308d4b",
   "metadata": {},
   "source": [
    "# Day 8 or Oct 25th"
   ]
  },
  {
   "cell_type": "code",
   "execution_count": 2722,
   "id": "f5f9f40c-df17-46ea-8cf3-8ad4c6341792",
   "metadata": {},
   "outputs": [
    {
     "data": {
      "text/plain": [
       "10"
      ]
     },
     "execution_count": 2722,
     "metadata": {},
     "output_type": "execute_result"
    }
   ],
   "source": [
    "int('10')"
   ]
  },
  {
   "cell_type": "code",
   "execution_count": 2723,
   "id": "9c2663be-f814-46a1-98b7-5686dd1b9f76",
   "metadata": {},
   "outputs": [
    {
     "ename": "ValueError",
     "evalue": "invalid literal for int() with base 10: 'ten'",
     "output_type": "error",
     "traceback": [
      "\u001b[1;31m---------------------------------------------------------------------------\u001b[0m",
      "\u001b[1;31mValueError\u001b[0m                                Traceback (most recent call last)",
      "Cell \u001b[1;32mIn[2723], line 1\u001b[0m\n\u001b[1;32m----> 1\u001b[0m \u001b[38;5;28mint\u001b[39m(\u001b[38;5;124m'\u001b[39m\u001b[38;5;124mten\u001b[39m\u001b[38;5;124m'\u001b[39m)\n",
      "\u001b[1;31mValueError\u001b[0m: invalid literal for int() with base 10: 'ten'"
     ]
    }
   ],
   "source": [
    "int('ten')"
   ]
  },
  {
   "cell_type": "code",
   "execution_count": 2724,
   "id": "c9e748c6-0879-4578-8284-1f60658e4506",
   "metadata": {},
   "outputs": [
    {
     "data": {
      "text/plain": [
       "2"
      ]
     },
     "execution_count": 2724,
     "metadata": {},
     "output_type": "execute_result"
    }
   ],
   "source": [
    "int(2.3)"
   ]
  },
  {
   "cell_type": "code",
   "execution_count": 2725,
   "id": "db0100ab-d4b1-4593-9c1a-e2e3bb4e3a5e",
   "metadata": {},
   "outputs": [
    {
     "data": {
      "text/plain": [
       "1"
      ]
     },
     "execution_count": 2725,
     "metadata": {},
     "output_type": "execute_result"
    }
   ],
   "source": [
    "int(True)"
   ]
  },
  {
   "cell_type": "code",
   "execution_count": 2726,
   "id": "3d71452a-e46a-4834-99a6-56ef4d15fbf5",
   "metadata": {},
   "outputs": [
    {
     "data": {
      "text/plain": [
       "0"
      ]
     },
     "execution_count": 2726,
     "metadata": {},
     "output_type": "execute_result"
    }
   ],
   "source": [
    "int(False)"
   ]
  },
  {
   "cell_type": "code",
   "execution_count": 2727,
   "id": "01b6d5b6-aaf4-4a0a-90f7-4da4662abd76",
   "metadata": {},
   "outputs": [
    {
     "data": {
      "text/plain": [
       "5"
      ]
     },
     "execution_count": 2727,
     "metadata": {},
     "output_type": "execute_result"
    }
   ],
   "source": [
    "int(2.3+3.3)"
   ]
  },
  {
   "cell_type": "code",
   "execution_count": 2728,
   "id": "6e56caaf-5fd3-4002-97eb-66348e9653e7",
   "metadata": {},
   "outputs": [
    {
     "data": {
      "text/plain": [
       "2"
      ]
     },
     "execution_count": 2728,
     "metadata": {},
     "output_type": "execute_result"
    }
   ],
   "source": [
    "int(True+True)"
   ]
  },
  {
   "cell_type": "code",
   "execution_count": 2729,
   "id": "e66ae8c5-49f9-4dfd-aff8-df28ce7ecad2",
   "metadata": {},
   "outputs": [
    {
     "ename": "TypeError",
     "evalue": "int() argument must be a string, a bytes-like object or a real number, not 'complex'",
     "output_type": "error",
     "traceback": [
      "\u001b[1;31m---------------------------------------------------------------------------\u001b[0m",
      "\u001b[1;31mTypeError\u001b[0m                                 Traceback (most recent call last)",
      "Cell \u001b[1;32mIn[2729], line 1\u001b[0m\n\u001b[1;32m----> 1\u001b[0m \u001b[38;5;28mint\u001b[39m(\u001b[38;5;241m1\u001b[39m\u001b[38;5;241m+\u001b[39m\u001b[38;5;241m2\u001b[39mj)\n",
      "\u001b[1;31mTypeError\u001b[0m: int() argument must be a string, a bytes-like object or a real number, not 'complex'"
     ]
    }
   ],
   "source": [
    "int(1+2j)"
   ]
  },
  {
   "cell_type": "code",
   "execution_count": 2730,
   "id": "68248cb7-aff2-4f3c-90c8-24ee0e2e97da",
   "metadata": {},
   "outputs": [
    {
     "ename": "TypeError",
     "evalue": "int() can't convert non-string with explicit base",
     "output_type": "error",
     "traceback": [
      "\u001b[1;31m---------------------------------------------------------------------------\u001b[0m",
      "\u001b[1;31mTypeError\u001b[0m                                 Traceback (most recent call last)",
      "Cell \u001b[1;32mIn[2730], line 1\u001b[0m\n\u001b[1;32m----> 1\u001b[0m \u001b[38;5;28mint\u001b[39m(\u001b[38;5;241m1\u001b[39m\u001b[38;5;241m+\u001b[39m\u001b[38;5;241m2\u001b[39m,\u001b[38;5;241m2\u001b[39m\u001b[38;5;241m+\u001b[39m\u001b[38;5;241m3\u001b[39m)\n",
      "\u001b[1;31mTypeError\u001b[0m: int() can't convert non-string with explicit base"
     ]
    }
   ],
   "source": [
    "int(1+2,2+3)"
   ]
  },
  {
   "cell_type": "code",
   "execution_count": 2731,
   "id": "26606b89-b776-455f-a4a8-b2e309875350",
   "metadata": {},
   "outputs": [
    {
     "data": {
      "text/plain": [
       "10"
      ]
     },
     "execution_count": 2731,
     "metadata": {},
     "output_type": "execute_result"
    }
   ],
   "source": [
    "int('1010',2)"
   ]
  },
  {
   "cell_type": "code",
   "execution_count": 2732,
   "id": "e9dd01dc-10cf-4c54-8c15-095686a220f6",
   "metadata": {},
   "outputs": [
    {
     "data": {
      "text/plain": [
       "30"
      ]
     },
     "execution_count": 2732,
     "metadata": {},
     "output_type": "execute_result"
    }
   ],
   "source": [
    "int(\"1010\",3)"
   ]
  },
  {
   "cell_type": "code",
   "execution_count": 2733,
   "id": "1ac6fc68-95eb-489d-b342-8e7a0f44ebd8",
   "metadata": {},
   "outputs": [
    {
     "ename": "SyntaxError",
     "evalue": "unterminated string literal (detected at line 1) (2392953176.py, line 1)",
     "output_type": "error",
     "traceback": [
      "\u001b[1;36m  Cell \u001b[1;32mIn[2733], line 1\u001b[1;36m\u001b[0m\n\u001b[1;33m    int('1010\",1+2j)\u001b[0m\n\u001b[1;37m        ^\u001b[0m\n\u001b[1;31mSyntaxError\u001b[0m\u001b[1;31m:\u001b[0m unterminated string literal (detected at line 1)\n"
     ]
    }
   ],
   "source": [
    "int('1010\",1+2j)"
   ]
  },
  {
   "cell_type": "code",
   "execution_count": null,
   "id": "3d314bf6-4866-4d67-9c85-b55aca60f852",
   "metadata": {},
   "outputs": [],
   "source": []
  },
  {
   "cell_type": "code",
   "execution_count": 2735,
   "id": "8c4eb37d-a1e1-4565-a174-cdedb0c926a3",
   "metadata": {},
   "outputs": [],
   "source": [
    "#float\n",
    "#max 1 argument"
   ]
  },
  {
   "cell_type": "code",
   "execution_count": 2736,
   "id": "9dd1c45a-13da-4d81-b5d7-86586d88cbcd",
   "metadata": {},
   "outputs": [
    {
     "data": {
      "text/plain": [
       "2.0"
      ]
     },
     "execution_count": 2736,
     "metadata": {},
     "output_type": "execute_result"
    }
   ],
   "source": [
    "float(2)"
   ]
  },
  {
   "cell_type": "code",
   "execution_count": 2737,
   "id": "5aba4791-e5bd-4e48-8cba-cdd09d14ef19",
   "metadata": {},
   "outputs": [
    {
     "data": {
      "text/plain": [
       "1.0"
      ]
     },
     "execution_count": 2737,
     "metadata": {},
     "output_type": "execute_result"
    }
   ],
   "source": [
    "float(True)"
   ]
  },
  {
   "cell_type": "code",
   "execution_count": 2738,
   "id": "bc1637d1-9ba3-473b-a6d4-a61c3f63f41f",
   "metadata": {},
   "outputs": [
    {
     "data": {
      "text/plain": [
       "0.0"
      ]
     },
     "execution_count": 2738,
     "metadata": {},
     "output_type": "execute_result"
    }
   ],
   "source": [
    "float(False)"
   ]
  },
  {
   "cell_type": "code",
   "execution_count": 2739,
   "id": "3692a5f9-777c-4083-9cce-b4343b966873",
   "metadata": {},
   "outputs": [
    {
     "ename": "TypeError",
     "evalue": "float() argument must be a string or a real number, not 'complex'",
     "output_type": "error",
     "traceback": [
      "\u001b[1;31m---------------------------------------------------------------------------\u001b[0m",
      "\u001b[1;31mTypeError\u001b[0m                                 Traceback (most recent call last)",
      "Cell \u001b[1;32mIn[2739], line 1\u001b[0m\n\u001b[1;32m----> 1\u001b[0m \u001b[38;5;28mfloat\u001b[39m(\u001b[38;5;241m1\u001b[39m\u001b[38;5;241m+\u001b[39m\u001b[38;5;241m2\u001b[39mJ)\n",
      "\u001b[1;31mTypeError\u001b[0m: float() argument must be a string or a real number, not 'complex'"
     ]
    }
   ],
   "source": [
    "float(1+2J) #it will convert only argument, complex has more than 1 hence cannot convert"
   ]
  },
  {
   "cell_type": "code",
   "execution_count": 2740,
   "id": "aa2cfa9f-c3af-4ad3-9e58-573353093c75",
   "metadata": {},
   "outputs": [
    {
     "ename": "TypeError",
     "evalue": "float() argument must be a string or a real number, not 'complex'",
     "output_type": "error",
     "traceback": [
      "\u001b[1;31m---------------------------------------------------------------------------\u001b[0m",
      "\u001b[1;31mTypeError\u001b[0m                                 Traceback (most recent call last)",
      "Cell \u001b[1;32mIn[2740], line 1\u001b[0m\n\u001b[1;32m----> 1\u001b[0m \u001b[38;5;28mfloat\u001b[39m(\u001b[38;5;241m2\u001b[39mj)\n",
      "\u001b[1;31mTypeError\u001b[0m: float() argument must be a string or a real number, not 'complex'"
     ]
    }
   ],
   "source": [
    "float(2j)"
   ]
  },
  {
   "cell_type": "code",
   "execution_count": 2794,
   "id": "f342f75f-d085-48ae-8892-8fc4d1f56ea1",
   "metadata": {},
   "outputs": [
    {
     "ename": "TypeError",
     "evalue": "float expected at most 1 argument, got 2",
     "output_type": "error",
     "traceback": [
      "\u001b[1;31m---------------------------------------------------------------------------\u001b[0m",
      "\u001b[1;31mTypeError\u001b[0m                                 Traceback (most recent call last)",
      "Cell \u001b[1;32mIn[2794], line 1\u001b[0m\n\u001b[1;32m----> 1\u001b[0m \u001b[38;5;28mfloat\u001b[39m(\u001b[38;5;241m2\u001b[39m,\u001b[38;5;241m3\u001b[39m)\n",
      "\u001b[1;31mTypeError\u001b[0m: float expected at most 1 argument, got 2"
     ]
    }
   ],
   "source": [
    "float(2,3)"
   ]
  },
  {
   "cell_type": "code",
   "execution_count": 2802,
   "id": "dc1a476c-f404-45a8-8039-a4ca35108fae",
   "metadata": {},
   "outputs": [
    {
     "data": {
      "text/plain": [
       "5.0"
      ]
     },
     "execution_count": 2802,
     "metadata": {},
     "output_type": "execute_result"
    }
   ],
   "source": [
    "float(2+3)"
   ]
  },
  {
   "cell_type": "code",
   "execution_count": 2805,
   "id": "c9601230-e864-4036-8f0f-f888b52af6ca",
   "metadata": {},
   "outputs": [
    {
     "data": {
      "text/plain": [
       "15.0"
      ]
     },
     "execution_count": 2805,
     "metadata": {},
     "output_type": "execute_result"
    }
   ],
   "source": [
    "float((2+3)+(5*2))"
   ]
  },
  {
   "cell_type": "code",
   "execution_count": 2806,
   "id": "baa93290-feec-462b-8156-5b8d4ded6f27",
   "metadata": {},
   "outputs": [
    {
     "ename": "ValueError",
     "evalue": "could not convert string to float: 'ten'",
     "output_type": "error",
     "traceback": [
      "\u001b[1;31m---------------------------------------------------------------------------\u001b[0m",
      "\u001b[1;31mValueError\u001b[0m                                Traceback (most recent call last)",
      "Cell \u001b[1;32mIn[2806], line 1\u001b[0m\n\u001b[1;32m----> 1\u001b[0m \u001b[38;5;28mfloat\u001b[39m(\u001b[38;5;124m'\u001b[39m\u001b[38;5;124mten\u001b[39m\u001b[38;5;124m'\u001b[39m)\n",
      "\u001b[1;31mValueError\u001b[0m: could not convert string to float: 'ten'"
     ]
    }
   ],
   "source": [
    "float('ten')"
   ]
  },
  {
   "cell_type": "code",
   "execution_count": 2807,
   "id": "508aa1df-7d50-41bf-8493-f46cfb5d5337",
   "metadata": {},
   "outputs": [],
   "source": [
    "#complex  \n",
    "#max 2 arguments"
   ]
  },
  {
   "cell_type": "code",
   "execution_count": 2809,
   "id": "1d563f1f-65a6-4774-b7bf-d004f1a40cca",
   "metadata": {},
   "outputs": [
    {
     "data": {
      "text/plain": [
       "(10+0j)"
      ]
     },
     "execution_count": 2809,
     "metadata": {},
     "output_type": "execute_result"
    }
   ],
   "source": [
    "complex(10)"
   ]
  },
  {
   "cell_type": "code",
   "execution_count": 2812,
   "id": "a51b741b-8217-45e5-ac9b-ce32b16cea67",
   "metadata": {},
   "outputs": [
    {
     "data": {
      "text/plain": [
       "(30+0j)"
      ]
     },
     "execution_count": 2812,
     "metadata": {},
     "output_type": "execute_result"
    }
   ],
   "source": [
    "complex(10+20)"
   ]
  },
  {
   "cell_type": "code",
   "execution_count": 2815,
   "id": "c78adef3-122c-43d2-8ea3-359d568a2014",
   "metadata": {},
   "outputs": [
    {
     "data": {
      "text/plain": [
       "(60+0j)"
      ]
     },
     "execution_count": 2815,
     "metadata": {},
     "output_type": "execute_result"
    }
   ],
   "source": [
    "complex(10+20+30)"
   ]
  },
  {
   "cell_type": "code",
   "execution_count": 2817,
   "id": "4dcc2764-2f07-460a-beec-a15e9cdf0f69",
   "metadata": {},
   "outputs": [
    {
     "data": {
      "text/plain": [
       "(10+20j)"
      ]
     },
     "execution_count": 2817,
     "metadata": {},
     "output_type": "execute_result"
    }
   ],
   "source": [
    "complex(10,20)"
   ]
  },
  {
   "cell_type": "code",
   "execution_count": 2819,
   "id": "bd3ffcbd-3d67-4eb5-9a72-f395e6c12075",
   "metadata": {},
   "outputs": [
    {
     "ename": "TypeError",
     "evalue": "complex() takes at most 2 arguments (3 given)",
     "output_type": "error",
     "traceback": [
      "\u001b[1;31m---------------------------------------------------------------------------\u001b[0m",
      "\u001b[1;31mTypeError\u001b[0m                                 Traceback (most recent call last)",
      "Cell \u001b[1;32mIn[2819], line 1\u001b[0m\n\u001b[1;32m----> 1\u001b[0m \u001b[38;5;28mcomplex\u001b[39m(\u001b[38;5;241m10\u001b[39m,\u001b[38;5;241m20\u001b[39m,\u001b[38;5;241m30\u001b[39m)\n",
      "\u001b[1;31mTypeError\u001b[0m: complex() takes at most 2 arguments (3 given)"
     ]
    }
   ],
   "source": [
    "complex(10,20,30) #max 2 arguments only"
   ]
  },
  {
   "cell_type": "code",
   "execution_count": 2821,
   "id": "2cf8bbac-6aee-47a6-973f-57c8e0bb6c10",
   "metadata": {},
   "outputs": [
    {
     "data": {
      "text/plain": [
       "(2.3+0j)"
      ]
     },
     "execution_count": 2821,
     "metadata": {},
     "output_type": "execute_result"
    }
   ],
   "source": [
    "complex(2.3)"
   ]
  },
  {
   "cell_type": "code",
   "execution_count": 2822,
   "id": "9ec0b0ce-f02f-4dc8-8ac4-e49efb8215a7",
   "metadata": {},
   "outputs": [
    {
     "data": {
      "text/plain": [
       "(1+0j)"
      ]
     },
     "execution_count": 2822,
     "metadata": {},
     "output_type": "execute_result"
    }
   ],
   "source": [
    "complex(True)"
   ]
  },
  {
   "cell_type": "code",
   "execution_count": 2824,
   "id": "ab5e8acf-38b8-4e8a-99ef-f6c74e51a7c9",
   "metadata": {},
   "outputs": [
    {
     "data": {
      "text/plain": [
       "(11.5+0j)"
      ]
     },
     "execution_count": 2824,
     "metadata": {},
     "output_type": "execute_result"
    }
   ],
   "source": [
    "complex(2.3+3.3+5.9)"
   ]
  },
  {
   "cell_type": "code",
   "execution_count": 2827,
   "id": "df1a5048-371f-427f-9ea9-590e1b39d65d",
   "metadata": {},
   "outputs": [
    {
     "data": {
      "text/plain": [
       "(2+5j)"
      ]
     },
     "execution_count": 2827,
     "metadata": {},
     "output_type": "execute_result"
    }
   ],
   "source": [
    "complex(2,3+2)"
   ]
  },
  {
   "cell_type": "code",
   "execution_count": 2828,
   "id": "63e705cb-e562-4316-9d6b-63cba339adb2",
   "metadata": {},
   "outputs": [
    {
     "ename": "TypeError",
     "evalue": "complex() takes at most 2 arguments (3 given)",
     "output_type": "error",
     "traceback": [
      "\u001b[1;31m---------------------------------------------------------------------------\u001b[0m",
      "\u001b[1;31mTypeError\u001b[0m                                 Traceback (most recent call last)",
      "Cell \u001b[1;32mIn[2828], line 1\u001b[0m\n\u001b[1;32m----> 1\u001b[0m \u001b[38;5;28mcomplex\u001b[39m(\u001b[38;5;241m3\u001b[39m,\u001b[38;5;241m3\u001b[39m,\u001b[38;5;241m3\u001b[39m)\n",
      "\u001b[1;31mTypeError\u001b[0m: complex() takes at most 2 arguments (3 given)"
     ]
    }
   ],
   "source": [
    "complex(3,3,3) #more than 2 arguments"
   ]
  },
  {
   "cell_type": "code",
   "execution_count": 2830,
   "id": "1503c0d8-8da7-4a33-8bee-d7cc169fc738",
   "metadata": {},
   "outputs": [],
   "source": [
    "#Boolean/bool"
   ]
  },
  {
   "cell_type": "code",
   "execution_count": 2832,
   "id": "28d97dd9-efe6-4dc5-90b9-7ffe4aae8a63",
   "metadata": {},
   "outputs": [
    {
     "data": {
      "text/plain": [
       "True"
      ]
     },
     "execution_count": 2832,
     "metadata": {},
     "output_type": "execute_result"
    }
   ],
   "source": [
    "bool(2.3)"
   ]
  },
  {
   "cell_type": "code",
   "execution_count": 2835,
   "id": "d83684cd-2459-4f84-bf8d-00463c9f2721",
   "metadata": {},
   "outputs": [
    {
     "data": {
      "text/plain": [
       "True"
      ]
     },
     "execution_count": 2835,
     "metadata": {},
     "output_type": "execute_result"
    }
   ],
   "source": [
    "bool(1)"
   ]
  },
  {
   "cell_type": "code",
   "execution_count": 2836,
   "id": "5e77a946-00af-496e-9e51-98d86f62445e",
   "metadata": {},
   "outputs": [
    {
     "data": {
      "text/plain": [
       "True"
      ]
     },
     "execution_count": 2836,
     "metadata": {},
     "output_type": "execute_result"
    }
   ],
   "source": [
    "bool(1+2j)"
   ]
  },
  {
   "cell_type": "code",
   "execution_count": 2839,
   "id": "eb173188-6468-4c1d-a4bc-71e1aa1a7b9c",
   "metadata": {},
   "outputs": [
    {
     "data": {
      "text/plain": [
       "False"
      ]
     },
     "execution_count": 2839,
     "metadata": {},
     "output_type": "execute_result"
    }
   ],
   "source": [
    "bool()"
   ]
  },
  {
   "cell_type": "code",
   "execution_count": 2840,
   "id": "cfc6c247-9b6e-4333-b8a5-31271b76932c",
   "metadata": {},
   "outputs": [
    {
     "data": {
      "text/plain": [
       "False"
      ]
     },
     "execution_count": 2840,
     "metadata": {},
     "output_type": "execute_result"
    }
   ],
   "source": [
    "bool(0)"
   ]
  },
  {
   "cell_type": "code",
   "execution_count": 2842,
   "id": "c536f7d6-48da-4584-bc23-ab32d8221db9",
   "metadata": {},
   "outputs": [
    {
     "data": {
      "text/plain": [
       "False"
      ]
     },
     "execution_count": 2842,
     "metadata": {},
     "output_type": "execute_result"
    }
   ],
   "source": [
    "bool( ) #gave space"
   ]
  },
  {
   "cell_type": "code",
   "execution_count": 2843,
   "id": "d7d41565-0977-47a7-b530-373df5ea17ae",
   "metadata": {},
   "outputs": [
    {
     "data": {
      "text/plain": [
       "True"
      ]
     },
     "execution_count": 2843,
     "metadata": {},
     "output_type": "execute_result"
    }
   ],
   "source": [
    "bool('nit')"
   ]
  },
  {
   "cell_type": "code",
   "execution_count": 2844,
   "id": "81d9594b-ce67-4fd9-b0db-58236590dd2e",
   "metadata": {},
   "outputs": [
    {
     "data": {
      "text/plain": [
       "True"
      ]
     },
     "execution_count": 2844,
     "metadata": {},
     "output_type": "execute_result"
    }
   ],
   "source": [
    "bool(10+2j)"
   ]
  },
  {
   "cell_type": "code",
   "execution_count": 2845,
   "id": "52aee158-a492-4c4c-9612-3f704ff97ef5",
   "metadata": {},
   "outputs": [
    {
     "data": {
      "text/plain": [
       "True"
      ]
     },
     "execution_count": 2845,
     "metadata": {},
     "output_type": "execute_result"
    }
   ],
   "source": [
    "bool(0+2j)"
   ]
  },
  {
   "cell_type": "code",
   "execution_count": 2847,
   "id": "86b60491-f484-4550-8c91-dd80b5917d44",
   "metadata": {},
   "outputs": [
    {
     "data": {
      "text/plain": [
       "True"
      ]
     },
     "execution_count": 2847,
     "metadata": {},
     "output_type": "execute_result"
    }
   ],
   "source": [
    "bool(' ') #space in string"
   ]
  },
  {
   "cell_type": "code",
   "execution_count": 2848,
   "id": "bc56310d-f57b-44a9-a0f1-81cca3c6d28c",
   "metadata": {},
   "outputs": [
    {
     "data": {
      "text/plain": [
       "False"
      ]
     },
     "execution_count": 2848,
     "metadata": {},
     "output_type": "execute_result"
    }
   ],
   "source": [
    "bool(0+0j)"
   ]
  },
  {
   "cell_type": "code",
   "execution_count": 2849,
   "id": "c98ab5b3-ca34-483e-bb91-bd9b7871992d",
   "metadata": {},
   "outputs": [
    {
     "data": {
      "text/plain": [
       "True"
      ]
     },
     "execution_count": 2849,
     "metadata": {},
     "output_type": "execute_result"
    }
   ],
   "source": [
    "bool(\"j\")"
   ]
  },
  {
   "cell_type": "code",
   "execution_count": 2850,
   "id": "6b337f0d-adf6-4cc0-8943-9d455280b58d",
   "metadata": {},
   "outputs": [],
   "source": [
    "#string\n",
    "#every conversionis possible"
   ]
  },
  {
   "cell_type": "code",
   "execution_count": 2859,
   "id": "c57756a8-a3a5-44a5-9fb7-b4e21c86ab5c",
   "metadata": {},
   "outputs": [
    {
     "name": "stdout",
     "output_type": "stream",
     "text": [
      "2\n",
      "2.3\n",
      "True\n",
      "(1+2j)\n"
     ]
    }
   ],
   "source": [
    "print(str(2))\n",
    "print(str(2.3))\n",
    "print(str(True))\n",
    "print(str(1+2j))"
   ]
  },
  {
   "cell_type": "code",
   "execution_count": 2861,
   "id": "d9c9fadc-a28c-42e6-816d-1c58a5b32b47",
   "metadata": {},
   "outputs": [
    {
     "data": {
      "text/plain": [
       "'HELLOPYTHON'"
      ]
     },
     "execution_count": 2861,
     "metadata": {},
     "output_type": "execute_result"
    }
   ],
   "source": [
    "index = \"HELLOPYTHON\"\n",
    "index"
   ]
  },
  {
   "cell_type": "code",
   "execution_count": 2862,
   "id": "d8583b14-8e7e-4d01-bb82-d5b74b95d36b",
   "metadata": {},
   "outputs": [
    {
     "data": {
      "text/plain": [
       "'HELLOPYTHON'"
      ]
     },
     "execution_count": 2862,
     "metadata": {},
     "output_type": "execute_result"
    }
   ],
   "source": [
    "index[:] #slicing"
   ]
  },
  {
   "cell_type": "code",
   "execution_count": 2863,
   "id": "d66143ed-5c65-4d60-ba52-471dd4352814",
   "metadata": {},
   "outputs": [
    {
     "data": {
      "text/plain": [
       "'ELPTO'"
      ]
     },
     "execution_count": 2863,
     "metadata": {},
     "output_type": "execute_result"
    }
   ],
   "source": [
    "index[1:-1:2] #ELPTO"
   ]
  },
  {
   "cell_type": "code",
   "execution_count": 2864,
   "id": "54e82a4d-2593-44c8-ac5c-cf71ff2590c6",
   "metadata": {},
   "outputs": [
    {
     "data": {
      "text/plain": [
       "'HELLOPYTHON'"
      ]
     },
     "execution_count": 2864,
     "metadata": {},
     "output_type": "execute_result"
    }
   ],
   "source": [
    "index[::1] #NOHTYPOLLEH"
   ]
  },
  {
   "cell_type": "code",
   "execution_count": 2865,
   "id": "506811a2-fa8b-4b87-86af-8741e26fc4d4",
   "metadata": {},
   "outputs": [
    {
     "data": {
      "text/plain": [
       "'enceroc'"
      ]
     },
     "execution_count": 2865,
     "metadata": {},
     "output_type": "execute_result"
    }
   ],
   "source": [
    "t = \"datasciencerocks\"\n",
    "t[7:14] #enceroc"
   ]
  },
  {
   "cell_type": "code",
   "execution_count": 2866,
   "id": "46534d3b-0dcc-48da-9c5b-962efead0029",
   "metadata": {},
   "outputs": [
    {
     "data": {
      "text/plain": [
       "'aic'"
      ]
     },
     "execution_count": 2866,
     "metadata": {},
     "output_type": "execute_result"
    }
   ],
   "source": [
    "t[3:12:3] #aic"
   ]
  },
  {
   "cell_type": "code",
   "execution_count": 2867,
   "id": "e6234ddb-1344-4d5a-953b-0fb0124ae4a4",
   "metadata": {},
   "outputs": [
    {
     "data": {
      "text/plain": [
       "'oci'"
      ]
     },
     "execution_count": 2867,
     "metadata": {},
     "output_type": "execute_result"
    }
   ],
   "source": [
    "t[12:3:-3] #oci"
   ]
  },
  {
   "cell_type": "code",
   "execution_count": 2868,
   "id": "3735d01d-9a87-4596-8105-871a4817880f",
   "metadata": {},
   "outputs": [
    {
     "data": {
      "text/plain": [
       "'HELLOPYTHON'"
      ]
     },
     "execution_count": 2868,
     "metadata": {},
     "output_type": "execute_result"
    }
   ],
   "source": [
    "index"
   ]
  },
  {
   "cell_type": "code",
   "execution_count": 2869,
   "id": "a8cb47f2-ce4f-450a-b579-064920e27235",
   "metadata": {},
   "outputs": [
    {
     "data": {
      "text/plain": [
       "'NOHTYPOLLEH'"
      ]
     },
     "execution_count": 2869,
     "metadata": {},
     "output_type": "execute_result"
    }
   ],
   "source": [
    "index[::-1] #NOHTYPOLLEH"
   ]
  },
  {
   "cell_type": "code",
   "execution_count": 2870,
   "id": "535e85e2-14da-427f-acd5-21526fdd7527",
   "metadata": {},
   "outputs": [
    {
     "data": {
      "text/plain": [
       "'HELLOPYTHON'"
      ]
     },
     "execution_count": 2870,
     "metadata": {},
     "output_type": "execute_result"
    }
   ],
   "source": [
    "index"
   ]
  },
  {
   "cell_type": "code",
   "execution_count": 2871,
   "id": "087ffdca-792d-4b15-a11e-0f5f8ec68b4e",
   "metadata": {},
   "outputs": [
    {
     "data": {
      "text/plain": [
       "'NHYOLH'"
      ]
     },
     "execution_count": 2871,
     "metadata": {},
     "output_type": "execute_result"
    }
   ],
   "source": [
    "index[::-2] # NHYOLH"
   ]
  },
  {
   "cell_type": "code",
   "execution_count": 2872,
   "id": "a07407ef-6719-45cd-aeca-3ca367a3ef59",
   "metadata": {},
   "outputs": [
    {
     "data": {
      "text/plain": [
       "'NYL'"
      ]
     },
     "execution_count": 2872,
     "metadata": {},
     "output_type": "execute_result"
    }
   ],
   "source": [
    "index[::-4] #NYL"
   ]
  },
  {
   "cell_type": "code",
   "execution_count": 2873,
   "id": "91f72351-d53a-4dae-b447-edb06be87ab8",
   "metadata": {},
   "outputs": [
    {
     "data": {
      "text/plain": [
       "'HELLOPYTHON'"
      ]
     },
     "execution_count": 2873,
     "metadata": {},
     "output_type": "execute_result"
    }
   ],
   "source": [
    "index"
   ]
  },
  {
   "cell_type": "code",
   "execution_count": 2874,
   "id": "fe133004-340c-47c2-b27c-0fd67ef5576e",
   "metadata": {},
   "outputs": [
    {
     "data": {
      "text/plain": [
       "'HELLOPY'"
      ]
     },
     "execution_count": 2874,
     "metadata": {},
     "output_type": "execute_result"
    }
   ],
   "source": [
    "index[:-4] #HELLOPY"
   ]
  },
  {
   "cell_type": "code",
   "execution_count": 2875,
   "id": "4a478b2b-b574-4caf-9ebc-20c0cda8c12f",
   "metadata": {},
   "outputs": [
    {
     "data": {
      "text/plain": [
       "'HELLOPYTHON'"
      ]
     },
     "execution_count": 2875,
     "metadata": {},
     "output_type": "execute_result"
    }
   ],
   "source": [
    "index"
   ]
  },
  {
   "cell_type": "code",
   "execution_count": 2876,
   "id": "630eab9d-63ea-4005-812b-09aba3fe11a4",
   "metadata": {},
   "outputs": [
    {
     "data": {
      "text/plain": [
       "'EOT'"
      ]
     },
     "execution_count": 2876,
     "metadata": {},
     "output_type": "execute_result"
    }
   ],
   "source": [
    "index[1:10:3] #EOT"
   ]
  },
  {
   "cell_type": "code",
   "execution_count": 2877,
   "id": "75155a51-ac27-4680-ae8b-0f10729c3201",
   "metadata": {},
   "outputs": [
    {
     "data": {
      "text/plain": [
       "'HELLOPYTHON'"
      ]
     },
     "execution_count": 2877,
     "metadata": {},
     "output_type": "execute_result"
    }
   ],
   "source": [
    "index"
   ]
  },
  {
   "cell_type": "code",
   "execution_count": 2878,
   "id": "c1de496a-43d2-4d08-b574-a265abbf9c45",
   "metadata": {},
   "outputs": [
    {
     "data": {
      "text/plain": [
       "'NHYOLH'"
      ]
     },
     "execution_count": 2878,
     "metadata": {},
     "output_type": "execute_result"
    }
   ],
   "source": [
    "index[::-2] #NHYOLH"
   ]
  },
  {
   "cell_type": "code",
   "execution_count": 2879,
   "id": "f862ec6a-e7bb-427a-82eb-315e623bab85",
   "metadata": {},
   "outputs": [
    {
     "data": {
      "image/png": "[encoded data removed]",
      "text/plain": [
       "<Figure size 640x480 with 1 Axes>"
      ]
     },
     "metadata": {},
     "output_type": "display_data"
    }
   ],
   "source": [
    "import matplotlib.pyplot as plt\n",
    "plt.plot([1,2,3,4])\n",
    "plt.ylabel('numbers')\n",
    "plt.show()"
   ]
  },
  {
   "cell_type": "code",
   "execution_count": 2880,
   "id": "15274ab8-ae2b-4051-9a68-bd979875458a",
   "metadata": {},
   "outputs": [
    {
     "data": {
      "image/png": "[encoded data removed]",
      "text/plain": [
       "<Figure size 640x480 with 1 Axes>"
      ]
     },
     "metadata": {},
     "output_type": "display_data"
    }
   ],
   "source": [
    "plt.plot([1,4,9,16])\n",
    "plt.ylabel('numbers')\n",
    "plt.show()"
   ]
  },
  {
   "cell_type": "code",
   "execution_count": 2881,
   "id": "1089d026-c851-4668-8dcf-916e88e520b4",
   "metadata": {},
   "outputs": [
    {
     "data": {
      "image/png": "[encoded data removed]",
      "text/plain": [
       "<Figure size 640x480 with 1 Axes>"
      ]
     },
     "metadata": {},
     "output_type": "display_data"
    }
   ],
   "source": [
    "plt.plot([1,8,27,64])\n",
    "plt.ylabel('numbers')\n",
    "plt.show()"
   ]
  },
  {
   "cell_type": "markdown",
   "id": "08a74ea8-1539-430b-9a5f-34b659d556bc",
   "metadata": {},
   "source": [
    " # Day 9 or Oct 26"
   ]
  },
  {
   "cell_type": "code",
   "execution_count": 2883,
   "id": "a804bc79-cc7a-420b-83b2-c0c42d58df92",
   "metadata": {},
   "outputs": [],
   "source": [
    "# Data Type\n",
    "# Data Structure\n",
    "# Matrix"
   ]
  },
  {
   "cell_type": "code",
   "execution_count": 2884,
   "id": "0985aa76-9bbe-4a86-bdd8-873263bfc85e",
   "metadata": {},
   "outputs": [
    {
     "data": {
      "text/plain": [
       "True"
      ]
     },
     "execution_count": 2884,
     "metadata": {},
     "output_type": "execute_result"
    }
   ],
   "source": [
    "a=True\n",
    "a"
   ]
  },
  {
   "cell_type": "code",
   "execution_count": 2885,
   "id": "1220db36-3b5c-403c-a41a-da2fff2ce19c",
   "metadata": {},
   "outputs": [
    {
     "data": {
      "text/plain": [
       "(1, 2, 3, 4)"
      ]
     },
     "execution_count": 2885,
     "metadata": {},
     "output_type": "execute_result"
    }
   ],
   "source": [
    "x=1,2,3,4\n",
    "x"
   ]
  },
  {
   "cell_type": "code",
   "execution_count": 2886,
   "id": "74c4d273-a598-4913-b16b-5d37f094252f",
   "metadata": {},
   "outputs": [
    {
     "data": {
      "text/plain": [
       "[]"
      ]
     },
     "execution_count": 2886,
     "metadata": {},
     "output_type": "execute_result"
    }
   ],
   "source": [
    "l = []\n",
    "l"
   ]
  },
  {
   "cell_type": "code",
   "execution_count": 2887,
   "id": "ee415c40-fe8d-44d7-a1c1-baeec0f766f9",
   "metadata": {},
   "outputs": [
    {
     "data": {
      "text/plain": [
       "list"
      ]
     },
     "execution_count": 2887,
     "metadata": {},
     "output_type": "execute_result"
    }
   ],
   "source": [
    "type(l)"
   ]
  },
  {
   "cell_type": "code",
   "execution_count": 2888,
   "id": "77190fc2-ba7a-4a9c-b338-6d247213b241",
   "metadata": {},
   "outputs": [
    {
     "data": {
      "text/plain": [
       "[10]"
      ]
     },
     "execution_count": 2888,
     "metadata": {},
     "output_type": "execute_result"
    }
   ],
   "source": [
    "l.append(10)\n",
    "l"
   ]
  },
  {
   "cell_type": "code",
   "execution_count": 2889,
   "id": "c036ad17-f48e-4855-95ca-2998b56b5328",
   "metadata": {},
   "outputs": [
    {
     "data": {
      "text/plain": [
       "[10, 20, 30]"
      ]
     },
     "execution_count": 2889,
     "metadata": {},
     "output_type": "execute_result"
    }
   ],
   "source": [
    "l.append(20)\n",
    "l.append(30)\n",
    "l"
   ]
  },
  {
   "cell_type": "code",
   "execution_count": 2916,
   "id": "3c23a520-aa2a-48c2-85a7-93be5b50e39d",
   "metadata": {},
   "outputs": [
    {
     "data": {
      "text/plain": [
       "[10, 20, 30, 2.3]"
      ]
     },
     "execution_count": 2916,
     "metadata": {},
     "output_type": "execute_result"
    }
   ],
   "source": [
    "l.append(2.3)\n",
    "l"
   ]
  },
  {
   "cell_type": "code",
   "execution_count": 2919,
   "id": "2ea90b24-6b98-4a5e-943d-1ef0d28a12f8",
   "metadata": {},
   "outputs": [
    {
     "data": {
      "text/plain": [
       "[10, 20, 30, 2.3, 'san']"
      ]
     },
     "execution_count": 2919,
     "metadata": {},
     "output_type": "execute_result"
    }
   ],
   "source": [
    "l.append(\"san\")\n",
    "l"
   ]
  },
  {
   "cell_type": "code",
   "execution_count": 2920,
   "id": "22568a22-1e7c-4145-ae26-6e3edbf1bf1e",
   "metadata": {},
   "outputs": [
    {
     "data": {
      "text/plain": [
       "[10, 20, 30, 2.3, 'san', True]"
      ]
     },
     "execution_count": 2920,
     "metadata": {},
     "output_type": "execute_result"
    }
   ],
   "source": [
    "l.append(True)\n",
    "l"
   ]
  },
  {
   "cell_type": "code",
   "execution_count": 2921,
   "id": "f1589e38-4e8c-4df5-8c01-7f0b99bf8d8a",
   "metadata": {},
   "outputs": [
    {
     "data": {
      "text/plain": [
       "[10, 20, 30, 2.3, 'san', True, (1+2j)]"
      ]
     },
     "execution_count": 2921,
     "metadata": {},
     "output_type": "execute_result"
    }
   ],
   "source": [
    "l.append(1+2j)\n",
    "l"
   ]
  },
  {
   "cell_type": "code",
   "execution_count": 2926,
   "id": "355b24fa-c6fd-4df5-902b-e868e09b3104",
   "metadata": {},
   "outputs": [
    {
     "data": {
      "text/plain": [
       "7"
      ]
     },
     "execution_count": 2926,
     "metadata": {},
     "output_type": "execute_result"
    }
   ],
   "source": [
    "len(l)"
   ]
  },
  {
   "cell_type": "code",
   "execution_count": 2928,
   "id": "287d521f-8ac8-45e4-956d-b82b2e24e36b",
   "metadata": {},
   "outputs": [
    {
     "data": {
      "text/plain": [
       "[10, 20, 30, 2.3, 'san', True, (1+2j), 10]"
      ]
     },
     "execution_count": 2928,
     "metadata": {},
     "output_type": "execute_result"
    }
   ],
   "source": [
    "l.append(10)\n",
    "l"
   ]
  },
  {
   "cell_type": "code",
   "execution_count": 2930,
   "id": "8f767067-27f4-4f07-99a2-7e4a4967c7c3",
   "metadata": {},
   "outputs": [
    {
     "data": {
      "text/plain": [
       "[20, 30, 2.3, 'san', True, (1+2j), 10]"
      ]
     },
     "execution_count": 2930,
     "metadata": {},
     "output_type": "execute_result"
    }
   ],
   "source": [
    "l.remove(10)\n",
    "l"
   ]
  },
  {
   "cell_type": "code",
   "execution_count": 2932,
   "id": "842d03e0-0278-432c-959b-42f9e85d9fe1",
   "metadata": {},
   "outputs": [
    {
     "data": {
      "text/plain": [
       "[20, 30, 2.3, 'san', True, (1+2j), 10]"
      ]
     },
     "execution_count": 2932,
     "metadata": {},
     "output_type": "execute_result"
    }
   ],
   "source": [
    "l1=l.copy()\n",
    "l1"
   ]
  },
  {
   "cell_type": "code",
   "execution_count": 2934,
   "id": "829017c9-14bd-4233-a80f-21c69c5b3895",
   "metadata": {},
   "outputs": [
    {
     "data": {
      "text/plain": [
       "True"
      ]
     },
     "execution_count": 2934,
     "metadata": {},
     "output_type": "execute_result"
    }
   ],
   "source": [
    "l==l1"
   ]
  },
  {
   "cell_type": "code",
   "execution_count": 2935,
   "id": "e1cab2a0-1899-44dc-9b62-d989ba87a0a9",
   "metadata": {},
   "outputs": [
    {
     "data": {
      "text/plain": [
       "[20, 30, 2.3, 'san', True, (1+2j), 10]"
      ]
     },
     "execution_count": 2935,
     "metadata": {},
     "output_type": "execute_result"
    }
   ],
   "source": [
    "l"
   ]
  },
  {
   "cell_type": "code",
   "execution_count": 2938,
   "id": "62facb6f-f512-4e1b-b085-4356b9e64249",
   "metadata": {},
   "outputs": [
    {
     "data": {
      "text/plain": [
       "1"
      ]
     },
     "execution_count": 2938,
     "metadata": {},
     "output_type": "execute_result"
    }
   ],
   "source": [
    "l.count(20)"
   ]
  },
  {
   "cell_type": "code",
   "execution_count": 2939,
   "id": "5ff68df1-f21b-45b6-82c3-9ef4ba33cc54",
   "metadata": {},
   "outputs": [
    {
     "data": {
      "text/plain": [
       "[30, 2.3, 'san', True, (1+2j), 10]"
      ]
     },
     "execution_count": 2939,
     "metadata": {},
     "output_type": "execute_result"
    }
   ],
   "source": [
    "l.remove(20)\n",
    "l"
   ]
  },
  {
   "cell_type": "code",
   "execution_count": 2940,
   "id": "d5e060a8-9f4a-4ad8-af82-ac0b30b05b88",
   "metadata": {},
   "outputs": [
    {
     "data": {
      "text/plain": [
       "False"
      ]
     },
     "execution_count": 2940,
     "metadata": {},
     "output_type": "execute_result"
    }
   ],
   "source": [
    "l==l1 #false because we added a new values to l not to l1"
   ]
  },
  {
   "cell_type": "code",
   "execution_count": 2942,
   "id": "bd00de4b-189d-4fa4-9555-9687510ec22c",
   "metadata": {},
   "outputs": [
    {
     "name": "stdout",
     "output_type": "stream",
     "text": [
      "6\n",
      "7\n"
     ]
    }
   ],
   "source": [
    "print(len(l))\n",
    "print(len(l1))"
   ]
  },
  {
   "cell_type": "code",
   "execution_count": 2945,
   "id": "343e17db-0e7c-402b-9c69-d8dbb5a845dd",
   "metadata": {},
   "outputs": [
    {
     "data": {
      "text/plain": [
       "[30, 2.3, 'san', True, (1+2j), 10]"
      ]
     },
     "execution_count": 2945,
     "metadata": {},
     "output_type": "execute_result"
    }
   ],
   "source": [
    "l"
   ]
  },
  {
   "cell_type": "code",
   "execution_count": 2946,
   "id": "70e2e7a1-ae79-4c7a-b997-fc9101c19f25",
   "metadata": {},
   "outputs": [
    {
     "data": {
      "text/plain": [
       "[30, 2.3, 'san', True, (1+2j), 10]"
      ]
     },
     "execution_count": 2946,
     "metadata": {},
     "output_type": "execute_result"
    }
   ],
   "source": [
    "l[:] #all elements"
   ]
  },
  {
   "cell_type": "code",
   "execution_count": 2948,
   "id": "23d7063b-7dea-4b8c-b686-1a05ad64bb62",
   "metadata": {},
   "outputs": [
    {
     "data": {
      "text/plain": [
       "(1+2j)"
      ]
     },
     "execution_count": 2948,
     "metadata": {},
     "output_type": "execute_result"
    }
   ],
   "source": [
    "l[4] #True"
   ]
  },
  {
   "cell_type": "markdown",
   "id": "38b990e3-65cf-4e05-822e-770bd10244fb",
   "metadata": {},
   "source": [
    "# Day 10 / October 28"
   ]
  },
  {
   "cell_type": "code",
   "execution_count": 2953,
   "id": "6e9b7fe1-45d4-4656-8ec7-9b92b88fbc0a",
   "metadata": {},
   "outputs": [],
   "source": [
    "#Data Structure: user defined more than 1 value\n",
    "#Matrix has group of Data Structures"
   ]
  },
  {
   "cell_type": "code",
   "execution_count": 2955,
   "id": "c7b9c788-e717-4f3d-8190-afec92a1e7d2",
   "metadata": {},
   "outputs": [
    {
     "data": {
      "text/plain": [
       "[30, 2.3, 'san', True, (1+2j), 10]"
      ]
     },
     "execution_count": 2955,
     "metadata": {},
     "output_type": "execute_result"
    }
   ],
   "source": [
    "l"
   ]
  },
  {
   "cell_type": "code",
   "execution_count": 2957,
   "id": "48c0d170-ea65-452f-9d57-459ed5007ef4",
   "metadata": {},
   "outputs": [
    {
     "data": {
      "text/plain": [
       "[20, 30, 2.3, 'san', True, (1+2j), 10]"
      ]
     },
     "execution_count": 2957,
     "metadata": {},
     "output_type": "execute_result"
    }
   ],
   "source": [
    "l1"
   ]
  },
  {
   "cell_type": "code",
   "execution_count": 2958,
   "id": "0699f990-3e06-4113-958c-624c3a0b83b3",
   "metadata": {},
   "outputs": [
    {
     "data": {
      "text/plain": [
       "[]"
      ]
     },
     "execution_count": 2958,
     "metadata": {},
     "output_type": "execute_result"
    }
   ],
   "source": [
    "l2=[]\n",
    "l2"
   ]
  },
  {
   "cell_type": "code",
   "execution_count": 2960,
   "id": "6bbf2cc4-3557-47e0-989e-431e956ad148",
   "metadata": {},
   "outputs": [],
   "source": [
    "l2.append(1)\n",
    "l2.append(2.3)\n",
    "l2.append(True)\n",
    "l2.append(1+2j)\n",
    "l2.append('nit')"
   ]
  },
  {
   "cell_type": "code",
   "execution_count": 2962,
   "id": "5b619fad-5e90-42e0-9371-3fce53e45b89",
   "metadata": {},
   "outputs": [
    {
     "data": {
      "text/plain": [
       "[1, 2.3, True, (1+2j), 'nit']"
      ]
     },
     "execution_count": 2962,
     "metadata": {},
     "output_type": "execute_result"
    }
   ],
   "source": [
    "l2"
   ]
  },
  {
   "cell_type": "code",
   "execution_count": 2964,
   "id": "0ebd1e95-548c-4f15-9f3d-53505ee2a330",
   "metadata": {},
   "outputs": [],
   "source": [
    "l2.remove(1)"
   ]
  },
  {
   "cell_type": "code",
   "execution_count": 2966,
   "id": "106850d5-66fd-481b-9985-b3deb83a3734",
   "metadata": {},
   "outputs": [
    {
     "data": {
      "text/plain": [
       "[2.3, True, (1+2j), 'nit']"
      ]
     },
     "execution_count": 2966,
     "metadata": {},
     "output_type": "execute_result"
    }
   ],
   "source": [
    "l2"
   ]
  },
  {
   "cell_type": "code",
   "execution_count": 2967,
   "id": "6ca6c1bb-784e-46d4-972b-149b6a66063f",
   "metadata": {},
   "outputs": [
    {
     "data": {
      "text/plain": [
       "[2.3, True, (1+2j), 'nit']"
      ]
     },
     "execution_count": 2967,
     "metadata": {},
     "output_type": "execute_result"
    }
   ],
   "source": [
    "l3=l2.copy()\n",
    "l3"
   ]
  },
  {
   "cell_type": "code",
   "execution_count": 2968,
   "id": "2a81de8d-e686-4a08-8f34-847807f29cdf",
   "metadata": {},
   "outputs": [
    {
     "data": {
      "text/plain": [
       "4"
      ]
     },
     "execution_count": 2968,
     "metadata": {},
     "output_type": "execute_result"
    }
   ],
   "source": [
    "len(l3)"
   ]
  },
  {
   "cell_type": "code",
   "execution_count": 2969,
   "id": "5d5bbe0b-ba87-4b71-a448-da238f77bbc0",
   "metadata": {},
   "outputs": [],
   "source": [
    "l3.clear()"
   ]
  },
  {
   "cell_type": "code",
   "execution_count": 2970,
   "id": "3ed25a4e-b44d-4376-ae03-670ca9a7df63",
   "metadata": {},
   "outputs": [
    {
     "data": {
      "text/plain": [
       "0"
      ]
     },
     "execution_count": 2970,
     "metadata": {},
     "output_type": "execute_result"
    }
   ],
   "source": [
    "len(l3)"
   ]
  },
  {
   "cell_type": "code",
   "execution_count": 2971,
   "id": "1f95efea-4595-477b-937f-2866e4ba8bef",
   "metadata": {},
   "outputs": [
    {
     "ename": "NameError",
     "evalue": "name 'l3' is not defined",
     "output_type": "error",
     "traceback": [
      "\u001b[1;31m---------------------------------------------------------------------------\u001b[0m",
      "\u001b[1;31mNameError\u001b[0m                                 Traceback (most recent call last)",
      "Cell \u001b[1;32mIn[2971], line 2\u001b[0m\n\u001b[0;32m      1\u001b[0m \u001b[38;5;28;01mdel\u001b[39;00m l3\n\u001b[1;32m----> 2\u001b[0m l3\n",
      "\u001b[1;31mNameError\u001b[0m: name 'l3' is not defined"
     ]
    }
   ],
   "source": [
    "del l3\n",
    "l3"
   ]
  },
  {
   "cell_type": "code",
   "execution_count": 2972,
   "id": "9506b7cc-fdfc-4c60-90ff-72038a19c978",
   "metadata": {},
   "outputs": [
    {
     "data": {
      "text/plain": [
       "[10]"
      ]
     },
     "execution_count": 2972,
     "metadata": {},
     "output_type": "execute_result"
    }
   ],
   "source": [
    "l3=[]\n",
    "l3.append(10)\n",
    "l3"
   ]
  },
  {
   "cell_type": "code",
   "execution_count": 2974,
   "id": "bb22854e-c52c-4771-a98e-61a32b71b328",
   "metadata": {},
   "outputs": [
    {
     "data": {
      "text/plain": [
       "[2.3, True, (1+2j), 'nit']"
      ]
     },
     "execution_count": 2974,
     "metadata": {},
     "output_type": "execute_result"
    }
   ],
   "source": [
    "l2"
   ]
  },
  {
   "cell_type": "code",
   "execution_count": 2976,
   "id": "eb097221-64eb-4481-a2c5-9c2cf57295ba",
   "metadata": {},
   "outputs": [
    {
     "data": {
      "text/plain": [
       "[2.3, True, (1+2j), 'nit']"
      ]
     },
     "execution_count": 2976,
     "metadata": {},
     "output_type": "execute_result"
    }
   ],
   "source": [
    "l2"
   ]
  },
  {
   "cell_type": "code",
   "execution_count": 2985,
   "id": "f5754fce-37b2-46a0-b3c1-a736ffba78f2",
   "metadata": {},
   "outputs": [],
   "source": [
    "l3.extend(l2)"
   ]
  },
  {
   "cell_type": "code",
   "execution_count": 2987,
   "id": "0bda7571-7e33-4906-803d-598190c9d4d1",
   "metadata": {},
   "outputs": [
    {
     "data": {
      "text/plain": [
       "[10, 2.3, True, (1+2j), 'nit']"
      ]
     },
     "execution_count": 2987,
     "metadata": {},
     "output_type": "execute_result"
    }
   ],
   "source": [
    "l3"
   ]
  },
  {
   "cell_type": "code",
   "execution_count": 2989,
   "id": "5fde9f11-c07f-44c3-b117-66230bb59c79",
   "metadata": {},
   "outputs": [
    {
     "data": {
      "text/plain": [
       "[2, 3, 5, 6]"
      ]
     },
     "execution_count": 2989,
     "metadata": {},
     "output_type": "execute_result"
    }
   ],
   "source": [
    "z1 =[2,3,5,6]\n",
    "z1"
   ]
  },
  {
   "cell_type": "code",
   "execution_count": 2991,
   "id": "7c4122ec-e817-414a-9707-06c5da10d9b0",
   "metadata": {},
   "outputs": [
    {
     "ename": "TypeError",
     "evalue": "list.clear() takes no arguments (1 given)",
     "output_type": "error",
     "traceback": [
      "\u001b[1;31m---------------------------------------------------------------------------\u001b[0m",
      "\u001b[1;31mTypeError\u001b[0m                                 Traceback (most recent call last)",
      "Cell \u001b[1;32mIn[2991], line 1\u001b[0m\n\u001b[1;32m----> 1\u001b[0m z1\u001b[38;5;241m.\u001b[39mclear(\u001b[38;5;241m5\u001b[39m) \u001b[38;5;66;03m#can remove the entire values but not one\u001b[39;00m\n\u001b[0;32m      2\u001b[0m z1\n",
      "\u001b[1;31mTypeError\u001b[0m: list.clear() takes no arguments (1 given)"
     ]
    }
   ],
   "source": [
    "z1.clear(5) #can remove the entire values but not one\n",
    "z1"
   ]
  },
  {
   "cell_type": "code",
   "execution_count": 2992,
   "id": "04b578ef-6c3d-4356-bf37-9df59c1e2e55",
   "metadata": {},
   "outputs": [
    {
     "ename": "SyntaxError",
     "evalue": "invalid syntax (2294391627.py, line 1)",
     "output_type": "error",
     "traceback": [
      "\u001b[1;36m  Cell \u001b[1;32mIn[2992], line 1\u001b[1;36m\u001b[0m\n\u001b[1;33m    z1.del[5]\u001b[0m\n\u001b[1;37m       ^\u001b[0m\n\u001b[1;31mSyntaxError\u001b[0m\u001b[1;31m:\u001b[0m invalid syntax\n"
     ]
    }
   ],
   "source": [
    "z1.del[5]"
   ]
  },
  {
   "cell_type": "code",
   "execution_count": 2994,
   "id": "29da9768-b1a7-4774-a09d-a925a2f21815",
   "metadata": {},
   "outputs": [],
   "source": [
    "del z1"
   ]
  },
  {
   "cell_type": "code",
   "execution_count": 2996,
   "id": "3e6c0b32-49f0-4158-9c60-ec62c63f8ca3",
   "metadata": {},
   "outputs": [
    {
     "ename": "NameError",
     "evalue": "name 'z1' is not defined",
     "output_type": "error",
     "traceback": [
      "\u001b[1;31m---------------------------------------------------------------------------\u001b[0m",
      "\u001b[1;31mNameError\u001b[0m                                 Traceback (most recent call last)",
      "Cell \u001b[1;32mIn[2996], line 1\u001b[0m\n\u001b[1;32m----> 1\u001b[0m z1\n",
      "\u001b[1;31mNameError\u001b[0m: name 'z1' is not defined"
     ]
    }
   ],
   "source": [
    "z1"
   ]
  },
  {
   "cell_type": "code",
   "execution_count": 2998,
   "id": "fd32c6aa-cefe-49d8-b3d7-c1a6d8d67815",
   "metadata": {},
   "outputs": [
    {
     "data": {
      "text/plain": [
       "[4, 8, 12, 16, 20]"
      ]
     },
     "execution_count": 2998,
     "metadata": {},
     "output_type": "execute_result"
    }
   ],
   "source": [
    "z2=[4,8,12,16,20]\n",
    "z2"
   ]
  },
  {
   "cell_type": "code",
   "execution_count": 3001,
   "id": "c41e561a-04b7-4875-9f1a-0e3d2b016c82",
   "metadata": {},
   "outputs": [
    {
     "data": {
      "text/plain": [
       "[4, 8, 12, 16, 20]"
      ]
     },
     "execution_count": 3001,
     "metadata": {},
     "output_type": "execute_result"
    }
   ],
   "source": [
    "z2"
   ]
  },
  {
   "cell_type": "code",
   "execution_count": 3002,
   "id": "cdc784a9-d572-4d19-85b9-ec72cbd0dee2",
   "metadata": {},
   "outputs": [],
   "source": [
    "z2.remove(8)"
   ]
  },
  {
   "cell_type": "code",
   "execution_count": 3003,
   "id": "e470d16d-32ab-4078-8e01-27217c9a5728",
   "metadata": {},
   "outputs": [
    {
     "data": {
      "text/plain": [
       "[4, 12, 16, 20]"
      ]
     },
     "execution_count": 3003,
     "metadata": {},
     "output_type": "execute_result"
    }
   ],
   "source": [
    "z2"
   ]
  },
  {
   "cell_type": "code",
   "execution_count": 3004,
   "id": "05fa008b-ecc6-43ed-8cfa-077e79515da5",
   "metadata": {},
   "outputs": [
    {
     "data": {
      "text/plain": [
       "[10, 2.3, True, (1+2j), 'nit']"
      ]
     },
     "execution_count": 3004,
     "metadata": {},
     "output_type": "execute_result"
    }
   ],
   "source": [
    "l3"
   ]
  },
  {
   "cell_type": "code",
   "execution_count": 3005,
   "id": "85478be9-49ef-4052-85ac-f50a085c2264",
   "metadata": {},
   "outputs": [
    {
     "data": {
      "text/plain": [
       "[2.3, True, (1+2j), 'nit']"
      ]
     },
     "execution_count": 3005,
     "metadata": {},
     "output_type": "execute_result"
    }
   ],
   "source": [
    "l2"
   ]
  },
  {
   "cell_type": "code",
   "execution_count": 3008,
   "id": "5ce19cd1-e1b5-45f3-8b38-05b831c3f0f6",
   "metadata": {},
   "outputs": [
    {
     "data": {
      "text/plain": [
       "[10, 2.3, True, (1+2j), 'nit']"
      ]
     },
     "execution_count": 3008,
     "metadata": {},
     "output_type": "execute_result"
    }
   ],
   "source": [
    "l3"
   ]
  },
  {
   "cell_type": "code",
   "execution_count": 3012,
   "id": "20c974bb-085d-4f43-886a-f89173f9d134",
   "metadata": {},
   "outputs": [
    {
     "data": {
      "text/plain": [
       "[4, 12, 16, 20]"
      ]
     },
     "execution_count": 3012,
     "metadata": {},
     "output_type": "execute_result"
    }
   ],
   "source": [
    "z2"
   ]
  },
  {
   "cell_type": "code",
   "execution_count": 3013,
   "id": "0f75f2e4-64b3-44dd-bf7c-7949b82a7eb2",
   "metadata": {},
   "outputs": [
    {
     "data": {
      "text/plain": [
       "[2]"
      ]
     },
     "execution_count": 3013,
     "metadata": {},
     "output_type": "execute_result"
    }
   ],
   "source": [
    "z3 = [2]\n",
    "z3"
   ]
  },
  {
   "cell_type": "code",
   "execution_count": 3015,
   "id": "ad5543d9-6558-42f1-acd2-d305fdb2a29f",
   "metadata": {},
   "outputs": [],
   "source": [
    "z4=[7,8,9]\n",
    "z5=[1,2,3]\n",
    "z4.extend(z5)"
   ]
  },
  {
   "cell_type": "code",
   "execution_count": 3018,
   "id": "42bc2cdb-f07b-4c1b-9fd8-ebd951a1073f",
   "metadata": {},
   "outputs": [
    {
     "data": {
      "text/plain": [
       "[7, 8, 9, 1, 2, 3]"
      ]
     },
     "execution_count": 3018,
     "metadata": {},
     "output_type": "execute_result"
    }
   ],
   "source": [
    "z4"
   ]
  },
  {
   "cell_type": "code",
   "execution_count": 3020,
   "id": "4f61cd57-4004-44d4-816b-8869a2d02c34",
   "metadata": {},
   "outputs": [
    {
     "data": {
      "text/plain": [
       "[1, 2, 3, 7, 8, 9, 1, 2, 3]"
      ]
     },
     "execution_count": 3020,
     "metadata": {},
     "output_type": "execute_result"
    }
   ],
   "source": [
    "z5.extend(z4)\n",
    "z5"
   ]
  },
  {
   "cell_type": "code",
   "execution_count": 3022,
   "id": "3d73369d-5f8a-4cab-91e6-42a5f9f89941",
   "metadata": {},
   "outputs": [],
   "source": [
    "del z5[1]"
   ]
  },
  {
   "cell_type": "code",
   "execution_count": 3023,
   "id": "209e67be-c151-4186-a637-4507b791ca44",
   "metadata": {},
   "outputs": [
    {
     "data": {
      "text/plain": [
       "[1, 3, 7, 8, 9, 1, 2, 3]"
      ]
     },
     "execution_count": 3023,
     "metadata": {},
     "output_type": "execute_result"
    }
   ],
   "source": [
    "z5"
   ]
  },
  {
   "cell_type": "code",
   "execution_count": 3025,
   "id": "956c6313-f2b1-404c-890b-815a3fd70ac6",
   "metadata": {},
   "outputs": [],
   "source": [
    "del z5[1:2]"
   ]
  },
  {
   "cell_type": "code",
   "execution_count": 3028,
   "id": "5d12fcdb-cb8c-4246-83ad-6fc6e37a2dcd",
   "metadata": {},
   "outputs": [
    {
     "data": {
      "text/plain": [
       "[1, 7, 8, 9, 1, 2, 3]"
      ]
     },
     "execution_count": 3028,
     "metadata": {},
     "output_type": "execute_result"
    }
   ],
   "source": [
    "z5"
   ]
  },
  {
   "cell_type": "code",
   "execution_count": 3029,
   "id": "820e597d-60b1-47bb-bc38-1f20ab9b7a0a",
   "metadata": {},
   "outputs": [
    {
     "ename": "SyntaxError",
     "evalue": "cannot delete function call (2762463336.py, line 1)",
     "output_type": "error",
     "traceback": [
      "\u001b[1;36m  Cell \u001b[1;32mIn[3029], line 1\u001b[1;36m\u001b[0m\n\u001b[1;33m    del z5(1)\u001b[0m\n\u001b[1;37m        ^\u001b[0m\n\u001b[1;31mSyntaxError\u001b[0m\u001b[1;31m:\u001b[0m cannot delete function call\n"
     ]
    }
   ],
   "source": [
    "del z5(1)\n",
    "z5"
   ]
  },
  {
   "cell_type": "code",
   "execution_count": 3033,
   "id": "7f793274-d737-4d46-a75d-f7a3e8953e2d",
   "metadata": {},
   "outputs": [
    {
     "data": {
      "text/plain": [
       "[10, 2.3, True, (1+2j), 'nit']"
      ]
     },
     "execution_count": 3033,
     "metadata": {},
     "output_type": "execute_result"
    }
   ],
   "source": [
    "l3"
   ]
  },
  {
   "cell_type": "code",
   "execution_count": 3034,
   "id": "48c83752-002e-4a25-9f3c-d03127d0f6b6",
   "metadata": {},
   "outputs": [
    {
     "data": {
      "text/plain": [
       "1"
      ]
     },
     "execution_count": 3034,
     "metadata": {},
     "output_type": "execute_result"
    }
   ],
   "source": [
    "l3.index(2.3)"
   ]
  },
  {
   "cell_type": "code",
   "execution_count": 3037,
   "id": "db727f31-5e0d-4fb8-b083-e5130e38e451",
   "metadata": {},
   "outputs": [
    {
     "data": {
      "text/plain": [
       "2"
      ]
     },
     "execution_count": 3037,
     "metadata": {},
     "output_type": "execute_result"
    }
   ],
   "source": [
    "l3.index(True)"
   ]
  },
  {
   "cell_type": "code",
   "execution_count": 3038,
   "id": "8d45a4aa-e916-4662-868a-a28d990c63ae",
   "metadata": {},
   "outputs": [
    {
     "data": {
      "text/plain": [
       "[10, 2.3, True, (1+2j), 'nit']"
      ]
     },
     "execution_count": 3038,
     "metadata": {},
     "output_type": "execute_result"
    }
   ],
   "source": [
    "l3"
   ]
  },
  {
   "cell_type": "markdown",
   "id": "fbaae98e-9618-4eea-aeb7-816209da53f8",
   "metadata": {},
   "source": [
    "l3.insert(2, 'technology')"
   ]
  },
  {
   "cell_type": "code",
   "execution_count": 3042,
   "id": "b4645235-7080-4373-b47d-362bb737fafa",
   "metadata": {},
   "outputs": [
    {
     "data": {
      "text/plain": [
       "[10, 2.3, True, (1+2j), 'nit']"
      ]
     },
     "execution_count": 3042,
     "metadata": {},
     "output_type": "execute_result"
    }
   ],
   "source": [
    "l3"
   ]
  },
  {
   "cell_type": "code",
   "execution_count": 3043,
   "id": "53aa4fb2-1777-446a-84c6-3c2ef4d181db",
   "metadata": {},
   "outputs": [
    {
     "data": {
      "text/plain": [
       "[20, 30, 2.3, 'san', True, (1+2j), 10]"
      ]
     },
     "execution_count": 3043,
     "metadata": {},
     "output_type": "execute_result"
    }
   ],
   "source": [
    "l1"
   ]
  },
  {
   "cell_type": "code",
   "execution_count": 3046,
   "id": "8bcb88da-84a1-4c58-96cd-34c0d1e51569",
   "metadata": {},
   "outputs": [],
   "source": [
    "l1.insert(4, 'raj')"
   ]
  },
  {
   "cell_type": "code",
   "execution_count": 3047,
   "id": "9d23a5d9-c1f1-4e0b-aee5-05247424b6f7",
   "metadata": {},
   "outputs": [
    {
     "data": {
      "text/plain": [
       "[20, 30, 2.3, 'san', 'raj', True, (1+2j), 10]"
      ]
     },
     "execution_count": 3047,
     "metadata": {},
     "output_type": "execute_result"
    }
   ],
   "source": [
    "l1"
   ]
  },
  {
   "cell_type": "code",
   "execution_count": 3049,
   "id": "2f6e1d3c-fe1e-47d4-a3e2-26a7edbbe4f5",
   "metadata": {},
   "outputs": [
    {
     "data": {
      "text/plain": [
       "[10, 2.3, True, (1+2j), 'nit']"
      ]
     },
     "execution_count": 3049,
     "metadata": {},
     "output_type": "execute_result"
    }
   ],
   "source": [
    "l3"
   ]
  },
  {
   "cell_type": "code",
   "execution_count": 3051,
   "id": "a217b3dd-a45c-4962-96f9-438e2a5922fd",
   "metadata": {},
   "outputs": [
    {
     "data": {
      "text/plain": [
       "[10, 2.3, True, False, (1+2j), 'nit']"
      ]
     },
     "execution_count": 3051,
     "metadata": {},
     "output_type": "execute_result"
    }
   ],
   "source": [
    "l3.insert(3, False)\n",
    "l3"
   ]
  },
  {
   "cell_type": "code",
   "execution_count": 3052,
   "id": "cc468a0b-a435-4d7c-b930-5e63d19c7666",
   "metadata": {},
   "outputs": [
    {
     "data": {
      "text/plain": [
       "[10, 2.3, True, False, (1+2j), 'nit']"
      ]
     },
     "execution_count": 3052,
     "metadata": {},
     "output_type": "execute_result"
    }
   ],
   "source": [
    "l3"
   ]
  },
  {
   "cell_type": "code",
   "execution_count": 3054,
   "id": "290640a1-942e-4e08-b5e5-9f27e74b5585",
   "metadata": {},
   "outputs": [
    {
     "data": {
      "text/plain": [
       "[10, 2.3, True, False, 'tech', (1+2j), 'nit']"
      ]
     },
     "execution_count": 3054,
     "metadata": {},
     "output_type": "execute_result"
    }
   ],
   "source": [
    "l3.insert(4, 'tech')\n",
    "l3"
   ]
  },
  {
   "cell_type": "code",
   "execution_count": 3055,
   "id": "ff97f214-b2cf-4795-9f1b-ecde240a0107",
   "metadata": {},
   "outputs": [
    {
     "data": {
      "text/plain": [
       "[10, 2.3, True, False, 'tech', (1+2j), 'nit']"
      ]
     },
     "execution_count": 3055,
     "metadata": {},
     "output_type": "execute_result"
    }
   ],
   "source": [
    "l3"
   ]
  },
  {
   "cell_type": "code",
   "execution_count": 3057,
   "id": "b3c9d14e-1998-4f05-9d4b-3063824df7cf",
   "metadata": {},
   "outputs": [],
   "source": [
    "l3.insert(5, 'tech')"
   ]
  },
  {
   "cell_type": "code",
   "execution_count": 3061,
   "id": "66994fd7-c992-43d9-b4a5-f183c4992f3a",
   "metadata": {},
   "outputs": [
    {
     "data": {
      "text/plain": [
       "[2.3, True, (1+2j), 'nit']"
      ]
     },
     "execution_count": 3061,
     "metadata": {},
     "output_type": "execute_result"
    }
   ],
   "source": [
    "l2"
   ]
  },
  {
   "cell_type": "code",
   "execution_count": 3062,
   "id": "8d18e45d-2a48-4277-85c8-d19d3e7b809f",
   "metadata": {},
   "outputs": [
    {
     "data": {
      "text/plain": [
       "[10, 2.3, True, False, 'tech', 'tech', (1+2j), 'nit']"
      ]
     },
     "execution_count": 3062,
     "metadata": {},
     "output_type": "execute_result"
    }
   ],
   "source": [
    "l3"
   ]
  },
  {
   "cell_type": "code",
   "execution_count": 3065,
   "id": "345102a2-d317-4c6c-9e41-6ad7189d9947",
   "metadata": {},
   "outputs": [
    {
     "data": {
      "text/plain": [
       "'nit'"
      ]
     },
     "execution_count": 3065,
     "metadata": {},
     "output_type": "execute_result"
    }
   ],
   "source": [
    "l3.pop()"
   ]
  },
  {
   "cell_type": "code",
   "execution_count": 3066,
   "id": "80c820c9-1df5-488b-963c-2ffd5f24afe4",
   "metadata": {},
   "outputs": [
    {
     "data": {
      "text/plain": [
       "[10, 2.3, True, False, 'tech', 'tech', (1+2j)]"
      ]
     },
     "execution_count": 3066,
     "metadata": {},
     "output_type": "execute_result"
    }
   ],
   "source": [
    "l3"
   ]
  },
  {
   "cell_type": "code",
   "execution_count": 3070,
   "id": "a7d94a64-1fe0-4c5c-8038-f1046aeaa03e",
   "metadata": {},
   "outputs": [
    {
     "data": {
      "text/plain": [
       "(1+2j)"
      ]
     },
     "execution_count": 3070,
     "metadata": {},
     "output_type": "execute_result"
    }
   ],
   "source": [
    "l3.pop()"
   ]
  },
  {
   "cell_type": "code",
   "execution_count": 3071,
   "id": "505e0ef1-db7f-40a5-836c-8c4d2116ae2d",
   "metadata": {},
   "outputs": [
    {
     "data": {
      "text/plain": [
       "[10, 2.3, True, False, 'tech', 'tech']"
      ]
     },
     "execution_count": 3071,
     "metadata": {},
     "output_type": "execute_result"
    }
   ],
   "source": [
    "l3"
   ]
  },
  {
   "cell_type": "code",
   "execution_count": 3072,
   "id": "e28ad549-304a-443d-ab19-507364336ffc",
   "metadata": {},
   "outputs": [
    {
     "data": {
      "text/plain": [
       "'tech'"
      ]
     },
     "execution_count": 3072,
     "metadata": {},
     "output_type": "execute_result"
    }
   ],
   "source": [
    "l3.pop(5)"
   ]
  },
  {
   "cell_type": "code",
   "execution_count": 3075,
   "id": "5d01f134-3ab8-4b53-a3d2-45e9019dd4a0",
   "metadata": {},
   "outputs": [
    {
     "data": {
      "text/plain": [
       "[10, 2.3, True, False, 'tech']"
      ]
     },
     "execution_count": 3075,
     "metadata": {},
     "output_type": "execute_result"
    }
   ],
   "source": [
    "l3"
   ]
  },
  {
   "cell_type": "code",
   "execution_count": 3077,
   "id": "3bc6b0cb-e2ad-4b97-b522-66a89b9d80ff",
   "metadata": {},
   "outputs": [
    {
     "data": {
      "text/plain": [
       "10"
      ]
     },
     "execution_count": 3077,
     "metadata": {},
     "output_type": "execute_result"
    }
   ],
   "source": [
    "l3.pop(False)"
   ]
  },
  {
   "cell_type": "code",
   "execution_count": 3078,
   "id": "6ebbdf25-df4f-4459-9170-a32d725884b6",
   "metadata": {},
   "outputs": [
    {
     "ename": "TypeError",
     "evalue": "'float' object cannot be interpreted as an integer",
     "output_type": "error",
     "traceback": [
      "\u001b[1;31m---------------------------------------------------------------------------\u001b[0m",
      "\u001b[1;31mTypeError\u001b[0m                                 Traceback (most recent call last)",
      "Cell \u001b[1;32mIn[3078], line 1\u001b[0m\n\u001b[1;32m----> 1\u001b[0m l3\u001b[38;5;241m.\u001b[39mpop(\u001b[38;5;241m2.3\u001b[39m)\n",
      "\u001b[1;31mTypeError\u001b[0m: 'float' object cannot be interpreted as an integer"
     ]
    }
   ],
   "source": [
    "l3.pop(2.3)"
   ]
  },
  {
   "cell_type": "code",
   "execution_count": 3082,
   "id": "4ef6d33a-53d3-41b6-9bf5-592af5af32e4",
   "metadata": {},
   "outputs": [
    {
     "data": {
      "text/plain": [
       "[2.3, True, False, 'tech']"
      ]
     },
     "execution_count": 3082,
     "metadata": {},
     "output_type": "execute_result"
    }
   ],
   "source": [
    "l3"
   ]
  },
  {
   "cell_type": "code",
   "execution_count": 3084,
   "id": "35da6268-5015-42ca-a545-05cf4ce7a573",
   "metadata": {},
   "outputs": [
    {
     "data": {
      "text/plain": [
       "2.3"
      ]
     },
     "execution_count": 3084,
     "metadata": {},
     "output_type": "execute_result"
    }
   ],
   "source": [
    "l3.pop(0)"
   ]
  },
  {
   "cell_type": "code",
   "execution_count": 3086,
   "id": "d60bedf2-4456-4a54-aaa9-62e9cabb7696",
   "metadata": {},
   "outputs": [
    {
     "data": {
      "text/plain": [
       "'tech'"
      ]
     },
     "execution_count": 3086,
     "metadata": {},
     "output_type": "execute_result"
    }
   ],
   "source": [
    "l3.pop(-1)"
   ]
  },
  {
   "cell_type": "code",
   "execution_count": 3088,
   "id": "c2806cb2-035d-4e3e-8603-4bf47730d68b",
   "metadata": {},
   "outputs": [
    {
     "data": {
      "text/plain": [
       "False"
      ]
     },
     "execution_count": 3088,
     "metadata": {},
     "output_type": "execute_result"
    }
   ],
   "source": [
    "l3.pop()"
   ]
  },
  {
   "cell_type": "code",
   "execution_count": 3090,
   "id": "280140ee-b316-4a05-9779-5493bc00181a",
   "metadata": {},
   "outputs": [
    {
     "data": {
      "text/plain": [
       "True"
      ]
     },
     "execution_count": 3090,
     "metadata": {},
     "output_type": "execute_result"
    }
   ],
   "source": [
    "l3.pop()"
   ]
  },
  {
   "cell_type": "code",
   "execution_count": 3092,
   "id": "17cff886-241d-4ec9-bb6f-1b522956eb66",
   "metadata": {},
   "outputs": [
    {
     "data": {
      "text/plain": [
       "[]"
      ]
     },
     "execution_count": 3092,
     "metadata": {},
     "output_type": "execute_result"
    }
   ],
   "source": [
    "l3"
   ]
  },
  {
   "cell_type": "code",
   "execution_count": 3094,
   "id": "caa53d10-6779-46e8-8ac9-606fe8b6b67c",
   "metadata": {},
   "outputs": [
    {
     "data": {
      "text/plain": [
       "[]"
      ]
     },
     "execution_count": 3094,
     "metadata": {},
     "output_type": "execute_result"
    }
   ],
   "source": [
    "l3"
   ]
  },
  {
   "cell_type": "code",
   "execution_count": 3096,
   "id": "3766a817-244e-477d-b7f2-8aa121748475",
   "metadata": {},
   "outputs": [
    {
     "ename": "IndexError",
     "evalue": "pop from empty list",
     "output_type": "error",
     "traceback": [
      "\u001b[1;31m---------------------------------------------------------------------------\u001b[0m",
      "\u001b[1;31mIndexError\u001b[0m                                Traceback (most recent call last)",
      "Cell \u001b[1;32mIn[3096], line 1\u001b[0m\n\u001b[1;32m----> 1\u001b[0m l3\u001b[38;5;241m.\u001b[39mpop()\n",
      "\u001b[1;31mIndexError\u001b[0m: pop from empty list"
     ]
    }
   ],
   "source": [
    "l3.pop() #empty can remove any random element "
   ]
  },
  {
   "cell_type": "code",
   "execution_count": 3098,
   "id": "dbb062bf-0e6e-41d6-aded-7eb1d8d5e6ef",
   "metadata": {},
   "outputs": [
    {
     "data": {
      "text/plain": [
       "[2.3, True, 0, 'tech', 'mit', 3.3]"
      ]
     },
     "execution_count": 3098,
     "metadata": {},
     "output_type": "execute_result"
    }
   ],
   "source": [
    "l3=[2.3, True, 0, 'tech', 'mit', 3.3]\n",
    "l3"
   ]
  },
  {
   "cell_type": "code",
   "execution_count": 3100,
   "id": "1d9232e9-1b8a-4eef-af94-30b70652332c",
   "metadata": {},
   "outputs": [
    {
     "data": {
      "text/plain": [
       "3.3"
      ]
     },
     "execution_count": 3100,
     "metadata": {},
     "output_type": "execute_result"
    }
   ],
   "source": [
    "l3.pop()"
   ]
  },
  {
   "cell_type": "code",
   "execution_count": 3102,
   "id": "d0df48d4-12ab-4691-823f-cd32f9a15e66",
   "metadata": {},
   "outputs": [
    {
     "data": {
      "text/plain": [
       "[2.3, True, 0, 'tech', 'mit', 3.3]"
      ]
     },
     "execution_count": 3102,
     "metadata": {},
     "output_type": "execute_result"
    }
   ],
   "source": [
    "l3=[2.3, True, 0, 'tech', 'mit', 3.3]\n",
    "l3"
   ]
  },
  {
   "cell_type": "code",
   "execution_count": 3104,
   "id": "784b41b9-2826-4fd8-9f95-3ee4e5166781",
   "metadata": {},
   "outputs": [
    {
     "data": {
      "text/plain": [
       "3.3"
      ]
     },
     "execution_count": 3104,
     "metadata": {},
     "output_type": "execute_result"
    }
   ],
   "source": [
    "l3.pop()"
   ]
  },
  {
   "cell_type": "code",
   "execution_count": 3106,
   "id": "a637c7e6-a68a-4c78-b1d0-434b32e748b4",
   "metadata": {},
   "outputs": [
    {
     "data": {
      "text/plain": [
       "[10, 100, 3, 45, 76, 24]"
      ]
     },
     "execution_count": 3106,
     "metadata": {},
     "output_type": "execute_result"
    }
   ],
   "source": [
    "l4=[10,100,3,45,76,24]\n",
    "l4"
   ]
  },
  {
   "cell_type": "code",
   "execution_count": 3108,
   "id": "54ffc827-ccce-444b-8613-4a88ce008a04",
   "metadata": {},
   "outputs": [
    {
     "data": {
      "text/plain": [
       "[3, 10, 24, 45, 76, 100]"
      ]
     },
     "execution_count": 3108,
     "metadata": {},
     "output_type": "execute_result"
    }
   ],
   "source": [
    "l4.sort()\n",
    "l4"
   ]
  },
  {
   "cell_type": "code",
   "execution_count": 3110,
   "id": "44a9a950-bf58-4016-a386-5af83a146a63",
   "metadata": {},
   "outputs": [
    {
     "data": {
      "text/plain": [
       "[100, 76, 45, 24, 10, 3]"
      ]
     },
     "execution_count": 3110,
     "metadata": {},
     "output_type": "execute_result"
    }
   ],
   "source": [
    "l4.sort(reverse=True)\n",
    "l4"
   ]
  },
  {
   "cell_type": "code",
   "execution_count": 3112,
   "id": "7d10c3cd-3c19-4a51-9ab6-0c659c02a59e",
   "metadata": {},
   "outputs": [
    {
     "data": {
      "text/plain": [
       "['z', 'a', 'y', 'b', 'n', 'm']"
      ]
     },
     "execution_count": 3112,
     "metadata": {},
     "output_type": "execute_result"
    }
   ],
   "source": [
    "l5=[\"z\",\"a\",'y','b','n','m']\n",
    "l5"
   ]
  },
  {
   "cell_type": "code",
   "execution_count": 3114,
   "id": "223db168-9ea8-4055-b3ce-d87ac5be04f9",
   "metadata": {},
   "outputs": [],
   "source": [
    "l5.sort()"
   ]
  },
  {
   "cell_type": "code",
   "execution_count": 3116,
   "id": "1d239933-4808-47db-893f-95a63ab22fbf",
   "metadata": {},
   "outputs": [
    {
     "data": {
      "text/plain": [
       "['a', 'b', 'm', 'n', 'y', 'z']"
      ]
     },
     "execution_count": 3116,
     "metadata": {},
     "output_type": "execute_result"
    }
   ],
   "source": [
    "l5"
   ]
  },
  {
   "cell_type": "code",
   "execution_count": 3118,
   "id": "58cfc0de-ef59-4f1b-9949-cc51c1c4d748",
   "metadata": {},
   "outputs": [
    {
     "data": {
      "text/plain": [
       "[1, 2, 3, 'a', 'z', 'w']"
      ]
     },
     "execution_count": 3118,
     "metadata": {},
     "output_type": "execute_result"
    }
   ],
   "source": [
    "l6=[1,2,3,'a', 'z', \"w\"]\n",
    "l6"
   ]
  },
  {
   "cell_type": "code",
   "execution_count": 3120,
   "id": "e1f0bffa-a2b9-43e0-be6a-bd4fa4054a1b",
   "metadata": {},
   "outputs": [
    {
     "ename": "TypeError",
     "evalue": "'<' not supported between instances of 'str' and 'int'",
     "output_type": "error",
     "traceback": [
      "\u001b[1;31m---------------------------------------------------------------------------\u001b[0m",
      "\u001b[1;31mTypeError\u001b[0m                                 Traceback (most recent call last)",
      "Cell \u001b[1;32mIn[3120], line 1\u001b[0m\n\u001b[1;32m----> 1\u001b[0m l6\u001b[38;5;241m.\u001b[39msort()\n",
      "\u001b[1;31mTypeError\u001b[0m: '<' not supported between instances of 'str' and 'int'"
     ]
    }
   ],
   "source": [
    "l6.sort()"
   ]
  },
  {
   "cell_type": "markdown",
   "id": "2ff5e8dd-775c-4214-992d-d76c00ae1936",
   "metadata": {},
   "source": [
    "z6=[(1+10j), (20+10j), (4+10j)]\n",
    "z6"
   ]
  },
  {
   "cell_type": "code",
   "execution_count": 3123,
   "id": "5c79da4c-fa85-4a0a-aabf-42ad99a60646",
   "metadata": {},
   "outputs": [
    {
     "ename": "TypeError",
     "evalue": "'<' not supported between instances of 'complex' and 'complex'",
     "output_type": "error",
     "traceback": [
      "\u001b[1;31m---------------------------------------------------------------------------\u001b[0m",
      "\u001b[1;31mTypeError\u001b[0m                                 Traceback (most recent call last)",
      "Cell \u001b[1;32mIn[3123], line 1\u001b[0m\n\u001b[1;32m----> 1\u001b[0m z6\u001b[38;5;241m.\u001b[39msort()\n",
      "\u001b[1;31mTypeError\u001b[0m: '<' not supported between instances of 'complex' and 'complex'"
     ]
    }
   ],
   "source": [
    "z6.sort()"
   ]
  },
  {
   "cell_type": "code",
   "execution_count": 3125,
   "id": "cd300858-8c42-414a-b83c-58c5a96bc70f",
   "metadata": {},
   "outputs": [
    {
     "data": {
      "text/plain": [
       "[1, 2, 3, 'a', 'z', 'w']"
      ]
     },
     "execution_count": 3125,
     "metadata": {},
     "output_type": "execute_result"
    }
   ],
   "source": [
    "l6"
   ]
  },
  {
   "cell_type": "code",
   "execution_count": 3127,
   "id": "2394f7e0-86a4-4df5-a505-ca0007be32f8",
   "metadata": {},
   "outputs": [],
   "source": [
    "l7=['a','b','x','w','f','h']"
   ]
  },
  {
   "cell_type": "code",
   "execution_count": 3129,
   "id": "e29dcb25-cd98-422f-b289-2e77f14014a8",
   "metadata": {},
   "outputs": [],
   "source": [
    "l7.sort(reverse=True)"
   ]
  },
  {
   "cell_type": "code",
   "execution_count": 3131,
   "id": "e2cb0d08-6765-4afb-b4ab-e514ee360f18",
   "metadata": {},
   "outputs": [
    {
     "data": {
      "text/plain": [
       "['x', 'w', 'h', 'f', 'b', 'a']"
      ]
     },
     "execution_count": 3131,
     "metadata": {},
     "output_type": "execute_result"
    }
   ],
   "source": [
    "l7"
   ]
  },
  {
   "cell_type": "code",
   "execution_count": 3133,
   "id": "db75b38c-d72c-4291-8c25-0605ed1fb587",
   "metadata": {},
   "outputs": [],
   "source": [
    "l7.sort(reverse=False)"
   ]
  },
  {
   "cell_type": "code",
   "execution_count": 3135,
   "id": "76ae67ee-68c8-41c6-b6a2-f351b7cb8adf",
   "metadata": {},
   "outputs": [
    {
     "data": {
      "text/plain": [
       "['a', 'b', 'f', 'h', 'w', 'x']"
      ]
     },
     "execution_count": 3135,
     "metadata": {},
     "output_type": "execute_result"
    }
   ],
   "source": [
    "l7"
   ]
  },
  {
   "cell_type": "code",
   "execution_count": 3137,
   "id": "c6380c85-fe96-434b-b621-b3df1efe2e74",
   "metadata": {},
   "outputs": [],
   "source": [
    "l8=['z','x','c','v','e']"
   ]
  },
  {
   "cell_type": "code",
   "execution_count": 3139,
   "id": "15b3f163-e5e5-4274-b2cf-e30e1841af49",
   "metadata": {},
   "outputs": [],
   "source": [
    "l8.sort(reverse=False)"
   ]
  },
  {
   "cell_type": "code",
   "execution_count": 3141,
   "id": "668b2322-1680-49fd-ac61-061d89c54d4d",
   "metadata": {},
   "outputs": [
    {
     "data": {
      "text/plain": [
       "['c', 'e', 'v', 'x', 'z']"
      ]
     },
     "execution_count": 3141,
     "metadata": {},
     "output_type": "execute_result"
    }
   ],
   "source": [
    "l8"
   ]
  },
  {
   "cell_type": "code",
   "execution_count": 3143,
   "id": "f2863c32-342a-4d13-bd3d-92f9074f3208",
   "metadata": {},
   "outputs": [],
   "source": [
    "l9=[10,52,'abc', True, 1+2j]"
   ]
  },
  {
   "cell_type": "code",
   "execution_count": 3145,
   "id": "5ea710e5-871f-4791-aaf6-69ec45668084",
   "metadata": {},
   "outputs": [
    {
     "data": {
      "text/plain": [
       "[10, 52, 'abc', True, (1+2j)]"
      ]
     },
     "execution_count": 3145,
     "metadata": {},
     "output_type": "execute_result"
    }
   ],
   "source": [
    "l9"
   ]
  },
  {
   "cell_type": "code",
   "execution_count": 3147,
   "id": "c4d1cf8a-d88e-4170-951b-3da36b3c4284",
   "metadata": {},
   "outputs": [],
   "source": [
    "l9.reverse()"
   ]
  },
  {
   "cell_type": "code",
   "execution_count": 3149,
   "id": "741c037e-1237-472c-9755-3f374cb4054d",
   "metadata": {},
   "outputs": [
    {
     "data": {
      "text/plain": [
       "[(1+2j), True, 'abc', 52, 10]"
      ]
     },
     "execution_count": 3149,
     "metadata": {},
     "output_type": "execute_result"
    }
   ],
   "source": [
    "l9"
   ]
  },
  {
   "cell_type": "code",
   "execution_count": 3151,
   "id": "0a9c9b44-351f-4058-8744-e337edf262e9",
   "metadata": {},
   "outputs": [
    {
     "data": {
      "text/plain": [
       "[10, 52, 'abc', True, (1+2j)]"
      ]
     },
     "execution_count": 3151,
     "metadata": {},
     "output_type": "execute_result"
    }
   ],
   "source": [
    "l9.reverse()\n",
    "l9"
   ]
  },
  {
   "cell_type": "code",
   "execution_count": 3153,
   "id": "f5e420bb-dd6a-43da-8294-d61e528a6167",
   "metadata": {},
   "outputs": [
    {
     "data": {
      "text/plain": [
       "[2.3, True, 0, 'tech', 'mit']"
      ]
     },
     "execution_count": 3153,
     "metadata": {},
     "output_type": "execute_result"
    }
   ],
   "source": [
    "l3"
   ]
  },
  {
   "cell_type": "code",
   "execution_count": 3155,
   "id": "0eb51be6-1706-4d38-af09-59aab0ba9ebb",
   "metadata": {},
   "outputs": [
    {
     "data": {
      "text/plain": [
       "'tech'"
      ]
     },
     "execution_count": 3155,
     "metadata": {},
     "output_type": "execute_result"
    }
   ],
   "source": [
    "l3[3]"
   ]
  },
  {
   "cell_type": "code",
   "execution_count": 3157,
   "id": "7d5658f0-e045-4701-8e47-c8cdf7daebf1",
   "metadata": {},
   "outputs": [
    {
     "ename": "SyntaxError",
     "evalue": "invalid syntax (3416623493.py, line 2)",
     "output_type": "error",
     "traceback": [
      "\u001b[1;36m  Cell \u001b[1;32mIn[3157], line 2\u001b[1;36m\u001b[0m\n\u001b[1;33m    print(l3[3][0]) Nested list\u001b[0m\n\u001b[1;37m                    ^\u001b[0m\n\u001b[1;31mSyntaxError\u001b[0m\u001b[1;31m:\u001b[0m invalid syntax\n"
     ]
    }
   ],
   "source": [
    "print(l3[3])\n",
    "print(l3[3][0]) Nested list\n",
    "print(l3[3][1])\n",
    "print(l3[3][2])\n",
    "print(l3[3][3])"
   ]
  },
  {
   "cell_type": "code",
   "execution_count": 3158,
   "id": "ca31ed4a-260a-420b-98b9-4a59eb5290ec",
   "metadata": {},
   "outputs": [],
   "source": [
    "list1=[\n",
    "    [1,2,3], \n",
    "    [2,3,1], [4,5,2]]"
   ]
  },
  {
   "cell_type": "code",
   "execution_count": 3161,
   "id": "da171e73-a9e1-4c8d-83ae-10c67250bd18",
   "metadata": {},
   "outputs": [
    {
     "name": "stdout",
     "output_type": "stream",
     "text": [
      "[1, 2, 3]\n",
      "3\n",
      "2\n"
     ]
    }
   ],
   "source": [
    "print(list1[0])\n",
    "print(list1[1][1])\n",
    "print(list1[2][2])"
   ]
  },
  {
   "cell_type": "markdown",
   "id": "d381c3f2-63df-4b03-9e0e-c8838ba4a315",
   "metadata": {},
   "source": [
    "# Day 11 / October 29"
   ]
  },
  {
   "cell_type": "code",
   "execution_count": 3163,
   "id": "589f37fd-a56f-4404-a1a4-41f9b77e09c5",
   "metadata": {},
   "outputs": [
    {
     "data": {
      "text/plain": [
       "[2.3, True, 0, 'tech', 'mit']"
      ]
     },
     "execution_count": 3163,
     "metadata": {},
     "output_type": "execute_result"
    }
   ],
   "source": [
    "l3"
   ]
  },
  {
   "cell_type": "code",
   "execution_count": 3164,
   "id": "51153498-f7f8-49ec-9846-d6690c5deace",
   "metadata": {},
   "outputs": [
    {
     "data": {
      "text/plain": [
       "[2.3, True, 0, 'tech', 'mit']"
      ]
     },
     "execution_count": 3164,
     "metadata": {},
     "output_type": "execute_result"
    }
   ],
   "source": [
    "l3[2]=0 #mutable/hashable\n",
    "l3"
   ]
  },
  {
   "cell_type": "code",
   "execution_count": 3165,
   "id": "247d1301-88a2-4dfc-bcd8-740a407a1d82",
   "metadata": {},
   "outputs": [
    {
     "ename": "IndexError",
     "evalue": "list assignment index out of range",
     "output_type": "error",
     "traceback": [
      "\u001b[1;31m---------------------------------------------------------------------------\u001b[0m",
      "\u001b[1;31mIndexError\u001b[0m                                Traceback (most recent call last)",
      "Cell \u001b[1;32mIn[3165], line 1\u001b[0m\n\u001b[1;32m----> 1\u001b[0m l3[\u001b[38;5;241m5\u001b[39m]\u001b[38;5;241m=\u001b[39m\u001b[38;5;124m'\u001b[39m\u001b[38;5;124mmit\u001b[39m\u001b[38;5;124m'\u001b[39m\n\u001b[0;32m      2\u001b[0m l3\n",
      "\u001b[1;31mIndexError\u001b[0m: list assignment index out of range"
     ]
    }
   ],
   "source": [
    "l3[5]='mit'\n",
    "l3"
   ]
  },
  {
   "cell_type": "code",
   "execution_count": 3166,
   "id": "7bce5f67-517d-4c16-a658-7f6a94246778",
   "metadata": {},
   "outputs": [
    {
     "name": "stdout",
     "output_type": "stream",
     "text": [
      "2.3\n",
      "True\n",
      "0\n",
      "tech\n",
      "mit\n"
     ]
    }
   ],
   "source": [
    "for i in l3:\n",
    "    print(i)"
   ]
  },
  {
   "cell_type": "code",
   "execution_count": 3167,
   "id": "0cb90284-75ee-4c3b-9a2d-528f31b3e98c",
   "metadata": {},
   "outputs": [],
   "source": [
    "l6 = ['sbi', 'icici']\n",
    "l7=['hdfc', 'axis']"
   ]
  },
  {
   "cell_type": "code",
   "execution_count": 3168,
   "id": "f024a93f-e508-44d9-927a-db46c4f5a0c3",
   "metadata": {},
   "outputs": [
    {
     "data": {
      "text/plain": [
       "['sbi', 'icici', 'hdfc', 'axis']"
      ]
     },
     "execution_count": 3168,
     "metadata": {},
     "output_type": "execute_result"
    }
   ],
   "source": [
    "family_bank = l6 + l7\n",
    "family_bank"
   ]
  },
  {
   "cell_type": "code",
   "execution_count": 3169,
   "id": "52c00f3d-e41b-467e-9383-229954c5cccc",
   "metadata": {},
   "outputs": [
    {
     "data": {
      "text/plain": [
       "[2.3, True, 0, 'tech', 'mit']"
      ]
     },
     "execution_count": 3169,
     "metadata": {},
     "output_type": "execute_result"
    }
   ],
   "source": [
    "l3"
   ]
  },
  {
   "cell_type": "code",
   "execution_count": 3170,
   "id": "f94ddd1d-b3bc-447d-918e-fbac298b6264",
   "metadata": {},
   "outputs": [
    {
     "name": "stdout",
     "output_type": "stream",
     "text": [
      "(0, 2.3)\n",
      "(1, True)\n",
      "(2, 0)\n",
      "(3, 'tech')\n",
      "(4, 'mit')\n"
     ]
    }
   ],
   "source": [
    "for i in enumerate (l3):\n",
    "    print(i)"
   ]
  },
  {
   "cell_type": "code",
   "execution_count": 3171,
   "id": "33c00163-b56e-4713-ac2e-0de204f6a543",
   "metadata": {},
   "outputs": [
    {
     "data": {
      "text/plain": [
       "[30, 2.3, 'san', True, (1+2j), 10]"
      ]
     },
     "execution_count": 3171,
     "metadata": {},
     "output_type": "execute_result"
    }
   ],
   "source": [
    "l"
   ]
  },
  {
   "cell_type": "code",
   "execution_count": 3172,
   "id": "1cee207b-8f2b-4656-9fa0-2b12826eace7",
   "metadata": {},
   "outputs": [
    {
     "data": {
      "text/plain": [
       "[30, 2.3, 'san', True, (1+2j), 10]"
      ]
     },
     "execution_count": 3172,
     "metadata": {},
     "output_type": "execute_result"
    }
   ],
   "source": [
    "l[:]"
   ]
  },
  {
   "cell_type": "code",
   "execution_count": 3173,
   "id": "ea9b0072-fa58-4e0d-95ff-43e8fd7a7660",
   "metadata": {},
   "outputs": [
    {
     "data": {
      "text/plain": [
       "[10, (1+2j), True, 'san', 2.3, 30]"
      ]
     },
     "execution_count": 3173,
     "metadata": {},
     "output_type": "execute_result"
    }
   ],
   "source": [
    "l[::-1]"
   ]
  },
  {
   "cell_type": "code",
   "execution_count": 3174,
   "id": "2aa6d9b9-ff8a-49a4-918a-52be1ce9dcb4",
   "metadata": {},
   "outputs": [
    {
     "data": {
      "text/plain": [
       "[30, 2.3, 'san', True, (1+2j), 10]"
      ]
     },
     "execution_count": 3174,
     "metadata": {},
     "output_type": "execute_result"
    }
   ],
   "source": [
    "l"
   ]
  },
  {
   "cell_type": "code",
   "execution_count": 3175,
   "id": "46057549-9d2d-4348-9e3c-f4685610aa94",
   "metadata": {},
   "outputs": [
    {
     "data": {
      "text/plain": [
       "[10, True, 2.3]"
      ]
     },
     "execution_count": 3175,
     "metadata": {},
     "output_type": "execute_result"
    }
   ],
   "source": [
    "l[::-2]"
   ]
  },
  {
   "cell_type": "code",
   "execution_count": 3176,
   "id": "3f53bce0-1813-443d-80bf-4eba5933caac",
   "metadata": {},
   "outputs": [
    {
     "data": {
      "text/plain": [
       "[10, 'san']"
      ]
     },
     "execution_count": 3176,
     "metadata": {},
     "output_type": "execute_result"
    }
   ],
   "source": [
    "l[::-3]"
   ]
  },
  {
   "cell_type": "code",
   "execution_count": 3177,
   "id": "5e31eac9-8d84-4761-a966-90f516cc076d",
   "metadata": {},
   "outputs": [
    {
     "data": {
      "text/plain": [
       "[30, 2.3, 'san', True, (1+2j), 10]"
      ]
     },
     "execution_count": 3177,
     "metadata": {},
     "output_type": "execute_result"
    }
   ],
   "source": [
    "l"
   ]
  },
  {
   "cell_type": "code",
   "execution_count": 3178,
   "id": "125345fc-4fef-4521-9436-e888024ab8a1",
   "metadata": {},
   "outputs": [
    {
     "data": {
      "text/plain": [
       "[30, 2.3, 'san', True, (1+2j), 10]"
      ]
     },
     "execution_count": 3178,
     "metadata": {},
     "output_type": "execute_result"
    }
   ],
   "source": [
    "l[:7] # 30,2.3, 'san', True, (1+2j), 10"
   ]
  },
  {
   "cell_type": "code",
   "execution_count": 3179,
   "id": "99816dfd-4eb7-4e9b-88f9-3cbb7aa48641",
   "metadata": {},
   "outputs": [
    {
     "ename": "IndexError",
     "evalue": "list index out of range",
     "output_type": "error",
     "traceback": [
      "\u001b[1;31m---------------------------------------------------------------------------\u001b[0m",
      "\u001b[1;31mIndexError\u001b[0m                                Traceback (most recent call last)",
      "Cell \u001b[1;32mIn[3179], line 1\u001b[0m\n\u001b[1;32m----> 1\u001b[0m l[\u001b[38;5;241m17\u001b[39m]\n",
      "\u001b[1;31mIndexError\u001b[0m: list index out of range"
     ]
    }
   ],
   "source": [
    "l[17]"
   ]
  },
  {
   "cell_type": "code",
   "execution_count": 3180,
   "id": "43473689-727d-488c-be28-fac1c6d8ee4f",
   "metadata": {},
   "outputs": [
    {
     "data": {
      "text/plain": [
       "[30, 2.3, 'san', True, (1+2j), 10]"
      ]
     },
     "execution_count": 3180,
     "metadata": {},
     "output_type": "execute_result"
    }
   ],
   "source": [
    "l"
   ]
  },
  {
   "cell_type": "code",
   "execution_count": 3181,
   "id": "78ec4a8c-3db4-44dd-9bf6-b4cf0a75f92c",
   "metadata": {},
   "outputs": [
    {
     "data": {
      "text/plain": [
       "['san', True, (1+2j), 10]"
      ]
     },
     "execution_count": 3181,
     "metadata": {},
     "output_type": "execute_result"
    }
   ],
   "source": [
    "l[2:] #'san', True, (1+2j), 10"
   ]
  },
  {
   "cell_type": "code",
   "execution_count": 3182,
   "id": "98787df1-70c5-4bb8-a724-a4cc403cd085",
   "metadata": {},
   "outputs": [
    {
     "data": {
      "text/plain": [
       "[30, 2.3, 'san', True, (1+2j), 10]"
      ]
     },
     "execution_count": 3182,
     "metadata": {},
     "output_type": "execute_result"
    }
   ],
   "source": [
    "l"
   ]
  },
  {
   "cell_type": "code",
   "execution_count": 3183,
   "id": "3877356a-ddf9-4da2-ac03-3cd81fad1ee4",
   "metadata": {},
   "outputs": [
    {
     "data": {
      "text/plain": [
       "[30, True]"
      ]
     },
     "execution_count": 3183,
     "metadata": {},
     "output_type": "execute_result"
    }
   ],
   "source": [
    "l[0:7:3] #30, True                                                                "
   ]
  },
  {
   "cell_type": "code",
   "execution_count": 3185,
   "id": "4ddcadd2-14f3-48d8-be0b-b08ba55a5544",
   "metadata": {},
   "outputs": [
    {
     "data": {
      "text/plain": [
       "[30, 2.3, 'san', True, (1+2j), 10]"
      ]
     },
     "execution_count": 3185,
     "metadata": {},
     "output_type": "execute_result"
    }
   ],
   "source": [
    "l"
   ]
  },
  {
   "cell_type": "code",
   "execution_count": 3186,
   "id": "41d2bb09-cbec-4344-a9f7-6327356437f7",
   "metadata": {},
   "outputs": [
    {
     "data": {
      "text/plain": [
       "[30, 'san', (1+2j)]"
      ]
     },
     "execution_count": 3186,
     "metadata": {},
     "output_type": "execute_result"
    }
   ],
   "source": [
    "l[0:7:2] #30, 'san', (1+2j)"
   ]
  },
  {
   "cell_type": "markdown",
   "id": "d6de3072-bce1-41da-8fae-11b45fb70550",
   "metadata": {},
   "source": [
    "# Tuple"
   ]
  },
  {
   "cell_type": "code",
   "execution_count": 3188,
   "id": "26ceaa7a-54fe-4126-a8ed-d0ad9c008d9d",
   "metadata": {},
   "outputs": [
    {
     "data": {
      "text/plain": [
       "()"
      ]
     },
     "execution_count": 3188,
     "metadata": {},
     "output_type": "execute_result"
    }
   ],
   "source": [
    "t = ()\n",
    "t"
   ]
  },
  {
   "cell_type": "code",
   "execution_count": 3189,
   "id": "8c881e96-0904-4621-9af3-134d137aa2cf",
   "metadata": {},
   "outputs": [
    {
     "data": {
      "text/plain": [
       "tuple"
      ]
     },
     "execution_count": 3189,
     "metadata": {},
     "output_type": "execute_result"
    }
   ],
   "source": [
    "type(t)"
   ]
  },
  {
   "cell_type": "code",
   "execution_count": 3190,
   "id": "6aca491d-c76d-48b0-986c-fd6c9a094bd3",
   "metadata": {},
   "outputs": [
    {
     "data": {
      "text/plain": [
       "()"
      ]
     },
     "execution_count": 3190,
     "metadata": {},
     "output_type": "execute_result"
    }
   ],
   "source": [
    "t1=tuple()\n",
    "t1"
   ]
  },
  {
   "cell_type": "code",
   "execution_count": 3191,
   "id": "f2b0223a-ae6d-496d-8fc4-b3841832987d",
   "metadata": {},
   "outputs": [
    {
     "data": {
      "text/plain": [
       "tuple"
      ]
     },
     "execution_count": 3191,
     "metadata": {},
     "output_type": "execute_result"
    }
   ],
   "source": [
    "type(t1)"
   ]
  },
  {
   "cell_type": "code",
   "execution_count": 3192,
   "id": "e19cd7dd-91d4-47bc-8934-fc484ed45e3b",
   "metadata": {},
   "outputs": [],
   "source": [
    "t = (10,10,20,30)"
   ]
  },
  {
   "cell_type": "code",
   "execution_count": 3193,
   "id": "117a8177-6c8a-408f-97fb-8db3b0edf086",
   "metadata": {},
   "outputs": [
    {
     "data": {
      "text/plain": [
       "(10, 10, 20, 30)"
      ]
     },
     "execution_count": 3193,
     "metadata": {},
     "output_type": "execute_result"
    }
   ],
   "source": [
    "t"
   ]
  },
  {
   "cell_type": "code",
   "execution_count": 3194,
   "id": "128c2250-993a-4964-86b7-ffd3fc93d6e0",
   "metadata": {},
   "outputs": [
    {
     "data": {
      "text/plain": [
       "(10, 1.2, 'nit', (1+2j), True)"
      ]
     },
     "execution_count": 3194,
     "metadata": {},
     "output_type": "execute_result"
    }
   ],
   "source": [
    "t1=(10, 1.2, 'nit', 1+2j, True)\n",
    "t1"
   ]
  },
  {
   "cell_type": "code",
   "execution_count": 3195,
   "id": "9ad93fff-46c4-4972-880a-8eacf47351f9",
   "metadata": {},
   "outputs": [
    {
     "data": {
      "text/plain": [
       "1"
      ]
     },
     "execution_count": 3195,
     "metadata": {},
     "output_type": "execute_result"
    }
   ],
   "source": [
    "t1.count(10)"
   ]
  },
  {
   "cell_type": "code",
   "execution_count": 3196,
   "id": "a4f4a437-8ccc-4ccc-9fbe-be0b5aa19d54",
   "metadata": {},
   "outputs": [
    {
     "data": {
      "text/plain": [
       "2"
      ]
     },
     "execution_count": 3196,
     "metadata": {},
     "output_type": "execute_result"
    }
   ],
   "source": [
    "t1.index('nit')"
   ]
  },
  {
   "cell_type": "code",
   "execution_count": 3197,
   "id": "2e4c9896-dafb-4ba4-a06a-914683ef97bc",
   "metadata": {},
   "outputs": [
    {
     "data": {
      "text/plain": [
       "(1234, 'cizp', '4thmar')"
      ]
     },
     "execution_count": 3197,
     "metadata": {},
     "output_type": "execute_result"
    }
   ],
   "source": [
    "icic = (1234, 'cizp', '4thmar')\n",
    "icic"
   ]
  },
  {
   "cell_type": "code",
   "execution_count": 3198,
   "id": "0a937572-6992-4db8-8cdd-e0959fd9eb3d",
   "metadata": {},
   "outputs": [
    {
     "ename": "AttributeError",
     "evalue": "'tuple' object has no attribute 'copy'",
     "output_type": "error",
     "traceback": [
      "\u001b[1;31m---------------------------------------------------------------------------\u001b[0m",
      "\u001b[1;31mAttributeError\u001b[0m                            Traceback (most recent call last)",
      "Cell \u001b[1;32mIn[3198], line 1\u001b[0m\n\u001b[1;32m----> 1\u001b[0m i \u001b[38;5;241m=\u001b[39m icic\u001b[38;5;241m.\u001b[39mcopy()\n",
      "\u001b[1;31mAttributeError\u001b[0m: 'tuple' object has no attribute 'copy'"
     ]
    }
   ],
   "source": [
    "i = icic.copy() #copy function does not work"
   ]
  },
  {
   "cell_type": "code",
   "execution_count": 3199,
   "id": "8ac26977-6b36-48bd-ad28-2cafdd87a8d7",
   "metadata": {},
   "outputs": [
    {
     "data": {
      "text/plain": [
       "10"
      ]
     },
     "execution_count": 3199,
     "metadata": {},
     "output_type": "execute_result"
    }
   ],
   "source": [
    "t[0]"
   ]
  },
  {
   "cell_type": "code",
   "execution_count": 3200,
   "id": "7d9517db-7015-4110-a6de-ae6105494a22",
   "metadata": {},
   "outputs": [
    {
     "ename": "TypeError",
     "evalue": "'tuple' object does not support item assignment",
     "output_type": "error",
     "traceback": [
      "\u001b[1;31m---------------------------------------------------------------------------\u001b[0m",
      "\u001b[1;31mTypeError\u001b[0m                                 Traceback (most recent call last)",
      "Cell \u001b[1;32mIn[3200], line 1\u001b[0m\n\u001b[1;32m----> 1\u001b[0m t[\u001b[38;5;241m0\u001b[39m] \u001b[38;5;241m=\u001b[39m\u001b[38;5;241m100\u001b[39m\n",
      "\u001b[1;31mTypeError\u001b[0m: 'tuple' object does not support item assignment"
     ]
    }
   ],
   "source": [
    "t[0] =100 #immutable/unhashable"
   ]
  },
  {
   "cell_type": "code",
   "execution_count": 3201,
   "id": "507f46f1-c471-45f0-8d8f-c0eb7604482c",
   "metadata": {},
   "outputs": [
    {
     "name": "stdout",
     "output_type": "stream",
     "text": [
      "10\n",
      "1.2\n",
      "nit\n",
      "(1+2j)\n",
      "True\n"
     ]
    }
   ],
   "source": [
    "for i in t1:\n",
    "    print(i)"
   ]
  },
  {
   "cell_type": "code",
   "execution_count": 3202,
   "id": "bfe44bc0-2645-4952-8a8d-01a561e5b987",
   "metadata": {},
   "outputs": [
    {
     "name": "stdout",
     "output_type": "stream",
     "text": [
      "(0, 10)\n",
      "(1, 1.2)\n",
      "(2, 'nit')\n",
      "(3, (1+2j))\n",
      "(4, True)\n"
     ]
    }
   ],
   "source": [
    "for i in enumerate(t1):\n",
    "    print(i)"
   ]
  },
  {
   "cell_type": "code",
   "execution_count": 3203,
   "id": "de633f8b-1b6b-4cf2-86ae-fafa9d8e7413",
   "metadata": {},
   "outputs": [
    {
     "data": {
      "text/plain": [
       "(10, 10, 20, 30)"
      ]
     },
     "execution_count": 3203,
     "metadata": {},
     "output_type": "execute_result"
    }
   ],
   "source": [
    "t"
   ]
  },
  {
   "cell_type": "code",
   "execution_count": 3204,
   "id": "c6d23131-f5ea-491a-ace6-aee2b17ae9ad",
   "metadata": {},
   "outputs": [
    {
     "data": {
      "text/plain": [
       "(10, 10, 20, 30)"
      ]
     },
     "execution_count": 3204,
     "metadata": {},
     "output_type": "execute_result"
    }
   ],
   "source": [
    "t[:]"
   ]
  },
  {
   "cell_type": "code",
   "execution_count": 3205,
   "id": "92914f46-8ef0-42e5-9902-d183d6fb769b",
   "metadata": {},
   "outputs": [
    {
     "data": {
      "text/plain": [
       "(10, 10, 20, 30, 10, 10, 20, 30, 10, 10, 20, 30, 10, 10, 20, 30)"
      ]
     },
     "execution_count": 3205,
     "metadata": {},
     "output_type": "execute_result"
    }
   ],
   "source": [
    "t4=t * 4 #repeating elements 4 times but not multiplying\n",
    "t4"
   ]
  },
  {
   "cell_type": "code",
   "execution_count": 3206,
   "id": "d563ad87-2eb0-4655-ba9f-9e0fc1a7f006",
   "metadata": {},
   "outputs": [
    {
     "data": {
      "text/plain": [
       "tuple"
      ]
     },
     "execution_count": 3206,
     "metadata": {},
     "output_type": "execute_result"
    }
   ],
   "source": [
    "type(t4)"
   ]
  },
  {
   "cell_type": "code",
   "execution_count": 3207,
   "id": "5c3adf75-7886-4230-9b84-5e11f365769f",
   "metadata": {},
   "outputs": [
    {
     "data": {
      "text/plain": [
       "[10, 10, 10, 10, 10, 10, 10, 10, 20, 20, 20, 20, 30, 30, 30, 30]"
      ]
     },
     "execution_count": 3207,
     "metadata": {},
     "output_type": "execute_result"
    }
   ],
   "source": [
    "sorted(t4)"
   ]
  },
  {
   "cell_type": "code",
   "execution_count": 3208,
   "id": "764e831b-ee8f-45f8-bbde-8e58a2600995",
   "metadata": {},
   "outputs": [
    {
     "data": {
      "text/plain": [
       "(10, 10, 20, 30, 10, 10, 20, 30, 10, 10, 20, 30, 10, 10, 20, 30)"
      ]
     },
     "execution_count": 3208,
     "metadata": {},
     "output_type": "execute_result"
    }
   ],
   "source": [
    "t4"
   ]
  },
  {
   "cell_type": "code",
   "execution_count": 3209,
   "id": "6669000a-20cb-41c7-89d6-fb9cd9dae735",
   "metadata": {},
   "outputs": [
    {
     "data": {
      "text/plain": [
       "[30, 30, 30, 30, 20, 20, 20, 20, 10, 10, 10, 10, 10, 10, 10, 10]"
      ]
     },
     "execution_count": 3209,
     "metadata": {},
     "output_type": "execute_result"
    }
   ],
   "source": [
    "sorted(t4, reverse=True)"
   ]
  },
  {
   "cell_type": "code",
   "execution_count": 3210,
   "id": "a9b0263d-6813-4ad9-9f2b-e2bf629ce1c5",
   "metadata": {},
   "outputs": [
    {
     "data": {
      "text/plain": [
       "[10, 10, 10, 10, 10, 10, 10, 10, 20, 20, 20, 20, 30, 30, 30, 30]"
      ]
     },
     "execution_count": 3210,
     "metadata": {},
     "output_type": "execute_result"
    }
   ],
   "source": [
    "sorted(t4, reverse = False)"
   ]
  },
  {
   "cell_type": "code",
   "execution_count": 3211,
   "id": "49419423-cf85-4ef9-8205-b1eed6af5708",
   "metadata": {},
   "outputs": [
    {
     "name": "stdout",
     "output_type": "stream",
     "text": [
      "2933693016976\n"
     ]
    }
   ],
   "source": [
    "print(id(t4))"
   ]
  },
  {
   "cell_type": "code",
   "execution_count": 3212,
   "id": "2c79f2ff-bffc-4791-a5dd-0c90aad3d2eb",
   "metadata": {},
   "outputs": [
    {
     "name": "stdout",
     "output_type": "stream",
     "text": [
      "2933679991808\n"
     ]
    }
   ],
   "source": [
    "print(id(t))"
   ]
  },
  {
   "cell_type": "markdown",
   "id": "e2ffbcba-7cd2-4822-aba5-c47a066320aa",
   "metadata": {},
   "source": [
    "# Day 12 / October 30"
   ]
  },
  {
   "cell_type": "code",
   "execution_count": 3214,
   "id": "6dd55f1f-10f5-4ff2-9842-51c6ec187c89",
   "metadata": {},
   "outputs": [
    {
     "data": {
      "text/plain": [
       "{}"
      ]
     },
     "execution_count": 3214,
     "metadata": {},
     "output_type": "execute_result"
    }
   ],
   "source": [
    "s={}\n",
    "s"
   ]
  },
  {
   "cell_type": "code",
   "execution_count": 3215,
   "id": "8c374221-0896-46f8-b7de-df5464021904",
   "metadata": {},
   "outputs": [
    {
     "data": {
      "text/plain": [
       "dict"
      ]
     },
     "execution_count": 3215,
     "metadata": {},
     "output_type": "execute_result"
    }
   ],
   "source": [
    "type(s)"
   ]
  },
  {
   "cell_type": "code",
   "execution_count": 3216,
   "id": "d800ecb6-8a62-4677-b092-86dfc124820d",
   "metadata": {},
   "outputs": [
    {
     "data": {
      "text/plain": [
       "set()"
      ]
     },
     "execution_count": 3216,
     "metadata": {},
     "output_type": "execute_result"
    }
   ],
   "source": [
    "s1=set()\n",
    "s1"
   ]
  },
  {
   "cell_type": "code",
   "execution_count": 3217,
   "id": "659aa91f-574d-4137-be76-37c5836fe5ce",
   "metadata": {},
   "outputs": [
    {
     "data": {
      "text/plain": [
       "set"
      ]
     },
     "execution_count": 3217,
     "metadata": {},
     "output_type": "execute_result"
    }
   ],
   "source": [
    "type(s1)"
   ]
  },
  {
   "cell_type": "code",
   "execution_count": 3218,
   "id": "6f927450-f322-4b97-b688-db7cad1dabbe",
   "metadata": {},
   "outputs": [
    {
     "data": {
      "text/plain": [
       "{3, 15, 20, 47, 100}"
      ]
     },
     "execution_count": 3218,
     "metadata": {},
     "output_type": "execute_result"
    }
   ],
   "source": [
    "s1={100, 20, 3, 15, 47}\n",
    "s1"
   ]
  },
  {
   "cell_type": "code",
   "execution_count": 3219,
   "id": "b73a1e87-6183-454a-b753-4f4243ab032d",
   "metadata": {},
   "outputs": [
    {
     "data": {
      "text/plain": [
       "{1.3, 2.3, 4.5}"
      ]
     },
     "execution_count": 3219,
     "metadata": {},
     "output_type": "execute_result"
    }
   ],
   "source": [
    "s2 = {2.3, 4.5, 1.3}\n",
    "s2"
   ]
  },
  {
   "cell_type": "code",
   "execution_count": 3220,
   "id": "55ed696f-dcf6-46a7-9b12-058aa8fe4e6e",
   "metadata": {},
   "outputs": [
    {
     "data": {
      "text/plain": [
       "{'a', 'm', 'x', 'z'}"
      ]
     },
     "execution_count": 3220,
     "metadata": {},
     "output_type": "execute_result"
    }
   ],
   "source": [
    "s3 = {'z', 'm', 'a', 'x'}\n",
    "s3"
   ]
  },
  {
   "cell_type": "code",
   "execution_count": 3221,
   "id": "dd42ebfe-45b2-48b9-aa0a-0e6438fdd48c",
   "metadata": {},
   "outputs": [
    {
     "data": {
      "text/plain": [
       "{10, 2.3, 5, 6.7, 'a'}"
      ]
     },
     "execution_count": 3221,
     "metadata": {},
     "output_type": "execute_result"
    }
   ],
   "source": [
    "s4 = {10, 2.3, 'a', 5, 6.7 }\n",
    "s4"
   ]
  },
  {
   "cell_type": "code",
   "execution_count": 3222,
   "id": "2450932e-443d-48b3-80a1-79ff5d35d3ed",
   "metadata": {},
   "outputs": [
    {
     "name": "stdout",
     "output_type": "stream",
     "text": [
      "{3, 100, 20, 47, 15}\n",
      "{1.3, 2.3, 4.5}\n",
      "{'a', 'z', 'x', 'm'}\n",
      "{'a', 2.3, 5, 6.7, 10}\n"
     ]
    }
   ],
   "source": [
    "print (s1)\n",
    "print (s2)\n",
    "print (s3)\n",
    "print (s4)"
   ]
  },
  {
   "cell_type": "code",
   "execution_count": 3223,
   "id": "c147a7de-281b-43df-aec2-214c6b725cdd",
   "metadata": {},
   "outputs": [
    {
     "name": "stdout",
     "output_type": "stream",
     "text": [
      "3\n",
      "100\n",
      "20\n",
      "47\n",
      "15\n"
     ]
    }
   ],
   "source": [
    "for i in s1:\n",
    "    print(i)"
   ]
  },
  {
   "cell_type": "code",
   "execution_count": 3224,
   "id": "28b208cb-9cbc-42ce-8a40-5d56b32ea24d",
   "metadata": {},
   "outputs": [
    {
     "name": "stdout",
     "output_type": "stream",
     "text": [
      "(0, 3)\n",
      "(1, 100)\n",
      "(2, 20)\n",
      "(3, 47)\n",
      "(4, 15)\n"
     ]
    }
   ],
   "source": [
    "for i in enumerate(s1):\n",
    "    print(i)"
   ]
  },
  {
   "cell_type": "code",
   "execution_count": 3225,
   "id": "3a4e718a-29e8-487b-b6b0-d36b6a5d4c5d",
   "metadata": {},
   "outputs": [
    {
     "data": {
      "text/plain": [
       "{10, 2.3, 5, 6.7, 'a'}"
      ]
     },
     "execution_count": 3225,
     "metadata": {},
     "output_type": "execute_result"
    }
   ],
   "source": [
    "s4"
   ]
  },
  {
   "cell_type": "code",
   "execution_count": 3226,
   "id": "72fc0dc6-a4fc-4322-b0fa-01f5181d80f6",
   "metadata": {},
   "outputs": [
    {
     "ename": "TypeError",
     "evalue": "set.add() takes exactly one argument (3 given)",
     "output_type": "error",
     "traceback": [
      "\u001b[1;31m---------------------------------------------------------------------------\u001b[0m",
      "\u001b[1;31mTypeError\u001b[0m                                 Traceback (most recent call last)",
      "Cell \u001b[1;32mIn[3226], line 1\u001b[0m\n\u001b[1;32m----> 1\u001b[0m s4\u001b[38;5;241m.\u001b[39madd(\u001b[38;5;241m10\u001b[39m,\u001b[38;5;241m2.3\u001b[39m,\u001b[38;5;241m20\u001b[39m)\n",
      "\u001b[1;31mTypeError\u001b[0m: set.add() takes exactly one argument (3 given)"
     ]
    }
   ],
   "source": [
    "s4.add(10,2.3,20) #we can add/append only one element "
   ]
  },
  {
   "cell_type": "code",
   "execution_count": 3227,
   "id": "129f2f6a-0fb0-4efb-bb40-1e952e2753d6",
   "metadata": {},
   "outputs": [],
   "source": [
    "s4.add(10)\n",
    "s4.add(20)\n",
    "s4.add(2.3)"
   ]
  },
  {
   "cell_type": "code",
   "execution_count": 3228,
   "id": "67946017-8ffc-4b76-bda0-7f91f78f1d69",
   "metadata": {},
   "outputs": [
    {
     "data": {
      "text/plain": [
       "{10, 2.3, 20, 5, 6.7, 'a'}"
      ]
     },
     "execution_count": 3228,
     "metadata": {},
     "output_type": "execute_result"
    }
   ],
   "source": [
    "s4"
   ]
  },
  {
   "cell_type": "code",
   "execution_count": 3236,
   "id": "fe260a52-3654-45b0-b186-3cfd752f77a1",
   "metadata": {},
   "outputs": [
    {
     "data": {
      "text/plain": [
       "{3, 4, 15, 20, 47, 100}"
      ]
     },
     "execution_count": 3236,
     "metadata": {},
     "output_type": "execute_result"
    }
   ],
   "source": [
    "s1"
   ]
  },
  {
   "cell_type": "code",
   "execution_count": 3238,
   "id": "f5e0be2c-64d4-4459-9e3f-1fde7a52bf91",
   "metadata": {},
   "outputs": [
    {
     "data": {
      "text/plain": [
       "{3, 4, 15, 20, 47, 100}"
      ]
     },
     "execution_count": 3238,
     "metadata": {},
     "output_type": "execute_result"
    }
   ],
   "source": [
    "s1.add(4)\n",
    "s1"
   ]
  },
  {
   "cell_type": "code",
   "execution_count": 3239,
   "id": "35cd385b-2915-480d-bf58-034105098fad",
   "metadata": {},
   "outputs": [
    {
     "data": {
      "text/plain": [
       "0"
      ]
     },
     "execution_count": 3239,
     "metadata": {},
     "output_type": "execute_result"
    }
   ],
   "source": [
    "len(s4)"
   ]
  },
  {
   "cell_type": "code",
   "execution_count": 3240,
   "id": "5c6ad658-2872-4236-8014-8792700eb030",
   "metadata": {},
   "outputs": [],
   "source": [
    "s4.clear()"
   ]
  },
  {
   "cell_type": "code",
   "execution_count": 3241,
   "id": "3669adfd-14e3-475f-ac68-25129988b697",
   "metadata": {},
   "outputs": [
    {
     "data": {
      "text/plain": [
       "set()"
      ]
     },
     "execution_count": 3241,
     "metadata": {},
     "output_type": "execute_result"
    }
   ],
   "source": [
    "s4"
   ]
  },
  {
   "cell_type": "code",
   "execution_count": 3242,
   "id": "b07db51f-67dc-4a81-bf41-d994765f26ba",
   "metadata": {},
   "outputs": [
    {
     "data": {
      "text/plain": [
       "0"
      ]
     },
     "execution_count": 3242,
     "metadata": {},
     "output_type": "execute_result"
    }
   ],
   "source": [
    "len(s4)"
   ]
  },
  {
   "cell_type": "code",
   "execution_count": 3243,
   "id": "783440fb-4573-449a-a49b-919f5d1372f4",
   "metadata": {},
   "outputs": [],
   "source": [
    "del(s4) # wrong format"
   ]
  },
  {
   "cell_type": "code",
   "execution_count": 3244,
   "id": "472b854e-c3f9-43dc-b54d-b692a1543b98",
   "metadata": {},
   "outputs": [
    {
     "ename": "NameError",
     "evalue": "name 's4' is not defined",
     "output_type": "error",
     "traceback": [
      "\u001b[1;31m---------------------------------------------------------------------------\u001b[0m",
      "\u001b[1;31mNameError\u001b[0m                                 Traceback (most recent call last)",
      "Cell \u001b[1;32mIn[3244], line 1\u001b[0m\n\u001b[1;32m----> 1\u001b[0m \u001b[38;5;28;01mdel\u001b[39;00m s4\n",
      "\u001b[1;31mNameError\u001b[0m: name 's4' is not defined"
     ]
    }
   ],
   "source": [
    "del s4"
   ]
  },
  {
   "cell_type": "code",
   "execution_count": 3245,
   "id": "4115f2dd-c078-4dbb-a6ba-36e277830575",
   "metadata": {},
   "outputs": [
    {
     "ename": "NameError",
     "evalue": "name 's4' is not defined",
     "output_type": "error",
     "traceback": [
      "\u001b[1;31m---------------------------------------------------------------------------\u001b[0m",
      "\u001b[1;31mNameError\u001b[0m                                 Traceback (most recent call last)",
      "Cell \u001b[1;32mIn[3245], line 1\u001b[0m\n\u001b[1;32m----> 1\u001b[0m s4\n",
      "\u001b[1;31mNameError\u001b[0m: name 's4' is not defined"
     ]
    }
   ],
   "source": [
    "s4"
   ]
  },
  {
   "cell_type": "code",
   "execution_count": 3246,
   "id": "883945a8-5ea7-499b-ad93-7a2aa9d334f6",
   "metadata": {},
   "outputs": [
    {
     "data": {
      "text/plain": [
       "{3, 4, 15, 20, 47, 100}"
      ]
     },
     "execution_count": 3246,
     "metadata": {},
     "output_type": "execute_result"
    }
   ],
   "source": [
    "s4 = s1.copy()\n",
    "s4"
   ]
  },
  {
   "cell_type": "code",
   "execution_count": 3247,
   "id": "d7fc6d49-6b6e-458a-a716-ce4a8a9e2262",
   "metadata": {},
   "outputs": [
    {
     "data": {
      "text/plain": [
       "True"
      ]
     },
     "execution_count": 3247,
     "metadata": {},
     "output_type": "execute_result"
    }
   ],
   "source": [
    "s1==s4"
   ]
  },
  {
   "cell_type": "code",
   "execution_count": 3248,
   "id": "e066b4ef-2953-4e74-9aac-d701b553c3a0",
   "metadata": {},
   "outputs": [
    {
     "data": {
      "text/plain": [
       "{3, 4, 15, 20, 47}"
      ]
     },
     "execution_count": 3248,
     "metadata": {},
     "output_type": "execute_result"
    }
   ],
   "source": [
    "s1.remove(100)\n",
    "s1"
   ]
  },
  {
   "cell_type": "code",
   "execution_count": 3249,
   "id": "7d9bd5a5-d6ad-414a-a3f8-9220be9c2fc9",
   "metadata": {},
   "outputs": [
    {
     "data": {
      "text/plain": [
       "3"
      ]
     },
     "execution_count": 3249,
     "metadata": {},
     "output_type": "execute_result"
    }
   ],
   "source": [
    "s1.pop()"
   ]
  },
  {
   "cell_type": "code",
   "execution_count": 3250,
   "id": "9ac83688-b2ad-40f1-81c0-58e657bc0e4f",
   "metadata": {},
   "outputs": [
    {
     "data": {
      "text/plain": [
       "{4, 15, 20, 47}"
      ]
     },
     "execution_count": 3250,
     "metadata": {},
     "output_type": "execute_result"
    }
   ],
   "source": [
    "s1"
   ]
  },
  {
   "cell_type": "code",
   "execution_count": 3251,
   "id": "adc9a7c5-7063-420f-919f-e7e8395727ad",
   "metadata": {},
   "outputs": [
    {
     "ename": "TypeError",
     "evalue": "set.pop() takes no arguments (1 given)",
     "output_type": "error",
     "traceback": [
      "\u001b[1;31m---------------------------------------------------------------------------\u001b[0m",
      "\u001b[1;31mTypeError\u001b[0m                                 Traceback (most recent call last)",
      "Cell \u001b[1;32mIn[3251], line 1\u001b[0m\n\u001b[1;32m----> 1\u001b[0m s1\u001b[38;5;241m.\u001b[39mpop(\u001b[38;5;241m2\u001b[39m)\n",
      "\u001b[1;31mTypeError\u001b[0m: set.pop() takes no arguments (1 given)"
     ]
    }
   ],
   "source": [
    "s1.pop(2)"
   ]
  },
  {
   "cell_type": "code",
   "execution_count": 3252,
   "id": "92d09458-b7cd-4afc-8aad-dae009c2ea46",
   "metadata": {},
   "outputs": [
    {
     "ename": "TypeError",
     "evalue": "set.pop() takes no arguments (1 given)",
     "output_type": "error",
     "traceback": [
      "\u001b[1;31m---------------------------------------------------------------------------\u001b[0m",
      "\u001b[1;31mTypeError\u001b[0m                                 Traceback (most recent call last)",
      "Cell \u001b[1;32mIn[3252], line 1\u001b[0m\n\u001b[1;32m----> 1\u001b[0m s1\u001b[38;5;241m.\u001b[39mpop(\u001b[38;5;241m47\u001b[39m)\n",
      "\u001b[1;31mTypeError\u001b[0m: set.pop() takes no arguments (1 given)"
     ]
    }
   ],
   "source": [
    "s1.pop(47)"
   ]
  },
  {
   "cell_type": "code",
   "execution_count": 3253,
   "id": "3fe17c6a-a4ac-4089-acd6-3fbe1622d769",
   "metadata": {},
   "outputs": [
    {
     "data": {
      "text/plain": [
       "{4, 15, 20, 47}"
      ]
     },
     "execution_count": 3253,
     "metadata": {},
     "output_type": "execute_result"
    }
   ],
   "source": [
    "s1"
   ]
  },
  {
   "cell_type": "code",
   "execution_count": 3254,
   "id": "289b4868-352a-4625-b0ca-437d0daee9be",
   "metadata": {},
   "outputs": [
    {
     "ename": "TypeError",
     "evalue": "set.pop() takes no arguments (1 given)",
     "output_type": "error",
     "traceback": [
      "\u001b[1;31m---------------------------------------------------------------------------\u001b[0m",
      "\u001b[1;31mTypeError\u001b[0m                                 Traceback (most recent call last)",
      "Cell \u001b[1;32mIn[3254], line 1\u001b[0m\n\u001b[1;32m----> 1\u001b[0m s1\u001b[38;5;241m.\u001b[39mpop(\u001b[38;5;241m47\u001b[39m)\n",
      "\u001b[1;31mTypeError\u001b[0m: set.pop() takes no arguments (1 given)"
     ]
    }
   ],
   "source": [
    "s1.pop(47)"
   ]
  },
  {
   "cell_type": "code",
   "execution_count": 3255,
   "id": "ab56ba6e-b85e-4f4c-9f88-1aee8cb3041a",
   "metadata": {},
   "outputs": [
    {
     "data": {
      "text/plain": [
       "{4, 15, 20, 47}"
      ]
     },
     "execution_count": 3255,
     "metadata": {},
     "output_type": "execute_result"
    }
   ],
   "source": [
    "s1"
   ]
  },
  {
   "cell_type": "code",
   "execution_count": 3258,
   "id": "3c990a00-cb83-4778-98db-ea4c1b71b26e",
   "metadata": {},
   "outputs": [
    {
     "data": {
      "text/plain": [
       "{'a', 'm', 'x', 'z'}"
      ]
     },
     "execution_count": 3258,
     "metadata": {},
     "output_type": "execute_result"
    }
   ],
   "source": [
    "s3"
   ]
  },
  {
   "cell_type": "code",
   "execution_count": 3267,
   "id": "b6749535-19b3-4e3b-97ce-57a00d625062",
   "metadata": {},
   "outputs": [
    {
     "data": {
      "text/plain": [
       "'a'"
      ]
     },
     "execution_count": 3267,
     "metadata": {},
     "output_type": "execute_result"
    }
   ],
   "source": [
    "s3.pop() #random element is removed"
   ]
  },
  {
   "cell_type": "code",
   "execution_count": 3273,
   "id": "381569f6-1380-4808-bf7e-8942bbee0ae9",
   "metadata": {},
   "outputs": [
    {
     "data": {
      "text/plain": [
       "{1.3, 2.3, 4.5}"
      ]
     },
     "execution_count": 3273,
     "metadata": {},
     "output_type": "execute_result"
    }
   ],
   "source": [
    "s2"
   ]
  },
  {
   "cell_type": "code",
   "execution_count": 3277,
   "id": "90d8e30a-ea4c-4d46-9be0-88e4b6f4798d",
   "metadata": {},
   "outputs": [
    {
     "data": {
      "text/plain": [
       "1.3"
      ]
     },
     "execution_count": 3277,
     "metadata": {},
     "output_type": "execute_result"
    }
   ],
   "source": [
    "s2.pop() #random element is removed"
   ]
  },
  {
   "cell_type": "code",
   "execution_count": 3278,
   "id": "85731762-747e-46b3-9598-f9cb10a82c8f",
   "metadata": {},
   "outputs": [
    {
     "data": {
      "text/plain": [
       "{3, 4, 15, 20, 47, 100}"
      ]
     },
     "execution_count": 3278,
     "metadata": {},
     "output_type": "execute_result"
    }
   ],
   "source": [
    "s4"
   ]
  },
  {
   "cell_type": "code",
   "execution_count": 3279,
   "id": "c14a2af4-55d6-4be1-b29e-027db1531016",
   "metadata": {},
   "outputs": [
    {
     "data": {
      "text/plain": [
       "{'m', 'x', 'z'}"
      ]
     },
     "execution_count": 3279,
     "metadata": {},
     "output_type": "execute_result"
    }
   ],
   "source": [
    "s3"
   ]
  },
  {
   "cell_type": "code",
   "execution_count": 3307,
   "id": "ee963423-d879-4aa6-8219-375ea6d5edda",
   "metadata": {},
   "outputs": [
    {
     "data": {
      "text/plain": [
       "True"
      ]
     },
     "execution_count": 3307,
     "metadata": {},
     "output_type": "execute_result"
    }
   ],
   "source": [
    "\"m\" in s3"
   ]
  },
  {
   "cell_type": "code",
   "execution_count": 3308,
   "id": "77099f1f-fd54-4c86-b375-03594971313a",
   "metadata": {},
   "outputs": [
    {
     "data": {
      "text/plain": [
       "[20, 30, 2.3, 'san', 'raj', True, (1+2j), 10]"
      ]
     },
     "execution_count": 3308,
     "metadata": {},
     "output_type": "execute_result"
    }
   ],
   "source": [
    "l1"
   ]
  },
  {
   "cell_type": "code",
   "execution_count": 3309,
   "id": "3a104643-cee5-4bd9-9cf3-4d870db3326a",
   "metadata": {},
   "outputs": [
    {
     "data": {
      "text/plain": [
       "True"
      ]
     },
     "execution_count": 3309,
     "metadata": {},
     "output_type": "execute_result"
    }
   ],
   "source": [
    "20 in l1"
   ]
  },
  {
   "cell_type": "code",
   "execution_count": 3310,
   "id": "73a4ea91-f3ac-4b9b-80e6-c38ebb61e79a",
   "metadata": {},
   "outputs": [
    {
     "data": {
      "text/plain": [
       "False"
      ]
     },
     "execution_count": 3310,
     "metadata": {},
     "output_type": "execute_result"
    }
   ],
   "source": [
    "5 in l1"
   ]
  },
  {
   "cell_type": "code",
   "execution_count": 3311,
   "id": "dbedb7d4-5949-4bb3-8177-56d3139aa002",
   "metadata": {},
   "outputs": [
    {
     "data": {
      "text/plain": [
       "{'m', 'x', 'z'}"
      ]
     },
     "execution_count": 3311,
     "metadata": {},
     "output_type": "execute_result"
    }
   ],
   "source": [
    "s3"
   ]
  },
  {
   "cell_type": "code",
   "execution_count": 3312,
   "id": "5663c09d-01a2-4e30-86d1-f7f9baf87b59",
   "metadata": {},
   "outputs": [
    {
     "data": {
      "text/plain": [
       "False"
      ]
     },
     "execution_count": 3312,
     "metadata": {},
     "output_type": "execute_result"
    }
   ],
   "source": [
    "'y' in s3"
   ]
  },
  {
   "cell_type": "code",
   "execution_count": 3313,
   "id": "62da802e-e814-4df1-8524-aeb769725358",
   "metadata": {},
   "outputs": [
    {
     "data": {
      "text/plain": [
       "[20, 30, 2.3, 'san', 'raj', True, (1+2j), 10]"
      ]
     },
     "execution_count": 3313,
     "metadata": {},
     "output_type": "execute_result"
    }
   ],
   "source": [
    "l1"
   ]
  },
  {
   "cell_type": "code",
   "execution_count": 3314,
   "id": "310be0ee-e5aa-4494-8fde-5fbbdd320468",
   "metadata": {},
   "outputs": [
    {
     "data": {
      "text/plain": [
       "2"
      ]
     },
     "execution_count": 3314,
     "metadata": {},
     "output_type": "execute_result"
    }
   ],
   "source": [
    "l1.index(2.3)"
   ]
  },
  {
   "cell_type": "code",
   "execution_count": 3319,
   "id": "0c0f3513-6d08-43bc-92b9-c69c363ddf2f",
   "metadata": {},
   "outputs": [
    {
     "data": {
      "text/plain": [
       "{'m', 'x', 'z'}"
      ]
     },
     "execution_count": 3319,
     "metadata": {},
     "output_type": "execute_result"
    }
   ],
   "source": [
    "s3"
   ]
  },
  {
   "cell_type": "code",
   "execution_count": 3327,
   "id": "f4f6690e-52b0-4254-8a2d-0d53b86887aa",
   "metadata": {},
   "outputs": [
    {
     "ename": "AttributeError",
     "evalue": "'set' object has no attribute 'index'",
     "output_type": "error",
     "traceback": [
      "\u001b[1;31m---------------------------------------------------------------------------\u001b[0m",
      "\u001b[1;31mAttributeError\u001b[0m                            Traceback (most recent call last)",
      "Cell \u001b[1;32mIn[3327], line 1\u001b[0m\n\u001b[1;32m----> 1\u001b[0m s3\u001b[38;5;241m.\u001b[39mindex(\u001b[38;5;124m'\u001b[39m\u001b[38;5;124mx\u001b[39m\u001b[38;5;124m'\u001b[39m)\n",
      "\u001b[1;31mAttributeError\u001b[0m: 'set' object has no attribute 'index'"
     ]
    }
   ],
   "source": [
    "s3.index('x')  #index does n't work in sets"
   ]
  },
  {
   "cell_type": "markdown",
   "id": "215b6935-61cc-43c6-b747-3cdcd6ef4ce5",
   "metadata": {},
   "source": [
    "# Set Operations"
   ]
  },
  {
   "cell_type": "code",
   "execution_count": 3335,
   "id": "33438e90-52bd-4540-b0a2-d0aa2a074f99",
   "metadata": {},
   "outputs": [],
   "source": [
    "a = {1,2,3,4,5}\n",
    "b = {4,5,6,7,8}\n",
    "c = {8,9,10}"
   ]
  },
  {
   "cell_type": "code",
   "execution_count": 3342,
   "id": "2b50f17f-a3d4-486d-a0ed-f88971757428",
   "metadata": {},
   "outputs": [
    {
     "data": {
      "text/plain": [
       "set"
      ]
     },
     "execution_count": 3342,
     "metadata": {},
     "output_type": "execute_result"
    }
   ],
   "source": [
    "type(a)"
   ]
  },
  {
   "cell_type": "code",
   "execution_count": 3346,
   "id": "fa8b1e62-bde5-4956-9292-232bb961afb1",
   "metadata": {},
   "outputs": [
    {
     "data": {
      "text/plain": [
       "{1, 2, 3, 4, 5, 6, 7, 8}"
      ]
     },
     "execution_count": 3346,
     "metadata": {},
     "output_type": "execute_result"
    }
   ],
   "source": [
    "a.union(b)  #all elements of b are connected with a"
   ]
  },
  {
   "cell_type": "code",
   "execution_count": 3351,
   "id": "98120517-0dcf-4921-a830-e7f6fa1764e2",
   "metadata": {},
   "outputs": [
    {
     "name": "stdout",
     "output_type": "stream",
     "text": [
      "{1, 2, 3, 4, 5}\n",
      "{4, 5, 6, 7, 8}\n",
      "{8, 9, 10}\n"
     ]
    }
   ],
   "source": [
    "print(a)\n",
    "print(b)\n",
    "print(c)"
   ]
  },
  {
   "cell_type": "code",
   "execution_count": 3354,
   "id": "92a9045a-f7ce-4787-a3fc-d63cd6fc2da4",
   "metadata": {},
   "outputs": [
    {
     "data": {
      "text/plain": [
       "{1, 2, 3, 4, 5, 6, 7, 8}"
      ]
     },
     "execution_count": 3354,
     "metadata": {},
     "output_type": "execute_result"
    }
   ],
   "source": [
    "d_union = a.union(b)\n",
    "d_union"
   ]
  },
  {
   "cell_type": "code",
   "execution_count": 3355,
   "id": "401f64c7-2d2b-41e8-b051-17b927677f32",
   "metadata": {},
   "outputs": [
    {
     "name": "stdout",
     "output_type": "stream",
     "text": [
      "{1, 2, 3, 4, 5}\n",
      "{4, 5, 6, 7, 8}\n",
      "{8, 9, 10}\n",
      "{1, 2, 3, 4, 5, 6, 7, 8}\n"
     ]
    }
   ],
   "source": [
    "print(a)\n",
    "print(b)\n",
    "print(c)\n",
    "print(d_union)"
   ]
  },
  {
   "cell_type": "code",
   "execution_count": 3357,
   "id": "5414be62-d4b2-43c8-bfbd-878427b83f50",
   "metadata": {},
   "outputs": [
    {
     "data": {
      "text/plain": [
       "{1, 2, 3, 4, 5, 6, 7, 8, 9, 10}"
      ]
     },
     "execution_count": 3357,
     "metadata": {},
     "output_type": "execute_result"
    }
   ],
   "source": [
    "b.union(a,c) #45678123910 #it gave in order without repeating the duplicates"
   ]
  },
  {
   "cell_type": "code",
   "execution_count": 3359,
   "id": "3d8ece93-5ae5-42f0-aa70-0872daad2abf",
   "metadata": {},
   "outputs": [
    {
     "data": {
      "text/plain": [
       "{1, 2, 3, 4, 5, 6, 7, 8}"
      ]
     },
     "execution_count": 3359,
     "metadata": {},
     "output_type": "execute_result"
    }
   ],
   "source": [
    "a|b #pipe symbol | can act as union"
   ]
  },
  {
   "cell_type": "code",
   "execution_count": 3363,
   "id": "b7e108a3-02c2-45a2-bd49-acb24e73643a",
   "metadata": {},
   "outputs": [],
   "source": [
    "w1={1,2,3,'a','b','c'}\n",
    "w2={3,4,5,'c','d','e'}\n",
    "w3={5,6,7,\"e\", \"f\", 'g'}"
   ]
  },
  {
   "cell_type": "code",
   "execution_count": 3365,
   "id": "f8727a4e-69ed-4ade-b5ce-75025e21e785",
   "metadata": {},
   "outputs": [
    {
     "data": {
      "text/plain": [
       "{1, 2, 3, 4, 5, 'a', 'b', 'c', 'd', 'e'}"
      ]
     },
     "execution_count": 3365,
     "metadata": {},
     "output_type": "execute_result"
    }
   ],
   "source": [
    "w1.union(w2)"
   ]
  },
  {
   "cell_type": "code",
   "execution_count": 3366,
   "id": "8d2fe4b6-eb52-492a-b12a-7c9ee3045aa1",
   "metadata": {},
   "outputs": [
    {
     "data": {
      "text/plain": [
       "{1, 2, 3, 4, 5, 'a', 'b', 'c', 'd', 'e'}"
      ]
     },
     "execution_count": 3366,
     "metadata": {},
     "output_type": "execute_result"
    }
   ],
   "source": [
    "w1|w2"
   ]
  },
  {
   "cell_type": "code",
   "execution_count": 3367,
   "id": "29fdcd45-ba25-44c2-81ea-b40051910beb",
   "metadata": {},
   "outputs": [
    {
     "data": {
      "text/plain": [
       "{1, 2, 3, 4, 5, 6, 7, 8, 9, 10}"
      ]
     },
     "execution_count": 3367,
     "metadata": {},
     "output_type": "execute_result"
    }
   ],
   "source": [
    "a|b|c"
   ]
  },
  {
   "cell_type": "code",
   "execution_count": 3375,
   "id": "b5db308e-8eef-4065-a315-0be051960932",
   "metadata": {},
   "outputs": [
    {
     "name": "stdout",
     "output_type": "stream",
     "text": [
      "{1, 2, 3, 4, 5}\n",
      "{4, 5, 6, 7, 8}\n",
      "{8, 9, 10}\n",
      "{1, 2, 3, 4, 5, 6, 7, 8}\n"
     ]
    }
   ],
   "source": [
    "print(a)\n",
    "print(b)\n",
    "print(c)\n",
    "print(d_union)"
   ]
  },
  {
   "cell_type": "code",
   "execution_count": 3378,
   "id": "e323266b-2f63-44db-87a2-a5a62aef6b65",
   "metadata": {},
   "outputs": [],
   "source": [
    "a.update(b)"
   ]
  },
  {
   "cell_type": "code",
   "execution_count": 3380,
   "id": "46134112-7747-4fbf-9ba7-e39adf0a8cfa",
   "metadata": {},
   "outputs": [
    {
     "name": "stdout",
     "output_type": "stream",
     "text": [
      "{1, 2, 3, 4, 5, 6, 7, 8}\n",
      "{4, 5, 6, 7, 8}\n",
      "{8, 9, 10}\n",
      "{1, 2, 3, 4, 5, 6, 7, 8}\n"
     ]
    }
   ],
   "source": [
    "print(a)\n",
    "print(b)\n",
    "print(c)\n",
    "print(d_union)"
   ]
  },
  {
   "cell_type": "code",
   "execution_count": 3382,
   "id": "02b2ebc5-028d-4ded-ad49-b322b8698f11",
   "metadata": {},
   "outputs": [
    {
     "name": "stdout",
     "output_type": "stream",
     "text": [
      "{4, 5, 6, 7, 8}\n",
      "{4, 5, 6, 7, 8, 9, 10}\n"
     ]
    }
   ],
   "source": [
    "c.update(b)  #45678910\n",
    "print(b)\n",
    "print(c)"
   ]
  },
  {
   "cell_type": "code",
   "execution_count": 3384,
   "id": "8599d08d-e85f-494b-aaee-5d33bd829022",
   "metadata": {},
   "outputs": [],
   "source": [
    "a1 = {1,2,3,4,5}\n",
    "b1 = {4,5,6,7,8}\n",
    "c1 = {8,9,10}"
   ]
  },
  {
   "cell_type": "code",
   "execution_count": 3391,
   "id": "a0a49dbf-64e7-41fc-8eb8-7bd52c3ba6ec",
   "metadata": {},
   "outputs": [
    {
     "data": {
      "text/plain": [
       "{4, 5}"
      ]
     },
     "execution_count": 3391,
     "metadata": {},
     "output_type": "execute_result"
    }
   ],
   "source": [
    "a1.intersection(b1) #45"
   ]
  },
  {
   "cell_type": "code",
   "execution_count": 3396,
   "id": "c19d1844-6732-4507-ae06-2ec1a2c36990",
   "metadata": {},
   "outputs": [
    {
     "data": {
      "text/plain": [
       "{4, 5}"
      ]
     },
     "execution_count": 3396,
     "metadata": {},
     "output_type": "execute_result"
    }
   ],
   "source": [
    "a1&b1"
   ]
  },
  {
   "cell_type": "code",
   "execution_count": 3399,
   "id": "5680cc01-b91b-4021-ad11-736cc3166a81",
   "metadata": {},
   "outputs": [],
   "source": [
    "a2 = {1,2,3,4,5}\n",
    "b2 = {4,5,6,7,8}\n",
    "c2 = {8,9,10}"
   ]
  },
  {
   "cell_type": "code",
   "execution_count": 3403,
   "id": "53fd8e63-bff5-46da-8c62-bfb35cc6d7a6",
   "metadata": {},
   "outputs": [
    {
     "data": {
      "text/plain": [
       "{1, 2, 3}"
      ]
     },
     "execution_count": 3403,
     "metadata": {},
     "output_type": "execute_result"
    }
   ],
   "source": [
    "a2-b2"
   ]
  },
  {
   "cell_type": "code",
   "execution_count": 3405,
   "id": "7a11969d-fcf8-466d-a5c6-8277671c0532",
   "metadata": {},
   "outputs": [
    {
     "data": {
      "text/plain": [
       "{6, 7, 8}"
      ]
     },
     "execution_count": 3405,
     "metadata": {},
     "output_type": "execute_result"
    }
   ],
   "source": [
    "b2-a2 #678"
   ]
  },
  {
   "cell_type": "code",
   "execution_count": 3408,
   "id": "096b7624-23c8-4445-97f5-30324600b1e0",
   "metadata": {},
   "outputs": [
    {
     "data": {
      "text/plain": [
       "{1, 2, 3, 4, 5}"
      ]
     },
     "execution_count": 3408,
     "metadata": {},
     "output_type": "execute_result"
    }
   ],
   "source": [
    "a2-c2 #12345"
   ]
  },
  {
   "cell_type": "code",
   "execution_count": 3410,
   "id": "5dc900ef-1138-4125-9ac9-6bd2b3e431d9",
   "metadata": {},
   "outputs": [
    {
     "data": {
      "text/plain": [
       "{4, 5, 6, 7}"
      ]
     },
     "execution_count": 3410,
     "metadata": {},
     "output_type": "execute_result"
    }
   ],
   "source": [
    "b2-c2 #4567"
   ]
  },
  {
   "cell_type": "code",
   "execution_count": 3411,
   "id": "b37f2908-e80c-41cd-ac05-455cf5ad12ba",
   "metadata": {},
   "outputs": [
    {
     "data": {
      "text/plain": [
       "{4, 5, 6, 7}"
      ]
     },
     "execution_count": 3411,
     "metadata": {},
     "output_type": "execute_result"
    }
   ],
   "source": [
    "b2.difference(c2)"
   ]
  },
  {
   "cell_type": "code",
   "execution_count": 3413,
   "id": "1688c83f-9d67-4078-b5ec-c5deb9efc5a0",
   "metadata": {},
   "outputs": [
    {
     "name": "stdout",
     "output_type": "stream",
     "text": [
      "{1, 2, 3, 4, 5}\n",
      "{4, 5, 6, 7, 8}\n",
      "{8, 9, 10}\n"
     ]
    }
   ],
   "source": [
    "print(a2)\n",
    "print(b2)\n",
    "print(c2)"
   ]
  },
  {
   "cell_type": "code",
   "execution_count": 3417,
   "id": "1fb34fca-3852-47cf-bead-685024ba0286",
   "metadata": {},
   "outputs": [
    {
     "data": {
      "text/plain": [
       "{1, 2, 3, 6, 7, 8}"
      ]
     },
     "execution_count": 3417,
     "metadata": {},
     "output_type": "execute_result"
    }
   ],
   "source": [
    "a2.symmetric_difference(b2)"
   ]
  },
  {
   "cell_type": "code",
   "execution_count": 3419,
   "id": "45201135-4b16-4e11-b876-4b18ab8e700e",
   "metadata": {},
   "outputs": [
    {
     "data": {
      "text/plain": [
       "{4, 5, 6, 7, 9, 10}"
      ]
     },
     "execution_count": 3419,
     "metadata": {},
     "output_type": "execute_result"
    }
   ],
   "source": [
    "b2.symmetric_difference(c2) #4567910"
   ]
  },
  {
   "cell_type": "markdown",
   "id": "67c1ac57-b081-4d04-ae33-9675d37095a5",
   "metadata": {},
   "source": [
    "# Day 13 / November 01"
   ]
  },
  {
   "cell_type": "code",
   "execution_count": 3423,
   "id": "9f3707c4-afb2-4a9a-81f0-20e15f9d6074",
   "metadata": {},
   "outputs": [
    {
     "data": {
      "text/plain": [
       "{1, 2, 3, 4, 5}"
      ]
     },
     "execution_count": 3423,
     "metadata": {},
     "output_type": "execute_result"
    }
   ],
   "source": [
    " a2"
   ]
  },
  {
   "cell_type": "code",
   "execution_count": 3424,
   "id": "0c622564-16a9-4d2b-9623-142a4d9456d3",
   "metadata": {},
   "outputs": [
    {
     "name": "stdout",
     "output_type": "stream",
     "text": [
      "1\n",
      "2\n",
      "3\n",
      "4\n",
      "5\n"
     ]
    }
   ],
   "source": [
    "for i in a2:\n",
    "    print(i)"
   ]
  },
  {
   "cell_type": "code",
   "execution_count": 3426,
   "id": "9bc5d9da-026b-4124-befb-6d1f88fd1724",
   "metadata": {},
   "outputs": [
    {
     "name": "stdout",
     "output_type": "stream",
     "text": [
      "(0, 1)\n",
      "(1, 2)\n",
      "(2, 3)\n",
      "(3, 4)\n",
      "(4, 5)\n"
     ]
    }
   ],
   "source": [
    "for i in enumerate(a2):\n",
    "    print(i)"
   ]
  },
  {
   "cell_type": "code",
   "execution_count": 3429,
   "id": "1ad8a802-f72e-4f6a-afb8-3703d602bb5a",
   "metadata": {},
   "outputs": [],
   "source": [
    "a5={1,2,3,4,5,6,7,8,9}\n",
    "b5={3,4,5,6,7,8}\n",
    "c5={10,20,30,40}"
   ]
  },
  {
   "cell_type": "code",
   "execution_count": 3431,
   "id": "34e6fef3-7cb5-43ed-b993-1c12610a8a87",
   "metadata": {},
   "outputs": [
    {
     "data": {
      "text/plain": [
       "True"
      ]
     },
     "execution_count": 3431,
     "metadata": {},
     "output_type": "execute_result"
    }
   ],
   "source": [
    "a5.issuperset(b5)"
   ]
  },
  {
   "cell_type": "code",
   "execution_count": 3432,
   "id": "93bdc218-8eae-4bca-9012-300e8fc335af",
   "metadata": {},
   "outputs": [
    {
     "data": {
      "text/plain": [
       "False"
      ]
     },
     "execution_count": 3432,
     "metadata": {},
     "output_type": "execute_result"
    }
   ],
   "source": [
    "b5.issuperset(a5)"
   ]
  },
  {
   "cell_type": "code",
   "execution_count": 3435,
   "id": "68ca30de-dbdc-4bb0-88c2-149a9514e001",
   "metadata": {},
   "outputs": [
    {
     "data": {
      "text/plain": [
       "True"
      ]
     },
     "execution_count": 3435,
     "metadata": {},
     "output_type": "execute_result"
    }
   ],
   "source": [
    "b5.issubset(a5)"
   ]
  },
  {
   "cell_type": "code",
   "execution_count": 3437,
   "id": "66c18265-c865-4d8e-9b02-7c8d1d4f9dda",
   "metadata": {},
   "outputs": [
    {
     "data": {
      "text/plain": [
       "False"
      ]
     },
     "execution_count": 3437,
     "metadata": {},
     "output_type": "execute_result"
    }
   ],
   "source": [
    "a5.issubset(b5)"
   ]
  },
  {
   "cell_type": "code",
   "execution_count": 3439,
   "id": "682f890c-8558-475f-a958-611ab9f921ba",
   "metadata": {},
   "outputs": [
    {
     "data": {
      "text/plain": [
       "True"
      ]
     },
     "execution_count": 3439,
     "metadata": {},
     "output_type": "execute_result"
    }
   ],
   "source": [
    "c5.isdisjoint(a5)"
   ]
  },
  {
   "cell_type": "code",
   "execution_count": 3440,
   "id": "bb3bf50a-21b6-42b3-bc26-b212c8ea7232",
   "metadata": {},
   "outputs": [
    {
     "data": {
      "text/plain": [
       "True"
      ]
     },
     "execution_count": 3440,
     "metadata": {},
     "output_type": "execute_result"
    }
   ],
   "source": [
    "c5.isdisjoint(b5)"
   ]
  },
  {
   "cell_type": "code",
   "execution_count": 3443,
   "id": "93663995-0e30-4f6c-bc58-b2ac2f5bb73b",
   "metadata": {},
   "outputs": [
    {
     "data": {
      "text/plain": [
       "True"
      ]
     },
     "execution_count": 3443,
     "metadata": {},
     "output_type": "execute_result"
    }
   ],
   "source": [
    "a5.isdisjoint (c5)"
   ]
  },
  {
   "cell_type": "code",
   "execution_count": 3444,
   "id": "511e5ae7-3da4-469d-8ed3-8d9b91d3e556",
   "metadata": {},
   "outputs": [
    {
     "data": {
      "text/plain": [
       "True"
      ]
     },
     "execution_count": 3444,
     "metadata": {},
     "output_type": "execute_result"
    }
   ],
   "source": [
    "b5.isdisjoint(c5)"
   ]
  },
  {
   "cell_type": "code",
   "execution_count": 3458,
   "id": "587e8734-d7bf-4233-b0c1-5f3e8c9a74e5",
   "metadata": {},
   "outputs": [],
   "source": [
    "a6={1,2,3,4}\n",
    "b6={5,6,7,8}\n",
    "c6={10,20,30,40}"
   ]
  },
  {
   "cell_type": "code",
   "execution_count": 3460,
   "id": "13dd77df-a46d-4f7a-b1a5-69bb77650fbc",
   "metadata": {},
   "outputs": [
    {
     "name": "stderr",
     "output_type": "stream",
     "text": [
      "C:\\Users\\hp\\anaconda3\\Lib\\site-packages\\IPython\\core\\displayhook.py:281: UserWarning: Output cache limit (currently 1000 entries) hit.\n",
      "Flushing oldest 200 entries.\n",
      "  warn('Output cache limit (currently {sz} entries) hit.\\n'\n"
     ]
    },
    {
     "data": {
      "text/plain": [
       "False"
      ]
     },
     "execution_count": 3460,
     "metadata": {},
     "output_type": "execute_result"
    }
   ],
   "source": [
    "a6.issuperset(b6)"
   ]
  },
  {
   "cell_type": "code",
   "execution_count": 3462,
   "id": "ecd57e52-830b-45e5-90da-3828a9410096",
   "metadata": {},
   "outputs": [
    {
     "data": {
      "text/plain": [
       "False"
      ]
     },
     "execution_count": 3462,
     "metadata": {},
     "output_type": "execute_result"
    }
   ],
   "source": [
    "b6.issubset(a6)"
   ]
  },
  {
   "cell_type": "code",
   "execution_count": 3464,
   "id": "5eb53e50-3883-451d-8afc-555af720f9c0",
   "metadata": {},
   "outputs": [
    {
     "data": {
      "text/plain": [
       "{10, 20, 30, 40}"
      ]
     },
     "execution_count": 3464,
     "metadata": {},
     "output_type": "execute_result"
    }
   ],
   "source": [
    "c6"
   ]
  },
  {
   "cell_type": "code",
   "execution_count": 3468,
   "id": "7cad3e51-df28-4835-a63f-6bdd8e9a0caa",
   "metadata": {},
   "outputs": [
    {
     "data": {
      "text/plain": [
       "{5, 10, 20, 30, 40}"
      ]
     },
     "execution_count": 3468,
     "metadata": {},
     "output_type": "execute_result"
    }
   ],
   "source": [
    "c6.add(5) #added to make 1 element common in c6 and b6 \n",
    "c6"
   ]
  },
  {
   "cell_type": "code",
   "execution_count": 3470,
   "id": "afeb7009-2cb8-4c3d-a3f2-fd4d34d82b4b",
   "metadata": {},
   "outputs": [
    {
     "data": {
      "text/plain": [
       "False"
      ]
     },
     "execution_count": 3470,
     "metadata": {},
     "output_type": "execute_result"
    }
   ],
   "source": [
    "c6.issubset(b6) $one common element will not make it a subset, all elements should be part to become a subset"
   ]
  },
  {
   "cell_type": "code",
   "execution_count": 3478,
   "id": "4cca0615-c232-4d9d-8488-a889c050b34a",
   "metadata": {},
   "outputs": [
    {
     "data": {
      "text/plain": [
       "{1, 2, 3, 4, 5, 6, 7, 8}"
      ]
     },
     "execution_count": 3478,
     "metadata": {},
     "output_type": "execute_result"
    }
   ],
   "source": [
    "a"
   ]
  },
  {
   "cell_type": "code",
   "execution_count": 3480,
   "id": "e14fc40a-1797-43fa-9202-09fddf1b61ed",
   "metadata": {},
   "outputs": [
    {
     "ename": "TypeError",
     "evalue": "'int' object is not callable",
     "output_type": "error",
     "traceback": [
      "\u001b[1;31m---------------------------------------------------------------------------\u001b[0m",
      "\u001b[1;31mTypeError\u001b[0m                                 Traceback (most recent call last)",
      "Cell \u001b[1;32mIn[3480], line 1\u001b[0m\n\u001b[1;32m----> 1\u001b[0m \u001b[38;5;28msum\u001b[39m(a)\n",
      "\u001b[1;31mTypeError\u001b[0m: 'int' object is not callable"
     ]
    }
   ],
   "source": [
    "sum(a)"
   ]
  },
  {
   "cell_type": "markdown",
   "id": "19e67e8a-3689-4e00-9a3f-8967cf2171ee",
   "metadata": {},
   "source": [
    "max(a)"
   ]
  },
  {
   "cell_type": "code",
   "execution_count": 3483,
   "id": "67a02c40-8e26-4098-b869-9e7e2c819253",
   "metadata": {},
   "outputs": [
    {
     "data": {
      "text/plain": [
       "8"
      ]
     },
     "execution_count": 3483,
     "metadata": {},
     "output_type": "execute_result"
    }
   ],
   "source": [
    "max(a)"
   ]
  },
  {
   "cell_type": "code",
   "execution_count": 3485,
   "id": "8608ba5d-5415-47d7-b565-cf72c44a5984",
   "metadata": {},
   "outputs": [
    {
     "data": {
      "text/plain": [
       "1"
      ]
     },
     "execution_count": 3485,
     "metadata": {},
     "output_type": "execute_result"
    }
   ],
   "source": [
    "min(a)"
   ]
  },
  {
   "cell_type": "code",
   "execution_count": 3489,
   "id": "1450b2f5-f9ea-44d1-ae42-3ca40b13bc86",
   "metadata": {},
   "outputs": [
    {
     "data": {
      "text/plain": [
       "8"
      ]
     },
     "execution_count": 3489,
     "metadata": {},
     "output_type": "execute_result"
    }
   ],
   "source": [
    "len(a)"
   ]
  },
  {
   "cell_type": "code",
   "execution_count": 3491,
   "id": "bff7eebb-743a-47b1-9952-5f90324ee545",
   "metadata": {},
   "outputs": [
    {
     "data": {
      "text/plain": [
       "[(0, 1), (1, 2), (2, 3), (3, 4), (4, 5), (5, 6), (6, 7), (7, 8)]"
      ]
     },
     "execution_count": 3491,
     "metadata": {},
     "output_type": "execute_result"
    }
   ],
   "source": [
    "list(enumerate(a))"
   ]
  },
  {
   "cell_type": "code",
   "execution_count": 3493,
   "id": "1890d661-6f09-433e-811b-fc1b0df3d89d",
   "metadata": {},
   "outputs": [
    {
     "name": "stdout",
     "output_type": "stream",
     "text": [
      "(0, 1)\n",
      "(1, 2)\n",
      "(2, 3)\n",
      "(3, 4)\n",
      "(4, 5)\n",
      "(5, 6)\n",
      "(6, 7)\n",
      "(7, 8)\n"
     ]
    }
   ],
   "source": [
    "for i in enumerate(a):\n",
    "    print(i)"
   ]
  },
  {
   "cell_type": "code",
   "execution_count": 3495,
   "id": "6c513a5a-188d-41a3-9c77-319b2aa5841a",
   "metadata": {},
   "outputs": [],
   "source": [
    "a10 = {1,2,3,4,5}"
   ]
  },
  {
   "cell_type": "markdown",
   "id": "538cd238-1bb9-403b-a5cc-eeb9fff6a3a9",
   "metadata": {},
   "source": [
    "# Dictionary/Dict"
   ]
  },
  {
   "cell_type": "code",
   "execution_count": 3504,
   "id": "dec8a26b-834c-4b31-bd7d-f346f568249c",
   "metadata": {},
   "outputs": [
    {
     "data": {
      "text/plain": [
       "dict"
      ]
     },
     "execution_count": 3504,
     "metadata": {},
     "output_type": "execute_result"
    }
   ],
   "source": [
    "d = { } \n",
    "type(d)"
   ]
  },
  {
   "cell_type": "code",
   "execution_count": 3506,
   "id": "47bbbd88-647f-45d2-ac97-ccabec2941e1",
   "metadata": {},
   "outputs": [
    {
     "data": {
      "text/plain": [
       "{1: 'one', 2: 'two', 3: 'three', 4: 'four', 5: 'five'}"
      ]
     },
     "execution_count": 3506,
     "metadata": {},
     "output_type": "execute_result"
    }
   ],
   "source": [
    "d = {1:'one', 2:'two', 3:'three', 4:'four', 5:'five'}\n",
    "d"
   ]
  },
  {
   "cell_type": "code",
   "execution_count": 3508,
   "id": "c2fda8bb-24c0-4c43-8777-2710c8700adf",
   "metadata": {},
   "outputs": [
    {
     "data": {
      "text/plain": [
       "{'six': 6, 'seven': 7, 'eight': 8, 'nine': 9, 'ten': 10}"
      ]
     },
     "execution_count": 3508,
     "metadata": {},
     "output_type": "execute_result"
    }
   ],
   "source": [
    "d1 = {'six':6, 'seven':7, 'eight':8, 'nine':9, 'ten':10}\n",
    "d1"
   ]
  },
  {
   "cell_type": "code",
   "execution_count": 3510,
   "id": "35433389-ebdf-4e7e-9b67-a10dc6475617",
   "metadata": {},
   "outputs": [
    {
     "name": "stdout",
     "output_type": "stream",
     "text": [
      "5\n",
      "5\n"
     ]
    }
   ],
   "source": [
    "print(len(d))\n",
    "print(len(d1))"
   ]
  },
  {
   "cell_type": "code",
   "execution_count": 3512,
   "id": "0dd129c4-88bd-4564-a8d0-78e8dd66f634",
   "metadata": {},
   "outputs": [
    {
     "data": {
      "text/plain": [
       "{1: 'one', 2: 'two', 3: 'three', 4: 'four', 5: 'five'}"
      ]
     },
     "execution_count": 3512,
     "metadata": {},
     "output_type": "execute_result"
    }
   ],
   "source": [
    "d"
   ]
  },
  {
   "cell_type": "code",
   "execution_count": 3514,
   "id": "0ba9d2f8-f567-4968-8988-91c20be48f88",
   "metadata": {},
   "outputs": [
    {
     "data": {
      "text/plain": [
       "'one'"
      ]
     },
     "execution_count": 3514,
     "metadata": {},
     "output_type": "execute_result"
    }
   ],
   "source": [
    "d[1]"
   ]
  },
  {
   "cell_type": "code",
   "execution_count": 3516,
   "id": "a2bfd5c9-9844-4aa7-bbf9-453d70d0dd77",
   "metadata": {},
   "outputs": [
    {
     "data": {
      "text/plain": [
       "{'six': 6, 'seven': 7, 'eight': 8, 'nine': 9, 'ten': 10}"
      ]
     },
     "execution_count": 3516,
     "metadata": {},
     "output_type": "execute_result"
    }
   ],
   "source": [
    "d1"
   ]
  },
  {
   "cell_type": "code",
   "execution_count": 3518,
   "id": "6ace63db-be21-4aba-9260-fd8df4a67c10",
   "metadata": {},
   "outputs": [
    {
     "data": {
      "text/plain": [
       "dict_keys([1, 2, 3, 4, 5])"
      ]
     },
     "execution_count": 3518,
     "metadata": {},
     "output_type": "execute_result"
    }
   ],
   "source": [
    "d.keys()"
   ]
  },
  {
   "cell_type": "code",
   "execution_count": 3520,
   "id": "198cc491-464b-4599-81f3-f78e5d7d6006",
   "metadata": {},
   "outputs": [
    {
     "data": {
      "text/plain": [
       "dict_values(['one', 'two', 'three', 'four', 'five'])"
      ]
     },
     "execution_count": 3520,
     "metadata": {},
     "output_type": "execute_result"
    }
   ],
   "source": [
    "d.values()"
   ]
  },
  {
   "cell_type": "code",
   "execution_count": 3522,
   "id": "b79c6bcd-c6c0-43a8-995d-32a495e5ff41",
   "metadata": {},
   "outputs": [
    {
     "data": {
      "text/plain": [
       "dict_keys(['six', 'seven', 'eight', 'nine', 'ten'])"
      ]
     },
     "execution_count": 3522,
     "metadata": {},
     "output_type": "execute_result"
    }
   ],
   "source": [
    "d1.keys()"
   ]
  },
  {
   "cell_type": "code",
   "execution_count": 3526,
   "id": "241fe5f5-d617-444e-915f-76af9975ec12",
   "metadata": {},
   "outputs": [
    {
     "data": {
      "text/plain": [
       "dict_values([6, 7, 8, 9, 10])"
      ]
     },
     "execution_count": 3526,
     "metadata": {},
     "output_type": "execute_result"
    }
   ],
   "source": [
    "d1.values()"
   ]
  },
  {
   "cell_type": "code",
   "execution_count": 3528,
   "id": "e35406a0-0eaf-4f9f-a327-cd7e0afd44f3",
   "metadata": {},
   "outputs": [
    {
     "data": {
      "text/plain": [
       "{1: False, 2.3: 4.5, 'nit': 'nit', (1+2j): (4+5j)}"
      ]
     },
     "execution_count": 3528,
     "metadata": {},
     "output_type": "execute_result"
    }
   ],
   "source": [
    "d2={1:2, 2.3:4.5, 'nit':'nit', True:False, 1+2j:4+5j}\n",
    "d2"
   ]
  },
  {
   "cell_type": "code",
   "execution_count": 3530,
   "id": "30d0b273-c9c4-4b98-b3b5-4408a29d58d2",
   "metadata": {},
   "outputs": [
    {
     "data": {
      "text/plain": [
       "{10: 'ten', 9.0: 'nine'}"
      ]
     },
     "execution_count": 3530,
     "metadata": {},
     "output_type": "execute_result"
    }
   ],
   "source": [
    "d3 = {10:'ten', 9.0:'nine'}\n",
    "d3"
   ]
  },
  {
   "cell_type": "code",
   "execution_count": 3532,
   "id": "6afacb90-0e45-4752-a5c4-742874758bf2",
   "metadata": {},
   "outputs": [
    {
     "data": {
      "text/plain": [
       "dict_items([(1, 'one'), (2, 'two'), (3, 'three'), (4, 'four'), (5, 'five')])"
      ]
     },
     "execution_count": 3532,
     "metadata": {},
     "output_type": "execute_result"
    }
   ],
   "source": [
    "d.items()"
   ]
  },
  {
   "cell_type": "code",
   "execution_count": 3536,
   "id": "7f6d34ad-e889-45de-b0ae-6313a58bb4b1",
   "metadata": {},
   "outputs": [
    {
     "data": {
      "text/plain": [
       "5"
      ]
     },
     "execution_count": 3536,
     "metadata": {},
     "output_type": "execute_result"
    }
   ],
   "source": [
    "len(d)"
   ]
  },
  {
   "cell_type": "code",
   "execution_count": 3538,
   "id": "80d704f5-8fe0-41ac-aa11-62e3b670266f",
   "metadata": {},
   "outputs": [
    {
     "data": {
      "text/plain": [
       "2933693499392"
      ]
     },
     "execution_count": 3538,
     "metadata": {},
     "output_type": "execute_result"
    }
   ],
   "source": [
    "id(d)"
   ]
  },
  {
   "cell_type": "code",
   "execution_count": 3534,
   "id": "c53cd305-1b0f-4c73-83d5-74f3c8ec1cdb",
   "metadata": {},
   "outputs": [
    {
     "data": {
      "text/plain": [
       "dict_items([('six', 6), ('seven', 7), ('eight', 8), ('nine', 9), ('ten', 10)])"
      ]
     },
     "execution_count": 3534,
     "metadata": {},
     "output_type": "execute_result"
    }
   ],
   "source": [
    "d1.items()"
   ]
  },
  {
   "cell_type": "code",
   "execution_count": 3544,
   "id": "f87316e7-a9b5-4c17-abb7-7aa8f65307ba",
   "metadata": {},
   "outputs": [
    {
     "data": {
      "text/plain": [
       "{22, 23, 24}"
      ]
     },
     "execution_count": 3544,
     "metadata": {},
     "output_type": "execute_result"
    }
   ],
   "source": [
    "keys={22,23,24}\n",
    "keys"
   ]
  },
  {
   "cell_type": "code",
   "execution_count": 3546,
   "id": "2b7bd090-73dd-4fcf-ad3e-def0a1200ad5",
   "metadata": {},
   "outputs": [
    {
     "data": {
      "text/plain": [
       "set"
      ]
     },
     "execution_count": 3546,
     "metadata": {},
     "output_type": "execute_result"
    }
   ],
   "source": [
    "type(keys)"
   ]
  },
  {
   "cell_type": "code",
   "execution_count": 3548,
   "id": "12435f84-390e-42fb-907f-c7a3221a9b77",
   "metadata": {},
   "outputs": [
    {
     "data": {
      "text/plain": [
       "{1: 'one', 2: 'two', 3: 'three', 4: 'four', 5: 'five'}"
      ]
     },
     "execution_count": 3548,
     "metadata": {},
     "output_type": "execute_result"
    }
   ],
   "source": [
    "d"
   ]
  },
  {
   "cell_type": "code",
   "execution_count": 3550,
   "id": "55fdfe8a-8d0c-4680-9840-1ab33a0bee9a",
   "metadata": {},
   "outputs": [
    {
     "data": {
      "text/plain": [
       "{2: 'two', 3: 'three', 4: 'four', 5: 'five'}"
      ]
     },
     "execution_count": 3550,
     "metadata": {},
     "output_type": "execute_result"
    }
   ],
   "source": [
    "d.pop(1)\n",
    "d"
   ]
  },
  {
   "cell_type": "code",
   "execution_count": 3552,
   "id": "10777175-a8ea-4a16-88f0-ed987e500ff0",
   "metadata": {},
   "outputs": [
    {
     "data": {
      "text/plain": [
       "{2: 'two', 3: 'three', 4: 'four', 5: 'five'}"
      ]
     },
     "execution_count": 3552,
     "metadata": {},
     "output_type": "execute_result"
    }
   ],
   "source": [
    "d"
   ]
  },
  {
   "cell_type": "code",
   "execution_count": 3560,
   "id": "c6e4e34f-8755-4f83-8c3f-3659a25336df",
   "metadata": {},
   "outputs": [
    {
     "data": {
      "text/plain": [
       "{2: 'two', 3: 'three', 4: 'four', 5: 'five', 1: 'one'}"
      ]
     },
     "execution_count": 3560,
     "metadata": {},
     "output_type": "execute_result"
    }
   ],
   "source": [
    "d[1]= \"one\"\n",
    "d"
   ]
  },
  {
   "cell_type": "code",
   "execution_count": 3562,
   "id": "ca733927-21e4-43f8-b309-35247db9a798",
   "metadata": {},
   "outputs": [
    {
     "ename": "TypeError",
     "evalue": "dict.popitem() takes no arguments (1 given)",
     "output_type": "error",
     "traceback": [
      "\u001b[1;31m---------------------------------------------------------------------------\u001b[0m",
      "\u001b[1;31mTypeError\u001b[0m                                 Traceback (most recent call last)",
      "Cell \u001b[1;32mIn[3562], line 1\u001b[0m\n\u001b[1;32m----> 1\u001b[0m d\u001b[38;5;241m.\u001b[39mpopitem(\u001b[38;5;241m1\u001b[39m)\n",
      "\u001b[1;31mTypeError\u001b[0m: dict.popitem() takes no arguments (1 given)"
     ]
    }
   ],
   "source": [
    "d.popitem(1)"
   ]
  },
  {
   "cell_type": "code",
   "execution_count": 3564,
   "id": "9d6af492-3953-4358-98ff-ea21b690c04f",
   "metadata": {},
   "outputs": [
    {
     "data": {
      "text/plain": [
       "{2: 'two', 3: 'three', 4: 'four', 5: 'five', 1: 'one'}"
      ]
     },
     "execution_count": 3564,
     "metadata": {},
     "output_type": "execute_result"
    }
   ],
   "source": [
    "d"
   ]
  },
  {
   "cell_type": "code",
   "execution_count": 3568,
   "id": "3e87f9e8-4e7c-4b7a-aee3-fbd888cff2eb",
   "metadata": {},
   "outputs": [
    {
     "name": "stdout",
     "output_type": "stream",
     "text": [
      "2\n",
      "3\n",
      "4\n",
      "5\n",
      "1\n"
     ]
    }
   ],
   "source": [
    "for i in d:\n",
    "    print(i)"
   ]
  },
  {
   "cell_type": "code",
   "execution_count": 3570,
   "id": "e97a6fab-bffb-419d-adb5-e1dab018465c",
   "metadata": {},
   "outputs": [
    {
     "name": "stdout",
     "output_type": "stream",
     "text": [
      "(0, 2)\n",
      "(1, 3)\n",
      "(2, 4)\n",
      "(3, 5)\n",
      "(4, 1)\n"
     ]
    }
   ],
   "source": [
    "for i in enumerate(d):\n",
    "    print(i)"
   ]
  },
  {
   "cell_type": "markdown",
   "id": "ad8b2560-fb33-47f1-b12a-083a76b291bf",
   "metadata": {},
   "source": [
    "# Day 14 / November 02\n",
    "# Test1 "
   ]
  },
  {
   "cell_type": "code",
   "execution_count": 3576,
   "id": "f52f6f6c-52c8-4d32-8ad0-aea0becb2310",
   "metadata": {},
   "outputs": [],
   "source": [
    "# Range"
   ]
  },
  {
   "cell_type": "code",
   "execution_count": 3602,
   "id": "841e782c-5c1c-430e-9d6e-74f05284b181",
   "metadata": {},
   "outputs": [
    {
     "data": {
      "text/plain": [
       "range(0, 0)"
      ]
     },
     "execution_count": 3602,
     "metadata": {},
     "output_type": "execute_result"
    }
   ],
   "source": [
    "range(0)"
   ]
  },
  {
   "cell_type": "code",
   "execution_count": 3604,
   "id": "baee1520-5241-4d06-9092-d1432558e1b7",
   "metadata": {},
   "outputs": [],
   "source": [
    "r =range(0,0)"
   ]
  },
  {
   "cell_type": "code",
   "execution_count": 3608,
   "id": "32ffb2c2-c07d-4448-96bf-48db40a264d2",
   "metadata": {},
   "outputs": [],
   "source": [
    "for i in r:\n",
    "    print(i) #nothing to print"
   ]
  },
  {
   "cell_type": "code",
   "execution_count": 3578,
   "id": "8503638e-4029-43c6-b8e2-e8d22197623d",
   "metadata": {},
   "outputs": [
    {
     "data": {
      "text/plain": [
       "range(0, 5)"
      ]
     },
     "execution_count": 3578,
     "metadata": {},
     "output_type": "execute_result"
    }
   ],
   "source": [
    "range(5)"
   ]
  },
  {
   "cell_type": "code",
   "execution_count": 3610,
   "id": "f6e08650-72b0-4acd-bfd5-e0ab64855dad",
   "metadata": {},
   "outputs": [],
   "source": [
    "r = range(0,5)"
   ]
  },
  {
   "cell_type": "code",
   "execution_count": 3612,
   "id": "df0dba8b-8589-4f18-a205-697c747ddf5b",
   "metadata": {},
   "outputs": [
    {
     "name": "stdout",
     "output_type": "stream",
     "text": [
      "0\n",
      "1\n",
      "2\n",
      "3\n",
      "4\n"
     ]
    }
   ],
   "source": [
    "for i in r:\n",
    "    print(i)"
   ]
  },
  {
   "cell_type": "code",
   "execution_count": 3580,
   "id": "6863f42a-911a-4839-8404-cd0f672ebc80",
   "metadata": {},
   "outputs": [
    {
     "data": {
      "text/plain": [
       "range(5, 10)"
      ]
     },
     "execution_count": 3580,
     "metadata": {},
     "output_type": "execute_result"
    }
   ],
   "source": [
    "range(5, 10)"
   ]
  },
  {
   "cell_type": "code",
   "execution_count": 3582,
   "id": "7605fb06-f4c9-435f-ab2a-c358ac21f8e5",
   "metadata": {},
   "outputs": [],
   "source": [
    "r =range(5,10)"
   ]
  },
  {
   "cell_type": "code",
   "execution_count": 3584,
   "id": "34c11e1f-2667-48e7-94e2-ec937eba130d",
   "metadata": {},
   "outputs": [
    {
     "name": "stdout",
     "output_type": "stream",
     "text": [
      "5\n",
      "6\n",
      "7\n",
      "8\n",
      "9\n"
     ]
    }
   ],
   "source": [
    "for i in r:\n",
    "    print(i)"
   ]
  },
  {
   "cell_type": "code",
   "execution_count": 3586,
   "id": "6ea5e538-2840-4520-a545-6cf63b6b7f1c",
   "metadata": {},
   "outputs": [
    {
     "data": {
      "text/plain": [
       "[5, 6, 7, 8, 9]"
      ]
     },
     "execution_count": 3586,
     "metadata": {},
     "output_type": "execute_result"
    }
   ],
   "source": [
    "list(r)"
   ]
  },
  {
   "cell_type": "code",
   "execution_count": 3588,
   "id": "687c27b6-2a8f-4bd5-8ae0-7111b81272e3",
   "metadata": {},
   "outputs": [
    {
     "data": {
      "text/plain": [
       "range"
      ]
     },
     "execution_count": 3588,
     "metadata": {},
     "output_type": "execute_result"
    }
   ],
   "source": [
    "type(r)"
   ]
  },
  {
   "cell_type": "code",
   "execution_count": 3592,
   "id": "d62f6dba-60d6-4a99-bd1a-8ea73a656a8e",
   "metadata": {},
   "outputs": [],
   "source": [
    "r1 = range(0,11,2)"
   ]
  },
  {
   "cell_type": "code",
   "execution_count": 3594,
   "id": "e7e3297b-e8e4-42dd-9b9a-1c5ebcc085cb",
   "metadata": {},
   "outputs": [
    {
     "data": {
      "text/plain": [
       "range(0, 11, 2)"
      ]
     },
     "execution_count": 3594,
     "metadata": {},
     "output_type": "execute_result"
    }
   ],
   "source": [
    "r1"
   ]
  },
  {
   "cell_type": "code",
   "execution_count": 3598,
   "id": "f6df0cd0-f96a-402f-bac3-161f9b3547ad",
   "metadata": {},
   "outputs": [
    {
     "name": "stdout",
     "output_type": "stream",
     "text": [
      "0\n",
      "2\n",
      "4\n",
      "6\n",
      "8\n",
      "10\n"
     ]
    }
   ],
   "source": [
    "for i in r1:\n",
    "    print(i)"
   ]
  },
  {
   "cell_type": "code",
   "execution_count": 3614,
   "id": "094d07c2-55be-49bd-ade1-355363deff01",
   "metadata": {},
   "outputs": [
    {
     "data": {
      "text/plain": [
       "[0, 2, 4, 6, 8, 10]"
      ]
     },
     "execution_count": 3614,
     "metadata": {},
     "output_type": "execute_result"
    }
   ],
   "source": [
    "list(r1)"
   ]
  },
  {
   "cell_type": "code",
   "execution_count": 3616,
   "id": "68b651aa-f74a-4d63-987a-673f2e186efe",
   "metadata": {},
   "outputs": [
    {
     "ename": "TypeError",
     "evalue": "range expected at most 3 arguments, got 4",
     "output_type": "error",
     "traceback": [
      "\u001b[1;31m---------------------------------------------------------------------------\u001b[0m",
      "\u001b[1;31mTypeError\u001b[0m                                 Traceback (most recent call last)",
      "Cell \u001b[1;32mIn[3616], line 1\u001b[0m\n\u001b[1;32m----> 1\u001b[0m r1 \u001b[38;5;241m=\u001b[39m \u001b[38;5;28mrange\u001b[39m(\u001b[38;5;241m0\u001b[39m, \u001b[38;5;241m11\u001b[39m, \u001b[38;5;241m2\u001b[39m, \u001b[38;5;241m6\u001b[39m)\n\u001b[0;32m      2\u001b[0m r1\n",
      "\u001b[1;31mTypeError\u001b[0m: range expected at most 3 arguments, got 4"
     ]
    }
   ],
   "source": [
    "r1 = range(0, 11, 2, 6)\n",
    "r1"
   ]
  },
  {
   "cell_type": "code",
   "execution_count": null,
   "id": "88167b82-1b31-4050-9205-a9a1399d8bcd",
   "metadata": {},
   "outputs": [],
   "source": []
  },
  {
   "cell_type": "code",
   "execution_count": null,
   "id": "e6d6fd55-83f7-4af4-8806-f8057c9f800b",
   "metadata": {},
   "outputs": [],
   "source": []
  },
  {
   "cell_type": "code",
   "execution_count": null,
   "id": "a40a20a7-b426-4042-902c-95a6aedd6e2c",
   "metadata": {},
   "outputs": [],
   "source": []
  },
  {
   "cell_type": "code",
   "execution_count": null,
   "id": "dd372615-fffa-444c-a34a-9a0fa00fbf1f",
   "metadata": {},
   "outputs": [],
   "source": []
  },
  {
   "cell_type": "code",
   "execution_count": null,
   "id": "0762b4fb-7e38-4426-b88a-d6425c157b4a",
   "metadata": {},
   "outputs": [],
   "source": []
  },
  {
   "cell_type": "code",
   "execution_count": null,
   "id": "9721999e-3b50-4bd8-a8e4-71cbbd7507d7",
   "metadata": {},
   "outputs": [],
   "source": []
  },
  {
   "cell_type": "code",
   "execution_count": null,
   "id": "b5b65982-2715-4a0b-9db7-4dff17c9bcf8",
   "metadata": {},
   "outputs": [],
   "source": []
  }
 ],
 "metadata": {
  "kernelspec": {
   "display_name": "Python 3 (ipykernel)",
   "language": "python",
   "name": "python3"
  },
  "language_info": {
   "codemirror_mode": {
    "name": "ipython",
    "version": 3
   },
   "file_extension": ".py",
   "mimetype": "text/x-python",
   "name": "python",
   "nbconvert_exporter": "python",
   "pygments_lexer": "ipython3",
   "version": "3.12.4"
  }
 },
 "nbformat": 4,
 "nbformat_minor": 5
}
